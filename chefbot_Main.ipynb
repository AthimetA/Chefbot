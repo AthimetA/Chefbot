{
 "cells": [
  {
   "attachments": {},
   "cell_type": "markdown",
   "metadata": {},
   "source": [
    "# **ChefBot**\n",
    "\n",
    "สมาชิกกลุ่ม 1\n",
    "\n",
    "1. ก้องภพ ทองดี 63340500003 \n",
    "2. ภคพล ลีลาคหกิจ 63340500045\n",
    "3. สรพัศ วีระกุล 63340500064\n",
    "4. อธิเมศร์  เอี๊ยวเจริญ 63340500068 "
   ]
  },
  {
   "attachments": {},
   "cell_type": "markdown",
   "metadata": {},
   "source": [
    "# **Import Library**"
   ]
  },
  {
   "cell_type": "code",
   "execution_count": 1,
   "metadata": {},
   "outputs": [
    {
     "name": "stdout",
     "output_type": "stream",
     "text": [
      "2.10.1\n",
      "[PhysicalDevice(name='/physical_device:GPU:0', device_type='GPU')]\n"
     ]
    }
   ],
   "source": [
    "%matplotlib inline\n",
    "import pandas\n",
    "import sklearn\n",
    "import numpy as np\n",
    "from IPython.display import display\n",
    "\n",
    "import matplotlib.pyplot as plt\n",
    "import tensorflow as tf\n",
    "print(tf. __version__) \n",
    "print(tf.config.list_physical_devices('GPU'))\n",
    "\n",
    "import matplotlib as mpl\n",
    "import matplotlib.font_manager as fm\n",
    "\n",
    "fm.fontManager.addfont('thsarabunnew-webfont.ttf') # 3.2+\n",
    "mpl.rc('font', family='TH Sarabun New')\n",
    "\n",
    "np.random.seed(0)\n",
    "global_seed = 0\n",
    "\n",
    "pic_path = 'pic/'"
   ]
  },
  {
   "attachments": {},
   "cell_type": "markdown",
   "metadata": {},
   "source": [
    "## **Import data**"
   ]
  },
  {
   "cell_type": "code",
   "execution_count": 2,
   "metadata": {},
   "outputs": [],
   "source": [
    "df_orig = pandas.read_csv('data/Chefbot_Dataset - All.csv', encoding='utf-8')"
   ]
  },
  {
   "cell_type": "code",
   "execution_count": 3,
   "metadata": {},
   "outputs": [
    {
     "data": {
      "text/html": [
       "<div>\n",
       "<style scoped>\n",
       "    .dataframe tbody tr th:only-of-type {\n",
       "        vertical-align: middle;\n",
       "    }\n",
       "\n",
       "    .dataframe tbody tr th {\n",
       "        vertical-align: top;\n",
       "    }\n",
       "\n",
       "    .dataframe thead th {\n",
       "        text-align: right;\n",
       "    }\n",
       "</style>\n",
       "<table border=\"1\" class=\"dataframe\">\n",
       "  <thead>\n",
       "    <tr style=\"text-align: right;\">\n",
       "      <th></th>\n",
       "      <th>Text</th>\n",
       "      <th>Mainclass</th>\n",
       "      <th>Subclass</th>\n",
       "    </tr>\n",
       "  </thead>\n",
       "  <tbody>\n",
       "    <tr>\n",
       "      <th>0</th>\n",
       "      <td>อยากกินกุ้งที่จะมีความหนุบๆ กับน้ำสลัดเทาซันไอ...</td>\n",
       "      <td>พิซซ่า</td>\n",
       "      <td>ค็อกเทลกุ้ง</td>\n",
       "    </tr>\n",
       "    <tr>\n",
       "      <th>1</th>\n",
       "      <td>ผมชอบอาหารที่สามารถทำได้เร็ว มีหน้าตาที่สวยงาม...</td>\n",
       "      <td>พิซซ่า</td>\n",
       "      <td>ค็อกเทลกุ้ง</td>\n",
       "    </tr>\n",
       "    <tr>\n",
       "      <th>2</th>\n",
       "      <td>ทำจากแป้งมีทั้งหนานุ่ม และบางกรอบเหมาะกับคนที่...</td>\n",
       "      <td>พิซซ่า</td>\n",
       "      <td>ค็อกเทลกุ้ง</td>\n",
       "    </tr>\n",
       "    <tr>\n",
       "      <th>3</th>\n",
       "      <td>เนื้อหลักเป็นกุ้งมีรสชาติที่จัดจ้านจากซอสมีต้น...</td>\n",
       "      <td>พิซซ่า</td>\n",
       "      <td>ค็อกเทลกุ้ง</td>\n",
       "    </tr>\n",
       "    <tr>\n",
       "      <th>4</th>\n",
       "      <td>อาหารที่มีลักษณะกลม ๆ สามารถแบ่งเป็นชิ้นได้กิน...</td>\n",
       "      <td>พิซซ่า</td>\n",
       "      <td>ค็อกเทลกุ้ง</td>\n",
       "    </tr>\n",
       "  </tbody>\n",
       "</table>\n",
       "</div>"
      ],
      "text/plain": [
       "                                                Text Mainclass     Subclass\n",
       "0  อยากกินกุ้งที่จะมีความหนุบๆ กับน้ำสลัดเทาซันไอ...    พิซซ่า  ค็อกเทลกุ้ง\n",
       "1  ผมชอบอาหารที่สามารถทำได้เร็ว มีหน้าตาที่สวยงาม...    พิซซ่า  ค็อกเทลกุ้ง\n",
       "2  ทำจากแป้งมีทั้งหนานุ่ม และบางกรอบเหมาะกับคนที่...    พิซซ่า  ค็อกเทลกุ้ง\n",
       "3  เนื้อหลักเป็นกุ้งมีรสชาติที่จัดจ้านจากซอสมีต้น...    พิซซ่า  ค็อกเทลกุ้ง\n",
       "4  อาหารที่มีลักษณะกลม ๆ สามารถแบ่งเป็นชิ้นได้กิน...    พิซซ่า  ค็อกเทลกุ้ง"
      ]
     },
     "metadata": {},
     "output_type": "display_data"
    },
    {
     "data": {
      "text/html": [
       "<div>\n",
       "<style scoped>\n",
       "    .dataframe tbody tr th:only-of-type {\n",
       "        vertical-align: middle;\n",
       "    }\n",
       "\n",
       "    .dataframe tbody tr th {\n",
       "        vertical-align: top;\n",
       "    }\n",
       "\n",
       "    .dataframe thead th {\n",
       "        text-align: right;\n",
       "    }\n",
       "</style>\n",
       "<table border=\"1\" class=\"dataframe\">\n",
       "  <thead>\n",
       "    <tr style=\"text-align: right;\">\n",
       "      <th></th>\n",
       "      <th>Text</th>\n",
       "      <th>Mainclass</th>\n",
       "      <th>Subclass</th>\n",
       "    </tr>\n",
       "  </thead>\n",
       "  <tbody>\n",
       "    <tr>\n",
       "      <th>571</th>\n",
       "      <td>เมนูที่เอาเส้นพาสต้ามาผัดกับของทะเลแล้วแล้วก็ใ...</td>\n",
       "      <td>สปาเกตตี</td>\n",
       "      <td>สปาเกตตีทะเล</td>\n",
       "    </tr>\n",
       "    <tr>\n",
       "      <th>572</th>\n",
       "      <td>สปาเกตตีที่มีสีแดง และเขียวตัดกับ สีของเส้นที่...</td>\n",
       "      <td>สปาเกตตี</td>\n",
       "      <td>สปาเกตตีทะเล</td>\n",
       "    </tr>\n",
       "    <tr>\n",
       "      <th>573</th>\n",
       "      <td>ฉันอยากกินสปาเกตตีแต่ฉันเบื่อพวกเนื้อ หมู ไก่แ...</td>\n",
       "      <td>สปาเกตตี</td>\n",
       "      <td>สปาเกตตีทะเล</td>\n",
       "    </tr>\n",
       "    <tr>\n",
       "      <th>574</th>\n",
       "      <td>สปาเกตตีที่กลิ่นและรสชาติที่จัดจ้านเป็นเอกลักษณ์</td>\n",
       "      <td>สปาเกตตี</td>\n",
       "      <td>สปาเกตตีทะเล</td>\n",
       "    </tr>\n",
       "    <tr>\n",
       "      <th>575</th>\n",
       "      <td>สปาเกตตีที่ให้รสชาติเผ็ดจัดจ้าน มีกุ้ง มีหมึก ...</td>\n",
       "      <td>สปาเกตตี</td>\n",
       "      <td>สปาเกตตีทะเล</td>\n",
       "    </tr>\n",
       "  </tbody>\n",
       "</table>\n",
       "</div>"
      ],
      "text/plain": [
       "                                                  Text Mainclass      Subclass\n",
       "571  เมนูที่เอาเส้นพาสต้ามาผัดกับของทะเลแล้วแล้วก็ใ...  สปาเกตตี  สปาเกตตีทะเล\n",
       "572  สปาเกตตีที่มีสีแดง และเขียวตัดกับ สีของเส้นที่...  สปาเกตตี  สปาเกตตีทะเล\n",
       "573  ฉันอยากกินสปาเกตตีแต่ฉันเบื่อพวกเนื้อ หมู ไก่แ...  สปาเกตตี  สปาเกตตีทะเล\n",
       "574  สปาเกตตีที่กลิ่นและรสชาติที่จัดจ้านเป็นเอกลักษณ์   สปาเกตตี  สปาเกตตีทะเล\n",
       "575  สปาเกตตีที่ให้รสชาติเผ็ดจัดจ้าน มีกุ้ง มีหมึก ...  สปาเกตตี  สปาเกตตีทะเล"
      ]
     },
     "metadata": {},
     "output_type": "display_data"
    }
   ],
   "source": [
    "# Display the first 5 rows of the dataframe\n",
    "display(df_orig.head(n=5))\n",
    "# Display the last 5 rows of the dataframe\n",
    "display(df_orig.tail(n=5))"
   ]
  },
  {
   "attachments": {},
   "cell_type": "markdown",
   "metadata": {},
   "source": [
    "# **Data Preprocessing**"
   ]
  },
  {
   "cell_type": "code",
   "execution_count": 4,
   "metadata": {},
   "outputs": [],
   "source": [
    "df_prepro = df_orig.copy()"
   ]
  },
  {
   "attachments": {},
   "cell_type": "markdown",
   "metadata": {},
   "source": [
    "## **Data Cleaning**"
   ]
  },
  {
   "cell_type": "code",
   "execution_count": 5,
   "metadata": {},
   "outputs": [
    {
     "data": {
      "text/html": [
       "<div>\n",
       "<style scoped>\n",
       "    .dataframe tbody tr th:only-of-type {\n",
       "        vertical-align: middle;\n",
       "    }\n",
       "\n",
       "    .dataframe tbody tr th {\n",
       "        vertical-align: top;\n",
       "    }\n",
       "\n",
       "    .dataframe thead th {\n",
       "        text-align: right;\n",
       "    }\n",
       "</style>\n",
       "<table border=\"1\" class=\"dataframe\">\n",
       "  <thead>\n",
       "    <tr style=\"text-align: right;\">\n",
       "      <th></th>\n",
       "      <th>Text</th>\n",
       "      <th>Mainclass</th>\n",
       "      <th>Subclass</th>\n",
       "    </tr>\n",
       "  </thead>\n",
       "  <tbody>\n",
       "    <tr>\n",
       "      <th>count</th>\n",
       "      <td>576</td>\n",
       "      <td>576</td>\n",
       "      <td>576</td>\n",
       "    </tr>\n",
       "    <tr>\n",
       "      <th>unique</th>\n",
       "      <td>576</td>\n",
       "      <td>3</td>\n",
       "      <td>12</td>\n",
       "    </tr>\n",
       "    <tr>\n",
       "      <th>top</th>\n",
       "      <td>อยากกินกุ้งที่จะมีความหนุบๆ กับน้ำสลัดเทาซันไอ...</td>\n",
       "      <td>พิซซ่า</td>\n",
       "      <td>ค็อกเทลกุ้ง</td>\n",
       "    </tr>\n",
       "    <tr>\n",
       "      <th>freq</th>\n",
       "      <td>1</td>\n",
       "      <td>192</td>\n",
       "      <td>48</td>\n",
       "    </tr>\n",
       "  </tbody>\n",
       "</table>\n",
       "</div>"
      ],
      "text/plain": [
       "                                                     Text Mainclass   \n",
       "count                                                 576       576  \\\n",
       "unique                                                576         3   \n",
       "top     อยากกินกุ้งที่จะมีความหนุบๆ กับน้ำสลัดเทาซันไอ...    พิซซ่า   \n",
       "freq                                                    1       192   \n",
       "\n",
       "           Subclass  \n",
       "count           576  \n",
       "unique           12  \n",
       "top     ค็อกเทลกุ้ง  \n",
       "freq             48  "
      ]
     },
     "metadata": {},
     "output_type": "display_data"
    },
    {
     "data": {
      "text/plain": [
       "array(['พิซซ่า', 'ก๋วยเตี๋ยว', 'สปาเกตตี'], dtype=object)"
      ]
     },
     "metadata": {},
     "output_type": "display_data"
    },
    {
     "data": {
      "text/plain": [
       "array(['ค็อกเทลกุ้ง', 'มีทเดอลุกซ์', 'เห็ดและมะเขือเทศ', 'ดิปเปอร์',\n",
       "       'ก๋วยเตี๋ยวน้ำตก', 'ก๋วยเตี๋ยวต้มยำน้ำใส', 'บะหมีหมูแดงหมูกรอบ',\n",
       "       'เกาเหลา', 'สปาเกตตีมีทบอล', 'สปาเกตตีคาโบนาร่า', 'สปาเกตตีผัก',\n",
       "       'สปาเกตตีทะเล'], dtype=object)"
      ]
     },
     "metadata": {},
     "output_type": "display_data"
    }
   ],
   "source": [
    "display(df_prepro.describe())\n",
    "display(df_prepro.Mainclass.unique())\n",
    "display(df_prepro.Subclass.unique())"
   ]
  },
  {
   "attachments": {},
   "cell_type": "markdown",
   "metadata": {},
   "source": [
    "### **Remove Duplications in text inputs**"
   ]
  },
  {
   "cell_type": "code",
   "execution_count": 6,
   "metadata": {},
   "outputs": [
    {
     "data": {
      "text/html": [
       "<div>\n",
       "<style scoped>\n",
       "    .dataframe tbody tr th:only-of-type {\n",
       "        vertical-align: middle;\n",
       "    }\n",
       "\n",
       "    .dataframe tbody tr th {\n",
       "        vertical-align: top;\n",
       "    }\n",
       "\n",
       "    .dataframe thead th {\n",
       "        text-align: right;\n",
       "    }\n",
       "</style>\n",
       "<table border=\"1\" class=\"dataframe\">\n",
       "  <thead>\n",
       "    <tr style=\"text-align: right;\">\n",
       "      <th></th>\n",
       "      <th>Text</th>\n",
       "      <th>Mainclass</th>\n",
       "      <th>Subclass</th>\n",
       "    </tr>\n",
       "  </thead>\n",
       "  <tbody>\n",
       "  </tbody>\n",
       "</table>\n",
       "</div>"
      ],
      "text/plain": [
       "Empty DataFrame\n",
       "Columns: [Text, Mainclass, Subclass]\n",
       "Index: []"
      ]
     },
     "metadata": {},
     "output_type": "display_data"
    }
   ],
   "source": [
    "# display all text that appears more than once\n",
    "display(df_prepro[df_prepro.duplicated('Text', keep=False)].sort_values('Text'))\n",
    "# Then no duplicates"
   ]
  },
  {
   "attachments": {},
   "cell_type": "markdown",
   "metadata": {},
   "source": [
    "### **Remove unwanted character**"
   ]
  },
  {
   "attachments": {},
   "cell_type": "markdown",
   "metadata": {},
   "source": [
    "#### **Front-Back white space**"
   ]
  },
  {
   "cell_type": "code",
   "execution_count": 7,
   "metadata": {},
   "outputs": [
    {
     "data": {
      "text/html": [
       "<div>\n",
       "<style scoped>\n",
       "    .dataframe tbody tr th:only-of-type {\n",
       "        vertical-align: middle;\n",
       "    }\n",
       "\n",
       "    .dataframe tbody tr th {\n",
       "        vertical-align: top;\n",
       "    }\n",
       "\n",
       "    .dataframe thead th {\n",
       "        text-align: right;\n",
       "    }\n",
       "</style>\n",
       "<table border=\"1\" class=\"dataframe\">\n",
       "  <thead>\n",
       "    <tr style=\"text-align: right;\">\n",
       "      <th></th>\n",
       "      <th>Text</th>\n",
       "      <th>Mainclass</th>\n",
       "      <th>Subclass</th>\n",
       "    </tr>\n",
       "  </thead>\n",
       "  <tbody>\n",
       "    <tr>\n",
       "      <th>0</th>\n",
       "      <td>อยากกินกุ้งที่จะมีความหนุบๆ กับน้ำสลัดเทาซันไอ...</td>\n",
       "      <td>พิซซ่า</td>\n",
       "      <td>ค็อกเทลกุ้ง</td>\n",
       "    </tr>\n",
       "    <tr>\n",
       "      <th>1</th>\n",
       "      <td>ผมชอบอาหารที่สามารถทำได้เร็ว มีหน้าตาที่สวยงาม...</td>\n",
       "      <td>พิซซ่า</td>\n",
       "      <td>ค็อกเทลกุ้ง</td>\n",
       "    </tr>\n",
       "    <tr>\n",
       "      <th>2</th>\n",
       "      <td>ทำจากแป้งมีทั้งหนานุ่ม และบางกรอบเหมาะกับคนที่...</td>\n",
       "      <td>พิซซ่า</td>\n",
       "      <td>ค็อกเทลกุ้ง</td>\n",
       "    </tr>\n",
       "    <tr>\n",
       "      <th>3</th>\n",
       "      <td>เนื้อหลักเป็นกุ้งมีรสชาติที่จัดจ้านจากซอสมีต้น...</td>\n",
       "      <td>พิซซ่า</td>\n",
       "      <td>ค็อกเทลกุ้ง</td>\n",
       "    </tr>\n",
       "    <tr>\n",
       "      <th>4</th>\n",
       "      <td>อาหารที่มีลักษณะกลม ๆ สามารถแบ่งเป็นชิ้นได้กิน...</td>\n",
       "      <td>พิซซ่า</td>\n",
       "      <td>ค็อกเทลกุ้ง</td>\n",
       "    </tr>\n",
       "  </tbody>\n",
       "</table>\n",
       "</div>"
      ],
      "text/plain": [
       "                                                Text Mainclass     Subclass\n",
       "0  อยากกินกุ้งที่จะมีความหนุบๆ กับน้ำสลัดเทาซันไอ...    พิซซ่า  ค็อกเทลกุ้ง\n",
       "1  ผมชอบอาหารที่สามารถทำได้เร็ว มีหน้าตาที่สวยงาม...    พิซซ่า  ค็อกเทลกุ้ง\n",
       "2  ทำจากแป้งมีทั้งหนานุ่ม และบางกรอบเหมาะกับคนที่...    พิซซ่า  ค็อกเทลกุ้ง\n",
       "3  เนื้อหลักเป็นกุ้งมีรสชาติที่จัดจ้านจากซอสมีต้น...    พิซซ่า  ค็อกเทลกุ้ง\n",
       "4  อาหารที่มีลักษณะกลม ๆ สามารถแบ่งเป็นชิ้นได้กิน...    พิซซ่า  ค็อกเทลกุ้ง"
      ]
     },
     "execution_count": 7,
     "metadata": {},
     "output_type": "execute_result"
    }
   ],
   "source": [
    "def strip_space(text):\n",
    "    return text.strip()\n",
    "\n",
    "df_prepro['Text'] = df_prepro['Text'].apply(strip_space)\n",
    "df_prepro.head()"
   ]
  },
  {
   "attachments": {},
   "cell_type": "markdown",
   "metadata": {},
   "source": [
    "#### **Remove white space between words**"
   ]
  },
  {
   "cell_type": "code",
   "execution_count": 8,
   "metadata": {},
   "outputs": [
    {
     "data": {
      "text/html": [
       "<div>\n",
       "<style scoped>\n",
       "    .dataframe tbody tr th:only-of-type {\n",
       "        vertical-align: middle;\n",
       "    }\n",
       "\n",
       "    .dataframe tbody tr th {\n",
       "        vertical-align: top;\n",
       "    }\n",
       "\n",
       "    .dataframe thead th {\n",
       "        text-align: right;\n",
       "    }\n",
       "</style>\n",
       "<table border=\"1\" class=\"dataframe\">\n",
       "  <thead>\n",
       "    <tr style=\"text-align: right;\">\n",
       "      <th></th>\n",
       "      <th>Text</th>\n",
       "      <th>Mainclass</th>\n",
       "      <th>Subclass</th>\n",
       "    </tr>\n",
       "  </thead>\n",
       "  <tbody>\n",
       "    <tr>\n",
       "      <th>0</th>\n",
       "      <td>อยากกินกุ้งที่จะมีความหนุบๆกับน้ำสลัดเทาซันไอส...</td>\n",
       "      <td>พิซซ่า</td>\n",
       "      <td>ค็อกเทลกุ้ง</td>\n",
       "    </tr>\n",
       "    <tr>\n",
       "      <th>1</th>\n",
       "      <td>ผมชอบอาหารที่สามารถทำได้เร็วมีหน้าตาที่สวยงามส...</td>\n",
       "      <td>พิซซ่า</td>\n",
       "      <td>ค็อกเทลกุ้ง</td>\n",
       "    </tr>\n",
       "    <tr>\n",
       "      <th>2</th>\n",
       "      <td>ทำจากแป้งมีทั้งหนานุ่มและบางกรอบเหมาะกับคนที่ช...</td>\n",
       "      <td>พิซซ่า</td>\n",
       "      <td>ค็อกเทลกุ้ง</td>\n",
       "    </tr>\n",
       "    <tr>\n",
       "      <th>3</th>\n",
       "      <td>เนื้อหลักเป็นกุ้งมีรสชาติที่จัดจ้านจากซอสมีต้น...</td>\n",
       "      <td>พิซซ่า</td>\n",
       "      <td>ค็อกเทลกุ้ง</td>\n",
       "    </tr>\n",
       "    <tr>\n",
       "      <th>4</th>\n",
       "      <td>อาหารที่มีลักษณะกลมๆสามารถแบ่งเป็นชิ้นได้กินกั...</td>\n",
       "      <td>พิซซ่า</td>\n",
       "      <td>ค็อกเทลกุ้ง</td>\n",
       "    </tr>\n",
       "  </tbody>\n",
       "</table>\n",
       "</div>"
      ],
      "text/plain": [
       "                                                Text Mainclass     Subclass\n",
       "0  อยากกินกุ้งที่จะมีความหนุบๆกับน้ำสลัดเทาซันไอส...    พิซซ่า  ค็อกเทลกุ้ง\n",
       "1  ผมชอบอาหารที่สามารถทำได้เร็วมีหน้าตาที่สวยงามส...    พิซซ่า  ค็อกเทลกุ้ง\n",
       "2  ทำจากแป้งมีทั้งหนานุ่มและบางกรอบเหมาะกับคนที่ช...    พิซซ่า  ค็อกเทลกุ้ง\n",
       "3  เนื้อหลักเป็นกุ้งมีรสชาติที่จัดจ้านจากซอสมีต้น...    พิซซ่า  ค็อกเทลกุ้ง\n",
       "4  อาหารที่มีลักษณะกลมๆสามารถแบ่งเป็นชิ้นได้กินกั...    พิซซ่า  ค็อกเทลกุ้ง"
      ]
     },
     "execution_count": 8,
     "metadata": {},
     "output_type": "execute_result"
    }
   ],
   "source": [
    "def remove_whitespace(text):\n",
    "    return text.replace(\" \", \"\")\n",
    "\n",
    "df_prepro['Text'] = df_prepro['Text'].apply(remove_whitespace)\n",
    "df_prepro.head()"
   ]
  },
  {
   "attachments": {},
   "cell_type": "markdown",
   "metadata": {},
   "source": [
    "#### **Remove special character and punctuation**"
   ]
  },
  {
   "cell_type": "code",
   "execution_count": 9,
   "metadata": {},
   "outputs": [
    {
     "data": {
      "text/html": [
       "<div>\n",
       "<style scoped>\n",
       "    .dataframe tbody tr th:only-of-type {\n",
       "        vertical-align: middle;\n",
       "    }\n",
       "\n",
       "    .dataframe tbody tr th {\n",
       "        vertical-align: top;\n",
       "    }\n",
       "\n",
       "    .dataframe thead th {\n",
       "        text-align: right;\n",
       "    }\n",
       "</style>\n",
       "<table border=\"1\" class=\"dataframe\">\n",
       "  <thead>\n",
       "    <tr style=\"text-align: right;\">\n",
       "      <th></th>\n",
       "      <th>Text</th>\n",
       "      <th>Mainclass</th>\n",
       "      <th>Subclass</th>\n",
       "    </tr>\n",
       "  </thead>\n",
       "  <tbody>\n",
       "    <tr>\n",
       "      <th>0</th>\n",
       "      <td>อยากกินกุ้งที่จะมีความหนุบกับน้ำสลัดเทาซันไอส์...</td>\n",
       "      <td>พิซซ่า</td>\n",
       "      <td>ค็อกเทลกุ้ง</td>\n",
       "    </tr>\n",
       "    <tr>\n",
       "      <th>1</th>\n",
       "      <td>ผมชอบอาหารที่สามารถทำได้เร็วมีหน้าตาที่สวยงามส...</td>\n",
       "      <td>พิซซ่า</td>\n",
       "      <td>ค็อกเทลกุ้ง</td>\n",
       "    </tr>\n",
       "    <tr>\n",
       "      <th>2</th>\n",
       "      <td>ทำจากแป้งมีทั้งหนานุ่มและบางกรอบเหมาะกับคนที่ช...</td>\n",
       "      <td>พิซซ่า</td>\n",
       "      <td>ค็อกเทลกุ้ง</td>\n",
       "    </tr>\n",
       "    <tr>\n",
       "      <th>3</th>\n",
       "      <td>เนื้อหลักเป็นกุ้งมีรสชาติที่จัดจ้านจากซอสมีต้น...</td>\n",
       "      <td>พิซซ่า</td>\n",
       "      <td>ค็อกเทลกุ้ง</td>\n",
       "    </tr>\n",
       "    <tr>\n",
       "      <th>4</th>\n",
       "      <td>อาหารที่มีลักษณะกลมสามารถแบ่งเป็นชิ้นได้กินกับ...</td>\n",
       "      <td>พิซซ่า</td>\n",
       "      <td>ค็อกเทลกุ้ง</td>\n",
       "    </tr>\n",
       "  </tbody>\n",
       "</table>\n",
       "</div>"
      ],
      "text/plain": [
       "                                                Text Mainclass     Subclass\n",
       "0  อยากกินกุ้งที่จะมีความหนุบกับน้ำสลัดเทาซันไอส์...    พิซซ่า  ค็อกเทลกุ้ง\n",
       "1  ผมชอบอาหารที่สามารถทำได้เร็วมีหน้าตาที่สวยงามส...    พิซซ่า  ค็อกเทลกุ้ง\n",
       "2  ทำจากแป้งมีทั้งหนานุ่มและบางกรอบเหมาะกับคนที่ช...    พิซซ่า  ค็อกเทลกุ้ง\n",
       "3  เนื้อหลักเป็นกุ้งมีรสชาติที่จัดจ้านจากซอสมีต้น...    พิซซ่า  ค็อกเทลกุ้ง\n",
       "4  อาหารที่มีลักษณะกลมสามารถแบ่งเป็นชิ้นได้กินกับ...    พิซซ่า  ค็อกเทลกุ้ง"
      ]
     },
     "execution_count": 9,
     "metadata": {},
     "output_type": "execute_result"
    }
   ],
   "source": [
    "punctuation = '!\"#$%&\\'()*+,-./:;<=>?@[\\\\]^_`{|}~'\n",
    "thai_punctuation = 'ๆ'\n",
    "def remove_punctuation(text):\n",
    "    return text.translate(str.maketrans('', '', punctuation + thai_punctuation))\n",
    " \n",
    "df_prepro['Text'] = df_prepro['Text'].apply(remove_punctuation)\n",
    "df_prepro.head()"
   ]
  },
  {
   "attachments": {},
   "cell_type": "markdown",
   "metadata": {},
   "source": [
    "### **Label Mapping**"
   ]
  },
  {
   "cell_type": "code",
   "execution_count": 10,
   "metadata": {},
   "outputs": [],
   "source": [
    "def get_label_map(df, col_name):\n",
    "    label_map = {}\n",
    "    for i, label in enumerate(df[col_name].unique()):\n",
    "        label_map[label] = i\n",
    "    reversed_label_map = {v: k for k, v in label_map.items()}\n",
    "    return label_map, reversed_label_map"
   ]
  },
  {
   "attachments": {},
   "cell_type": "markdown",
   "metadata": {},
   "source": [
    "#### **Get main class labels**"
   ]
  },
  {
   "cell_type": "code",
   "execution_count": 11,
   "metadata": {},
   "outputs": [
    {
     "data": {
      "text/plain": [
       "{'พิซซ่า': 0, 'ก๋วยเตี๋ยว': 1, 'สปาเกตตี': 2}"
      ]
     },
     "metadata": {},
     "output_type": "display_data"
    },
    {
     "data": {
      "text/html": [
       "<div>\n",
       "<style scoped>\n",
       "    .dataframe tbody tr th:only-of-type {\n",
       "        vertical-align: middle;\n",
       "    }\n",
       "\n",
       "    .dataframe tbody tr th {\n",
       "        vertical-align: top;\n",
       "    }\n",
       "\n",
       "    .dataframe thead th {\n",
       "        text-align: right;\n",
       "    }\n",
       "</style>\n",
       "<table border=\"1\" class=\"dataframe\">\n",
       "  <thead>\n",
       "    <tr style=\"text-align: right;\">\n",
       "      <th></th>\n",
       "      <th>Text</th>\n",
       "      <th>Mainclass</th>\n",
       "      <th>Subclass</th>\n",
       "    </tr>\n",
       "  </thead>\n",
       "  <tbody>\n",
       "    <tr>\n",
       "      <th>0</th>\n",
       "      <td>อยากกินกุ้งที่จะมีความหนุบกับน้ำสลัดเทาซันไอส์...</td>\n",
       "      <td>0</td>\n",
       "      <td>ค็อกเทลกุ้ง</td>\n",
       "    </tr>\n",
       "    <tr>\n",
       "      <th>1</th>\n",
       "      <td>ผมชอบอาหารที่สามารถทำได้เร็วมีหน้าตาที่สวยงามส...</td>\n",
       "      <td>0</td>\n",
       "      <td>ค็อกเทลกุ้ง</td>\n",
       "    </tr>\n",
       "    <tr>\n",
       "      <th>2</th>\n",
       "      <td>ทำจากแป้งมีทั้งหนานุ่มและบางกรอบเหมาะกับคนที่ช...</td>\n",
       "      <td>0</td>\n",
       "      <td>ค็อกเทลกุ้ง</td>\n",
       "    </tr>\n",
       "    <tr>\n",
       "      <th>3</th>\n",
       "      <td>เนื้อหลักเป็นกุ้งมีรสชาติที่จัดจ้านจากซอสมีต้น...</td>\n",
       "      <td>0</td>\n",
       "      <td>ค็อกเทลกุ้ง</td>\n",
       "    </tr>\n",
       "    <tr>\n",
       "      <th>4</th>\n",
       "      <td>อาหารที่มีลักษณะกลมสามารถแบ่งเป็นชิ้นได้กินกับ...</td>\n",
       "      <td>0</td>\n",
       "      <td>ค็อกเทลกุ้ง</td>\n",
       "    </tr>\n",
       "  </tbody>\n",
       "</table>\n",
       "</div>"
      ],
      "text/plain": [
       "                                                Text  Mainclass     Subclass\n",
       "0  อยากกินกุ้งที่จะมีความหนุบกับน้ำสลัดเทาซันไอส์...          0  ค็อกเทลกุ้ง\n",
       "1  ผมชอบอาหารที่สามารถทำได้เร็วมีหน้าตาที่สวยงามส...          0  ค็อกเทลกุ้ง\n",
       "2  ทำจากแป้งมีทั้งหนานุ่มและบางกรอบเหมาะกับคนที่ช...          0  ค็อกเทลกุ้ง\n",
       "3  เนื้อหลักเป็นกุ้งมีรสชาติที่จัดจ้านจากซอสมีต้น...          0  ค็อกเทลกุ้ง\n",
       "4  อาหารที่มีลักษณะกลมสามารถแบ่งเป็นชิ้นได้กินกับ...          0  ค็อกเทลกุ้ง"
      ]
     },
     "metadata": {},
     "output_type": "display_data"
    }
   ],
   "source": [
    "mainclass_label_map, reversed_mainclass_label_map = get_label_map(df_prepro, 'Mainclass')\n",
    "\n",
    "display(mainclass_label_map)\n",
    "\n",
    "df_prepro['Mainclass'] = df_prepro['Mainclass'].map(mainclass_label_map)\n",
    "\n",
    "display(df_prepro.head())"
   ]
  },
  {
   "attachments": {},
   "cell_type": "markdown",
   "metadata": {},
   "source": [
    "#### **Get sub class labels**"
   ]
  },
  {
   "cell_type": "code",
   "execution_count": 12,
   "metadata": {},
   "outputs": [
    {
     "data": {
      "text/plain": [
       "{'ค็อกเทลกุ้ง': 0,\n",
       " 'มีทเดอลุกซ์': 1,\n",
       " 'เห็ดและมะเขือเทศ': 2,\n",
       " 'ดิปเปอร์': 3,\n",
       " 'ก๋วยเตี๋ยวน้ำตก': 4,\n",
       " 'ก๋วยเตี๋ยวต้มยำน้ำใส': 5,\n",
       " 'บะหมีหมูแดงหมูกรอบ': 6,\n",
       " 'เกาเหลา': 7,\n",
       " 'สปาเกตตีมีทบอล': 8,\n",
       " 'สปาเกตตีคาโบนาร่า': 9,\n",
       " 'สปาเกตตีผัก': 10,\n",
       " 'สปาเกตตีทะเล': 11}"
      ]
     },
     "metadata": {},
     "output_type": "display_data"
    },
    {
     "data": {
      "text/html": [
       "<div>\n",
       "<style scoped>\n",
       "    .dataframe tbody tr th:only-of-type {\n",
       "        vertical-align: middle;\n",
       "    }\n",
       "\n",
       "    .dataframe tbody tr th {\n",
       "        vertical-align: top;\n",
       "    }\n",
       "\n",
       "    .dataframe thead th {\n",
       "        text-align: right;\n",
       "    }\n",
       "</style>\n",
       "<table border=\"1\" class=\"dataframe\">\n",
       "  <thead>\n",
       "    <tr style=\"text-align: right;\">\n",
       "      <th></th>\n",
       "      <th>Text</th>\n",
       "      <th>Mainclass</th>\n",
       "      <th>Subclass</th>\n",
       "    </tr>\n",
       "  </thead>\n",
       "  <tbody>\n",
       "    <tr>\n",
       "      <th>0</th>\n",
       "      <td>อยากกินกุ้งที่จะมีความหนุบกับน้ำสลัดเทาซันไอส์...</td>\n",
       "      <td>0</td>\n",
       "      <td>0</td>\n",
       "    </tr>\n",
       "    <tr>\n",
       "      <th>1</th>\n",
       "      <td>ผมชอบอาหารที่สามารถทำได้เร็วมีหน้าตาที่สวยงามส...</td>\n",
       "      <td>0</td>\n",
       "      <td>0</td>\n",
       "    </tr>\n",
       "    <tr>\n",
       "      <th>2</th>\n",
       "      <td>ทำจากแป้งมีทั้งหนานุ่มและบางกรอบเหมาะกับคนที่ช...</td>\n",
       "      <td>0</td>\n",
       "      <td>0</td>\n",
       "    </tr>\n",
       "    <tr>\n",
       "      <th>3</th>\n",
       "      <td>เนื้อหลักเป็นกุ้งมีรสชาติที่จัดจ้านจากซอสมีต้น...</td>\n",
       "      <td>0</td>\n",
       "      <td>0</td>\n",
       "    </tr>\n",
       "    <tr>\n",
       "      <th>4</th>\n",
       "      <td>อาหารที่มีลักษณะกลมสามารถแบ่งเป็นชิ้นได้กินกับ...</td>\n",
       "      <td>0</td>\n",
       "      <td>0</td>\n",
       "    </tr>\n",
       "  </tbody>\n",
       "</table>\n",
       "</div>"
      ],
      "text/plain": [
       "                                                Text  Mainclass  Subclass\n",
       "0  อยากกินกุ้งที่จะมีความหนุบกับน้ำสลัดเทาซันไอส์...          0         0\n",
       "1  ผมชอบอาหารที่สามารถทำได้เร็วมีหน้าตาที่สวยงามส...          0         0\n",
       "2  ทำจากแป้งมีทั้งหนานุ่มและบางกรอบเหมาะกับคนที่ช...          0         0\n",
       "3  เนื้อหลักเป็นกุ้งมีรสชาติที่จัดจ้านจากซอสมีต้น...          0         0\n",
       "4  อาหารที่มีลักษณะกลมสามารถแบ่งเป็นชิ้นได้กินกับ...          0         0"
      ]
     },
     "metadata": {},
     "output_type": "display_data"
    }
   ],
   "source": [
    "subclass_label_map, reversed_subclass_label_map = get_label_map(df_prepro, 'Subclass')\n",
    "\n",
    "display(subclass_label_map)\n",
    "\n",
    "df_prepro['Subclass'] = df_prepro['Subclass'].map(subclass_label_map)\n",
    "\n",
    "display(df_prepro.head())"
   ]
  },
  {
   "attachments": {},
   "cell_type": "markdown",
   "metadata": {},
   "source": [
    "## **Data Visualization**"
   ]
  },
  {
   "cell_type": "code",
   "execution_count": 13,
   "metadata": {},
   "outputs": [],
   "source": [
    "import matplotlib.pyplot as plt\n",
    "import seaborn as sns"
   ]
  },
  {
   "cell_type": "code",
   "execution_count": 14,
   "metadata": {},
   "outputs": [],
   "source": [
    "def plot_sentence_length_distribution(df, col_name):\n",
    "    \n",
    "    sns.set_style('darkgrid')\n",
    "    sns.set(font_scale=1.0)\n",
    "    plt.rcParams['figure.figsize'] = (12, 8)\n",
    "    \n",
    "    bin_size = 5\n",
    "    bins = np.arange(0, 100, bin_size)\n",
    "    plt.hist(df[col_name].str.len(), bins=bins, alpha=0.5, color='steelblue', edgecolor='k', label='train')\n",
    "    xticks = np.arange(0, 150, bin_size)\n",
    "    plt.xticks(xticks, xticks)\n",
    "    yticks = np.arange(0, 100, bin_size)\n",
    "    plt.yticks(yticks, yticks)\n",
    "    plt.title('Sentence Length Distribution')\n",
    "    plt.legend(loc='upper right')\n",
    "    plt.xlabel('Sentence Length')\n",
    "    plt.ylabel('Number of Sentences')\n",
    "    for a, b in zip(bins, np.histogram(df[col_name].str.len(), bins=bins)[0]):\n",
    "        plt.text(a + 2.5, b + 2.5, '%d' % b, ha='center', va='bottom', fontsize=10)\n",
    "    plt.show()"
   ]
  },
  {
   "attachments": {},
   "cell_type": "markdown",
   "metadata": {},
   "source": [
    "### **Plotting the length of the text data**"
   ]
  },
  {
   "cell_type": "code",
   "execution_count": 15,
   "metadata": {},
   "outputs": [],
   "source": [
    "# plot_sentence_length_distribution(df_prepro, 'Text')"
   ]
  },
  {
   "attachments": {},
   "cell_type": "markdown",
   "metadata": {},
   "source": [
    "#### **Maximum length of text inputs**"
   ]
  },
  {
   "cell_type": "code",
   "execution_count": 16,
   "metadata": {},
   "outputs": [
    {
     "name": "stdout",
     "output_type": "stream",
     "text": [
      "Max sentence length: 165\n"
     ]
    },
    {
     "data": {
      "text/plain": [
       "count    576.000000\n",
       "mean      87.987847\n",
       "std       26.557073\n",
       "min       18.000000\n",
       "25%       69.000000\n",
       "50%       86.000000\n",
       "75%      106.000000\n",
       "max      165.000000\n",
       "Name: Text, dtype: float64"
      ]
     },
     "execution_count": 16,
     "metadata": {},
     "output_type": "execute_result"
    }
   ],
   "source": [
    "print('Max sentence length: %d' % df_prepro['Text'].str.len().max())\n",
    "\n",
    "df_prepro['Text'].str.len().describe()"
   ]
  },
  {
   "attachments": {},
   "cell_type": "markdown",
   "metadata": {},
   "source": [
    "### **Plot the distribution of labels**"
   ]
  },
  {
   "cell_type": "code",
   "execution_count": 17,
   "metadata": {},
   "outputs": [],
   "source": [
    "def plot_label_distribution(df, col_name, title):\n",
    "    \n",
    "    sns.set_style('darkgrid')\n",
    "    sns.set(font_scale=1.0)\n",
    "    plt.rcParams['figure.figsize'] = (6, 4)\n",
    "    \n",
    "    bin_size = 1\n",
    "    bins = np.arange(0, df[col_name].nunique() + 1, bin_size)\n",
    "    plt.hist(df[col_name], bins=bins, alpha=0.5, color='steelblue', edgecolor='k', label='data')\n",
    "    xticks = np.arange(0, df[col_name].nunique() + 1, bin_size)\n",
    "    plt.xticks(xticks, xticks)\n",
    "    yticks = np.arange(0, df[col_name].value_counts().max() + 100, 500)\n",
    "    plt.yticks(yticks, yticks)\n",
    "    plt.title(title)\n",
    "    plt.legend(loc='upper right')\n",
    "    plt.xlabel('Object')\n",
    "    plt.ylabel('Number of Sentences')\n",
    "    for a, b in zip(bins, np.histogram(df[col_name], bins=bins)[0]):\n",
    "        plt.text(a + 0.5, b + 0.5, '%d' % b, ha='center', va='bottom', fontsize=10)\n",
    "    plt.show()"
   ]
  },
  {
   "cell_type": "code",
   "execution_count": 18,
   "metadata": {},
   "outputs": [],
   "source": [
    "# plot_label_distribution(df_prepro, 'Mainclass', 'Mainclass Distribution')"
   ]
  },
  {
   "cell_type": "code",
   "execution_count": 19,
   "metadata": {},
   "outputs": [],
   "source": [
    "# plot_label_distribution(df_prepro, 'Subclass', 'Subclass Distribution')"
   ]
  },
  {
   "attachments": {},
   "cell_type": "markdown",
   "metadata": {},
   "source": [
    "# **Keras Preprocessing**"
   ]
  },
  {
   "cell_type": "code",
   "execution_count": 20,
   "metadata": {},
   "outputs": [],
   "source": [
    "df_keras = df_prepro.copy()"
   ]
  },
  {
   "cell_type": "code",
   "execution_count": 21,
   "metadata": {},
   "outputs": [
    {
     "data": {
      "text/plain": [
       "array([['อยากกินกุ้งที่จะมีความหนุบกับน้ำสลัดเทาซันไอส์แลนด์ที่มีความเข้มข้นหอมแป้งเยอะ',\n",
       "        0, 0],\n",
       "       ['ผมชอบอาหารที่สามารถทำได้เร็วมีหน้าตาที่สวยงามสามารถหยิบกินได้เป็นชิ้นเน้นเนื้อที่มาจากทะเล',\n",
       "        0, 0],\n",
       "       ['ทำจากแป้งมีทั้งหนานุ่มและบางกรอบเหมาะกับคนที่ชื่นชอบอาหารทะเลราคาไม่แพงหาซื้อได้ง่าย',\n",
       "        0, 0],\n",
       "       ...,\n",
       "       ['ฉันอยากกินสปาเกตตีแต่ฉันเบื่อพวกเนื้อหมูไก่แล้วช่วยแนะนำเมนูให้ฉันหน่อย',\n",
       "        2, 11],\n",
       "       ['สปาเกตตีที่กลิ่นและรสชาติที่จัดจ้านเป็นเอกลักษณ์', 2, 11],\n",
       "       ['สปาเกตตีที่ให้รสชาติเผ็ดจัดจ้านมีกุ้งมีหมึกมีหอยและยังใส่พวกพริกไทยอ่อน',\n",
       "        2, 11]], dtype=object)"
      ]
     },
     "execution_count": 21,
     "metadata": {},
     "output_type": "execute_result"
    }
   ],
   "source": [
    "df_keras = df_keras.to_numpy()\n",
    "df_keras"
   ]
  },
  {
   "attachments": {},
   "cell_type": "markdown",
   "metadata": {},
   "source": [
    "## **Word Tokenization**"
   ]
  },
  {
   "cell_type": "code",
   "execution_count": 22,
   "metadata": {},
   "outputs": [],
   "source": [
    "import pythainlp\n",
    "from pythainlp import word_tokenize\n",
    "from keras.utils import pad_sequences"
   ]
  },
  {
   "cell_type": "code",
   "execution_count": 23,
   "metadata": {},
   "outputs": [
    {
     "name": "stdout",
     "output_type": "stream",
     "text": [
      "Example after padding:\n",
      "[array(['อยาก', 'กิน', 'อะไร', 'ก็', 'ได้ที่', 'มี', 'ชีส', 'ผัก', 'เพราะ',\n",
      "        'กิน', 'คีโม', 'ขอ', 'เมนู', 'ทำ', 'ง่าย', 'ใช้เวลา', 'ไม่', 'นาน',\n",
      "        'มี', 'สารอาหาร', 'พวก', 'คา', 'โบ', 'ไฮ', 'เด', 'รต', ' ', ' ',\n",
      "        ' ', ' ', ' ', ' ', ' ', ' ', ' ', ' ', ' ', ' ', ' ', ' ', ' ',\n",
      "        ' ', ' ', ' ', ' ', ' ', ' ', ' ', ' ', ' '], dtype=object)\n",
      " 2 10]\n",
      "Data shape: (576, 3)\n",
      "เท่ากับ 50\n"
     ]
    }
   ],
   "source": [
    "input_tokenize = df_keras.copy()\n",
    "for i, sentence in enumerate(input_tokenize[:, 0]):\n",
    "    input_tokenize[i, 0] = np.array(word_tokenize(sentence, engine='newmm'), dtype=object)\n",
    "\n",
    "input_tokenize = np.asarray(input_tokenize, dtype=object)\n",
    "\n",
    "max_len = max(len(seq) for seq in input_tokenize[:, 0]) + 10\n",
    "\n",
    "for i in range(len(input_tokenize)):\n",
    "    input_tokenize[i, 0] = np.pad(input_tokenize[i, 0], (0, max_len - len(input_tokenize[i, 0])), constant_values=\" \")\n",
    "\n",
    "print(\"Example after padding:\")\n",
    "print(input_tokenize[500])\n",
    "\n",
    "print(f\"Data shape: {input_tokenize.shape}\")\n",
    "\n",
    "for seq in input_tokenize[:, 0]:\n",
    "    if seq.shape[0] != 50:\n",
    "        print(\"ไม่เท่ากับ 50\")\n",
    "\n",
    "print(\"เท่ากับ 50\")"
   ]
  },
  {
   "cell_type": "code",
   "execution_count": 24,
   "metadata": {},
   "outputs": [
    {
     "name": "stdout",
     "output_type": "stream",
     "text": [
      "Example sentence: ['อยาก' 'กิน' 'กุ้ง' 'ที่จะ' 'มี' 'ความ' 'หนุบ' 'กับ' 'น้ำสลัด' 'เทา'\n",
      " 'ซัน' 'ไอส์แลนด์' 'ที่' 'มี' 'ความ' 'เข้มข้น' 'หอม' 'แป้ง' 'เยอะ' ' ' ' '\n",
      " ' ' ' ' ' ' ' ' ' ' ' ' ' ' ' ' ' ' ' ' ' ' ' ' ' ' ' ' ' ' ' ' ' ' ' '\n",
      " ' ' ' ' ' ' ' ' ' ' ' ' ' ' ' ' ' ' ' ' ' ']\n",
      "Example mainclass label: 0\n",
      "Example subclass label: 0\n",
      "Shape\n",
      "Sentence: (576,)\n",
      "Mainclass label: (576,)\n",
      "Subclass label: (576,)\n"
     ]
    }
   ],
   "source": [
    "sentence = input_tokenize[:, 0]\n",
    "mainclass_labels = input_tokenize[:, 1]\n",
    "subclass_labels = input_tokenize[:, 2]\n",
    "\n",
    "print(f'Example sentence: {sentence[0]}')\n",
    "print(f'Example mainclass label: {mainclass_labels[0]}')\n",
    "print(f'Example subclass label: {subclass_labels[0]}')\n",
    "\n",
    "print('Shape')\n",
    "print(f'Sentence: {sentence.shape}')\n",
    "print(f'Mainclass label: {mainclass_labels.shape}')\n",
    "print(f'Subclass label: {subclass_labels.shape}')"
   ]
  },
  {
   "attachments": {},
   "cell_type": "markdown",
   "metadata": {},
   "source": [
    "## **Word Count**"
   ]
  },
  {
   "cell_type": "code",
   "execution_count": 25,
   "metadata": {},
   "outputs": [
    {
     "data": {
      "text/plain": [
       "[(' ', 16825),\n",
       " ('มี', 630),\n",
       " ('ที่', 580),\n",
       " ('กิน', 360),\n",
       " ('และ', 325),\n",
       " ('เป็น', 251),\n",
       " ('อาหาร', 235),\n",
       " ('เส้น', 220),\n",
       " ('ได้', 185),\n",
       " ('อยาก', 160),\n",
       " ('กับ', 144),\n",
       " ('ไม่', 140),\n",
       " ('ของ', 134),\n",
       " ('รสชาติ', 132),\n",
       " ('ผัก', 125)]"
      ]
     },
     "metadata": {},
     "output_type": "display_data"
    }
   ],
   "source": [
    "from collections import Counter\n",
    "\n",
    "word_counts = Counter()\n",
    "for data in input_tokenize[:,0]:\n",
    "    word_counts.update(data)\n",
    "    \n",
    "display(word_counts.most_common(15))"
   ]
  },
  {
   "cell_type": "code",
   "execution_count": 26,
   "metadata": {},
   "outputs": [
    {
     "name": "stdout",
     "output_type": "stream",
     "text": [
      "Maximum vocabulary size from data set: 1262\n",
      "Maximum sentence length from data set: 50\n"
     ]
    }
   ],
   "source": [
    "# Find maximym vocabulary size\n",
    "max_vocab_size = len(word_counts) + 1 # +1 for unknown token\n",
    "print(f'Maximum vocabulary size from data set: {max_vocab_size}')\n",
    "# Find maximum sentence length\n",
    "max_len = max([len(sentence) for sentence in input_tokenize[:,0]])\n",
    "print(f'Maximum sentence length from data set: {max_len}')\n",
    "\n",
    "# Set parameters\n",
    "max_vocab_size = 5000 # Set maximum vocabulary size to 5000 word (including unknown token)\n",
    "max_len = 50 # Set maximum sentence length to 50 word per input text"
   ]
  },
  {
   "attachments": {},
   "cell_type": "markdown",
   "metadata": {},
   "source": [
    "## **Word Vectorization**"
   ]
  },
  {
   "cell_type": "code",
   "execution_count": 27,
   "metadata": {},
   "outputs": [
    {
     "data": {
      "text/plain": [
       "array(['อยาก', 'กิน', 'กุ้ง', 'ที่จะ', 'มี', 'ความ', 'หนุบ', 'กับ',\n",
       "       'น้ำสลัด', 'เทา', 'ซัน', 'ไอส์แลนด์', 'ที่', 'มี', 'ความ',\n",
       "       'เข้มข้น', 'หอม', 'แป้ง', 'เยอะ', ' ', ' ', ' ', ' ', ' ', ' ',\n",
       "       ' ', ' ', ' ', ' ', ' ', ' ', ' ', ' ', ' ', ' ', ' ', ' ', ' ',\n",
       "       ' ', ' ', ' ', ' ', ' ', ' ', ' ', ' ', ' ', ' ', ' ', ' '],\n",
       "      dtype=object)"
      ]
     },
     "execution_count": 27,
     "metadata": {},
     "output_type": "execute_result"
    }
   ],
   "source": [
    "sentence[0]"
   ]
  },
  {
   "cell_type": "code",
   "execution_count": 28,
   "metadata": {},
   "outputs": [],
   "source": [
    "from pythainlp import word_vector\n",
    "wordVector = word_vector.WordVector(model_name=\"thai2fit_wv\").get_model() # load thai2fit_wv from pythainlp"
   ]
  },
  {
   "cell_type": "code",
   "execution_count": 29,
   "metadata": {},
   "outputs": [
    {
     "name": "stdout",
     "output_type": "stream",
     "text": [
      "Sentence vector shape: (576, 50, 300)\n"
     ]
    }
   ],
   "source": [
    "def map_word_to_vector(word):\n",
    "    try:\n",
    "        return wordVector[word]\n",
    "    except KeyError:\n",
    "        return np.zeros(wordVector.vector_size)\n",
    "\n",
    "sentence_vector = np.array([np.array([map_word_to_vector(word) for word in sentence]) for sentence in input_tokenize[:,0]],dtype=object)\n",
    "\n",
    "print(f'Sentence vector shape: {sentence_vector.shape}')"
   ]
  },
  {
   "cell_type": "code",
   "execution_count": 30,
   "metadata": {},
   "outputs": [
    {
     "data": {
      "text/plain": [
       "(50, 300)"
      ]
     },
     "execution_count": 30,
     "metadata": {},
     "output_type": "execute_result"
    }
   ],
   "source": [
    "sentence_vector[0].shape"
   ]
  },
  {
   "cell_type": "code",
   "execution_count": 31,
   "metadata": {},
   "outputs": [
    {
     "data": {
      "text/plain": [
       "(300,)"
      ]
     },
     "execution_count": 31,
     "metadata": {},
     "output_type": "execute_result"
    }
   ],
   "source": [
    "sentence_vector[0][0].shape"
   ]
  },
  {
   "attachments": {},
   "cell_type": "markdown",
   "metadata": {},
   "source": [
    "### **One-hot encoding**"
   ]
  },
  {
   "cell_type": "code",
   "execution_count": 32,
   "metadata": {},
   "outputs": [
    {
     "name": "stdout",
     "output_type": "stream",
     "text": [
      "Mainclass labels shape: (576, 3)\n",
      "Subclass labels shape: (576, 12)\n"
     ]
    }
   ],
   "source": [
    "from keras.utils import to_categorical\n",
    "\n",
    "mainclass_labels = to_categorical(mainclass_labels)\n",
    "subclass_labels = to_categorical(subclass_labels)\n",
    "\n",
    "print('Mainclass labels shape:', mainclass_labels.shape)\n",
    "print('Subclass labels shape:', subclass_labels.shape)"
   ]
  },
  {
   "attachments": {},
   "cell_type": "markdown",
   "metadata": {},
   "source": [
    "## **Train-Test Split**"
   ]
  },
  {
   "cell_type": "code",
   "execution_count": 33,
   "metadata": {},
   "outputs": [],
   "source": [
    "label_mainclass = np.zeros([576,1])\n",
    "for i in range(0,576):\n",
    "    label_mainclass[i] = i\n",
    "# print(label_mainclass)\n",
    "\n",
    "mainclass_labels = np.concatenate((mainclass_labels, label_mainclass), axis=1)\n",
    "subclass_labels = np.concatenate((subclass_labels, label_mainclass), axis=1)"
   ]
  },
  {
   "cell_type": "code",
   "execution_count": 34,
   "metadata": {},
   "outputs": [],
   "source": [
    "from sklearn.model_selection import train_test_split\n",
    "\n",
    "X_train, X_test, y_train_main_class, y_test_main_class, y_train_sub_class, y_test_sub_class = train_test_split(sentence_vector, mainclass_labels, subclass_labels, train_size=0.8, shuffle=True)"
   ]
  },
  {
   "cell_type": "code",
   "execution_count": 35,
   "metadata": {},
   "outputs": [],
   "source": [
    "label_mainclass_keep_train = y_train_main_class[:, -1]\n",
    "label_subclass_keep_train = y_train_sub_class[:, -1]\n",
    "label_mainclass_keep_test = y_test_main_class[:, -1]\n",
    "label_subclass_keep_test = y_test_sub_class[:, -1]\n",
    "\n",
    "y_train_main_class = np.delete(y_train_main_class, -1, axis=1)\n",
    "y_train_sub_class = np.delete(y_train_sub_class, -1, axis=1)\n",
    "y_test_main_class = np.delete(y_test_main_class, -1, axis=1)\n",
    "y_test_sub_class = np.delete(y_test_sub_class, -1, axis=1)"
   ]
  },
  {
   "cell_type": "code",
   "execution_count": 36,
   "metadata": {},
   "outputs": [
    {
     "name": "stdout",
     "output_type": "stream",
     "text": [
      "[426. 122. 525. 118. 298. 245. 319. 336. 428. 179. 562. 240. 420. 252.\n",
      " 249. 320. 372. 367. 134. 356. 557. 162. 196. 347. 233. 454. 523. 357.\n",
      " 140. 521. 404. 113. 378.  76. 172. 505. 157. 572. 515. 312. 348. 303.\n",
      " 438. 366. 112.  68. 332. 188.  65. 452. 126. 443. 242. 354. 315. 427.\n",
      " 343. 456. 137. 549.   7. 422. 530. 229. 560. 407. 567. 155. 329. 185.\n",
      " 101.  97.  20. 153.  54.  30. 334.  49. 100. 425. 284. 358. 316.  56.\n",
      " 144.  60. 194. 341.   6.   8. 568. 391. 208. 264. 489. 345. 333.  38.\n",
      " 230. 403. 272. 306. 293. 344. 575. 424. 163. 124. 154. 399.  59. 285.\n",
      "  48. 541. 570. 468. 310. 516. 243.  55. 171. 469. 181. 158. 246.  34.\n",
      " 409.  18. 330. 466.  51. 219. 556. 278.  52.  74.  26. 173.  92. 167.\n",
      "   4. 554. 392. 446. 482.   5. 141. 340. 135. 437. 476.  22. 220. 524.\n",
      " 120.  81. 400. 571. 561. 555. 160. 564. 238. 350. 402. 195. 191. 116.\n",
      " 382. 490. 164. 106. 417.  63. 105. 429. 565. 496. 355.  93. 408. 479.\n",
      " 493. 198. 145. 150.  39. 527. 362. 253. 339.  69.   2. 221. 539. 146.\n",
      " 289. 241. 353. 447. 114. 322. 412. 176. 507. 168. 376. 474. 503. 385.\n",
      " 136. 546. 254. 517. 338. 547. 467. 255. 232. 133.  33.  88. 290.  44.\n",
      "  61. 199. 406. 552. 401. 379. 218. 302. 297.  73. 295.  35. 380.  29.\n",
      " 475. 453. 460. 309. 548. 217.  27. 449. 389. 156. 445. 457. 138. 212.\n",
      " 104. 462. 458. 464. 215. 512. 189. 214. 531. 204. 234. 259.  67.  24.\n",
      " 381. 216. 300. 432. 223. 129. 504. 111. 166. 267. 207.  40. 274. 470.\n",
      "  79. 416. 506. 327.  13. 287. 326. 121. 251. 228. 463. 161.  83. 117.\n",
      " 374. 421.  25. 110. 149. 413. 152.  16. 450. 331. 109. 485. 465. 139.\n",
      " 237. 260. 352. 471. 317. 323. 520. 248. 410. 436. 513.  19. 328. 296.\n",
      " 499. 269. 363. 226. 511.   3. 500. 125. 280. 286.  77. 444. 184. 371.\n",
      " 501. 563. 275. 294. 542. 182.  32.  80. 307. 258.  11. 360. 491.  86.\n",
      " 266.  36. 193.  58.  41. 270. 411.  50. 209. 148. 518. 529. 528. 451.\n",
      " 123. 222. 419.  62. 502. 377. 130. 187.  23. 495. 535.  43. 370. 394.\n",
      "   0. 383. 201. 405. 487. 368. 461. 536.  98. 387. 349. 304. 418. 292.\n",
      " 178. 369. 256.  94. 197.  95. 558. 169. 305. 373. 227. 143. 180. 131.\n",
      "  47. 324. 203.  84. 398.  91.  82. 430. 119. 291.  57. 321. 257. 442.\n",
      "  42. 388. 335. 273. 488.  53. 550. 128.  28. 183. 459. 510. 151. 244.\n",
      " 543. 544. 265. 288. 423. 147. 177.  99. 448. 431. 115.  72. 537. 174.\n",
      "  87. 551. 486. 314. 396. 472.  70. 277.   9. 359. 192. 559.]\n"
     ]
    }
   ],
   "source": [
    "print(label_mainclass_keep_train)"
   ]
  },
  {
   "cell_type": "code",
   "execution_count": 37,
   "metadata": {},
   "outputs": [
    {
     "name": "stdout",
     "output_type": "stream",
     "text": [
      "X_train shape: (460, 50, 300)\n",
      "y_train_main_class shape: (460, 3)\n",
      "y_train_sub_class shape: (460, 12)\n",
      "-----------------------------------------\n",
      "X_test shape: (116, 50, 300)\n",
      "y_test_main_class shape: (116, 3)\n",
      "y_test_sub_class shape: (116, 12)\n"
     ]
    }
   ],
   "source": [
    "print(f'X_train shape: {X_train.shape}')\n",
    "print(f'y_train_main_class shape: {y_train_main_class.shape}')\n",
    "print(f'y_train_sub_class shape: {y_train_sub_class.shape}')\n",
    "print('-----------------------------------------')\n",
    "print(f'X_test shape: {X_test.shape}')\n",
    "print(f'y_test_main_class shape: {y_test_main_class.shape}')\n",
    "print(f'y_test_sub_class shape: {y_test_sub_class.shape}')"
   ]
  },
  {
   "attachments": {},
   "cell_type": "markdown",
   "metadata": {},
   "source": [
    "Converting the data from numpy array to Tensorflow Dataset"
   ]
  },
  {
   "cell_type": "code",
   "execution_count": 38,
   "metadata": {},
   "outputs": [],
   "source": [
    "X_train = tf.convert_to_tensor(X_train, dtype=tf.float32)\n",
    "X_test = tf.convert_to_tensor(X_test, dtype=tf.float32)\n",
    "y_train_main_class = tf.convert_to_tensor(y_train_main_class, dtype=tf.float32)\n",
    "y_test_main_class = tf.convert_to_tensor(y_test_main_class, dtype=tf.float32)\n",
    "y_train_sub_class = tf.convert_to_tensor(y_train_sub_class, dtype=tf.float32)\n",
    "y_test_sub_class = tf.convert_to_tensor(y_test_sub_class, dtype=tf.float32)"
   ]
  },
  {
   "attachments": {},
   "cell_type": "markdown",
   "metadata": {},
   "source": [
    "# **Modeling**"
   ]
  },
  {
   "attachments": {},
   "cell_type": "markdown",
   "metadata": {},
   "source": [
    "## **Import Library**"
   ]
  },
  {
   "cell_type": "code",
   "execution_count": 39,
   "metadata": {},
   "outputs": [],
   "source": [
    "# Train model\n",
    "from keras.callbacks import EarlyStopping\n",
    "from keras.callbacks import ModelCheckpoint\n",
    "from time import time\n",
    "from datetime import timedelta\n",
    "import keras\n",
    "from keras.models import load_model\n",
    "import os\n",
    "\n",
    "from keras.utils import plot_model\n",
    "\n",
    "# Build model\n",
    "from keras.models import Sequential, Model\n",
    "from keras.layers import Embedding, Reshape, Activation, Input, Dense,GRU,Reshape,TimeDistributed,Bidirectional,Dropout,Masking,LSTM, GlobalAveragePooling1D, Conv1D, MaxPooling1D, Flatten,GlobalMaxPooling1D\n",
    "from keras.layers import Concatenate, Lambda, Reshape, RepeatVector,Multiply\n",
    "from keras.optimizers import Adam\n",
    "from keras import backend as K                                                          \n",
    "from keras.callbacks import ModelCheckpoint, TensorBoard\n",
    "\n",
    "# Classifications report\n",
    "from sklearn.metrics import classification_report, confusion_matrix, ConfusionMatrixDisplay ,multilabel_confusion_matrix, accuracy_score"
   ]
  },
  {
   "cell_type": "code",
   "execution_count": 40,
   "metadata": {},
   "outputs": [],
   "source": [
    "max_len = 50\n",
    "word_vector_size = 300\n",
    "main_class_label = ['Pizza', 'Noodle', 'Spaghetti']\n",
    "sub_class_label = {\n",
    "            'Pizza': ['ShrimpCocktail', 'MeatDeluxe', 'MushroomsTomatoes', 'Dipper'],\n",
    "            'Noodle': ['NamTok', 'TomYam', 'EggNoodles', 'Kaolao'],\n",
    "            'Spaghetti': ['Meatball', 'Carbonara', 'Vegetable', 'Seafood']\n",
    "        }"
   ]
  },
  {
   "attachments": {},
   "cell_type": "markdown",
   "metadata": {},
   "source": [
    "## **Baseline Main-Sub Class Model**"
   ]
  },
  {
   "attachments": {},
   "cell_type": "markdown",
   "metadata": {},
   "source": [
    "### **Model Architecture**"
   ]
  },
  {
   "cell_type": "code",
   "execution_count": 41,
   "metadata": {},
   "outputs": [
    {
     "name": "stdout",
     "output_type": "stream",
     "text": [
      "Model: \"model\"\n",
      "__________________________________________________________________________________________________\n",
      " Layer (type)                   Output Shape         Param #     Connected to                     \n",
      "==================================================================================================\n",
      " input_1 (InputLayer)           [(None, 50, 300)]    0           []                               \n",
      "                                                                                                  \n",
      " masking (Masking)              (None, 50, 300)      0           ['input_1[0][0]']                \n",
      "                                                                                                  \n",
      " conv1d (Conv1D)                (None, 48, 32)       28832       ['masking[0][0]']                \n",
      "                                                                                                  \n",
      " bidirectional (Bidirectional)  (None, 48, 64)       16640       ['conv1d[0][0]']                 \n",
      "                                                                                                  \n",
      " dropout (Dropout)              (None, 48, 64)       0           ['bidirectional[0][0]']          \n",
      "                                                                                                  \n",
      " bidirectional_1 (Bidirectional  (None, 48, 64)      24832       ['dropout[0][0]']                \n",
      " )                                                                                                \n",
      "                                                                                                  \n",
      " global_max_pooling1d_1 (Global  (None, 64)          0           ['bidirectional_1[0][0]']        \n",
      " MaxPooling1D)                                                                                    \n",
      "                                                                                                  \n",
      " global_max_pooling1d (GlobalMa  (None, 64)          0           ['dropout[0][0]']                \n",
      " xPooling1D)                                                                                      \n",
      "                                                                                                  \n",
      " dense (Dense)                  (None, 64)           4160        ['global_max_pooling1d_1[0][0]'] \n",
      "                                                                                                  \n",
      " main_class_output (Dense)      (None, 3)            195         ['global_max_pooling1d[0][0]']   \n",
      "                                                                                                  \n",
      " sub_class_output (Dense)       (None, 12)           780         ['dense[0][0]']                  \n",
      "                                                                                                  \n",
      "==================================================================================================\n",
      "Total params: 75,439\n",
      "Trainable params: 75,439\n",
      "Non-trainable params: 0\n",
      "__________________________________________________________________________________________________\n",
      "You must install pydot (`pip install pydot`) and install graphviz (see instructions at https://graphviz.gitlab.io/download/) for plot_model to work.\n"
     ]
    }
   ],
   "source": [
    "input_layer = Input(shape=(max_len, word_vector_size), dtype='float32')\n",
    "masking_layer = Masking(mask_value=0.0)(input_layer)\n",
    "conv1d_layer_1 = Conv1D(filters=32, kernel_size=3, activation='relu')(masking_layer)\n",
    "bi_lstm_layer_1 = Bidirectional(LSTM(32, return_sequences=True))(conv1d_layer_1)\n",
    "dropout_layer_1 = Dropout(0.2)(bi_lstm_layer_1)\n",
    "# Main class output\n",
    "global_max_pooling_layer_1 = GlobalMaxPooling1D()(dropout_layer_1)\n",
    "main_class_output_layer = Dense(len(main_class_label), activation='softmax', name='main_class_output')(global_max_pooling_layer_1)\n",
    "# Sub class output\n",
    "bi_lstm_layer_sub = Bidirectional(LSTM(32, return_sequences=True))(dropout_layer_1)\n",
    "global_max_pooling_layer_sub = GlobalMaxPooling1D()(bi_lstm_layer_sub)\n",
    "dense_layer_sub = Dense(64, activation='relu')(global_max_pooling_layer_sub)\n",
    "sub_class_output_layer = Dense(12, activation='softmax', name='sub_class_output')(dense_layer_sub)\n",
    "\n",
    "# Define the model\n",
    "model_base = Model(inputs=input_layer, outputs=[main_class_output_layer,sub_class_output_layer])\n",
    "         \n",
    "loss = {'main_class_output': 'categorical_crossentropy',\n",
    "         'sub_class_output': 'categorical_crossentropy'}\n",
    "loss_weights = {'main_class_output': 1.0,\n",
    "                'sub_class_output': 1.0}\n",
    "metrics = {'main_class_output': 'accuracy',\n",
    "            'sub_class_output': 'accuracy'}\n",
    "optimizer = Adam(learning_rate=0.001)\n",
    "model_base.compile(optimizer=optimizer, loss=loss, loss_weights=loss_weights, metrics=metrics)\n",
    "model_base.summary()\n",
    "plot_model(model_base, to_file='BaselineModel.png', show_shapes=True, show_layer_names=True)"
   ]
  },
  {
   "attachments": {},
   "cell_type": "markdown",
   "metadata": {},
   "source": [
    "### **Model Training**"
   ]
  },
  {
   "cell_type": "code",
   "execution_count": 42,
   "metadata": {},
   "outputs": [
    {
     "name": "stdout",
     "output_type": "stream",
     "text": [
      "Epoch 1/15\n",
      "115/115 [==============================] - 14s 24ms/step - loss: 3.5450 - main_class_output_loss: 1.0587 - sub_class_output_loss: 2.4863 - main_class_output_accuracy: 0.4239 - sub_class_output_accuracy: 0.1022\n",
      "Epoch 2/15\n",
      "115/115 [==============================] - 2s 21ms/step - loss: 3.0613 - main_class_output_loss: 0.7634 - sub_class_output_loss: 2.2979 - main_class_output_accuracy: 0.7217 - sub_class_output_accuracy: 0.1435\n",
      "Epoch 3/15\n",
      "115/115 [==============================] - 2s 19ms/step - loss: 2.6379 - main_class_output_loss: 0.5970 - sub_class_output_loss: 2.0409 - main_class_output_accuracy: 0.7761 - sub_class_output_accuracy: 0.2174\n",
      "Epoch 4/15\n",
      "115/115 [==============================] - 2s 19ms/step - loss: 2.2814 - main_class_output_loss: 0.4271 - sub_class_output_loss: 1.8543 - main_class_output_accuracy: 0.8261 - sub_class_output_accuracy: 0.2609\n",
      "Epoch 5/15\n",
      "115/115 [==============================] - 2s 17ms/step - loss: 1.9740 - main_class_output_loss: 0.3047 - sub_class_output_loss: 1.6693 - main_class_output_accuracy: 0.9043 - sub_class_output_accuracy: 0.3022\n",
      "Epoch 6/15\n",
      "115/115 [==============================] - 2s 17ms/step - loss: 1.6526 - main_class_output_loss: 0.1595 - sub_class_output_loss: 1.4930 - main_class_output_accuracy: 0.9587 - sub_class_output_accuracy: 0.3413\n",
      "Epoch 7/15\n",
      "115/115 [==============================] - 2s 18ms/step - loss: 1.5785 - main_class_output_loss: 0.1425 - sub_class_output_loss: 1.4360 - main_class_output_accuracy: 0.9522 - sub_class_output_accuracy: 0.3935\n",
      "Epoch 8/15\n",
      "115/115 [==============================] - 2s 19ms/step - loss: 1.3894 - main_class_output_loss: 0.0914 - sub_class_output_loss: 1.2979 - main_class_output_accuracy: 0.9652 - sub_class_output_accuracy: 0.4370\n",
      "Epoch 9/15\n",
      "115/115 [==============================] - 2s 19ms/step - loss: 1.2692 - main_class_output_loss: 0.0874 - sub_class_output_loss: 1.1819 - main_class_output_accuracy: 0.9739 - sub_class_output_accuracy: 0.5174\n",
      "Epoch 10/15\n",
      "115/115 [==============================] - 2s 20ms/step - loss: 1.1055 - main_class_output_loss: 0.0621 - sub_class_output_loss: 1.0434 - main_class_output_accuracy: 0.9804 - sub_class_output_accuracy: 0.5761\n",
      "Epoch 11/15\n",
      "115/115 [==============================] - 2s 20ms/step - loss: 0.9285 - main_class_output_loss: 0.0399 - sub_class_output_loss: 0.8886 - main_class_output_accuracy: 0.9978 - sub_class_output_accuracy: 0.6413\n",
      "Epoch 12/15\n",
      "115/115 [==============================] - 2s 19ms/step - loss: 0.7604 - main_class_output_loss: 0.0334 - sub_class_output_loss: 0.7270 - main_class_output_accuracy: 1.0000 - sub_class_output_accuracy: 0.7283\n",
      "Epoch 13/15\n",
      "115/115 [==============================] - 2s 17ms/step - loss: 0.6443 - main_class_output_loss: 0.0334 - sub_class_output_loss: 0.6109 - main_class_output_accuracy: 1.0000 - sub_class_output_accuracy: 0.7804\n",
      "Epoch 14/15\n",
      "115/115 [==============================] - 2s 19ms/step - loss: 0.5934 - main_class_output_loss: 0.0293 - sub_class_output_loss: 0.5640 - main_class_output_accuracy: 1.0000 - sub_class_output_accuracy: 0.8130\n",
      "Epoch 15/15\n",
      "115/115 [==============================] - 2s 19ms/step - loss: 0.5801 - main_class_output_loss: 0.0586 - sub_class_output_loss: 0.5215 - main_class_output_accuracy: 0.9913 - sub_class_output_accuracy: 0.7957\n"
     ]
    },
    {
     "data": {
      "text/plain": [
       "<keras.callbacks.History at 0x272b28095e0>"
      ]
     },
     "execution_count": 42,
     "metadata": {},
     "output_type": "execute_result"
    }
   ],
   "source": [
    "model_base.fit(\n",
    "    x = X_train,\n",
    "    y = {'main_class_output': y_train_main_class,\n",
    "         'sub_class_output': y_train_sub_class},\n",
    "    epochs = 15,\n",
    "    batch_size = 4,\n",
    "    verbose = 1,\n",
    "    )"
   ]
  },
  {
   "attachments": {},
   "cell_type": "markdown",
   "metadata": {},
   "source": [
    "### **Model Evaluation**"
   ]
  },
  {
   "cell_type": "code",
   "execution_count": 43,
   "metadata": {},
   "outputs": [
    {
     "name": "stdout",
     "output_type": "stream",
     "text": [
      "4/4 [==============================] - 1s 9ms/step\n"
     ]
    }
   ],
   "source": [
    "pred = model_base.predict(X_test)"
   ]
  },
  {
   "cell_type": "code",
   "execution_count": 44,
   "metadata": {},
   "outputs": [
    {
     "name": "stdout",
     "output_type": "stream",
     "text": [
      "Length of pred: 2\n",
      "Shape of pred[0]: (116, 3)\n",
      "Shape of pred[1]: (116, 12)\n"
     ]
    }
   ],
   "source": [
    "print(f'Length of pred: {len(pred)}')\n",
    "print(f'Shape of pred[0]: {pred[0].shape}')\n",
    "print(f'Shape of pred[1]: {pred[1].shape}')"
   ]
  },
  {
   "attachments": {},
   "cell_type": "markdown",
   "metadata": {},
   "source": [
    "#### **Main Class result**"
   ]
  },
  {
   "cell_type": "code",
   "execution_count": 45,
   "metadata": {},
   "outputs": [
    {
     "name": "stdout",
     "output_type": "stream",
     "text": [
      "              precision    recall  f1-score   support\n",
      "\n",
      "           0       0.64      0.91      0.75        33\n",
      "           1       0.90      0.68      0.77        40\n",
      "           2       0.79      0.72      0.76        43\n",
      "\n",
      "    accuracy                           0.76       116\n",
      "   macro avg       0.78      0.77      0.76       116\n",
      "weighted avg       0.79      0.76      0.76       116\n",
      "\n"
     ]
    },
    {
     "data": {
      "text/plain": [
       "<sklearn.metrics._plot.confusion_matrix.ConfusionMatrixDisplay at 0x272b285d4c0>"
      ]
     },
     "execution_count": 45,
     "metadata": {},
     "output_type": "execute_result"
    },
    {
     "data": {
      "image/png": "[encoded data removed]",
      "text/plain": [
       "<Figure size 640x480 with 2 Axes>"
      ]
     },
     "metadata": {},
     "output_type": "display_data"
    }
   ],
   "source": [
    "pred_main_class = np.argmax(pred[0], axis=1)\n",
    "print(classification_report(np.argmax(y_test_main_class, axis=1), pred_main_class))\n",
    "# plot confusion matrix\n",
    "cm = confusion_matrix(np.argmax(y_test_main_class, axis=1), pred_main_class)\n",
    "disp = ConfusionMatrixDisplay(confusion_matrix=cm, display_labels=['0', '1', '2'])\n",
    "disp.plot()"
   ]
  },
  {
   "cell_type": "code",
   "execution_count": 55,
   "metadata": {},
   "outputs": [
    {
     "name": "stdout",
     "output_type": "stream",
     "text": [
      "[236.0, 497.0, 526.0, 498.0, 263.0, 37.0, 337.0, 478.0, 439.0, 276.0, 522.0, 484.0, 279.0, 15.0, 361.0, 351.0, 17.0, 271.0, 281.0, 375.0, 440.0, 533.0, 390.0, 282.0, 299.0, 261.0, 508.0, 397.0]\n",
      "------------------------------\n",
      "[0, 0, 0, 1, 0, 2, 0, 0, 0, 2, 0, 1, 0, 2, 0, 0, 2, 0, 2, 0, 0, 0, 0, 2, 2, 2, 0, 1]\n"
     ]
    }
   ],
   "source": [
    "true_index = []     # เก็บ index ที่ทำนายถูกต้อง\n",
    "for i in range(len(np.argmax(y_test_main_class, axis=1))):\n",
    "    if np.argmax(y_test_main_class, axis=1)[i] == pred_main_class[i]:\n",
    "        true_index.append(i)\n",
    "\n",
    "false_main_label_baseline = []        # เก็บ index label ที่ทำนายผิด เพื่อเอา index นี้ไปหาประโยคที่ทำนายผิดใน excel\n",
    "what_pred = []\n",
    "for j in range(len(label_mainclass_keep_test)):\n",
    "    if j not in true_index:\n",
    "        false_main_label_baseline.append(label_mainclass_keep_test[j])\n",
    "        what_pred.append(np.argmax(pred[0], axis=1)[j])\n",
    "\n",
    "print(false_main_label_baseline)\n",
    "print('------------------------------')\n",
    "print(what_pred)"
   ]
  },
  {
   "attachments": {},
   "cell_type": "markdown",
   "metadata": {},
   "source": [
    "ตัวอย่างประโยคที่โมเดล Baseline ทำนายหมวดหมู่หลักผิด\n",
    "- อยากกินก๋วยเตี๋ยวที่ใส่เนื้อ เพราะเราเป็นคนไม่กินหมูพอจะมีอะไรแนะนำมั้ย | ทำนาย ก๋วยเตี๋ยว เป็น พิซซ่า\n",
    "- อาหารที่มีส่วนผสมคือไข่และซีสหอม ๆ กับครีมซอสที่เข้มข้นน่ากินมาก | ทำนาย สปาเกตตี เป็น พิซซ่า\n",
    "- อยากได้เมนูที่มีแป้ง และก็มีผักเยอะๆ ที่เคี้ยวง่ายๆ ไม่ต้องออกแรงเยอะ | ทำนาย สปาเกตตี เป็น พิซซ่า\n",
    "- อยากได้ความเค็มกับความเหนียวของเนื่อกินคู้กับเส้น และซอสที่ทำจากมะเขือเทศ | ทำนาย สปาเกตตี เป็น ก๋วยเตี๋ยว\n",
    "- พิซซ่าที่เราสามารถลองซอสพิซซ่าได้มากถึง 4 ซอสสูตรเด็ดภายในพิซซ่าตัวนี้ได้เลย | ทำนาย พิซซ่า เป็น ก๋วยเตี๋ยว\n",
    "- อยากกินอาหารทะเล ประเภทแป้งที่เป็นเส้น มีความเหนียวหนึบ อาจจะมีซอสซีฟู๊ดเป็นเครื่องเคียงด้วย | ทำนาย สปาเกตตี เป็น ก๋วยเตี๋ยว\n",
    "- พิซซ่าที่มีกุ้ง เห็ด  สับปะรด มันชื่อว่าพิซซ่าอะไร | ทำนาย พิซซ่า เป็น ก๋วยเตี๋ยว\n",
    "- สามารถหาซื้อได้จากร้านสะดวกซื้อร้านอาหารทั่วไป มีแป้งและไขมันเยอะ และโปรตีนเล็กน้อย | ทำนาย สปาเกตตี เป็น พิซซ่า\n",
    "- อยากกินเบคอน บาร์บีคิว ชิกเก้น และเป๊ปเปอโรนี ขอเป็นอาหารแป้งๆ ร้อนๆ และกินง่ายๆ ใช้มือกินได้ เป็นอาหารต่างประเทศด้วย | ทำนาย พิซซ่า เป็น สปาเกตตี\n",
    "- อยากกินสปาเกตตีผัก | ทำนาย สปาเกตตี เป็น ก๋วยเตี๋ยว\n",
    "- อยากอาหารที่เป็นเส้นรสชาติเปรี้ยวๆ เผ็ดๆ | ทำนาย ก๋วยเตี๋ยว เป็น สปาเกตตี\n",
    "- ฉันเป็นคนที่ไม่ค่อยกินเนื้อสัตว์เท่าไหร่มีสปาเกตตีอะไรที่แนะนำฉันมั้ย | ทำนาย สปาเกตตี เป็น พิซซ่า\n",
    "\n",
    "สามารถสรุปได้ดังนี้\n",
    "- ส่วนมากประโยคที่ทายผิดจะมีชื่อของหมวดหมู่หลักอยู่ในประโยค (เช่น พิซซ่า, ก๋วยเตี๋ยว, เเละสปาเกตตี)\n",
    "- บางประโยคไม่ได้ลงรายละเอียดที่สำคัญและมีความกำกวม เช่น 'อยากได้เมนูที่มีแป้ง และก็มีผักเยอะๆ ที่เคี้ยวง่ายๆ ไม่ต้องออกแรงเยอะ' หรือ 'สามารถหาซื้อได้จากร้านสะดวกซื้อร้านอาหารทั่วไป มีแป้งและไขมันเยอะ และโปรตีนเล็กน้อย' ที่ไม่ได้ลงรายละเอียดว่าเป็นเส้นหรือไม่ มีเเค่บอกว่าเป็นเเป้ง (ซึ่งทั้งสามหมวดหมู่หลักล้วนเป็นเเป้ง) ทำให้โมเดลสับสนระหว่างสปาเกตตีกับพิซซ่า"
   ]
  },
  {
   "attachments": {},
   "cell_type": "markdown",
   "metadata": {},
   "source": [
    "#### **Sub Class result**"
   ]
  },
  {
   "cell_type": "code",
   "execution_count": 57,
   "metadata": {},
   "outputs": [
    {
     "name": "stdout",
     "output_type": "stream",
     "text": [
      "              precision    recall  f1-score   support\n",
      "\n",
      "           0       0.33      0.36      0.35        11\n",
      "           1       1.00      0.12      0.22         8\n",
      "           2       0.23      0.38      0.29         8\n",
      "           3       0.25      0.83      0.38         6\n",
      "           4       0.33      0.15      0.21        13\n",
      "           5       0.33      0.08      0.13        12\n",
      "           6       0.28      0.71      0.40         7\n",
      "           7       0.60      0.38      0.46         8\n",
      "           8       0.33      0.50      0.40         8\n",
      "           9       0.43      0.30      0.35        10\n",
      "          10       0.67      0.43      0.52        14\n",
      "          11       0.40      0.36      0.38        11\n",
      "\n",
      "    accuracy                           0.35       116\n",
      "   macro avg       0.43      0.38      0.34       116\n",
      "weighted avg       0.44      0.35      0.34       116\n",
      "\n"
     ]
    },
    {
     "data": {
      "text/plain": [
       "<sklearn.metrics._plot.confusion_matrix.ConfusionMatrixDisplay at 0x2732db4f790>"
      ]
     },
     "execution_count": 57,
     "metadata": {},
     "output_type": "execute_result"
    },
    {
     "data": {
      "image/png": "[encoded data removed]",
      "text/plain": [
       "<Figure size 640x480 with 2 Axes>"
      ]
     },
     "metadata": {},
     "output_type": "display_data"
    }
   ],
   "source": [
    "pred_sub_class = np.argmax(pred[1], axis=1)\n",
    "print(classification_report(np.argmax(y_test_sub_class, axis=1), pred_sub_class,zero_division=0))\n",
    "# plot confusion matrix\n",
    "cm = confusion_matrix(np.argmax(y_test_sub_class, axis=1), pred_sub_class)\n",
    "disp = ConfusionMatrixDisplay(confusion_matrix=cm, display_labels=['0', '1', '2', '3', '4', '5', '6', '7', '8', '9','10','11'])\n",
    "disp.plot()"
   ]
  },
  {
   "attachments": {},
   "cell_type": "markdown",
   "metadata": {},
   "source": [
    "<H4>Sub class - Baseline"
   ]
  },
  {
   "cell_type": "code",
   "execution_count": 58,
   "metadata": {},
   "outputs": [
    {
     "name": "stdout",
     "output_type": "stream",
     "text": [
      "[540.0, 236.0, 497.0, 538.0, 211.0, 526.0, 225.0, 498.0, 545.0, 200.0, 263.0, 37.0, 337.0, 478.0, 90.0, 250.0, 31.0, 14.0, 1.0, 364.0, 224.0, 439.0, 395.0, 569.0, 276.0, 202.0, 210.0, 509.0, 132.0, 393.0, 522.0, 107.0, 484.0, 279.0, 64.0, 15.0, 361.0, 239.0, 235.0, 75.0, 268.0, 455.0, 206.0, 66.0, 351.0, 17.0, 271.0, 281.0, 45.0, 473.0, 441.0, 573.0, 375.0, 492.0, 78.0, 186.0, 574.0, 127.0, 247.0, 440.0, 205.0, 533.0, 390.0, 282.0, 299.0, 261.0, 434.0, 301.0, 71.0, 508.0, 102.0, 283.0, 108.0, 397.0, 85.0]\n",
      "------------------------------\n",
      "[10, 3, 3, 9, 6, 0, 6, 6, 8, 6, 4, 8, 3, 0, 8, 6, 3, 2, 3, 4, 6, 2, 5, 2, 11, 7, 6, 9, 3, 9, 2, 0, 5, 2, 0, 9, 3, 6, 6, 2, 4, 11, 6, 3, 3, 8, 3, 2, 2, 11, 10, 10, 2, 8, 0, 8, 8, 3, 6, 3, 7, 3, 0, 11, 11, 11, 8, 4, 0, 3, 0, 6, 3, 6, 2]\n"
     ]
    }
   ],
   "source": [
    "true_index = []     # เก็บ index ที่ทำนายถูกต้อง\n",
    "for i in range(len(np.argmax(y_test_sub_class, axis=1))):\n",
    "    if np.argmax(y_test_sub_class, axis=1)[i] == pred_sub_class[i]:\n",
    "        true_index.append(i)\n",
    "\n",
    "false_sub_label_baseline = []        # เก็บ index label ที่ทำนายผิด เพื่อเอา index นี้ไปหาประโยคที่ทำนายผิดใน excel\n",
    "what_pred = []\n",
    "for j in range(len(label_subclass_keep_test)):\n",
    "    if j not in true_index:\n",
    "        false_sub_label_baseline.append(label_subclass_keep_test[j])\n",
    "        what_pred.append(np.argmax(pred[1], axis=1)[j])\n",
    "\n",
    "print(false_sub_label_baseline)\n",
    "print('------------------------------')\n",
    "print(what_pred)"
   ]
  },
  {
   "attachments": {},
   "cell_type": "markdown",
   "metadata": {},
   "source": [
    "ตัวอย่างประโยคที่โมเดล Baseline ทำนายหมวดหมู่ย่อยผิด\n",
    "- ไปเที่ยวทะเล พอจะหาเมนูที่เกี่ยวกับซีฟู๊ด โดยมีความเป็นอาหารต่างชาติ แต่มีรสชาติเผ็ดแบบไทยๆ พอมีไอเดียหรือไม่ | ทำนาย สปาเกตตีทะเล เป็น สปาเกตตีผัก\n",
    "- อยากกินก๋วยเตี๋ยวที่ใส่เนื้อ เพราะเราเป็นคนไม่กินหมูพอจะมีอะไรแนะนำมั้ย | ทำนาย ก๋วยเตี๋ยวน้ำตก เป็น ดิปเปอร์\n",
    "- อยากได้เมนูที่มีแป้ง และก็มีผักเยอะๆ ที่เคี้ยวง่ายๆ ไม่ต้องออกแรงเยอะ | ทำนาย สปาเกตตีผัก เป็น ค็อกเทลกุ้ง\n",
    "- วันนี้ทำงานค่อนข้างเหนื่อย อยากกินอาหารเบาๆ ไม่หนักแบบพิซซ่า แต่ยังมีความอยากกินชีสอยู่ ไม่เอาพวกเนื้อ | ทำนาย สปาเกตตีผัก เป็น ดิปเปอร์\n",
    "- อาหารที่อร่อยอยู่แล้วมีความกรุบกรอบของกากหมูมีความนุ่มของเนื้อที่ต้มมากับเส้นก๋วยเตี๋ยวเหนียวนุ่มกำลังดี ใส่เลือดสัตว์แล้วต้มให้สุก | ทำนาย ก๋วยเตี๋ยวน้ำตก เป็น บะหมีหมูแดงหมูกรอบ\n",
    "- พิซซ่าที่มีกุ้ง เห็ด  สับปะรด มันชื่อว่าพิซซ่าอะไร | ทำนาย ค็อกเทลกุ้ง เป็น สปาเกตตีมีทบอล\n",
    "- อาหารที่คนออกกำลังกายอยากกินเสร็จผสมด้วยเนื้อสัตว์และเส้นสปาเกตตี | ทำนาย สปาเกตตีมีทบอล เป็น ก๋วยเตี๋ยวต้มยำน้ำใส\n",
    "- ถ้าต้องการอาหารประเภทน้ำที่มีเส้นอยู่ด้วยแล้วให้พลังงานเยอะเพราะมีไขมันกับโปรตีนและคาโบไฮเดรต | ทำนาย บะหมีหมูแดงหมูกรอบ เป็น สปาเกตตีมีทบอล\n",
    "- ต้องการอะไรที่กินง่ายๆ ไม่ต้องเตรียมของมากเน้นเนื้อไม่เน้นผัก | ทำนาย มีทเดอลุกซ์ เป็น เกาเหลา\n",
    "- อยากกินก๋วยเตี๋ยวที่เอามาผสมรวมกันกับอาหารประจำชาติไทย | ทำนาย ก๋วยเตี๋ยวต้มยำน้ำใส เป็น เห็ดและมะเขือเทศ\n",
    "\n",
    "สามารถสรุปได้ดังนี้\n",
    "- การทำนายผิดของโมเดลบางอัน มีผลมาจากการทำนายหมวดหมู่หลัก คือ มีชื่อหมวดหมู่หลักในประโยค\n",
    "- โมเดลยังสามารถทำนายหมวดหมู่ย่อยได้ไม่เเม่นยำนัก เป็นผลมาจากประโยคหลายๆ ประโยคในชุดข้อมูลมีคำที่คล้ายคลึงกัน เช่น 'ถ้าต้องการอาหารประเภทน้ำที่มีเส้นอยู่ด้วยแล้วให้พลังงานเยอะเพราะมีไขมันกับโปรตีนและคาโบไฮเดรต' ในประโยคนี้มีคำว่า เส้น ไขมัน โปรตีน คาโบไฮเดรต ซึ่งในชุดข้อมูลของเมนูอื่นๆ ก็มีคำที่คล้ายกับคำเหล่านี้ อีกทั้งประโยคในชุดข้อมูลอาจจะมีคำที่บ่งบอกถึงลักษณะเฉพาะของเมนูนั้นน้อยไป เช่น ‘อยากได้เมนูที่มีแป้ง และก็มีผักเยอะๆ ที่เคี้ยวง่ายๆ ไม่ต้องออกแรงเยอะ’ ประโยคนี้ไม่สามารถระบุได้ชัดเจนว่าเป็นเมนูใด ทำให้โมเดลมีโอกาสทำนายผิดพลาดสูง"
   ]
  },
  {
   "attachments": {},
   "cell_type": "markdown",
   "metadata": {},
   "source": [
    "## **Modified Main-Sub Class Model**"
   ]
  },
  {
   "attachments": {},
   "cell_type": "markdown",
   "metadata": {},
   "source": [
    "### **Model Architecture**"
   ]
  },
  {
   "cell_type": "code",
   "execution_count": 59,
   "metadata": {},
   "outputs": [],
   "source": [
    "class MainSubclassPrediction(Model):\n",
    "    def __init__(self, max_len, word_vector_size):\n",
    "        super(MainSubclassPrediction, self).__init__()\n",
    "\n",
    "        self.max_len = max_len\n",
    "        self.word_vector_size = word_vector_size\n",
    "        self.main_class_label = ['Pizza', 'Noodle', 'Spaghetti']\n",
    "        self.sub_class_label = {\n",
    "            'Pizza': ['ShrimpCocktail', 'MeatDeluxe', 'MushroomsTomatoes', 'Dipper'],\n",
    "            'Noodle': ['NamTok', 'TomYam', 'EggNoodles', 'Kaolao'],\n",
    "            'Spaghetti': ['Meatball', 'Carbonara', 'Vegetable', 'Seafood']\n",
    "        }\n",
    "        \n",
    "        # Model layers (functional API)\n",
    "        # Main class prediction sub-model\n",
    "        self.main_class_masking_layer = Masking(mask_value=0.0, name='TextMasking')\n",
    "        self.main_class_conv1d_layer_1 = Conv1D(filters=32, kernel_size=3, activation='relu',name='MCConv1d')\n",
    "        self.main_class_bi_lstm_layer_1 = Bidirectional(LSTM(32, return_sequences=True,name= 'MCLSTM'),name='MCBiLSTM')\n",
    "        self.main_class_dropout_layer_1 = Dropout(0.2,name= 'MCDropout')\n",
    "        # Main class prediction layer\n",
    "        self.main_class_global_max_pooling_1d_layer = GlobalMaxPooling1D(name='MCGlobalMaxPooling1D')\n",
    "        self.main_class_output_layer = Dense(len(self.main_class_label), activation='softmax', name='main_class_output')\n",
    "        \n",
    "        # Sub class prediction sub-model\n",
    "        self.sub_class_main_class_input_argmax_layer = Lambda(lambda x: K.argmax(x, axis=-1),name='MCInArgmax')\n",
    "        \n",
    "        ## Sub class of main class 0 ##\n",
    "        # Masking layer of sub class of main class 0\n",
    "        self.sub_class_0_reshape_binary_mask_1 = Reshape((-1,),name='SC0Reshape1')\n",
    "        self.sub_class_0_repeat_binary_mask_1 = RepeatVector(64,name='SC0Repeat1')\n",
    "        self.sub_class_0_reshape_binary_mask_2 = Reshape((64,),name='SC0Reshape2')\n",
    "        self.sub_class_0_repeat_binary_mask_2 = RepeatVector(48,name='SC0Repeat2')\n",
    "        self.sub_class_0_masked_dense_layer = Multiply(name='SC0MaskedDense')\n",
    "        # Trainable sub class of main class 0\n",
    "        self.sub_class_0_bi_lstm_layer_1 = Bidirectional(LSTM(32, return_sequences=True,name='SC0LSTM'),name='SC0BiLSTM')\n",
    "        self.sub_class_0_global_max_pooling_1d_layer = GlobalMaxPooling1D(name='SC0GlobalMaxPooling1D')\n",
    "        self.sub_class_0_dense_layer_1 = Dense(64, activation='relu',name='SC0Dense1')\n",
    "        self.sub_class_0_output_layer = Dense(4, activation='softmax', name='SC0Output')\n",
    "        \n",
    "        ## Sub class of main class 1 ##\n",
    "        # Masking layer of sub class of main class 1\n",
    "        self.sub_class_1_reshape_binary_mask_1 = Reshape((-1,),name='SC1Reshape1')\n",
    "        self.sub_class_1_repeat_binary_mask_1 = RepeatVector(64,name='SC1Repeat1')\n",
    "        self.sub_class_1_reshape_binary_mask_2 = Reshape((64,),name='SC1Reshape2')\n",
    "        self.sub_class_1_repeat_binary_mask_2 = RepeatVector(48,name='SC1Repeat2')\n",
    "        self.sub_class_1_masked_dense_layer = Multiply(name='SC1MaskedDense')\n",
    "        # Trainable sub class of main class 1\n",
    "        self.sub_class_1_bi_lstm_layer_1 = Bidirectional(LSTM(32, return_sequences=True,name='SC1LSTM'),name='SC1BiLSTM')\n",
    "        self.sub_class_1_global_max_pooling_1d_layer = GlobalMaxPooling1D(name='SC1GlobalMaxPooling1D')\n",
    "        self.sub_class_1_dense_layer_1 = Dense(64, activation='relu',name='SC1Dense1')\n",
    "        self.sub_class_1_output_layer = Dense(4, activation='softmax', name='SC1Output')\n",
    "        \n",
    "        ## Sub class of main class 2 ##\n",
    "        # Masking layer of sub class of main class 2\n",
    "        self.sub_class_2_reshape_binary_mask_1 = Reshape((-1,),name='SC2Reshape1')\n",
    "        self.sub_class_2_repeat_binary_mask_1 = RepeatVector(64,name='SC2Repeat1')\n",
    "        self.sub_class_2_reshape_binary_mask_2 = Reshape((64,),name='SC2Reshape2')\n",
    "        self.sub_class_2_repeat_binary_mask_2 = RepeatVector(48,name='SC2Repeat2')\n",
    "        self.sub_class_2_masked_dense_layer = Multiply(name='SC2MaskedDense')\n",
    "        # Trainable sub class of main class 2\n",
    "        self.sub_class_2_bi_lstm_layer_1 = Bidirectional(LSTM(32, return_sequences=True,name='SC2LSTM'),name='SC2BiLSTM')\n",
    "        self.sub_class_2_global_max_pooling_1d_layer = GlobalMaxPooling1D(name='SC2GlobalMaxPooling1D')\n",
    "        self.sub_class_2_dense_layer_1 = Dense(64, activation='relu',name='SC2Dense1')\n",
    "        self.sub_class_2_output_layer = Dense(4, activation='softmax', name='SC2Output')\n",
    "        \n",
    "        # Sub class prediction layer\n",
    "        self.sub_class_concatenate_layer = Concatenate(axis=-1,name = 'sub_class_output')\n",
    "        \n",
    "        # Get Training model\n",
    "        self.training_model = self.get_training_model()\n",
    "        self.main_class_inference_model = self.get_mainclass_inference_model()\n",
    "        self.sub_class_inference_model = self.get_subclass_inference_model()\n",
    "        self.interaction_model = self.get_interaction_model()\n",
    "        \n",
    "    def get_training_model(self):\n",
    "        # Define inputs\n",
    "        text_input_layer  = Input(shape=(self.max_len, self.word_vector_size), dtype='float32', name='text_input_layer')\n",
    "        main_class_input_layer  = Input(shape=(len(self.main_class_label),), dtype='float32', name='main_class_input_layer')\n",
    "        # Define Main class prediction sub-model\n",
    "        masking_layer = self.main_class_masking_layer(text_input_layer)\n",
    "        conv1d_layer_1 = self.main_class_conv1d_layer_1(masking_layer)\n",
    "        bi_lstm_layer_1 = self.main_class_bi_lstm_layer_1(conv1d_layer_1)\n",
    "        # This layer will connect to sub class prediction sub-model\n",
    "        dropout_layer_1 = self.main_class_dropout_layer_1(bi_lstm_layer_1)\n",
    "\n",
    "        # Main class output\n",
    "        global_max_pooling_layer_1 = self.main_class_global_max_pooling_1d_layer(dropout_layer_1)\n",
    "        main_class_output_layer = self.main_class_output_layer(global_max_pooling_layer_1)\n",
    "        \n",
    "        # Define Sub class prediction sub-model\n",
    "        main_class_input_argmax = self.sub_class_main_class_input_argmax_layer(main_class_input_layer)\n",
    "        \n",
    "        # Sub class of main class 0\n",
    "        # Get binary mask of main class 0\n",
    "        subclass_0_binary_mask =  K.cast(K.equal(main_class_input_argmax, 0), dtype='float32')\n",
    "        subclass_0_reshape_binary_mask_1= self.sub_class_0_reshape_binary_mask_1(subclass_0_binary_mask)\n",
    "        subclass_0_repeat_binary_mask_1 = self.sub_class_0_repeat_binary_mask_1(subclass_0_reshape_binary_mask_1)\n",
    "        subclass_0_reshape_binary_mask_2 = self.sub_class_0_reshape_binary_mask_2(subclass_0_repeat_binary_mask_1)\n",
    "        subclass_0_repeat_binary_mask_2 = self.sub_class_0_repeat_binary_mask_2(subclass_0_reshape_binary_mask_2)\n",
    "        # Apply binary mask to dropout layer\n",
    "        subclass_0_masked_dense_layer = self.sub_class_0_masked_dense_layer([dropout_layer_1, subclass_0_repeat_binary_mask_2])\n",
    "        # Sub class of main class 0 prediction\n",
    "        subclass_0_bi_lstm_layer_1 = self.sub_class_0_bi_lstm_layer_1(subclass_0_masked_dense_layer)\n",
    "        subclass_0_global_max_pooling_layer_1 = self.sub_class_0_global_max_pooling_1d_layer(subclass_0_bi_lstm_layer_1)\n",
    "        subclass_0_dense_layer_1 = self.sub_class_0_dense_layer_1(subclass_0_global_max_pooling_layer_1)\n",
    "        # Sub class of main class 0 output\n",
    "        subclass_0_output_layer = self.sub_class_0_output_layer(subclass_0_dense_layer_1)\n",
    "        \n",
    "        # Sub class of main class 1\n",
    "        # Get binary mask of main class 1\n",
    "        subclass_1_binary_mask =  K.cast(K.equal(main_class_input_argmax, 1), dtype='float32')\n",
    "        subclass_1_reshape_binary_mask_1= self.sub_class_1_reshape_binary_mask_1(subclass_1_binary_mask)\n",
    "        subclass_1_repeat_binary_mask_1 = self.sub_class_1_repeat_binary_mask_1(subclass_1_reshape_binary_mask_1)\n",
    "        subclass_1_reshape_binary_mask_2 = self.sub_class_1_reshape_binary_mask_2(subclass_1_repeat_binary_mask_1)\n",
    "        subclass_1_repeat_binary_mask_2 = self.sub_class_1_repeat_binary_mask_2(subclass_1_reshape_binary_mask_2)\n",
    "        # Apply binary mask to dropout layer\n",
    "        subclass_1_masked_dense_layer = self.sub_class_1_masked_dense_layer([dropout_layer_1, subclass_1_repeat_binary_mask_2])\n",
    "        # Sub class of main class 1 prediction\n",
    "        subclass_1_bi_lstm_layer_1 = self.sub_class_1_bi_lstm_layer_1(subclass_1_masked_dense_layer)\n",
    "        subclass_1_global_max_pooling_layer_1 = self.sub_class_1_global_max_pooling_1d_layer(subclass_1_bi_lstm_layer_1)\n",
    "        subclass_1_dense_layer_1 = self.sub_class_1_dense_layer_1(subclass_1_global_max_pooling_layer_1)\n",
    "        # Sub class of main class 1 output\n",
    "        subclass_1_output_layer = self.sub_class_1_output_layer(subclass_1_dense_layer_1)\n",
    "        \n",
    "        # Sub class of main class 2\n",
    "        # Get binary mask of main class 2\n",
    "        subclass_2_binary_mask =  K.cast(K.equal(main_class_input_argmax, 2), dtype='float32')\n",
    "        subclass_2_reshape_binary_mask_1= self.sub_class_2_reshape_binary_mask_1(subclass_2_binary_mask)\n",
    "        subclass_2_repeat_binary_mask_1 = self.sub_class_2_repeat_binary_mask_1(subclass_2_reshape_binary_mask_1)\n",
    "        subclass_2_reshape_binary_mask_2 = self.sub_class_2_reshape_binary_mask_2(subclass_2_repeat_binary_mask_1)\n",
    "        subclass_2_repeat_binary_mask_2 = self.sub_class_2_repeat_binary_mask_2(subclass_2_reshape_binary_mask_2)\n",
    "        # Apply binary mask to dropout layer\n",
    "        subclass_2_masked_dense_layer = self.sub_class_2_masked_dense_layer([dropout_layer_1, subclass_2_repeat_binary_mask_2])\n",
    "        # Sub class of main class 2 prediction\n",
    "        subclass_2_bi_lstm_layer_1 = self.sub_class_2_bi_lstm_layer_1(subclass_2_masked_dense_layer)\n",
    "        subclass_2_global_max_pooling_layer_1 = self.sub_class_2_global_max_pooling_1d_layer(subclass_2_bi_lstm_layer_1)\n",
    "        subclass_2_dense_layer_1 = self.sub_class_2_dense_layer_1(subclass_2_global_max_pooling_layer_1)\n",
    "        # Sub class of main class 2 output\n",
    "        subclass_2_output_layer = self.sub_class_2_output_layer(subclass_2_dense_layer_1)\n",
    "        \n",
    "        # Concatenate all outputs\n",
    "        concat_layer = self.sub_class_concatenate_layer([subclass_0_output_layer, subclass_1_output_layer, subclass_2_output_layer])\n",
    "        \n",
    "        # Define model\n",
    "        model = Model(inputs=[text_input_layer, main_class_input_layer], outputs=[main_class_output_layer,concat_layer])\n",
    "        loss = {'main_class_output': 'categorical_crossentropy',\n",
    "                'sub_class_output': 'categorical_crossentropy'}\n",
    "        loss_weights = {'main_class_output': 1.0,\n",
    "                        'sub_class_output': 1.0}\n",
    "        metrics = {'main_class_output': 'accuracy',\n",
    "                    'sub_class_output': 'accuracy'}\n",
    "        optimizer = Adam(learning_rate=0.001)\n",
    "        model.compile(optimizer=optimizer, loss=loss, loss_weights=loss_weights, metrics=metrics)\n",
    "        return model\n",
    "    \n",
    "    def get_interaction_model(self):\n",
    "        # Define inputs\n",
    "        text_input_layer  = Input(shape=(self.max_len, self.word_vector_size), dtype='float32', name='text_input_layer')\n",
    "        main_class_input_layer  = Input(shape=(len(self.main_class_label),), dtype='float32', name='main_class_input_layer')\n",
    "        # Define Main class prediction sub-model\n",
    "        masking_layer = self.main_class_masking_layer(text_input_layer)\n",
    "        conv1d_layer_1 = self.main_class_conv1d_layer_1(masking_layer)\n",
    "        bi_lstm_layer_1 = self.main_class_bi_lstm_layer_1(conv1d_layer_1)\n",
    "        # This layer will connect to sub class prediction sub-model\n",
    "        dropout_layer_1 = self.main_class_dropout_layer_1(bi_lstm_layer_1)\n",
    "        \n",
    "        # Define Sub class prediction sub-model\n",
    "        main_class_input_argmax = self.sub_class_main_class_input_argmax_layer(main_class_input_layer)\n",
    "        \n",
    "        # Sub class of main class 0\n",
    "        # Get binary mask of main class 0\n",
    "        subclass_0_binary_mask =  K.cast(K.equal(main_class_input_argmax, 0), dtype='float32')\n",
    "        subclass_0_reshape_binary_mask_1= self.sub_class_0_reshape_binary_mask_1(subclass_0_binary_mask)\n",
    "        subclass_0_repeat_binary_mask_1 = self.sub_class_0_repeat_binary_mask_1(subclass_0_reshape_binary_mask_1)\n",
    "        subclass_0_reshape_binary_mask_2 = self.sub_class_0_reshape_binary_mask_2(subclass_0_repeat_binary_mask_1)\n",
    "        subclass_0_repeat_binary_mask_2 = self.sub_class_0_repeat_binary_mask_2(subclass_0_reshape_binary_mask_2)\n",
    "        # Apply binary mask to dropout layer\n",
    "        subclass_0_masked_dense_layer = self.sub_class_0_masked_dense_layer([dropout_layer_1, subclass_0_repeat_binary_mask_2])\n",
    "        # Sub class of main class 0 prediction\n",
    "        subclass_0_bi_lstm_layer_1 = self.sub_class_0_bi_lstm_layer_1(subclass_0_masked_dense_layer)\n",
    "        subclass_0_global_max_pooling_layer_1 = self.sub_class_0_global_max_pooling_1d_layer(subclass_0_bi_lstm_layer_1)\n",
    "        subclass_0_dense_layer_1 = self.sub_class_0_dense_layer_1(subclass_0_global_max_pooling_layer_1)\n",
    "        # Sub class of main class 0 output\n",
    "        subclass_0_output_layer = self.sub_class_0_output_layer(subclass_0_dense_layer_1)\n",
    "        \n",
    "        # Sub class of main class 1\n",
    "        # Get binary mask of main class 1\n",
    "        subclass_1_binary_mask =  K.cast(K.equal(main_class_input_argmax, 1), dtype='float32')\n",
    "        subclass_1_reshape_binary_mask_1= self.sub_class_1_reshape_binary_mask_1(subclass_1_binary_mask)\n",
    "        subclass_1_repeat_binary_mask_1 = self.sub_class_1_repeat_binary_mask_1(subclass_1_reshape_binary_mask_1)\n",
    "        subclass_1_reshape_binary_mask_2 = self.sub_class_1_reshape_binary_mask_2(subclass_1_repeat_binary_mask_1)\n",
    "        subclass_1_repeat_binary_mask_2 = self.sub_class_1_repeat_binary_mask_2(subclass_1_reshape_binary_mask_2)\n",
    "        # Apply binary mask to dropout layer\n",
    "        subclass_1_masked_dense_layer = self.sub_class_1_masked_dense_layer([dropout_layer_1, subclass_1_repeat_binary_mask_2])\n",
    "        # Sub class of main class 1 prediction\n",
    "        subclass_1_bi_lstm_layer_1 = self.sub_class_1_bi_lstm_layer_1(subclass_1_masked_dense_layer)\n",
    "        subclass_1_global_max_pooling_layer_1 = self.sub_class_1_global_max_pooling_1d_layer(subclass_1_bi_lstm_layer_1)\n",
    "        subclass_1_dense_layer_1 = self.sub_class_1_dense_layer_1(subclass_1_global_max_pooling_layer_1)\n",
    "        # Sub class of main class 1 output\n",
    "        subclass_1_output_layer = self.sub_class_1_output_layer(subclass_1_dense_layer_1)\n",
    "        \n",
    "        # Sub class of main class 2\n",
    "        # Get binary mask of main class 2\n",
    "        subclass_2_binary_mask =  K.cast(K.equal(main_class_input_argmax, 2), dtype='float32')\n",
    "        subclass_2_reshape_binary_mask_1= self.sub_class_2_reshape_binary_mask_1(subclass_2_binary_mask)\n",
    "        subclass_2_repeat_binary_mask_1 = self.sub_class_2_repeat_binary_mask_1(subclass_2_reshape_binary_mask_1)\n",
    "        subclass_2_reshape_binary_mask_2 = self.sub_class_2_reshape_binary_mask_2(subclass_2_repeat_binary_mask_1)\n",
    "        subclass_2_repeat_binary_mask_2 = self.sub_class_2_repeat_binary_mask_2(subclass_2_reshape_binary_mask_2)\n",
    "        # Apply binary mask to dropout layer\n",
    "        subclass_2_masked_dense_layer = self.sub_class_2_masked_dense_layer([dropout_layer_1, subclass_2_repeat_binary_mask_2])\n",
    "        # Sub class of main class 2 prediction\n",
    "        subclass_2_bi_lstm_layer_1 = self.sub_class_2_bi_lstm_layer_1(subclass_2_masked_dense_layer)\n",
    "        subclass_2_global_max_pooling_layer_1 = self.sub_class_2_global_max_pooling_1d_layer(subclass_2_bi_lstm_layer_1)\n",
    "        subclass_2_dense_layer_1 = self.sub_class_2_dense_layer_1(subclass_2_global_max_pooling_layer_1)\n",
    "        # Sub class of main class 2 output\n",
    "        subclass_2_output_layer = self.sub_class_2_output_layer(subclass_2_dense_layer_1)\n",
    "        \n",
    "        # Concatenate all outputs\n",
    "        concat_layer = self.sub_class_concatenate_layer([subclass_0_output_layer, subclass_1_output_layer, subclass_2_output_layer])\n",
    "        \n",
    "        # Define model\n",
    "        model = Model(inputs=[text_input_layer, main_class_input_layer], outputs=[concat_layer])\n",
    "        return model\n",
    "    \n",
    "    def get_subclass_inference_model(self):\n",
    "        # Define inputs\n",
    "        text_input_layer  = Input(shape=(self.max_len, self.word_vector_size), dtype='float32', name='text_input_layer')\n",
    "        # Define layers\n",
    "        masking_layer = self.main_class_masking_layer(text_input_layer)\n",
    "        conv1d_layer_1 = self.main_class_conv1d_layer_1(masking_layer)\n",
    "        bi_lstm_layer_1 = self.main_class_bi_lstm_layer_1(conv1d_layer_1)\n",
    "        dropout_layer_1 = self.main_class_dropout_layer_1(bi_lstm_layer_1)\n",
    "        # Main class prediction\n",
    "        global_max_pooling_layer_1 = self.main_class_global_max_pooling_1d_layer(dropout_layer_1)\n",
    "        main_class_output_layer = self.main_class_output_layer(global_max_pooling_layer_1)\n",
    "        \n",
    "        ## Get binary mask of main class from main class prediction ##\n",
    "        main_class_pred_argmax = K.argmax(main_class_output_layer, axis=1)\n",
    "        \n",
    "        # Sub class of main class 0\n",
    "        # Get binary mask of main class 0\n",
    "        subclass_0_binary_mask =  K.cast(K.equal(main_class_pred_argmax, 0), dtype='float32')\n",
    "        subclass_0_reshape_binary_mask_1= self.sub_class_0_reshape_binary_mask_1(subclass_0_binary_mask)\n",
    "        subclass_0_repeat_binary_mask_1 = self.sub_class_0_repeat_binary_mask_1(subclass_0_reshape_binary_mask_1)\n",
    "        subclass_0_reshape_binary_mask_2 = self.sub_class_0_reshape_binary_mask_2(subclass_0_repeat_binary_mask_1)\n",
    "        subclass_0_repeat_binary_mask_2 = self.sub_class_0_repeat_binary_mask_2(subclass_0_reshape_binary_mask_2)\n",
    "        # Apply binary mask to dropout layer\n",
    "        subclass_0_masked_dense_layer = self.sub_class_0_masked_dense_layer([dropout_layer_1, subclass_0_repeat_binary_mask_2])\n",
    "        # Sub class of main class 0 prediction\n",
    "        subclass_0_bi_lstm_layer_1 = self.sub_class_0_bi_lstm_layer_1(subclass_0_masked_dense_layer)\n",
    "        subclass_0_global_max_pooling_layer_1 = self.sub_class_0_global_max_pooling_1d_layer(subclass_0_bi_lstm_layer_1)\n",
    "        subclass_0_dense_layer_1 = self.sub_class_0_dense_layer_1(subclass_0_global_max_pooling_layer_1)\n",
    "        # Sub class of main class 0 output\n",
    "        subclass_0_output_layer = self.sub_class_0_output_layer(subclass_0_dense_layer_1)\n",
    "        \n",
    "        # Sub class of main class 1\n",
    "        # Get binary mask of main class 1\n",
    "        subclass_1_binary_mask =  K.cast(K.equal(main_class_pred_argmax, 1), dtype='float32')\n",
    "        subclass_1_reshape_binary_mask_1= self.sub_class_1_reshape_binary_mask_1(subclass_1_binary_mask)\n",
    "        subclass_1_repeat_binary_mask_1 = self.sub_class_1_repeat_binary_mask_1(subclass_1_reshape_binary_mask_1)\n",
    "        subclass_1_reshape_binary_mask_2 = self.sub_class_1_reshape_binary_mask_2(subclass_1_repeat_binary_mask_1)\n",
    "        subclass_1_repeat_binary_mask_2 = self.sub_class_1_repeat_binary_mask_2(subclass_1_reshape_binary_mask_2)\n",
    "        # Apply binary mask to dropout layer\n",
    "        subclass_1_masked_dense_layer = self.sub_class_1_masked_dense_layer([dropout_layer_1, subclass_1_repeat_binary_mask_2])\n",
    "        # Sub class of main class 1 prediction\n",
    "        subclass_1_bi_lstm_layer_1 = self.sub_class_1_bi_lstm_layer_1(subclass_1_masked_dense_layer)\n",
    "        subclass_1_global_max_pooling_layer_1 = self.sub_class_1_global_max_pooling_1d_layer(subclass_1_bi_lstm_layer_1)\n",
    "        subclass_1_dense_layer_1 = self.sub_class_1_dense_layer_1(subclass_1_global_max_pooling_layer_1)\n",
    "        # Sub class of main class 1 output\n",
    "        subclass_1_output_layer = self.sub_class_1_output_layer(subclass_1_dense_layer_1)\n",
    "        \n",
    "        # Sub class of main class 2\n",
    "        # Get binary mask of main class 2\n",
    "        subclass_2_binary_mask =  K.cast(K.equal(main_class_pred_argmax, 2), dtype='float32')\n",
    "        subclass_2_reshape_binary_mask_1= self.sub_class_2_reshape_binary_mask_1(subclass_2_binary_mask)\n",
    "        subclass_2_repeat_binary_mask_1 = self.sub_class_2_repeat_binary_mask_1(subclass_2_reshape_binary_mask_1)\n",
    "        subclass_2_reshape_binary_mask_2 = self.sub_class_2_reshape_binary_mask_2(subclass_2_repeat_binary_mask_1)\n",
    "        subclass_2_repeat_binary_mask_2 = self.sub_class_2_repeat_binary_mask_2(subclass_2_reshape_binary_mask_2)\n",
    "        # Apply binary mask to dropout layer\n",
    "        subclass_2_masked_dense_layer = self.sub_class_2_masked_dense_layer([dropout_layer_1, subclass_2_repeat_binary_mask_2])\n",
    "        # Sub class of main class 2 prediction\n",
    "        subclass_2_bi_lstm_layer_1 = self.sub_class_2_bi_lstm_layer_1(subclass_2_masked_dense_layer)\n",
    "        subclass_2_global_max_pooling_layer_1 = self.sub_class_2_global_max_pooling_1d_layer(subclass_2_bi_lstm_layer_1)\n",
    "        subclass_2_dense_layer_1 = self.sub_class_2_dense_layer_1(subclass_2_global_max_pooling_layer_1)\n",
    "        # Sub class of main class 2 output\n",
    "        subclass_2_output_layer = self.sub_class_2_output_layer(subclass_2_dense_layer_1)\n",
    "        \n",
    "        # Concatenate all outputs\n",
    "        concat_layer = self.sub_class_concatenate_layer([subclass_0_output_layer, subclass_1_output_layer, subclass_2_output_layer])\n",
    "        \n",
    "        # Define model\n",
    "        model = Model(inputs=[text_input_layer], outputs=[concat_layer],name='sub_class_inference_model')\n",
    "        return model\n",
    "        \n",
    "\n",
    "    def get_mainclass_inference_model(self):\n",
    "        # Define inputs\n",
    "        text_input_layer  = Input(shape=(self.max_len, self.word_vector_size), dtype='float32', name='text_input_layer')\n",
    "        # Define layers\n",
    "        masking_layer = self.main_class_masking_layer(text_input_layer)\n",
    "        conv1d_layer_1 = self.main_class_conv1d_layer_1(masking_layer)\n",
    "        bi_lstm_layer_1 = self.main_class_bi_lstm_layer_1(conv1d_layer_1)\n",
    "        dropout_layer_1 = self.main_class_dropout_layer_1(bi_lstm_layer_1)\n",
    "        # Main class output\n",
    "        global_max_pooling_layer_1 = self.main_class_global_max_pooling_1d_layer(dropout_layer_1)\n",
    "        main_class_output_layer = self.main_class_output_layer(global_max_pooling_layer_1)\n",
    "        # Main class inference model\n",
    "        main_class_inference_model = Model(inputs=text_input_layer, outputs=main_class_output_layer, name='main_class_inference_model')\n",
    "        return main_class_inference_model\n",
    "    \n",
    "    def training_model_train(self, train_data, epochs, batch_size, validation_data=None, model_path=None):\n",
    "        [X_text_train, x_main_class_train], [y_main_class_train, y_sub_class_train] = train_data\n",
    "        if validation_data is not None:\n",
    "            [X_text_val, x_main_class_val], [y_main_class_val, y_sub_class_val] = validation_data\n",
    "            self.training_model.fit(x={'text_input_layer': X_text_train,\n",
    "                              'main_class_input_layer': x_main_class_train},\n",
    "                            y={'main_class_output': y_main_class_train,\n",
    "                                'sub_class_output': y_sub_class_train},\n",
    "                            validation_data=({'text_input_layer': X_text_val,\n",
    "                                              'main_class_input_layer': x_main_class_val},\n",
    "                                                {'main_class_output': y_main_class_val,\n",
    "                                                'sub_class_output': y_sub_class_val}),\n",
    "                            epochs=epochs,\n",
    "                            batch_size=batch_size)\n",
    "        else:\n",
    "            self.training_model.fit(x={'text_input_layer': X_text_train,\n",
    "                             'main_class_input_layer': x_main_class_train},\n",
    "                            y={'main_class_output': y_main_class_train,\n",
    "                                'sub_class_output': y_sub_class_train},\n",
    "                            epochs=epochs,\n",
    "                            batch_size=batch_size)\n",
    "\n",
    "        if model_path is not None:\n",
    "            self.training_model.save(model_path)\n",
    "        \n",
    "        # Update inference model\n",
    "        self.main_class_inference_model = self.get_mainclass_inference_model()\n",
    "        self.sub_class_inference_model = self.get_subclass_inference_model()\n",
    "        self.interaction_model = self.get_interaction_model()\n",
    "\n",
    "    def predict_with_main_label(self, X_text, X_main_class):\n",
    "        pred_main, pred_sub = self.training_model.predict({'text_input_layer': X_text, 'main_class_input_layer': X_main_class})\n",
    "        pred_main = np.argmax(pred_main, axis=1)\n",
    "        pred_sub = np.argmax(pred_sub, axis=1)\n",
    "        return pred_main, pred_sub\n",
    "    \n",
    "    def predict_subclass(self, X_text):\n",
    "        pred_sub = self.sub_class_inference_model.predict(X_text)\n",
    "        pred_sub = np.argmax(pred_sub, axis=1)\n",
    "        return pred_sub\n",
    "    \n",
    "    def predict_mainclass(self, X_text):\n",
    "        pred_main = self.main_class_inference_model.predict(X_text)\n",
    "        pred_main = np.argmax(pred_main, axis=1)\n",
    "        return pred_main\n",
    "    \n",
    "    def predict_interaction(self, X_text, X_main_class):\n",
    "        pred_interaction = self.interaction_model.predict({'text_input_layer': X_text, 'main_class_input_layer': X_main_class})\n",
    "        pred_interaction = np.argmax(pred_interaction, axis=1)\n",
    "        return pred_interaction\n",
    "    \n",
    "    def plot_result_mainclass(self, Y_true, Y_pred):\n",
    "        # Get label names\n",
    "        main_class_label = self.main_class_label\n",
    "        # Print classification report\n",
    "        print(f'Classification report for main class:\\n{classification_report(Y_true, Y_pred,target_names=main_class_label,zero_division=1)}')\n",
    "        # PLot confusion matrix\n",
    "        plt.figure(figsize=(10,10))\n",
    "        cm_main = confusion_matrix(Y_true, Y_pred)\n",
    "        disp_main = ConfusionMatrixDisplay(confusion_matrix=cm_main, display_labels=main_class_label)\n",
    "        disp_main.plot()\n",
    "        \n",
    "    def plot_result_subclass(self, Y_true, Y_pred):\n",
    "        # Get label names\n",
    "        subclass_label = [sub_class for main_class in self.sub_class_label for sub_class in self.sub_class_label[main_class]]\n",
    "        # Print classification report\n",
    "        print(f'Classification report for sub class:\\n{classification_report(Y_true, Y_pred,target_names=subclass_label,zero_division=1)}')\n",
    "        # PLot confusion matrix\n",
    "        plt.figure(figsize=(10,10))\n",
    "        cm_sub = confusion_matrix(Y_true, Y_pred)\n",
    "        disp_sub = ConfusionMatrixDisplay(confusion_matrix=cm_sub, display_labels=subclass_label)\n",
    "        disp_sub.plot()\n",
    "        \n",
    "    def load_weight_training_model(self, weight_path):\n",
    "        self.training_model.load_weights(weight_path)\n",
    "    \n",
    "    def load_weight_mainclass_inference_model(self, weight_path):\n",
    "        self.main_class_inference_model.load_weights(weight_path)\n",
    "        \n",
    "    def load_weight_subclass_inference_model(self, weight_path):\n",
    "        self.sub_class_inference_model.load_weights(weight_path)\n",
    "        \n",
    "    def load_weight_interaction_model(self, weight_path):\n",
    "        self.interaction_model.load_weights(weight_path)"
   ]
  },
  {
   "attachments": {},
   "cell_type": "markdown",
   "metadata": {},
   "source": [
    "### **Get Model**"
   ]
  },
  {
   "cell_type": "code",
   "execution_count": 60,
   "metadata": {},
   "outputs": [],
   "source": [
    "modmodel = MainSubclassPrediction(50, 300)          "
   ]
  },
  {
   "attachments": {},
   "cell_type": "markdown",
   "metadata": {},
   "source": [
    "### **Model Training**"
   ]
  },
  {
   "cell_type": "code",
   "execution_count": 98,
   "metadata": {},
   "outputs": [
    {
     "name": "stdout",
     "output_type": "stream",
     "text": [
      "Epoch 1/15\n",
      "115/115 [==============================] - 22s 85ms/step - loss: 3.5376 - main_class_output_loss: 1.0405 - sub_class_output_loss: 2.4971 - main_class_output_accuracy: 0.4848 - sub_class_output_accuracy: 0.1870\n",
      "Epoch 2/15\n",
      "115/115 [==============================] - 10s 87ms/step - loss: 3.2580 - main_class_output_loss: 0.7861 - sub_class_output_loss: 2.4719 - main_class_output_accuracy: 0.6674 - sub_class_output_accuracy: 0.3022\n",
      "Epoch 3/15\n",
      "115/115 [==============================] - 10s 89ms/step - loss: 3.0393 - main_class_output_loss: 0.5977 - sub_class_output_loss: 2.4416 - main_class_output_accuracy: 0.7761 - sub_class_output_accuracy: 0.3435\n",
      "Epoch 4/15\n",
      "115/115 [==============================] - 31s 273ms/step - loss: 2.6897 - main_class_output_loss: 0.3970 - sub_class_output_loss: 2.2927 - main_class_output_accuracy: 0.8630 - sub_class_output_accuracy: 0.4717\n",
      "Epoch 5/15\n",
      "115/115 [==============================] - 4s 36ms/step - loss: 2.5178 - main_class_output_loss: 0.2951 - sub_class_output_loss: 2.2227 - main_class_output_accuracy: 0.9196 - sub_class_output_accuracy: 0.4913\n",
      "Epoch 6/15\n",
      "115/115 [==============================] - 6s 50ms/step - loss: 2.2443 - main_class_output_loss: 0.1942 - sub_class_output_loss: 2.0501 - main_class_output_accuracy: 0.9522 - sub_class_output_accuracy: 0.6152\n",
      "Epoch 7/15\n",
      "115/115 [==============================] - 4s 35ms/step - loss: 2.0642 - main_class_output_loss: 0.1656 - sub_class_output_loss: 1.8986 - main_class_output_accuracy: 0.9522 - sub_class_output_accuracy: 0.6739\n",
      "Epoch 8/15\n",
      "115/115 [==============================] - 4s 35ms/step - loss: 1.8963 - main_class_output_loss: 0.1396 - sub_class_output_loss: 1.7567 - main_class_output_accuracy: 0.9652 - sub_class_output_accuracy: 0.7391\n",
      "Epoch 9/15\n",
      "115/115 [==============================] - 4s 35ms/step - loss: 1.6997 - main_class_output_loss: 0.1103 - sub_class_output_loss: 1.5895 - main_class_output_accuracy: 0.9739 - sub_class_output_accuracy: 0.8370\n",
      "Epoch 10/15\n",
      "115/115 [==============================] - 4s 35ms/step - loss: 1.6478 - main_class_output_loss: 0.1122 - sub_class_output_loss: 1.5356 - main_class_output_accuracy: 0.9761 - sub_class_output_accuracy: 0.8391\n",
      "Epoch 11/15\n",
      "115/115 [==============================] - 4s 35ms/step - loss: 1.4512 - main_class_output_loss: 0.0803 - sub_class_output_loss: 1.3708 - main_class_output_accuracy: 0.9826 - sub_class_output_accuracy: 0.9152\n",
      "Epoch 12/15\n",
      "115/115 [==============================] - 4s 35ms/step - loss: 1.3548 - main_class_output_loss: 0.0643 - sub_class_output_loss: 1.2905 - main_class_output_accuracy: 0.9870 - sub_class_output_accuracy: 0.9413\n",
      "Epoch 13/15\n",
      "115/115 [==============================] - 4s 34ms/step - loss: 1.3405 - main_class_output_loss: 0.0795 - sub_class_output_loss: 1.2610 - main_class_output_accuracy: 0.9761 - sub_class_output_accuracy: 0.9457\n",
      "Epoch 14/15\n",
      "115/115 [==============================] - 4s 35ms/step - loss: 1.2463 - main_class_output_loss: 0.0453 - sub_class_output_loss: 1.2011 - main_class_output_accuracy: 0.9913 - sub_class_output_accuracy: 0.9717\n",
      "Epoch 15/15\n",
      "115/115 [==============================] - 4s 35ms/step - loss: 1.2628 - main_class_output_loss: 0.0433 - sub_class_output_loss: 1.2195 - main_class_output_accuracy: 0.9913 - sub_class_output_accuracy: 0.9696\n"
     ]
    }
   ],
   "source": [
    "modmodel.training_model_train(train_data=([X_train, y_train_main_class], [y_train_main_class, y_train_sub_class]),\n",
    "            epochs=15,\n",
    "            batch_size=4,\n",
    "            )"
   ]
  },
  {
   "attachments": {},
   "cell_type": "markdown",
   "metadata": {},
   "source": [
    "### **Evaluation**"
   ]
  },
  {
   "attachments": {},
   "cell_type": "markdown",
   "metadata": {},
   "source": [
    "#### **Main Class Model**"
   ]
  },
  {
   "cell_type": "code",
   "execution_count": 61,
   "metadata": {},
   "outputs": [],
   "source": [
    "modmodel.load_weight_training_model('./model/ModelTraining.h5')"
   ]
  },
  {
   "cell_type": "code",
   "execution_count": 62,
   "metadata": {},
   "outputs": [
    {
     "name": "stdout",
     "output_type": "stream",
     "text": [
      "4/4 [==============================] - 1s 41ms/step\n"
     ]
    }
   ],
   "source": [
    "y_pred_main = modmodel.predict_mainclass(X_test)"
   ]
  },
  {
   "cell_type": "code",
   "execution_count": 63,
   "metadata": {},
   "outputs": [
    {
     "name": "stdout",
     "output_type": "stream",
     "text": [
      "Classification report for main class:\n",
      "              precision    recall  f1-score   support\n",
      "\n",
      "       Pizza       0.74      0.79      0.76        33\n",
      "      Noodle       0.85      0.85      0.85        40\n",
      "   Spaghetti       0.71      0.67      0.69        43\n",
      "\n",
      "    accuracy                           0.77       116\n",
      "   macro avg       0.77      0.77      0.77       116\n",
      "weighted avg       0.77      0.77      0.77       116\n",
      "\n"
     ]
    },
    {
     "data": {
      "text/plain": [
       "<Figure size 1000x1000 with 0 Axes>"
      ]
     },
     "metadata": {},
     "output_type": "display_data"
    },
    {
     "data": {
      "image/png": "[encoded data removed]",
      "text/plain": [
       "<Figure size 640x480 with 2 Axes>"
      ]
     },
     "metadata": {},
     "output_type": "display_data"
    }
   ],
   "source": [
    "modmodel.plot_result_mainclass(np.argmax(y_test_main_class, axis=1), y_pred_main)"
   ]
  },
  {
   "attachments": {},
   "cell_type": "markdown",
   "metadata": {},
   "source": [
    "จากตาราง Confusion matrix สังเกตได้ว่าหมวดหมู่หลัก 'สปาเกตตี' มีค่า Recall ที่ต่ำ สาเหตุเกิดจากในชุดข้อมูลหมวดหมู่สปาเกตตีมีคำที่คล้ายคลึงกับอีกสองหมวดหมู่ (พิซซ่าเเละก๋วยเตี๋ยว) เเละไม่มีคีย์เวิร์ดที่บ่งบอกลักษณะเเน่ชัดของหมวดหมู่ของอาหาร เช่น พิซซ่ากับสปาเกตตีก็มีคำว่าชีส,เเป้ง, เเละอิตาลีเหมือนกัน เเต่ในชุดข้อมูลพิซซ่าจะมีลักษณะรูปร่างบอก เช่น วงกลมหรือวงรี ในส่วนของก๋วยเตี๋ยวกับสปาเกตตีก็มีคำว่าเเป้งหรือเส้นเหมือนกัน เเต่ในชุดข้อมูลก๋วยเตี๋ยวจะมีคำเพิ่มเติม เช่น ไทยหรือจีน เพราะสาเหตุนี้ ‘สปาเกตตี’ จึงอยู่ตรงกลางระหว่างสองหมวดหมู่คือพิซซ่าเเละก๋วยเตี๋ยว เป็นผลให้โมเดลไม่สามารถทำนายเป็นสปาเกตตีได้ อย่างไรก็ตามประสิทธิภาพดีขึ้นเมื่อเทียบกับโมเดล Baseline คือ\n",
    "- ค่าความเเม่นยำโดยรวมของโมเดลเพิ่มขึ้น 0.01\n",
    "- สามารถระบุหมวดหมู่หลัก 'ก๋วยเตี๋ยว' แม่นยำได้มากขึ้น (สังเกตจากค่า Recall)\n",
    "- มีความเเม่นยำในการทำนาย 'พิซซ่า' มากขึ้น (สังเกตจากค่า Precision)\n"
   ]
  },
  {
   "attachments": {},
   "cell_type": "markdown",
   "metadata": {},
   "source": [
    "<H4>Main class - Modified"
   ]
  },
  {
   "cell_type": "code",
   "execution_count": 64,
   "metadata": {},
   "outputs": [
    {
     "name": "stdout",
     "output_type": "stream",
     "text": [
      "[540.0, 497.0, 477.0, 526.0, 435.0, 498.0, 545.0, 263.0, 37.0, 478.0, 439.0, 569.0, 276.0, 522.0, 107.0, 15.0, 351.0, 17.0, 281.0, 45.0, 186.0, 127.0, 533.0, 390.0, 282.0, 261.0, 397.0]\n",
      "------------------------------\n",
      "[1, 1, 1, 0, 0, 0, 1, 2, 2, 0, 0, 0, 2, 1, 2, 2, 0, 2, 2, 2, 2, 2, 0, 0, 2, 2, 1]\n"
     ]
    }
   ],
   "source": [
    "true_index = []     # เก็บ index ที่ทำนายถูกต้อง\n",
    "for i in range(len(np.argmax(y_test_main_class, axis=1))):\n",
    "    if np.argmax(y_test_main_class, axis=1)[i] == y_pred_main[i]:\n",
    "        true_index.append(i)\n",
    "\n",
    "false_main_label_full_model = []        # เก็บ index label ที่ทำนายผิด เพื่อเอา index นี้ไปหาประโยคที่ทำนายผิดใน excel\n",
    "what_pred = []\n",
    "for j in range(len(label_mainclass_keep_test)):\n",
    "    if j not in true_index:\n",
    "        false_main_label_full_model.append(label_mainclass_keep_test[j])\n",
    "        what_pred.append(y_pred_main[j])\n",
    "\n",
    "print(false_main_label_full_model)\n",
    "print('------------------------------')\n",
    "print(what_pred)"
   ]
  },
  {
   "attachments": {},
   "cell_type": "markdown",
   "metadata": {},
   "source": [
    "ตัวอย่างประโยคที่โมเดล Modified ทำนายหมวดหมู่หลักผิด\n",
    "- ไปเที่ยวทะเล พอจะหาเมนูที่เกี่ยวกับซีฟู๊ด โดยมีความเป็นอาหารต่างชาติ แต่มีรสชาติเผ็ดแบบไทยๆ พอมีไอเดียหรือไม่ | ทำนาย สปาเกตตี เป็น ก๋วยเตี๋ยว\n",
    "- วันนี้ทำงานค่อนข้างเหนื่อย อยากกินอาหารเบาๆ ไม่หนักแบบพิซซ่า แต่ยังมีความอยากกินชีสอยู่ ไม่เอาพวกเนื้อ | ทำนาย สปาเกตตี เป็น ก๋วยเตี๋ยว\n",
    "- อยากได้เมนูที่มีแป้ง และก็มีผักเยอะๆ ที่เคี้ยวง่ายๆ ไม่ต้องออกแรงเยอะ | ทำนาย สปาเกตตี เป็น พิซซ่า\n",
    "- อยากกินอาหารเผ็ดๆ ใส่พริกเยอะๆ มีรสชาติหลากหลาย เป็นเมนูขึ้นชื่อของไทย นำมาผสมกับประเทศจีน | ทำนาย ก๋วยเตี๋ยว เป็น สปาเกตตี\n",
    "- มีส่วนผสมเป็นน้ำ น้ำมันมะกอก และเกลือ นำขึ้นตั้งไฟต้มจนน้ำเดือดแล้วใส่เส้นลงไปต้ม หมั่นคนเพื่อไม่ให้เส้นติด ต้มจนเส้นสุก กินคู่กับเนื้อ | ทำนาย สปาเกตตี เป็น ก๋วยเตี๋ยว\n",
    "- อยากกินเส้นผสมกับต้มยำ มีรสชาติเผ็ด เปรี้ยว เค็ม และมีเส้นนุ่มๆ จากก๋วยเตี๋ยว สีน้ำซุปมีสีส้มเข้ม ดูจัดจ้าน | ทำนาย ก๋วยเตี๋ยว เป็น สปาเกตตี\n",
    "- พิซซ่าที่มีสีเขียวเยอะ มีลักษณะเป็นวงกลมสลับกับสีขาวจากผักต่าง ๆ | ทำนาย พิซซ่า เป็น สปาเกตตี\n",
    "- ฉันอยากกินอะไรหลายๆ อย่างมีเมนูอะไรที่สั่งแล้วกินอะไรหลายอย่างมั้ย | ทำนาย พิซซ่า เป็น สปาเกตตี\n",
    "- แนะนำที่ใช้การอบ ที่มีการใส่กุ้ง ชีส สัปปะรด มะเขือเทศ | ทำนาย พิซซ่า เป็น สปาเกตตี\n",
    "- อยากกินสปาเกตตี ที่ใส่กุ้ง ใส้หมึกช่วยแนะนำหน่อย | ทำนาย สปาเกตตี เป็น พิซซ่า\n",
    "\n",
    "สามารถสรุปได้ดังนี้\n",
    "- ส่วนมากประโยคที่ทายผิดจะมีชื่อของหมวดหมู่หลักอยู่ในประโยค (เช่น พิซซ่า, ก๋วยเตี๋ยว, เเละสปาเกตตี)\n",
    "- ประโยคที่มีรายละเอียดน้อยและมีความกำกวมระหว่างสองหมวดหมู่หลัก เช่น 'อยากได้เมนูที่มีแป้ง และก็มีผักเยอะๆ ที่เคี้ยวง่ายๆ ไม่ต้องออกแรงเยอะ' ที่ไม่ได้ลงรายละเอียดว่าเป็นเส้นหรือไม่ทำให้โมเดลสับสนระหว่างสปาเกตตีกับพิซซ่า (อาจจะไปใกล้เคียงกับก๋วยเตี๋ยวด้วยเเต่ในชุดข้อมูลคลาสก๋วยเตี๋ยวจะมีพวกคำว่าเหนียวหรือหนึบทำให้โมเดลยังพอเเยกออก)\n",
    "- ในประโยคทั่วไป โมเดลมักจะทำนายระหว่าง 'ก๋วยเตี๋ยว' กับ 'สปาเกตตี' ผิด เป็นเพราะสองหมวดหมู่นี้มีความใกล้เคียงกันทั้งรูปลักษณะ, วัตถุดิบ, เเละวิธีการประกอบอาหาร"
   ]
  },
  {
   "attachments": {},
   "cell_type": "markdown",
   "metadata": {},
   "source": [
    "#### **Sub Class Model (Don't Take Mainclass as input)**"
   ]
  },
  {
   "cell_type": "code",
   "execution_count": 65,
   "metadata": {},
   "outputs": [
    {
     "name": "stdout",
     "output_type": "stream",
     "text": [
      "4/4 [==============================] - 2s 45ms/step\n"
     ]
    }
   ],
   "source": [
    "y_pred_sub = modmodel.predict_subclass(X_test)"
   ]
  },
  {
   "cell_type": "code",
   "execution_count": 66,
   "metadata": {},
   "outputs": [
    {
     "name": "stdout",
     "output_type": "stream",
     "text": [
      "Classification report for sub class:\n",
      "                   precision    recall  f1-score   support\n",
      "\n",
      "   ShrimpCocktail       0.50      0.45      0.48        11\n",
      "       MeatDeluxe       0.46      0.75      0.57         8\n",
      "MushroomsTomatoes       0.25      0.12      0.17         8\n",
      "           Dipper       0.38      0.50      0.43         6\n",
      "           NamTok       0.78      0.54      0.64        13\n",
      "           TomYam       0.31      0.33      0.32        12\n",
      "       EggNoodles       0.50      0.57      0.53         7\n",
      "           Kaolao       0.60      0.75      0.67         8\n",
      "         Meatball       0.20      0.25      0.22         8\n",
      "        Carbonara       0.00      0.00      0.00        10\n",
      "        Vegetable       0.40      0.43      0.41        14\n",
      "          Seafood       0.46      0.55      0.50        11\n",
      "\n",
      "         accuracy                           0.43       116\n",
      "        macro avg       0.40      0.44      0.41       116\n",
      "     weighted avg       0.41      0.43      0.41       116\n",
      "\n"
     ]
    },
    {
     "data": {
      "text/plain": [
       "<Figure size 1000x1000 with 0 Axes>"
      ]
     },
     "metadata": {},
     "output_type": "display_data"
    },
    {
     "data": {
      "image/png": "[encoded data removed]",
      "text/plain": [
       "<Figure size 640x480 with 2 Axes>"
      ]
     },
     "metadata": {},
     "output_type": "display_data"
    }
   ],
   "source": [
    "modmodel.plot_result_subclass(np.argmax(y_test_sub_class, axis=1), y_pred_sub)"
   ]
  },
  {
   "attachments": {},
   "cell_type": "markdown",
   "metadata": {},
   "source": [
    "จากตาราง Confusion matrix สังเกตว่าโมเดลสามารถหาหรือระบุหมวดหมู่ย่อยจริงส่วนใหญ่ได้ไม่ดีสังเกตจากค่า Recall ที่น้อย อาจจะเป็นเพราะเมนูเเต่ละเมนูมีความใกล้เคียงกัน เช่น มีวัตถุดิบ, ส่วนประกอบ, หรือลักษณะรูปร่างคล้ายคลึงกัน เเต่ในบางเมนูอย่าง ‘สปาเกตตีคาโบนาร่า’ โมเดลไม่สามารถตรวจจับเมนูนี้ได้เลย (ค่า Recall เป็น 0) ซึ่งทางคณะผู้จัดทำยังไม่เเน่ใจในปัญหาส่วนนี้"
   ]
  },
  {
   "attachments": {},
   "cell_type": "markdown",
   "metadata": {},
   "source": [
    "<H4>Sub class - Modified"
   ]
  },
  {
   "cell_type": "code",
   "execution_count": 67,
   "metadata": {},
   "outputs": [
    {
     "name": "stdout",
     "output_type": "stream",
     "text": [
      "[414.0, 540.0, 497.0, 231.0, 477.0, 211.0, 526.0, 175.0, 159.0, 225.0, 435.0, 498.0, 415.0, 545.0, 263.0, 37.0, 478.0, 250.0, 31.0, 342.0, 14.0, 439.0, 395.0, 569.0, 276.0, 202.0, 210.0, 509.0, 132.0, 393.0, 522.0, 107.0, 15.0, 235.0, 75.0, 103.0, 455.0, 481.0, 351.0, 17.0, 271.0, 281.0, 45.0, 473.0, 441.0, 573.0, 492.0, 142.0, 186.0, 311.0, 127.0, 440.0, 433.0, 533.0, 390.0, 282.0, 299.0, 261.0, 494.0, 434.0, 301.0, 102.0, 283.0, 108.0, 397.0, 85.0]\n",
      "------------------------------\n",
      "[10, 4, 7, 5, 5, 5, 2, 0, 1, 5, 3, 2, 10, 6, 10, 11, 1, 6, 3, 6, 1, 2, 10, 0, 11, 7, 6, 8, 3, 11, 5, 9, 11, 5, 0, 1, 10, 8, 3, 11, 7, 10, 11, 10, 11, 10, 8, 1, 8, 7, 10, 8, 8, 0, 1, 9, 5, 9, 8, 8, 5, 0, 4, 1, 5, 3]\n"
     ]
    }
   ],
   "source": [
    "true_index = []    \n",
    "for i in range(len(np.argmax(y_test_sub_class, axis=1))):\n",
    "    if np.argmax(y_test_sub_class, axis=1)[i] == y_pred_sub[i]:\n",
    "        true_index.append(i)\n",
    "\n",
    "false_sub_label_full_model = []\n",
    "what_pred = []    \n",
    "for j in range(len(label_subclass_keep_test)):\n",
    "    if j not in true_index:\n",
    "        false_sub_label_full_model.append(label_subclass_keep_test[j])\n",
    "        what_pred.append(y_pred_sub[j])\n",
    "\n",
    "print(false_sub_label_full_model)\n",
    "print('------------------------------')\n",
    "print(what_pred)"
   ]
  },
  {
   "attachments": {},
   "cell_type": "markdown",
   "metadata": {},
   "source": [
    "ตัวอย่างประโยคที่โมเดล Modified ทำนายหมวดหมู่ย่อยผิด\n",
    "- อาหารที่คนออกกำลังกายอยากกินเสร็จผสมด้วยเนื้อสัตว์และเส้นสปาเกตตี | ทำนาย สปาเกตตีมีทบอล เป็น สปาเกตตีผัก\n",
    "- ไปเที่ยวทะเล พอจะหาเมนูที่เกี่ยวกับซีฟู๊ด โดยมีความเป็นอาหารต่างชาติ แต่มีรสชาติเผ็ดแบบไทยๆ พอมีไอเดียหรือไม่ | ทำนาย สปาเกตตีทะเล เป็น ก๋วยเตี๋ยวน้ำตก\n",
    "- อาหารที่มีซอสสีขาวๆราดอยู่เล็กน้อยหรือมากก็ได้มีรสชติหวามเค็มมากๆ มีผักอยู่บ้าง มีการโรยชีสและมีแฮม | ทำนาย สปาเกตตีคาโบนาร่า เป็น ดิปเปอร์\n",
    "- อยากกินสปาเกตตีผัก | ทำนาย สปาเกตตีผัก เป็น เห็ดและมะเขือเทศ\n",
    "- อาหารสปาเกตตีที่มีการทำ 3 ขั้นตอนคือการที่นำเนื้อสัตว์ไปทอดกับการที่เคี่ยวซอสมะเขือเทศและการต้มเส้นพาสต้า | ทำนาย สปาเกตตีมีทบอล เป็น สปาเกตตีผัก\n",
    "- อยากกินอาหารทะเล ประเภทแป้งที่เป็นเส้น มีความเหนียวหนึบ อาจจะมีซอสซีฟู๊ดเป็นเครื่องเคียงด้วย | ทำนาย สปาเกตตีทะเล เป็น บะหมีหมูแดงหมูกรอบ\n",
    "- อยากกินอาหารเผ็ดๆ ใส่พริกเยอะๆ มีรสชาติหลากหลาย เป็นเมนูขึ้นชื่อของไทย นำมาผสมกับประเทศจีน | ทำนาย ก๋วยเตี๋ยวต้มยำน้ำใส เป็น สปาเกตตีผัก\n",
    "- พิซซ่าที่มีกุ้ง เห็ด  สับปะรด มันชื่อว่าพิซซ่าอะไร | ทำนาย ค็อกเทลกุ้ง เป็น สปาเกตตีทะเล\n",
    "- สามารถหาซื้อได้จากร้านสะดวกซื้อร้านอาหารทั่วไป มีแป้งและไขมันเยอะ และโปรตีนเล็กน้อย | ทำนาย สปาเกตตีคาโบนาร่า เป็น มีทเดอลุกซ์\n",
    "- อาหารที่นิยมสำหรับคนไทยเนื่องจากมีความเผ็ดและเปรี้ยวที่มีเอกลักษณ์ ใส่เครื่องปรุง น้ำตาลทราย น้ำมะนาว น้ำปลา พริกแห้งคั่วป่น และน้ำพริกเผา | ทำนาย ก๋วยเตี๋ยวต้มยำน้ำใส เป็น บะหมีหมูแดงหมูกรอบ\n",
    "\n",
    "สามารถสรุปได้ดังนี้\n",
    "- โมเดลมีการทำนายหมวดหมู่ย่อยผิดกันเองภายในหมวดหมู่หลัก เป็นเพราะในเเต่ละหมวดหมู่ย่อยมีประโยคหรือชุดข้อมูลที่มีคำหรือคีย์เวิร์ดที่คล้ายๆ กัน ยกตัวอย่างประโยค 'อาหารที่คนออกกำลังกายอยากกินเสร็จผสมด้วยเนื้อสัตว์และเส้นสปาเกตตี' ที่ทำนาย 'สปาเกตตีมีทบอล' ออกเป็น 'สปาเกตตีผัก' ซึ่งเกิดจากในชุดข้อมูลของทั้งสองเมนูนี้มีคำว่า 'ผัก' อยู่ เป็นเหตุทำให้โมเดลสับสนระหว่างสองเมนูนี้ได้\n",
    "- มีบางประโยคที่เมื่อมีชื่อของหมวดหมู่หลักเเล้วโมเดลจะทำนายผิด\n",
    "- โมเดลยังมีการทำนายหมวดหมู่หลักผิดอยู่บางประโยค เเต่โมเดลสามารถทำนายหมวดหมู่ย่อยได้ถูกมากขึ้น ยกตัวอย่าง 'พิซซ่าที่มีกุ้ง เห็ด  สับปะรด มันชื่อว่าพิซซ่าอะไร' โมเดลไม่สามารถทำนายเป็นพิซซ่าได้ เเต่สามารถทำนายเป็นเมนูที่เกี่ยวข้องกับทะเล (กุ้ง) คือสปาเกตตีทะเล ซึ่งเป็นหมวดหมู่ย่อยทะเลเหมือนกัน"
   ]
  },
  {
   "attachments": {},
   "cell_type": "markdown",
   "metadata": {},
   "source": [
    "#### **Interaction Model**"
   ]
  },
  {
   "cell_type": "code",
   "execution_count": 68,
   "metadata": {},
   "outputs": [
    {
     "name": "stdout",
     "output_type": "stream",
     "text": [
      "4/4 [==============================] - 2s 49ms/step\n"
     ]
    }
   ],
   "source": [
    "pred_interaction = modmodel.predict_interaction(X_test, y_test_main_class)"
   ]
  },
  {
   "cell_type": "code",
   "execution_count": 69,
   "metadata": {},
   "outputs": [
    {
     "name": "stdout",
     "output_type": "stream",
     "text": [
      "Classification report for sub class:\n",
      "                   precision    recall  f1-score   support\n",
      "\n",
      "   ShrimpCocktail       0.73      0.73      0.73        11\n",
      "       MeatDeluxe       0.50      0.75      0.60         8\n",
      "MushroomsTomatoes       0.67      0.25      0.36         8\n",
      "           Dipper       0.43      0.50      0.46         6\n",
      "           NamTok       0.78      0.54      0.64        13\n",
      "           TomYam       0.57      0.67      0.62        12\n",
      "       EggNoodles       0.57      0.57      0.57         7\n",
      "           Kaolao       0.70      0.88      0.78         8\n",
      "         Meatball       0.29      0.50      0.36         8\n",
      "        Carbonara       1.00      0.10      0.18        10\n",
      "        Vegetable       0.56      0.64      0.60        14\n",
      "          Seafood       0.83      0.91      0.87        11\n",
      "\n",
      "         accuracy                           0.59       116\n",
      "        macro avg       0.64      0.59      0.56       116\n",
      "     weighted avg       0.65      0.59      0.58       116\n",
      "\n"
     ]
    },
    {
     "data": {
      "text/plain": [
       "<Figure size 1000x1000 with 0 Axes>"
      ]
     },
     "metadata": {},
     "output_type": "display_data"
    },
    {
     "data": {
      "image/png": "[encoded data removed]",
      "text/plain": [
       "<Figure size 640x480 with 2 Axes>"
      ]
     },
     "metadata": {},
     "output_type": "display_data"
    }
   ],
   "source": [
    "modmodel.plot_result_subclass(np.argmax(y_test_sub_class, axis=1), pred_interaction)"
   ]
  },
  {
   "attachments": {},
   "cell_type": "markdown",
   "metadata": {},
   "source": [
    "จากตาราง Confusion matrix สังเกตได้ว่าหมวดหมู่ย่อยที่อยู่ภายใน 'พิซซ่า' โมเดลสามารถหาหรือระบุได้ดี (จากค่า Recall ของ ค็อกเทลกุ้ง, เเละมีทเดอลุกซ์) ยกเว้นเห็ดและมะเขือเทศ, เเละดิปเปอร์ ซึ่งอาจจะเป็นผลมาจากพิซซ่าเห็ดและมะเขือเทศเป็นเมนูที่มีวัตถุดิบใกล้เคียงกับเมนูอื่นๆ เช่น ผัก เห็ด ส่วนดิปเปอร์เป็นเมนูที่รวมวัตถุดิบหลายอย่างจากเมนูอื่นๆ เข้าด้วยกัน ทำให้โมเดลอาจจะระบุยากว่าที่ทำนายอยู่เป็นพิซซ่าเห็ดและมะเขือเทศหรือดิปเปอร์จริงๆ ในส่วนของหมวดหมู่ย่อยที่อยู่ภายใน 'ก๋วยเตี๋ยว' หลายๆ เมนูมีค่า Recall ค่อนข้างต่ำยกเว้นเกาเหลา ซึ่งสิ่งที่ทำให้โมเดลระบุเกาเหลาได้ดีคิดว่าน่าจะเป็นเพราะชุดข้อมูลประโยคส่วนมากมีคำว่า 'ข้าว' อยู่ ทำให้เกาเหลานั้นเเต่ต่างกับเมนูอื่นๆ ภายในหมวดหมู่ 'ก๋วยเตี๋ยว' ในส่วนสุดท้ายหมวดหมู่ย่อย 'สปาเกตตี' มีลักษณะคล้ายก๋วยเตี๋ยว คือมีเมนูที่มีค่า Recall สูงเมนูเดียวคือสปาเกตตีทะเล คิดว่าเป็นเพราะสปาเกตตีทะเลมีคำที่เเตกต่างจากเมนูอื่นๆ เช่น กุ้ง ปลา ซีฟู๊ด ซึ่งไม่มีคำเหล่านี้ในชุดข้อมูลของเมนูอื่นๆ นอกจากนั้นในชุดข้อมูลอื่นๆ เช่น สปาเกตตีคาโบนาร่า, สปาเกตตีมีทบอล, เเละสปาเกตตีผัก ยังมีคำคล้ายๆ กัน เช่น โปรตีน เนื้อ ผัก ที่กล่าวมาทำให้โมเดลสามารถหาเเละระบุสปาเกตตีทะเลได้ดีที่สุดภายในหมวดหมู่ย่อย 'สปาเกตตี' ในส่วนถัดไปคณะผู้จัดทำได้ทดลองดึงประโยคบางประโยคที่โมเดลทำนายผิดมาวิเคราะห์ได้ดังนี้"
   ]
  },
  {
   "attachments": {},
   "cell_type": "markdown",
   "metadata": {},
   "source": [
    "<H4>Interaction model"
   ]
  },
  {
   "cell_type": "code",
   "execution_count": 70,
   "metadata": {},
   "outputs": [
    {
     "name": "stdout",
     "output_type": "stream",
     "text": [
      "[414.0, 497.0, 231.0, 477.0, 211.0, 175.0, 159.0, 225.0, 415.0, 478.0, 250.0, 31.0, 342.0, 14.0, 439.0, 395.0, 202.0, 210.0, 509.0, 132.0, 393.0, 107.0, 15.0, 235.0, 75.0, 103.0, 455.0, 481.0, 271.0, 281.0, 473.0, 441.0, 573.0, 492.0, 142.0, 186.0, 311.0, 440.0, 433.0, 299.0, 494.0, 434.0, 301.0, 102.0, 283.0, 108.0, 85.0]\n",
      "------------------------------\n",
      "[10, 8, 5, 8, 5, 0, 1, 5, 10, 8, 6, 3, 6, 1, 10, 10, 7, 6, 8, 3, 11, 3, 2, 5, 0, 1, 10, 8, 7, 4, 10, 11, 10, 8, 1, 1, 7, 8, 8, 5, 8, 8, 5, 0, 4, 1, 3]\n"
     ]
    }
   ],
   "source": [
    "true_index = []    \n",
    "for i in range(len(np.argmax(y_test_sub_class, axis=1))):\n",
    "    if np.argmax(y_test_sub_class, axis=1)[i] == pred_interaction[i]:\n",
    "        true_index.append(i)\n",
    "\n",
    "false_sub_label_interaction = []\n",
    "what_pred = []    \n",
    "for j in range(len(label_subclass_keep_test)):\n",
    "    if j not in true_index:\n",
    "        false_sub_label_interaction.append(label_subclass_keep_test[j])\n",
    "        what_pred.append(pred_interaction[j])\n",
    "\n",
    "print(false_sub_label_interaction)\n",
    "print('------------------------------')\n",
    "print(what_pred)"
   ]
  },
  {
   "attachments": {},
   "cell_type": "markdown",
   "metadata": {},
   "source": [
    "ตัวอย่างประโยคที่โมเดล Interaction ทำนายหมวดหมู่ย่อยผิด\n",
    "- อาหารที่คนออกกำลังกายอยากกินเสร็จผสมด้วยเนื้อสัตว์และเส้นสปาเกตตี | ทำนาย สปาเกตตีมีทบอล เป็น สปาเกตตีผัก\n",
    "- วันนี้ทำงานค่อนข้างเหนื่อย อยากกินอาหารเบาๆ ไม่หนักแบบพิซซ่า แต่ยังมีความอยากกินชีสอยู่ ไม่เอาพวกเนื้อ | ทำนาย สปาเกตตีผัก เป็น สปาเกตตีมีทบอล\n",
    "- ต้องการอะไรที่กินง่ายๆ ไม่ต้องเตรียมของมากเน้นเนื้อไม่เน้นผัก | ทำนาย มีทเดอลุกซ์ เป็น ดิปเปอร์\n",
    "- อยากกินเห็ด มะเขือเทศ หอมใหญ่ พริกหวาน กินคู่กับชีสหรือซอสมะเขือเทศ บนแป้งร้อนๆ รูปร่างกลมๆ ที่ผ่านการอบมาใหม่ๆ | ทำนาย เห็ดและมะเขือเทศ เป็น มีทเดอลุกซ์\n",
    "- ใช้เวลาน้อย ใส่เกี๊ยวน้ำได้ เส้นมันๆ รสชาติค่อนไปทางจืด ไม่เผ็ด มีผักคะน้ารองด้านล่าง สามารถเพิ่มลูกชิ้นได้ บางร้านมีน้ำซอสซีอิ๊วให้ราด | ทำนาย บะหมีหมูแดงหมูกรอบ เป็น ก๋วยเตี๋ยวต้มยำน้ำใส\n",
    "- อาหารที่มีความกรอบขายเป็นชาม ๆ เหมาะกับการกินคนเดียวสามารถหาร้านได้ทั่วไป มีลักษณะคล้ายเรือ | ทำนาย ก๋วยเตี๋ยวน้ำตก เป็น เกาเหลา\n",
    "- เป็นอาหารที่มีความเป็นไทยเน้นรสชาติที่เค็มและกินคู่กับข้าว | ทำนาย เกาเหลา เป็น บะหมีหมูแดงหมูกรอบ\n",
    "- อยากกินพิซซ่าหน้าซีฟู๊ด มีพวกมะเขือเทศ เห็ด หรือสัปปะรด ชีสเยิ้มๆ หวานมันกำลังดี | ทำนาย ค็อกเทลกุ้ง เป็น มีทเดอลุกซ์\n",
    "- พิซซ่าสำหรับคนที่อยากได้วิตามินเพิ่มเติมและไม่ชอบกินเนื้อ ส่วนประกอบหลักคือแป้ง | ทำนาย เห็ดและมะเขือเทศ เป็น มีทเดอลุกซ์\n",
    "- ส่วนใหญ่เป็นสีโทนเหลือง ทั้งจากซอส ชีส ไข่ ตัดกับสีน้ำตาลเข้มของเบคอนที่กรุบกรอบกำลังดี | ทำนาย สปาเกตตีคาโบนาร่า เป็น สปาเกตตีผัก\n",
    "\n",
    "สามารถสรุปได้ดังนี้\n",
    "- โมเดลสามารถทำนายประโยคที่มีชื่อของหมวดหมู่หลักได้ใกล้เคียงกับผลเฉลยของหมวดหมู่หลักได้เเล้ว เช่น 'วันนี้ทำงานค่อนข้างเหนื่อย อยากกินอาหารเบาๆ ไม่หนักแบบพิซซ่า แต่ยังมีความอยากกินชีสอยู่ ไม่เอาพวกเนื้อ' สามารถทำนายเป็นสปาเกตตีมีทบอล เเต่ยังไม่ค่อยเเม่นยำในการทำนายหมวดหมู่ย่อย (ผลเฉลยประโยคข้างต้นคือ สปาเกตตีผัก) อีกหนึ่งตัวอย่างคือ 'อาหารที่คนออกกำลังกายอยากกินเสร็จผสมด้วยเนื้อสัตว์และเส้นสปาเกตตี' สามารถทำนายเป็นหมวดหมู่หลัก 'สปาเกตตี' ได้ เเต่หมวดหมู่ย่อยโมเดลยังทำนายผิดอยู่\n",
    "- บางประโยคมีข้อมูลเเค่เบื้องต้น ทำให้โมเดลทำนายไม่เเม่นยำ เช่น 'อาหารที่มีความกรอบขายเป็นชาม ๆ เหมาะกับการกินคนเดียวสามารถหาร้านได้ทั่วไป' โมเดลทำนายเป็น เกาเหลา เเทนที่จะเป็น ก๋วยเตี๋ยวน้ำตก ซึ่งเข้าใจได้เพราะภายในประโยคไม่มีข้อมูลที่บ่งบอกถึงคุณลักษณะเฉพาะของเมนูเป้าหมายเลย"
   ]
  },
  {
   "attachments": {},
   "cell_type": "markdown",
   "metadata": {},
   "source": [
    "#### **Save Model**"
   ]
  },
  {
   "cell_type": "code",
   "execution_count": 120,
   "metadata": {},
   "outputs": [],
   "source": [
    "ModelTraining = modmodel.training_model\n",
    "MainModel = modmodel.main_class_inference_model\n",
    "SubModel = modmodel.sub_class_inference_model\n",
    "InteractionModel = modmodel.interaction_model"
   ]
  },
  {
   "cell_type": "code",
   "execution_count": 121,
   "metadata": {},
   "outputs": [],
   "source": [
    "# ModelTraining.save('ModelTraining.h5')\n",
    "# MainModel.save('MainModel.h5')\n",
    "# SubModel.save('SubModel.h5')\n",
    "# InteractionModel.save('InteractionModel.h5')"
   ]
  },
  {
   "cell_type": "code",
   "execution_count": 122,
   "metadata": {},
   "outputs": [],
   "source": [
    "# plot_model(ModelTraining, to_file='ModelTraining.png', show_shapes=True, show_layer_names=True)\n",
    "# plot_model(MainModel, to_file='MainModel.png', show_shapes=True, show_layer_names=True)\n",
    "# plot_model(SubModel, to_file='SubModel.png', show_shapes=True, show_layer_names=True)\n",
    "# plot_model(InteractionModel, to_file='InteractionModel.png', show_shapes=True, show_layer_names=True)"
   ]
  }
 ],
 "metadata": {
  "kernelspec": {
   "display_name": "tf_ml",
   "language": "python",
   "name": "python3"
  },
  "language_info": {
   "codemirror_mode": {
    "name": "ipython",
    "version": 3
   },
   "file_extension": ".py",
   "mimetype": "text/x-python",
   "name": "python",
   "nbconvert_exporter": "python",
   "pygments_lexer": "ipython3",
   "version": "3.9.16"
  },
  "orig_nbformat": 4
 },
 "nbformat": 4,
 "nbformat_minor": 2
}

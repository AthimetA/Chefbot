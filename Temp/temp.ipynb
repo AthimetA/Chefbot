{
 "cells": [
  {
   "attachments": {},
   "cell_type": "markdown",
   "metadata": {},
   "source": [
    "# **ChefBot**\n",
    "\n",
    "สมาชิกกลุ่ม 1\n",
    "\n",
    "1. ก้องภพ ทองดี 63340500003 \n",
    "2. ภคพล ลีลาคหกิจ 63340500045\n",
    "3. สรพัศ วีระกุล 63340500064\n",
    "4. อธิเมศร์  เอี๊ยวเจริญ 63340500068 "
   ]
  },
  {
   "attachments": {},
   "cell_type": "markdown",
   "metadata": {},
   "source": [
    "# **Import Library**"
   ]
  },
  {
   "cell_type": "code",
   "execution_count": 746,
   "metadata": {},
   "outputs": [
    {
     "name": "stdout",
     "output_type": "stream",
     "text": [
      "2.10.1\n",
      "[PhysicalDevice(name='/physical_device:GPU:0', device_type='GPU')]\n"
     ]
    }
   ],
   "source": [
    "%matplotlib inline\n",
    "import pandas\n",
    "import sklearn\n",
    "import numpy as np\n",
    "from IPython.display import display\n",
    "\n",
    "import matplotlib.pyplot as plt\n",
    "import tensorflow as tf\n",
    "print(tf. __version__) \n",
    "print(tf.config.list_physical_devices('GPU'))\n",
    "\n",
    "import matplotlib as mpl\n",
    "import matplotlib.font_manager as fm\n",
    "np.random.seed(0)\n",
    "global_seed = 0\n",
    "\n",
    "pic_path = ''"
   ]
  },
  {
   "attachments": {},
   "cell_type": "markdown",
   "metadata": {},
   "source": [
    "## **Import data**"
   ]
  },
  {
   "cell_type": "code",
   "execution_count": 747,
   "metadata": {},
   "outputs": [],
   "source": [
    "df_orig = pandas.read_csv('../data/Chefbot_Dataset - All.csv', encoding='utf-8')"
   ]
  },
  {
   "cell_type": "code",
   "execution_count": 748,
   "metadata": {},
   "outputs": [
    {
     "data": {
      "text/html": [
       "<div>\n",
       "<style scoped>\n",
       "    .dataframe tbody tr th:only-of-type {\n",
       "        vertical-align: middle;\n",
       "    }\n",
       "\n",
       "    .dataframe tbody tr th {\n",
       "        vertical-align: top;\n",
       "    }\n",
       "\n",
       "    .dataframe thead th {\n",
       "        text-align: right;\n",
       "    }\n",
       "</style>\n",
       "<table border=\"1\" class=\"dataframe\">\n",
       "  <thead>\n",
       "    <tr style=\"text-align: right;\">\n",
       "      <th></th>\n",
       "      <th>Text</th>\n",
       "      <th>Mainclass</th>\n",
       "      <th>Subclass</th>\n",
       "    </tr>\n",
       "  </thead>\n",
       "  <tbody>\n",
       "    <tr>\n",
       "      <th>0</th>\n",
       "      <td>อยากกินกุ้งที่จะมีความหนุบๆ กับน้ำสลัดเทาซันไอ...</td>\n",
       "      <td>พิซซ่า</td>\n",
       "      <td>ค็อกเทลกุ้ง</td>\n",
       "    </tr>\n",
       "    <tr>\n",
       "      <th>1</th>\n",
       "      <td>ผมชอบอาหารที่สามารถทำได้เร็ว มีหน้าตาที่สวยงาม...</td>\n",
       "      <td>พิซซ่า</td>\n",
       "      <td>ค็อกเทลกุ้ง</td>\n",
       "    </tr>\n",
       "    <tr>\n",
       "      <th>2</th>\n",
       "      <td>ทำจากแป้งมีทั้งหนานุ่ม และบางกรอบเหมาะกับคนที่...</td>\n",
       "      <td>พิซซ่า</td>\n",
       "      <td>ค็อกเทลกุ้ง</td>\n",
       "    </tr>\n",
       "    <tr>\n",
       "      <th>3</th>\n",
       "      <td>เนื้อหลักเป็นกุ้งมีรสชาติที่จัดจ้านจากซอสมีต้น...</td>\n",
       "      <td>พิซซ่า</td>\n",
       "      <td>ค็อกเทลกุ้ง</td>\n",
       "    </tr>\n",
       "    <tr>\n",
       "      <th>4</th>\n",
       "      <td>อาหารที่มีลักษณะกลม ๆ สามารถแบ่งเป็นชิ้นได้กิน...</td>\n",
       "      <td>พิซซ่า</td>\n",
       "      <td>ค็อกเทลกุ้ง</td>\n",
       "    </tr>\n",
       "  </tbody>\n",
       "</table>\n",
       "</div>"
      ],
      "text/plain": [
       "                                                Text Mainclass     Subclass\n",
       "0  อยากกินกุ้งที่จะมีความหนุบๆ กับน้ำสลัดเทาซันไอ...    พิซซ่า  ค็อกเทลกุ้ง\n",
       "1  ผมชอบอาหารที่สามารถทำได้เร็ว มีหน้าตาที่สวยงาม...    พิซซ่า  ค็อกเทลกุ้ง\n",
       "2  ทำจากแป้งมีทั้งหนานุ่ม และบางกรอบเหมาะกับคนที่...    พิซซ่า  ค็อกเทลกุ้ง\n",
       "3  เนื้อหลักเป็นกุ้งมีรสชาติที่จัดจ้านจากซอสมีต้น...    พิซซ่า  ค็อกเทลกุ้ง\n",
       "4  อาหารที่มีลักษณะกลม ๆ สามารถแบ่งเป็นชิ้นได้กิน...    พิซซ่า  ค็อกเทลกุ้ง"
      ]
     },
     "metadata": {},
     "output_type": "display_data"
    },
    {
     "data": {
      "text/html": [
       "<div>\n",
       "<style scoped>\n",
       "    .dataframe tbody tr th:only-of-type {\n",
       "        vertical-align: middle;\n",
       "    }\n",
       "\n",
       "    .dataframe tbody tr th {\n",
       "        vertical-align: top;\n",
       "    }\n",
       "\n",
       "    .dataframe thead th {\n",
       "        text-align: right;\n",
       "    }\n",
       "</style>\n",
       "<table border=\"1\" class=\"dataframe\">\n",
       "  <thead>\n",
       "    <tr style=\"text-align: right;\">\n",
       "      <th></th>\n",
       "      <th>Text</th>\n",
       "      <th>Mainclass</th>\n",
       "      <th>Subclass</th>\n",
       "    </tr>\n",
       "  </thead>\n",
       "  <tbody>\n",
       "    <tr>\n",
       "      <th>571</th>\n",
       "      <td>เมนูที่เอาเส้นพาสต้ามาผัดกับของทะเลแล้วแล้วก็ใ...</td>\n",
       "      <td>สปาเก็ตตี้</td>\n",
       "      <td>สปาเก็ตตี้ทะเล</td>\n",
       "    </tr>\n",
       "    <tr>\n",
       "      <th>572</th>\n",
       "      <td>สปาเก็ตตี้ที่มีสีแดง และเขียวตัดกับ สีของเส้นท...</td>\n",
       "      <td>สปาเก็ตตี้</td>\n",
       "      <td>สปาเก็ตตี้ทะเล</td>\n",
       "    </tr>\n",
       "    <tr>\n",
       "      <th>573</th>\n",
       "      <td>ฉันอยากกินสปาเก็ตตี้แต่ฉันเบื่อพวกเนื้อ หมู ไก...</td>\n",
       "      <td>สปาเก็ตตี้</td>\n",
       "      <td>สปาเก็ตตี้ทะเล</td>\n",
       "    </tr>\n",
       "    <tr>\n",
       "      <th>574</th>\n",
       "      <td>สปาเก็ตตี้ที่กลิ่นและรสชาติที่จัดจ้านเป็นเอกลั...</td>\n",
       "      <td>สปาเก็ตตี้</td>\n",
       "      <td>สปาเก็ตตี้ทะเล</td>\n",
       "    </tr>\n",
       "    <tr>\n",
       "      <th>575</th>\n",
       "      <td>สปาเก็ตตี้ที่ให้รสชาติเผ็ดจัดจ้าน มีกุ้ง มีหมึ...</td>\n",
       "      <td>สปาเก็ตตี้</td>\n",
       "      <td>สปาเก็ตตี้ทะเล</td>\n",
       "    </tr>\n",
       "  </tbody>\n",
       "</table>\n",
       "</div>"
      ],
      "text/plain": [
       "                                                  Text   Mainclass  \\\n",
       "571  เมนูที่เอาเส้นพาสต้ามาผัดกับของทะเลแล้วแล้วก็ใ...  สปาเก็ตตี้   \n",
       "572  สปาเก็ตตี้ที่มีสีแดง และเขียวตัดกับ สีของเส้นท...  สปาเก็ตตี้   \n",
       "573  ฉันอยากกินสปาเก็ตตี้แต่ฉันเบื่อพวกเนื้อ หมู ไก...  สปาเก็ตตี้   \n",
       "574  สปาเก็ตตี้ที่กลิ่นและรสชาติที่จัดจ้านเป็นเอกลั...  สปาเก็ตตี้   \n",
       "575  สปาเก็ตตี้ที่ให้รสชาติเผ็ดจัดจ้าน มีกุ้ง มีหมึ...  สปาเก็ตตี้   \n",
       "\n",
       "           Subclass  \n",
       "571  สปาเก็ตตี้ทะเล  \n",
       "572  สปาเก็ตตี้ทะเล  \n",
       "573  สปาเก็ตตี้ทะเล  \n",
       "574  สปาเก็ตตี้ทะเล  \n",
       "575  สปาเก็ตตี้ทะเล  "
      ]
     },
     "metadata": {},
     "output_type": "display_data"
    }
   ],
   "source": [
    "# Display the first 5 rows of the dataframe\n",
    "display(df_orig.head(n=5))\n",
    "# Display the last 5 rows of the dataframe\n",
    "display(df_orig.tail(n=5))"
   ]
  },
  {
   "attachments": {},
   "cell_type": "markdown",
   "metadata": {},
   "source": [
    "# **Data Preprocessing**"
   ]
  },
  {
   "cell_type": "code",
   "execution_count": 749,
   "metadata": {},
   "outputs": [],
   "source": [
    "df_prepro = df_orig.copy()"
   ]
  },
  {
   "attachments": {},
   "cell_type": "markdown",
   "metadata": {},
   "source": [
    "## **Data Cleaning**"
   ]
  },
  {
   "cell_type": "code",
   "execution_count": 750,
   "metadata": {},
   "outputs": [
    {
     "data": {
      "text/html": [
       "<div>\n",
       "<style scoped>\n",
       "    .dataframe tbody tr th:only-of-type {\n",
       "        vertical-align: middle;\n",
       "    }\n",
       "\n",
       "    .dataframe tbody tr th {\n",
       "        vertical-align: top;\n",
       "    }\n",
       "\n",
       "    .dataframe thead th {\n",
       "        text-align: right;\n",
       "    }\n",
       "</style>\n",
       "<table border=\"1\" class=\"dataframe\">\n",
       "  <thead>\n",
       "    <tr style=\"text-align: right;\">\n",
       "      <th></th>\n",
       "      <th>Text</th>\n",
       "      <th>Mainclass</th>\n",
       "      <th>Subclass</th>\n",
       "    </tr>\n",
       "  </thead>\n",
       "  <tbody>\n",
       "    <tr>\n",
       "      <th>count</th>\n",
       "      <td>576</td>\n",
       "      <td>576</td>\n",
       "      <td>576</td>\n",
       "    </tr>\n",
       "    <tr>\n",
       "      <th>unique</th>\n",
       "      <td>576</td>\n",
       "      <td>3</td>\n",
       "      <td>12</td>\n",
       "    </tr>\n",
       "    <tr>\n",
       "      <th>top</th>\n",
       "      <td>อยากกินกุ้งที่จะมีความหนุบๆ กับน้ำสลัดเทาซันไอ...</td>\n",
       "      <td>พิซซ่า</td>\n",
       "      <td>ค็อกเทลกุ้ง</td>\n",
       "    </tr>\n",
       "    <tr>\n",
       "      <th>freq</th>\n",
       "      <td>1</td>\n",
       "      <td>192</td>\n",
       "      <td>48</td>\n",
       "    </tr>\n",
       "  </tbody>\n",
       "</table>\n",
       "</div>"
      ],
      "text/plain": [
       "                                                     Text Mainclass  \\\n",
       "count                                                 576       576   \n",
       "unique                                                576         3   \n",
       "top     อยากกินกุ้งที่จะมีความหนุบๆ กับน้ำสลัดเทาซันไอ...    พิซซ่า   \n",
       "freq                                                    1       192   \n",
       "\n",
       "           Subclass  \n",
       "count           576  \n",
       "unique           12  \n",
       "top     ค็อกเทลกุ้ง  \n",
       "freq             48  "
      ]
     },
     "metadata": {},
     "output_type": "display_data"
    },
    {
     "data": {
      "text/plain": [
       "array(['พิซซ่า', 'ก๋วยเตี๋ยว', 'สปาเก็ตตี้'], dtype=object)"
      ]
     },
     "metadata": {},
     "output_type": "display_data"
    },
    {
     "data": {
      "text/plain": [
       "array(['ค็อกเทลกุ้ง', 'มีทเดอลุกซ์', 'เห็ดและมะเขือเทศ', 'ดิปเปอร์',\n",
       "       'ก๋วยเตี๋ยวน้ำตก', 'ก๋วยเตี๋ยวต้มยำน้ำใส', 'บะหมีหมูแดงหมูกรอบ',\n",
       "       'เกาเหลา', 'สปาเก็ตตี้มีทบอล', 'สปาเก็ตตี้คาโบนาร่า',\n",
       "       'สปาเก็ตตี้ผัก', 'สปาเก็ตตี้ทะเล'], dtype=object)"
      ]
     },
     "metadata": {},
     "output_type": "display_data"
    }
   ],
   "source": [
    "display(df_prepro.describe())\n",
    "display(df_prepro.Mainclass.unique())\n",
    "display(df_prepro.Subclass.unique())"
   ]
  },
  {
   "attachments": {},
   "cell_type": "markdown",
   "metadata": {},
   "source": [
    "### **Remove Duplications in text inputs**"
   ]
  },
  {
   "cell_type": "code",
   "execution_count": 751,
   "metadata": {},
   "outputs": [
    {
     "data": {
      "text/html": [
       "<div>\n",
       "<style scoped>\n",
       "    .dataframe tbody tr th:only-of-type {\n",
       "        vertical-align: middle;\n",
       "    }\n",
       "\n",
       "    .dataframe tbody tr th {\n",
       "        vertical-align: top;\n",
       "    }\n",
       "\n",
       "    .dataframe thead th {\n",
       "        text-align: right;\n",
       "    }\n",
       "</style>\n",
       "<table border=\"1\" class=\"dataframe\">\n",
       "  <thead>\n",
       "    <tr style=\"text-align: right;\">\n",
       "      <th></th>\n",
       "      <th>Text</th>\n",
       "      <th>Mainclass</th>\n",
       "      <th>Subclass</th>\n",
       "    </tr>\n",
       "  </thead>\n",
       "  <tbody>\n",
       "  </tbody>\n",
       "</table>\n",
       "</div>"
      ],
      "text/plain": [
       "Empty DataFrame\n",
       "Columns: [Text, Mainclass, Subclass]\n",
       "Index: []"
      ]
     },
     "metadata": {},
     "output_type": "display_data"
    }
   ],
   "source": [
    "# display all text that appears more than once\n",
    "display(df_prepro[df_prepro.duplicated('Text', keep=False)].sort_values('Text'))\n",
    "# Then no duplicates"
   ]
  },
  {
   "attachments": {},
   "cell_type": "markdown",
   "metadata": {},
   "source": [
    "### **Remove unwanted character**"
   ]
  },
  {
   "attachments": {},
   "cell_type": "markdown",
   "metadata": {},
   "source": [
    "#### **Front-Back white space**"
   ]
  },
  {
   "cell_type": "code",
   "execution_count": 752,
   "metadata": {},
   "outputs": [
    {
     "data": {
      "text/html": [
       "<div>\n",
       "<style scoped>\n",
       "    .dataframe tbody tr th:only-of-type {\n",
       "        vertical-align: middle;\n",
       "    }\n",
       "\n",
       "    .dataframe tbody tr th {\n",
       "        vertical-align: top;\n",
       "    }\n",
       "\n",
       "    .dataframe thead th {\n",
       "        text-align: right;\n",
       "    }\n",
       "</style>\n",
       "<table border=\"1\" class=\"dataframe\">\n",
       "  <thead>\n",
       "    <tr style=\"text-align: right;\">\n",
       "      <th></th>\n",
       "      <th>Text</th>\n",
       "      <th>Mainclass</th>\n",
       "      <th>Subclass</th>\n",
       "    </tr>\n",
       "  </thead>\n",
       "  <tbody>\n",
       "    <tr>\n",
       "      <th>0</th>\n",
       "      <td>อยากกินกุ้งที่จะมีความหนุบๆ กับน้ำสลัดเทาซันไอ...</td>\n",
       "      <td>พิซซ่า</td>\n",
       "      <td>ค็อกเทลกุ้ง</td>\n",
       "    </tr>\n",
       "    <tr>\n",
       "      <th>1</th>\n",
       "      <td>ผมชอบอาหารที่สามารถทำได้เร็ว มีหน้าตาที่สวยงาม...</td>\n",
       "      <td>พิซซ่า</td>\n",
       "      <td>ค็อกเทลกุ้ง</td>\n",
       "    </tr>\n",
       "    <tr>\n",
       "      <th>2</th>\n",
       "      <td>ทำจากแป้งมีทั้งหนานุ่ม และบางกรอบเหมาะกับคนที่...</td>\n",
       "      <td>พิซซ่า</td>\n",
       "      <td>ค็อกเทลกุ้ง</td>\n",
       "    </tr>\n",
       "    <tr>\n",
       "      <th>3</th>\n",
       "      <td>เนื้อหลักเป็นกุ้งมีรสชาติที่จัดจ้านจากซอสมีต้น...</td>\n",
       "      <td>พิซซ่า</td>\n",
       "      <td>ค็อกเทลกุ้ง</td>\n",
       "    </tr>\n",
       "    <tr>\n",
       "      <th>4</th>\n",
       "      <td>อาหารที่มีลักษณะกลม ๆ สามารถแบ่งเป็นชิ้นได้กิน...</td>\n",
       "      <td>พิซซ่า</td>\n",
       "      <td>ค็อกเทลกุ้ง</td>\n",
       "    </tr>\n",
       "  </tbody>\n",
       "</table>\n",
       "</div>"
      ],
      "text/plain": [
       "                                                Text Mainclass     Subclass\n",
       "0  อยากกินกุ้งที่จะมีความหนุบๆ กับน้ำสลัดเทาซันไอ...    พิซซ่า  ค็อกเทลกุ้ง\n",
       "1  ผมชอบอาหารที่สามารถทำได้เร็ว มีหน้าตาที่สวยงาม...    พิซซ่า  ค็อกเทลกุ้ง\n",
       "2  ทำจากแป้งมีทั้งหนานุ่ม และบางกรอบเหมาะกับคนที่...    พิซซ่า  ค็อกเทลกุ้ง\n",
       "3  เนื้อหลักเป็นกุ้งมีรสชาติที่จัดจ้านจากซอสมีต้น...    พิซซ่า  ค็อกเทลกุ้ง\n",
       "4  อาหารที่มีลักษณะกลม ๆ สามารถแบ่งเป็นชิ้นได้กิน...    พิซซ่า  ค็อกเทลกุ้ง"
      ]
     },
     "execution_count": 752,
     "metadata": {},
     "output_type": "execute_result"
    }
   ],
   "source": [
    "def strip_space(text):\n",
    "    return text.strip()\n",
    "\n",
    "df_prepro['Text'] = df_prepro['Text'].apply(strip_space)\n",
    "df_prepro.head()"
   ]
  },
  {
   "attachments": {},
   "cell_type": "markdown",
   "metadata": {},
   "source": [
    "#### **Remove white space between words**"
   ]
  },
  {
   "cell_type": "code",
   "execution_count": 753,
   "metadata": {},
   "outputs": [
    {
     "data": {
      "text/html": [
       "<div>\n",
       "<style scoped>\n",
       "    .dataframe tbody tr th:only-of-type {\n",
       "        vertical-align: middle;\n",
       "    }\n",
       "\n",
       "    .dataframe tbody tr th {\n",
       "        vertical-align: top;\n",
       "    }\n",
       "\n",
       "    .dataframe thead th {\n",
       "        text-align: right;\n",
       "    }\n",
       "</style>\n",
       "<table border=\"1\" class=\"dataframe\">\n",
       "  <thead>\n",
       "    <tr style=\"text-align: right;\">\n",
       "      <th></th>\n",
       "      <th>Text</th>\n",
       "      <th>Mainclass</th>\n",
       "      <th>Subclass</th>\n",
       "    </tr>\n",
       "  </thead>\n",
       "  <tbody>\n",
       "    <tr>\n",
       "      <th>0</th>\n",
       "      <td>อยากกินกุ้งที่จะมีความหนุบๆกับน้ำสลัดเทาซันไอส...</td>\n",
       "      <td>พิซซ่า</td>\n",
       "      <td>ค็อกเทลกุ้ง</td>\n",
       "    </tr>\n",
       "    <tr>\n",
       "      <th>1</th>\n",
       "      <td>ผมชอบอาหารที่สามารถทำได้เร็วมีหน้าตาที่สวยงามส...</td>\n",
       "      <td>พิซซ่า</td>\n",
       "      <td>ค็อกเทลกุ้ง</td>\n",
       "    </tr>\n",
       "    <tr>\n",
       "      <th>2</th>\n",
       "      <td>ทำจากแป้งมีทั้งหนานุ่มและบางกรอบเหมาะกับคนที่ช...</td>\n",
       "      <td>พิซซ่า</td>\n",
       "      <td>ค็อกเทลกุ้ง</td>\n",
       "    </tr>\n",
       "    <tr>\n",
       "      <th>3</th>\n",
       "      <td>เนื้อหลักเป็นกุ้งมีรสชาติที่จัดจ้านจากซอสมีต้น...</td>\n",
       "      <td>พิซซ่า</td>\n",
       "      <td>ค็อกเทลกุ้ง</td>\n",
       "    </tr>\n",
       "    <tr>\n",
       "      <th>4</th>\n",
       "      <td>อาหารที่มีลักษณะกลมๆสามารถแบ่งเป็นชิ้นได้กินกั...</td>\n",
       "      <td>พิซซ่า</td>\n",
       "      <td>ค็อกเทลกุ้ง</td>\n",
       "    </tr>\n",
       "  </tbody>\n",
       "</table>\n",
       "</div>"
      ],
      "text/plain": [
       "                                                Text Mainclass     Subclass\n",
       "0  อยากกินกุ้งที่จะมีความหนุบๆกับน้ำสลัดเทาซันไอส...    พิซซ่า  ค็อกเทลกุ้ง\n",
       "1  ผมชอบอาหารที่สามารถทำได้เร็วมีหน้าตาที่สวยงามส...    พิซซ่า  ค็อกเทลกุ้ง\n",
       "2  ทำจากแป้งมีทั้งหนานุ่มและบางกรอบเหมาะกับคนที่ช...    พิซซ่า  ค็อกเทลกุ้ง\n",
       "3  เนื้อหลักเป็นกุ้งมีรสชาติที่จัดจ้านจากซอสมีต้น...    พิซซ่า  ค็อกเทลกุ้ง\n",
       "4  อาหารที่มีลักษณะกลมๆสามารถแบ่งเป็นชิ้นได้กินกั...    พิซซ่า  ค็อกเทลกุ้ง"
      ]
     },
     "execution_count": 753,
     "metadata": {},
     "output_type": "execute_result"
    }
   ],
   "source": [
    "def remove_whitespace(text):\n",
    "    return text.replace(\" \", \"\")\n",
    "\n",
    "df_prepro['Text'] = df_prepro['Text'].apply(remove_whitespace)\n",
    "df_prepro.head()"
   ]
  },
  {
   "attachments": {},
   "cell_type": "markdown",
   "metadata": {},
   "source": [
    "#### **Remove special character and punctuation**"
   ]
  },
  {
   "cell_type": "code",
   "execution_count": 754,
   "metadata": {},
   "outputs": [
    {
     "data": {
      "text/html": [
       "<div>\n",
       "<style scoped>\n",
       "    .dataframe tbody tr th:only-of-type {\n",
       "        vertical-align: middle;\n",
       "    }\n",
       "\n",
       "    .dataframe tbody tr th {\n",
       "        vertical-align: top;\n",
       "    }\n",
       "\n",
       "    .dataframe thead th {\n",
       "        text-align: right;\n",
       "    }\n",
       "</style>\n",
       "<table border=\"1\" class=\"dataframe\">\n",
       "  <thead>\n",
       "    <tr style=\"text-align: right;\">\n",
       "      <th></th>\n",
       "      <th>Text</th>\n",
       "      <th>Mainclass</th>\n",
       "      <th>Subclass</th>\n",
       "    </tr>\n",
       "  </thead>\n",
       "  <tbody>\n",
       "    <tr>\n",
       "      <th>0</th>\n",
       "      <td>อยากกินกุ้งที่จะมีความหนุบกับน้ำสลัดเทาซันไอส์...</td>\n",
       "      <td>พิซซ่า</td>\n",
       "      <td>ค็อกเทลกุ้ง</td>\n",
       "    </tr>\n",
       "    <tr>\n",
       "      <th>1</th>\n",
       "      <td>ผมชอบอาหารที่สามารถทำได้เร็วมีหน้าตาที่สวยงามส...</td>\n",
       "      <td>พิซซ่า</td>\n",
       "      <td>ค็อกเทลกุ้ง</td>\n",
       "    </tr>\n",
       "    <tr>\n",
       "      <th>2</th>\n",
       "      <td>ทำจากแป้งมีทั้งหนานุ่มและบางกรอบเหมาะกับคนที่ช...</td>\n",
       "      <td>พิซซ่า</td>\n",
       "      <td>ค็อกเทลกุ้ง</td>\n",
       "    </tr>\n",
       "    <tr>\n",
       "      <th>3</th>\n",
       "      <td>เนื้อหลักเป็นกุ้งมีรสชาติที่จัดจ้านจากซอสมีต้น...</td>\n",
       "      <td>พิซซ่า</td>\n",
       "      <td>ค็อกเทลกุ้ง</td>\n",
       "    </tr>\n",
       "    <tr>\n",
       "      <th>4</th>\n",
       "      <td>อาหารที่มีลักษณะกลมสามารถแบ่งเป็นชิ้นได้กินกับ...</td>\n",
       "      <td>พิซซ่า</td>\n",
       "      <td>ค็อกเทลกุ้ง</td>\n",
       "    </tr>\n",
       "  </tbody>\n",
       "</table>\n",
       "</div>"
      ],
      "text/plain": [
       "                                                Text Mainclass     Subclass\n",
       "0  อยากกินกุ้งที่จะมีความหนุบกับน้ำสลัดเทาซันไอส์...    พิซซ่า  ค็อกเทลกุ้ง\n",
       "1  ผมชอบอาหารที่สามารถทำได้เร็วมีหน้าตาที่สวยงามส...    พิซซ่า  ค็อกเทลกุ้ง\n",
       "2  ทำจากแป้งมีทั้งหนานุ่มและบางกรอบเหมาะกับคนที่ช...    พิซซ่า  ค็อกเทลกุ้ง\n",
       "3  เนื้อหลักเป็นกุ้งมีรสชาติที่จัดจ้านจากซอสมีต้น...    พิซซ่า  ค็อกเทลกุ้ง\n",
       "4  อาหารที่มีลักษณะกลมสามารถแบ่งเป็นชิ้นได้กินกับ...    พิซซ่า  ค็อกเทลกุ้ง"
      ]
     },
     "execution_count": 754,
     "metadata": {},
     "output_type": "execute_result"
    }
   ],
   "source": [
    "punctuation = '!\"#$%&\\'()*+,-./:;<=>?@[\\\\]^_`{|}~'\n",
    "thai_punctuation = 'ๆ'\n",
    "def remove_punctuation(text):\n",
    "    return text.translate(str.maketrans('', '', punctuation + thai_punctuation))\n",
    " \n",
    "df_prepro['Text'] = df_prepro['Text'].apply(remove_punctuation)\n",
    "df_prepro.head()"
   ]
  },
  {
   "attachments": {},
   "cell_type": "markdown",
   "metadata": {},
   "source": [
    "### **Label Mapping**"
   ]
  },
  {
   "cell_type": "code",
   "execution_count": 755,
   "metadata": {},
   "outputs": [],
   "source": [
    "def get_label_map(df, col_name):\n",
    "    label_map = {}\n",
    "    for i, label in enumerate(df[col_name].unique()):\n",
    "        label_map[label] = i\n",
    "    reversed_label_map = {v: k for k, v in label_map.items()}\n",
    "    return label_map, reversed_label_map"
   ]
  },
  {
   "attachments": {},
   "cell_type": "markdown",
   "metadata": {},
   "source": [
    "#### **Get main class labels**"
   ]
  },
  {
   "cell_type": "code",
   "execution_count": 756,
   "metadata": {},
   "outputs": [
    {
     "data": {
      "text/plain": [
       "{'พิซซ่า': 0, 'ก๋วยเตี๋ยว': 1, 'สปาเก็ตตี้': 2}"
      ]
     },
     "metadata": {},
     "output_type": "display_data"
    },
    {
     "data": {
      "text/html": [
       "<div>\n",
       "<style scoped>\n",
       "    .dataframe tbody tr th:only-of-type {\n",
       "        vertical-align: middle;\n",
       "    }\n",
       "\n",
       "    .dataframe tbody tr th {\n",
       "        vertical-align: top;\n",
       "    }\n",
       "\n",
       "    .dataframe thead th {\n",
       "        text-align: right;\n",
       "    }\n",
       "</style>\n",
       "<table border=\"1\" class=\"dataframe\">\n",
       "  <thead>\n",
       "    <tr style=\"text-align: right;\">\n",
       "      <th></th>\n",
       "      <th>Text</th>\n",
       "      <th>Mainclass</th>\n",
       "      <th>Subclass</th>\n",
       "    </tr>\n",
       "  </thead>\n",
       "  <tbody>\n",
       "    <tr>\n",
       "      <th>0</th>\n",
       "      <td>อยากกินกุ้งที่จะมีความหนุบกับน้ำสลัดเทาซันไอส์...</td>\n",
       "      <td>0</td>\n",
       "      <td>ค็อกเทลกุ้ง</td>\n",
       "    </tr>\n",
       "    <tr>\n",
       "      <th>1</th>\n",
       "      <td>ผมชอบอาหารที่สามารถทำได้เร็วมีหน้าตาที่สวยงามส...</td>\n",
       "      <td>0</td>\n",
       "      <td>ค็อกเทลกุ้ง</td>\n",
       "    </tr>\n",
       "    <tr>\n",
       "      <th>2</th>\n",
       "      <td>ทำจากแป้งมีทั้งหนานุ่มและบางกรอบเหมาะกับคนที่ช...</td>\n",
       "      <td>0</td>\n",
       "      <td>ค็อกเทลกุ้ง</td>\n",
       "    </tr>\n",
       "    <tr>\n",
       "      <th>3</th>\n",
       "      <td>เนื้อหลักเป็นกุ้งมีรสชาติที่จัดจ้านจากซอสมีต้น...</td>\n",
       "      <td>0</td>\n",
       "      <td>ค็อกเทลกุ้ง</td>\n",
       "    </tr>\n",
       "    <tr>\n",
       "      <th>4</th>\n",
       "      <td>อาหารที่มีลักษณะกลมสามารถแบ่งเป็นชิ้นได้กินกับ...</td>\n",
       "      <td>0</td>\n",
       "      <td>ค็อกเทลกุ้ง</td>\n",
       "    </tr>\n",
       "  </tbody>\n",
       "</table>\n",
       "</div>"
      ],
      "text/plain": [
       "                                                Text  Mainclass     Subclass\n",
       "0  อยากกินกุ้งที่จะมีความหนุบกับน้ำสลัดเทาซันไอส์...          0  ค็อกเทลกุ้ง\n",
       "1  ผมชอบอาหารที่สามารถทำได้เร็วมีหน้าตาที่สวยงามส...          0  ค็อกเทลกุ้ง\n",
       "2  ทำจากแป้งมีทั้งหนานุ่มและบางกรอบเหมาะกับคนที่ช...          0  ค็อกเทลกุ้ง\n",
       "3  เนื้อหลักเป็นกุ้งมีรสชาติที่จัดจ้านจากซอสมีต้น...          0  ค็อกเทลกุ้ง\n",
       "4  อาหารที่มีลักษณะกลมสามารถแบ่งเป็นชิ้นได้กินกับ...          0  ค็อกเทลกุ้ง"
      ]
     },
     "metadata": {},
     "output_type": "display_data"
    }
   ],
   "source": [
    "mainclass_label_map, reversed_mainclass_label_map = get_label_map(df_prepro, 'Mainclass')\n",
    "\n",
    "display(mainclass_label_map)\n",
    "\n",
    "df_prepro['Mainclass'] = df_prepro['Mainclass'].map(mainclass_label_map)\n",
    "\n",
    "display(df_prepro.head())"
   ]
  },
  {
   "attachments": {},
   "cell_type": "markdown",
   "metadata": {},
   "source": [
    "#### **Get sub class labels**"
   ]
  },
  {
   "cell_type": "code",
   "execution_count": 757,
   "metadata": {},
   "outputs": [
    {
     "data": {
      "text/plain": [
       "{'ค็อกเทลกุ้ง': 0,\n",
       " 'มีทเดอลุกซ์': 1,\n",
       " 'เห็ดและมะเขือเทศ': 2,\n",
       " 'ดิปเปอร์': 3,\n",
       " 'ก๋วยเตี๋ยวน้ำตก': 4,\n",
       " 'ก๋วยเตี๋ยวต้มยำน้ำใส': 5,\n",
       " 'บะหมีหมูแดงหมูกรอบ': 6,\n",
       " 'เกาเหลา': 7,\n",
       " 'สปาเก็ตตี้มีทบอล': 8,\n",
       " 'สปาเก็ตตี้คาโบนาร่า': 9,\n",
       " 'สปาเก็ตตี้ผัก': 10,\n",
       " 'สปาเก็ตตี้ทะเล': 11}"
      ]
     },
     "metadata": {},
     "output_type": "display_data"
    },
    {
     "data": {
      "text/html": [
       "<div>\n",
       "<style scoped>\n",
       "    .dataframe tbody tr th:only-of-type {\n",
       "        vertical-align: middle;\n",
       "    }\n",
       "\n",
       "    .dataframe tbody tr th {\n",
       "        vertical-align: top;\n",
       "    }\n",
       "\n",
       "    .dataframe thead th {\n",
       "        text-align: right;\n",
       "    }\n",
       "</style>\n",
       "<table border=\"1\" class=\"dataframe\">\n",
       "  <thead>\n",
       "    <tr style=\"text-align: right;\">\n",
       "      <th></th>\n",
       "      <th>Text</th>\n",
       "      <th>Mainclass</th>\n",
       "      <th>Subclass</th>\n",
       "    </tr>\n",
       "  </thead>\n",
       "  <tbody>\n",
       "    <tr>\n",
       "      <th>0</th>\n",
       "      <td>อยากกินกุ้งที่จะมีความหนุบกับน้ำสลัดเทาซันไอส์...</td>\n",
       "      <td>0</td>\n",
       "      <td>0</td>\n",
       "    </tr>\n",
       "    <tr>\n",
       "      <th>1</th>\n",
       "      <td>ผมชอบอาหารที่สามารถทำได้เร็วมีหน้าตาที่สวยงามส...</td>\n",
       "      <td>0</td>\n",
       "      <td>0</td>\n",
       "    </tr>\n",
       "    <tr>\n",
       "      <th>2</th>\n",
       "      <td>ทำจากแป้งมีทั้งหนานุ่มและบางกรอบเหมาะกับคนที่ช...</td>\n",
       "      <td>0</td>\n",
       "      <td>0</td>\n",
       "    </tr>\n",
       "    <tr>\n",
       "      <th>3</th>\n",
       "      <td>เนื้อหลักเป็นกุ้งมีรสชาติที่จัดจ้านจากซอสมีต้น...</td>\n",
       "      <td>0</td>\n",
       "      <td>0</td>\n",
       "    </tr>\n",
       "    <tr>\n",
       "      <th>4</th>\n",
       "      <td>อาหารที่มีลักษณะกลมสามารถแบ่งเป็นชิ้นได้กินกับ...</td>\n",
       "      <td>0</td>\n",
       "      <td>0</td>\n",
       "    </tr>\n",
       "  </tbody>\n",
       "</table>\n",
       "</div>"
      ],
      "text/plain": [
       "                                                Text  Mainclass  Subclass\n",
       "0  อยากกินกุ้งที่จะมีความหนุบกับน้ำสลัดเทาซันไอส์...          0         0\n",
       "1  ผมชอบอาหารที่สามารถทำได้เร็วมีหน้าตาที่สวยงามส...          0         0\n",
       "2  ทำจากแป้งมีทั้งหนานุ่มและบางกรอบเหมาะกับคนที่ช...          0         0\n",
       "3  เนื้อหลักเป็นกุ้งมีรสชาติที่จัดจ้านจากซอสมีต้น...          0         0\n",
       "4  อาหารที่มีลักษณะกลมสามารถแบ่งเป็นชิ้นได้กินกับ...          0         0"
      ]
     },
     "metadata": {},
     "output_type": "display_data"
    }
   ],
   "source": [
    "subclass_label_map, reversed_subclass_label_map = get_label_map(df_prepro, 'Subclass')\n",
    "\n",
    "display(subclass_label_map)\n",
    "\n",
    "df_prepro['Subclass'] = df_prepro['Subclass'].map(subclass_label_map)\n",
    "\n",
    "display(df_prepro.head())"
   ]
  },
  {
   "attachments": {},
   "cell_type": "markdown",
   "metadata": {},
   "source": [
    "## **Data Visualization**"
   ]
  },
  {
   "cell_type": "code",
   "execution_count": 758,
   "metadata": {},
   "outputs": [],
   "source": [
    "import matplotlib.pyplot as plt\n",
    "import seaborn as sns"
   ]
  },
  {
   "cell_type": "code",
   "execution_count": 759,
   "metadata": {},
   "outputs": [],
   "source": [
    "def plot_sentence_length_distribution(df, col_name):\n",
    "    \n",
    "    sns.set_style('darkgrid')\n",
    "    sns.set(font_scale=1.0)\n",
    "    plt.rcParams['figure.figsize'] = (12, 8)\n",
    "    \n",
    "    bin_size = 5\n",
    "    bins = np.arange(0, 100, bin_size)\n",
    "    plt.hist(df[col_name].str.len(), bins=bins, alpha=0.5, color='steelblue', edgecolor='k', label='train')\n",
    "    xticks = np.arange(0, 150, bin_size)\n",
    "    plt.xticks(xticks, xticks)\n",
    "    yticks = np.arange(0, 100, bin_size)\n",
    "    plt.yticks(yticks, yticks)\n",
    "    plt.title('Sentence Length Distribution')\n",
    "    plt.legend(loc='upper right')\n",
    "    plt.xlabel('Sentence Length')\n",
    "    plt.ylabel('Number of Sentences')\n",
    "    for a, b in zip(bins, np.histogram(df[col_name].str.len(), bins=bins)[0]):\n",
    "        plt.text(a + 2.5, b + 2.5, '%d' % b, ha='center', va='bottom', fontsize=10)\n",
    "    plt.show()"
   ]
  },
  {
   "attachments": {},
   "cell_type": "markdown",
   "metadata": {},
   "source": [
    "### **Plotting the length of the text data**"
   ]
  },
  {
   "cell_type": "code",
   "execution_count": 760,
   "metadata": {},
   "outputs": [
    {
     "data": {
      "image/png": "[encoded data removed]",
      "text/plain": [
       "<Figure size 1200x800 with 1 Axes>"
      ]
     },
     "metadata": {},
     "output_type": "display_data"
    }
   ],
   "source": [
    "plot_sentence_length_distribution(df_prepro, 'Text')"
   ]
  },
  {
   "attachments": {},
   "cell_type": "markdown",
   "metadata": {},
   "source": [
    "#### **Maximum length of text inputs**"
   ]
  },
  {
   "cell_type": "code",
   "execution_count": 761,
   "metadata": {},
   "outputs": [
    {
     "name": "stdout",
     "output_type": "stream",
     "text": [
      "Max sentence length: 165\n"
     ]
    },
    {
     "data": {
      "text/plain": [
       "count    576.000000\n",
       "mean      88.333333\n",
       "std       26.587477\n",
       "min       20.000000\n",
       "25%       69.750000\n",
       "50%       86.000000\n",
       "75%      107.000000\n",
       "max      165.000000\n",
       "Name: Text, dtype: float64"
      ]
     },
     "execution_count": 761,
     "metadata": {},
     "output_type": "execute_result"
    }
   ],
   "source": [
    "print('Max sentence length: %d' % df_prepro['Text'].str.len().max())\n",
    "\n",
    "df_prepro['Text'].str.len().describe()"
   ]
  },
  {
   "attachments": {},
   "cell_type": "markdown",
   "metadata": {},
   "source": [
    "### **Plot the distribution of labels**"
   ]
  },
  {
   "cell_type": "code",
   "execution_count": 762,
   "metadata": {},
   "outputs": [],
   "source": [
    "def plot_label_distribution(df, col_name, title):\n",
    "    \n",
    "    sns.set_style('darkgrid')\n",
    "    sns.set(font_scale=1.0)\n",
    "    plt.rcParams['figure.figsize'] = (6, 4)\n",
    "    \n",
    "    bin_size = 1\n",
    "    bins = np.arange(0, df[col_name].nunique() + 1, bin_size)\n",
    "    plt.hist(df[col_name], bins=bins, alpha=0.5, color='steelblue', edgecolor='k', label='data')\n",
    "    xticks = np.arange(0, df[col_name].nunique() + 1, bin_size)\n",
    "    plt.xticks(xticks, xticks)\n",
    "    yticks = np.arange(0, df[col_name].value_counts().max() + 100, 500)\n",
    "    plt.yticks(yticks, yticks)\n",
    "    plt.title(title)\n",
    "    plt.legend(loc='upper right')\n",
    "    plt.xlabel('Object')\n",
    "    plt.ylabel('Number of Sentences')\n",
    "    for a, b in zip(bins, np.histogram(df[col_name], bins=bins)[0]):\n",
    "        plt.text(a + 0.5, b + 0.5, '%d' % b, ha='center', va='bottom', fontsize=10)\n",
    "    plt.show()"
   ]
  },
  {
   "cell_type": "code",
   "execution_count": 763,
   "metadata": {},
   "outputs": [
    {
     "data": {
      "image/png": "[encoded data removed]",
      "text/plain": [
       "<Figure size 600x400 with 1 Axes>"
      ]
     },
     "metadata": {},
     "output_type": "display_data"
    }
   ],
   "source": [
    "plot_label_distribution(df_prepro, 'Mainclass', 'Mainclass Distribution')"
   ]
  },
  {
   "cell_type": "code",
   "execution_count": 764,
   "metadata": {},
   "outputs": [
    {
     "data": {
      "image/png": "[encoded data removed]",
      "text/plain": [
       "<Figure size 600x400 with 1 Axes>"
      ]
     },
     "metadata": {},
     "output_type": "display_data"
    }
   ],
   "source": [
    "plot_label_distribution(df_prepro, 'Subclass', 'Subclass Distribution')"
   ]
  },
  {
   "attachments": {},
   "cell_type": "markdown",
   "metadata": {},
   "source": [
    "# **Keras Preprocessing**"
   ]
  },
  {
   "cell_type": "code",
   "execution_count": 765,
   "metadata": {},
   "outputs": [],
   "source": [
    "df_keras = df_prepro.copy()"
   ]
  },
  {
   "cell_type": "code",
   "execution_count": 766,
   "metadata": {},
   "outputs": [
    {
     "data": {
      "text/plain": [
       "array([['อยากกินกุ้งที่จะมีความหนุบกับน้ำสลัดเทาซันไอส์แลนด์ที่มีความเข้มข้นหอมแป้งเยอะ',\n",
       "        0, 0],\n",
       "       ['ผมชอบอาหารที่สามารถทำได้เร็วมีหน้าตาที่สวยงามสามารถหยิบกินได้เป็นชิ้นเน้นเนื้อที่มาจากทะเล',\n",
       "        0, 0],\n",
       "       ['ทำจากแป้งมีทั้งหนานุ่มและบางกรอบเหมาะกับคนที่ชื่นชอบอาหารทะเลราคาไม่แพงหาซื้อได้ง่าย',\n",
       "        0, 0],\n",
       "       ...,\n",
       "       ['ฉันอยากกินสปาเก็ตตี้แต่ฉันเบื่อพวกเนื้อหมูไก่แล้วช่วยแนะนำเมนูให้ฉันหน่อย',\n",
       "        2, 11],\n",
       "       ['สปาเก็ตตี้ที่กลิ่นและรสชาติที่จัดจ้านเป็นเอกลักษณ์', 2, 11],\n",
       "       ['สปาเก็ตตี้ที่ให้รสชาติเผ็ดจัดจ้านมีกุ้งมีหมึกมีหอยและยังใส่พวกพริกไทยอ่อน',\n",
       "        2, 11]], dtype=object)"
      ]
     },
     "execution_count": 766,
     "metadata": {},
     "output_type": "execute_result"
    }
   ],
   "source": [
    "df_keras = df_keras.to_numpy()\n",
    "df_keras"
   ]
  },
  {
   "attachments": {},
   "cell_type": "markdown",
   "metadata": {},
   "source": [
    "## **Word Tokenization**"
   ]
  },
  {
   "cell_type": "code",
   "execution_count": 767,
   "metadata": {},
   "outputs": [],
   "source": [
    "import pythainlp\n",
    "from pythainlp import word_tokenize\n",
    "from keras.utils import pad_sequences"
   ]
  },
  {
   "cell_type": "code",
   "execution_count": 768,
   "metadata": {},
   "outputs": [
    {
     "name": "stdout",
     "output_type": "stream",
     "text": [
      "Example after padding:\n",
      "[array(['อยาก', 'กิน', 'อะไร', 'ก็', 'ได้ที่', 'มี', 'ชีส', 'ผัก', 'เพราะ',\n",
      "        'กิน', 'คีโม', 'ขอ', 'เมนู', 'ทำ', 'ง่าย', 'ใช้เวลา', 'ไม่', 'นาน',\n",
      "        'มี', 'สารอาหาร', 'พวก', 'คา', 'โบ', 'ไฮ', 'เด', 'รต', ' ', ' ',\n",
      "        ' ', ' ', ' ', ' ', ' ', ' ', ' ', ' ', ' ', ' ', ' ', ' ', ' ',\n",
      "        ' ', ' ', ' ', ' ', ' ', ' ', ' ', ' ', ' '], dtype=object)\n",
      " 2 10]\n",
      "Data shape: (576, 3)\n",
      "เท่ากับ 50\n"
     ]
    }
   ],
   "source": [
    "input_tokenize = df_keras.copy()\n",
    "for i, sentence in enumerate(input_tokenize[:, 0]):\n",
    "    input_tokenize[i, 0] = np.array(word_tokenize(sentence, engine='newmm'), dtype=object)\n",
    "\n",
    "input_tokenize = np.asarray(input_tokenize, dtype=object)\n",
    "\n",
    "max_len = max(len(seq) for seq in input_tokenize[:, 0]) + 10\n",
    "\n",
    "for i in range(len(input_tokenize)):\n",
    "    input_tokenize[i, 0] = np.pad(input_tokenize[i, 0], (0, max_len - len(input_tokenize[i, 0])), constant_values=\" \")\n",
    "\n",
    "print(\"Example after padding:\")\n",
    "print(input_tokenize[500])\n",
    "\n",
    "print(f\"Data shape: {input_tokenize.shape}\")\n",
    "\n",
    "for seq in input_tokenize[:, 0]:\n",
    "    if seq.shape[0] != 50:\n",
    "        print(\"ไม่เท่ากับ 50\")\n",
    "\n",
    "print(\"เท่ากับ 50\")"
   ]
  },
  {
   "cell_type": "code",
   "execution_count": 769,
   "metadata": {},
   "outputs": [
    {
     "name": "stdout",
     "output_type": "stream",
     "text": [
      "Example sentence: ['อยาก' 'กิน' 'กุ้ง' 'ที่จะ' 'มี' 'ความ' 'หนุบ' 'กับ' 'น้ำสลัด' 'เทา'\n",
      " 'ซัน' 'ไอส์แลนด์' 'ที่' 'มี' 'ความ' 'เข้มข้น' 'หอม' 'แป้ง' 'เยอะ' ' ' ' '\n",
      " ' ' ' ' ' ' ' ' ' ' ' ' ' ' ' ' ' ' ' ' ' ' ' ' ' ' ' ' ' ' ' ' ' ' ' '\n",
      " ' ' ' ' ' ' ' ' ' ' ' ' ' ' ' ' ' ' ' ' ' ']\n",
      "Example mainclass label: 0\n",
      "Example subclass label: 0\n",
      "Shape\n",
      "Sentence: (576,)\n",
      "Mainclass label: (576,)\n",
      "Subclass label: (576,)\n"
     ]
    }
   ],
   "source": [
    "sentence = input_tokenize[:, 0]\n",
    "mainclass_labels = input_tokenize[:, 1]\n",
    "subclass_labels = input_tokenize[:, 2]\n",
    "\n",
    "print(f'Example sentence: {sentence[0]}')\n",
    "print(f'Example mainclass label: {mainclass_labels[0]}')\n",
    "print(f'Example subclass label: {subclass_labels[0]}')\n",
    "\n",
    "print('Shape')\n",
    "print(f'Sentence: {sentence.shape}')\n",
    "print(f'Mainclass label: {mainclass_labels.shape}')\n",
    "print(f'Subclass label: {subclass_labels.shape}')"
   ]
  },
  {
   "attachments": {},
   "cell_type": "markdown",
   "metadata": {},
   "source": [
    "## **Word Count**"
   ]
  },
  {
   "cell_type": "code",
   "execution_count": 770,
   "metadata": {},
   "outputs": [
    {
     "data": {
      "text/plain": [
       "[(' ', 16726),\n",
       " ('มี', 630),\n",
       " ('ที่', 580),\n",
       " ('กิน', 360),\n",
       " ('และ', 325),\n",
       " ('เป็น', 251),\n",
       " ('อาหาร', 235),\n",
       " ('เส้น', 220),\n",
       " ('ได้', 185),\n",
       " ('อยาก', 160),\n",
       " ('กับ', 144),\n",
       " ('ไม่', 140),\n",
       " ('ของ', 134),\n",
       " ('รสชาติ', 132),\n",
       " ('ผัก', 125)]"
      ]
     },
     "metadata": {},
     "output_type": "display_data"
    }
   ],
   "source": [
    "from collections import Counter\n",
    "\n",
    "word_counts = Counter()\n",
    "for data in input_tokenize[:,0]:\n",
    "    word_counts.update(data)\n",
    "    \n",
    "display(word_counts.most_common(15))"
   ]
  },
  {
   "cell_type": "code",
   "execution_count": 771,
   "metadata": {},
   "outputs": [
    {
     "name": "stdout",
     "output_type": "stream",
     "text": [
      "Maximum vocabulary size from data set: 1267\n",
      "Maximum sentence length from data set: 50\n"
     ]
    }
   ],
   "source": [
    "# Find maximym vocabulary size\n",
    "max_vocab_size = len(word_counts) + 1 # +1 for unknown token\n",
    "print(f'Maximum vocabulary size from data set: {max_vocab_size}')\n",
    "# Find maximum sentence length\n",
    "max_len = max([len(sentence) for sentence in input_tokenize[:,0]])\n",
    "print(f'Maximum sentence length from data set: {max_len}')\n",
    "\n",
    "# Set parameters\n",
    "max_vocab_size = 5000 # Set maximum vocabulary size to 5000 word (including unknown token)\n",
    "max_len = 50 # Set maximum sentence length to 50 word per input text"
   ]
  },
  {
   "attachments": {},
   "cell_type": "markdown",
   "metadata": {},
   "source": [
    "## **Word Vectorization**"
   ]
  },
  {
   "cell_type": "code",
   "execution_count": 772,
   "metadata": {},
   "outputs": [
    {
     "data": {
      "text/plain": [
       "array(['อยาก', 'กิน', 'กุ้ง', 'ที่จะ', 'มี', 'ความ', 'หนุบ', 'กับ',\n",
       "       'น้ำสลัด', 'เทา', 'ซัน', 'ไอส์แลนด์', 'ที่', 'มี', 'ความ',\n",
       "       'เข้มข้น', 'หอม', 'แป้ง', 'เยอะ', ' ', ' ', ' ', ' ', ' ', ' ',\n",
       "       ' ', ' ', ' ', ' ', ' ', ' ', ' ', ' ', ' ', ' ', ' ', ' ', ' ',\n",
       "       ' ', ' ', ' ', ' ', ' ', ' ', ' ', ' ', ' ', ' ', ' ', ' '],\n",
       "      dtype=object)"
      ]
     },
     "execution_count": 772,
     "metadata": {},
     "output_type": "execute_result"
    }
   ],
   "source": [
    "sentence[0]"
   ]
  },
  {
   "cell_type": "code",
   "execution_count": 773,
   "metadata": {},
   "outputs": [],
   "source": [
    "from pythainlp import word_vector\n",
    "wordVector = word_vector.WordVector(model_name=\"thai2fit_wv\").get_model() # load thai2fit_wv from pythainlp"
   ]
  },
  {
   "cell_type": "code",
   "execution_count": 774,
   "metadata": {},
   "outputs": [
    {
     "name": "stdout",
     "output_type": "stream",
     "text": [
      "Sentence vector shape: (576, 50, 300)\n"
     ]
    }
   ],
   "source": [
    "def map_word_to_vector(word):\n",
    "    try:\n",
    "        return wordVector[word]\n",
    "    except KeyError:\n",
    "        return np.zeros(wordVector.vector_size)\n",
    "\n",
    "sentence_vector = np.array([np.array([map_word_to_vector(word) for word in sentence]) for sentence in input_tokenize[:,0]],dtype=object)\n",
    "\n",
    "print(f'Sentence vector shape: {sentence_vector.shape}')"
   ]
  },
  {
   "cell_type": "code",
   "execution_count": 775,
   "metadata": {},
   "outputs": [
    {
     "data": {
      "text/plain": [
       "(50, 300)"
      ]
     },
     "execution_count": 775,
     "metadata": {},
     "output_type": "execute_result"
    }
   ],
   "source": [
    "sentence_vector[0].shape"
   ]
  },
  {
   "cell_type": "code",
   "execution_count": 776,
   "metadata": {},
   "outputs": [
    {
     "data": {
      "text/plain": [
       "(300,)"
      ]
     },
     "execution_count": 776,
     "metadata": {},
     "output_type": "execute_result"
    }
   ],
   "source": [
    "sentence_vector[0][0].shape"
   ]
  },
  {
   "attachments": {},
   "cell_type": "markdown",
   "metadata": {},
   "source": [
    "### **One-hot encoding**"
   ]
  },
  {
   "cell_type": "code",
   "execution_count": 777,
   "metadata": {},
   "outputs": [
    {
     "name": "stdout",
     "output_type": "stream",
     "text": [
      "Mainclass labels shape: (576, 3)\n",
      "Subclass labels shape: (576, 12)\n"
     ]
    }
   ],
   "source": [
    "from keras.utils import to_categorical\n",
    "\n",
    "mainclass_labels = to_categorical(mainclass_labels)\n",
    "subclass_labels = to_categorical(subclass_labels)\n",
    "\n",
    "print('Mainclass labels shape:', mainclass_labels.shape)\n",
    "print('Subclass labels shape:', subclass_labels.shape)"
   ]
  },
  {
   "attachments": {},
   "cell_type": "markdown",
   "metadata": {},
   "source": [
    "## **Train-Test Split**"
   ]
  },
  {
   "cell_type": "code",
   "execution_count": 778,
   "metadata": {},
   "outputs": [],
   "source": [
    "from sklearn.model_selection import train_test_split\n",
    "\n",
    "X_train, X_test, y_train_main_class, y_test_main_class, y_train_sub_class, y_test_sub_class = train_test_split(sentence_vector, mainclass_labels, subclass_labels, train_size=0.8, shuffle=True)\n"
   ]
  },
  {
   "cell_type": "code",
   "execution_count": 779,
   "metadata": {},
   "outputs": [
    {
     "name": "stdout",
     "output_type": "stream",
     "text": [
      "X_train shape: (460, 50, 300)\n",
      "y_train_main_class shape: (460, 3)\n",
      "y_train_sub_class shape: (460, 12)\n",
      "-----------------------------------------\n",
      "X_test shape: (116, 50, 300)\n",
      "y_test_main_class shape: (116, 3)\n",
      "y_test_sub_class shape: (116, 12)\n"
     ]
    }
   ],
   "source": [
    "print(f'X_train shape: {X_train.shape}')\n",
    "print(f'y_train_main_class shape: {y_train_main_class.shape}')\n",
    "print(f'y_train_sub_class shape: {y_train_sub_class.shape}')\n",
    "print('-----------------------------------------')\n",
    "print(f'X_test shape: {X_test.shape}')\n",
    "print(f'y_test_main_class shape: {y_test_main_class.shape}')\n",
    "print(f'y_test_sub_class shape: {y_test_sub_class.shape}')"
   ]
  },
  {
   "attachments": {},
   "cell_type": "markdown",
   "metadata": {},
   "source": [
    "Converting the data from numpy array to Tensorflow Dataset"
   ]
  },
  {
   "cell_type": "code",
   "execution_count": 780,
   "metadata": {},
   "outputs": [],
   "source": [
    "X_train = tf.convert_to_tensor(X_train, dtype=tf.float32)\n",
    "X_test = tf.convert_to_tensor(X_test, dtype=tf.float32)\n",
    "y_train_main_class = tf.convert_to_tensor(y_train_main_class, dtype=tf.float32)\n",
    "y_test_main_class = tf.convert_to_tensor(y_test_main_class, dtype=tf.float32)\n",
    "y_train_sub_class = tf.convert_to_tensor(y_train_sub_class, dtype=tf.float32)\n",
    "y_test_sub_class = tf.convert_to_tensor(y_test_sub_class, dtype=tf.float32)"
   ]
  },
  {
   "attachments": {},
   "cell_type": "markdown",
   "metadata": {},
   "source": [
    "# **Modeling**"
   ]
  },
  {
   "cell_type": "code",
   "execution_count": 781,
   "metadata": {},
   "outputs": [],
   "source": [
    "# Train model\n",
    "from keras.callbacks import EarlyStopping\n",
    "from keras.callbacks import ModelCheckpoint\n",
    "from time import time\n",
    "from datetime import timedelta\n",
    "import keras\n",
    "from keras.models import load_model\n",
    "import os\n",
    "\n",
    "from keras.utils import plot_model\n",
    "\n",
    "# Build model\n",
    "from keras.models import Sequential, Model\n",
    "from keras.layers import Embedding, Reshape, Activation, Input, Dense,GRU,Reshape,TimeDistributed,Bidirectional,Dropout,Masking,LSTM, GlobalAveragePooling1D, Conv1D, MaxPooling1D, Flatten,GlobalMaxPooling1D\n",
    "from keras.layers import Concatenate, Lambda, Reshape, RepeatVector,Multiply\n",
    "from keras.optimizers import Adam\n",
    "from keras import backend as K                                                          \n",
    "from keras.callbacks import ModelCheckpoint, TensorBoard\n",
    "\n",
    "# Classifications report\n",
    "from sklearn.metrics import classification_report, confusion_matrix, ConfusionMatrixDisplay ,multilabel_confusion_matrix, accuracy_score"
   ]
  },
  {
   "attachments": {},
   "cell_type": "markdown",
   "metadata": {},
   "source": [
    "## **Sub Class Model**"
   ]
  },
  {
   "attachments": {},
   "cell_type": "markdown",
   "metadata": {},
   "source": [
    "# Test model 1"
   ]
  },
  {
   "cell_type": "code",
   "execution_count": 782,
   "metadata": {},
   "outputs": [],
   "source": [
    "# Test model\n",
    "max_len = 50\n",
    "word_vector_size = 300\n",
    "main_class_label = ['class1', 'class2', 'class3']\n",
    "sub_class_label = {'class1': ['sub11', 'sub12', 'sub13', 'sub14'],\n",
    "                   'class2': ['sub21', 'sub22', 'sub23', 'sub24'],\n",
    "                   'class3': ['sub31', 'sub32', 'sub33', 'sub34']}\n",
    "# Test model\n",
    "# Define inputs\n",
    "text_input_layer  = Input(shape=(max_len, word_vector_size), dtype='float32', name='text_input_layer')\n",
    "main_class_input_layer  = Input(shape=(len(main_class_label),), dtype='float32', name='main_class_input_layer')\n",
    "\n",
    "# Define layers\n",
    "masking_layer = Masking(mask_value=0.0)(text_input_layer)\n",
    "conv1d_layer_1 = Conv1D(filters=32, kernel_size=3, activation='relu')(masking_layer)\n",
    "bi_lstm_layer_1 = Bidirectional(LSTM(32, return_sequences=True))(conv1d_layer_1)\n",
    "dropout_layer_1 = Dropout(0.2)(bi_lstm_layer_1)\n",
    "global_max_pooling_layer_1 = GlobalMaxPooling1D()(dropout_layer_1)\n",
    "\n",
    "# Main class output\n",
    "main_class_output_layer = Dense(len(main_class_label), activation='softmax', name='main_class_output')(global_max_pooling_layer_1)\n",
    "\n",
    "main_class_input_argmax = Lambda(lambda x: K.argmax(x))(main_class_input_layer)\n",
    "\n",
    "# Sub class output\n",
    "maskoutput = {}\n",
    "sub_class_output_layers = {}\n",
    "for main_class in main_class_label:\n",
    "    # Create binary mask that is 1 only when the main class is correct\n",
    "    # binary_mask = K.cast(K.equal(K.argmax(main_class_output_layer), main_class_label.index(main_class)), dtype='float32')\n",
    "    binary_mask = K.cast(K.equal(main_class_input_argmax, main_class_label.index(main_class)), dtype='float32')\n",
    "    # binary_mask = main_class_input_layer[:, main_class_label.index(main_class)]\n",
    "    reshape_binary_mask = Reshape((-1,))(binary_mask)\n",
    "    \n",
    "    repeat_binary_mask = RepeatVector(16)(reshape_binary_mask)\n",
    "    \n",
    "    reshape_repeat_binary_mask = Reshape((16,))(repeat_binary_mask)\n",
    "    \n",
    "    # Define dense layer for each sub class outputs\n",
    "    dense_layer = Dense(16, activation='relu')(global_max_pooling_layer_1)\n",
    "\n",
    "    # Apply the binary mask to the dense layer output\n",
    "    # masked_dense_layer= Lambda(lambda x: x[0] * x[1])([dense_layer, binary_mask])\n",
    "    masked_dense_layer = Multiply()([dense_layer, reshape_repeat_binary_mask])\n",
    "    # masked_dense_layer = dense_layer * binary_mask\n",
    "\n",
    "    # Add the masked dense layer to the sub class output dictionary\n",
    "    sub_class_output_layers[main_class] = masked_dense_layer\n",
    "    maskoutput[main_class] = reshape_repeat_binary_mask\n",
    "\n",
    "\n",
    "# Define the model\n",
    "model = Model(inputs=[text_input_layer, main_class_input_layer], outputs=[main_class_output_layer, list(sub_class_output_layers.values()),maskoutput,main_class_input_argmax])"
   ]
  },
  {
   "cell_type": "code",
   "execution_count": 783,
   "metadata": {},
   "outputs": [
    {
     "data": {
      "image/png": "[encoded data removed]",
      "text/plain": [
       "<IPython.core.display.Image object>"
      ]
     },
     "execution_count": 783,
     "metadata": {},
     "output_type": "execute_result"
    }
   ],
   "source": [
    "plot_model(model, to_file=pic_path+'modeltest.png', show_shapes=True, show_layer_names=True, expand_nested=True)"
   ]
  },
  {
   "attachments": {},
   "cell_type": "markdown",
   "metadata": {},
   "source": [
    "# Test Layer"
   ]
  },
  {
   "cell_type": "code",
   "execution_count": 784,
   "metadata": {},
   "outputs": [
    {
     "data": {
      "text/plain": [
       "<tf.Tensor: shape=(10,), dtype=float32, numpy=array([1., 1., 1., 1., 1., 1., 1., 1., 1., 1.], dtype=float32)>"
      ]
     },
     "execution_count": 784,
     "metadata": {},
     "output_type": "execute_result"
    }
   ],
   "source": [
    "samples = 10\n",
    "tensor_shape = ()\n",
    "ones_tensor = np.ones(tensor_shape)\n",
    "\n",
    "gdata = np.array([ones_tensor] * samples)\n",
    "gdata = tf.convert_to_tensor(gdata, dtype=tf.float32)\n",
    "gdata "
   ]
  },
  {
   "cell_type": "code",
   "execution_count": 785,
   "metadata": {},
   "outputs": [
    {
     "data": {
      "text/plain": [
       "<tf.Tensor: shape=(10, 1), dtype=float32, numpy=\n",
       "array([[1.],\n",
       "       [1.],\n",
       "       [1.],\n",
       "       [1.],\n",
       "       [1.],\n",
       "       [1.],\n",
       "       [1.],\n",
       "       [1.],\n",
       "       [1.],\n",
       "       [1.]], dtype=float32)>"
      ]
     },
     "execution_count": 785,
     "metadata": {},
     "output_type": "execute_result"
    }
   ],
   "source": [
    "gdata = Reshape((-1,))(gdata)\n",
    "gdata"
   ]
  },
  {
   "cell_type": "code",
   "execution_count": 786,
   "metadata": {},
   "outputs": [
    {
     "data": {
      "text/plain": [
       "<tf.Tensor: shape=(10, 16, 1), dtype=float32, numpy=\n",
       "array([[[1.],\n",
       "        [1.],\n",
       "        [1.],\n",
       "        [1.],\n",
       "        [1.],\n",
       "        [1.],\n",
       "        [1.],\n",
       "        [1.],\n",
       "        [1.],\n",
       "        [1.],\n",
       "        [1.],\n",
       "        [1.],\n",
       "        [1.],\n",
       "        [1.],\n",
       "        [1.],\n",
       "        [1.]],\n",
       "\n",
       "       [[1.],\n",
       "        [1.],\n",
       "        [1.],\n",
       "        [1.],\n",
       "        [1.],\n",
       "        [1.],\n",
       "        [1.],\n",
       "        [1.],\n",
       "        [1.],\n",
       "        [1.],\n",
       "        [1.],\n",
       "        [1.],\n",
       "        [1.],\n",
       "        [1.],\n",
       "        [1.],\n",
       "        [1.]],\n",
       "\n",
       "       [[1.],\n",
       "        [1.],\n",
       "        [1.],\n",
       "        [1.],\n",
       "        [1.],\n",
       "        [1.],\n",
       "        [1.],\n",
       "        [1.],\n",
       "        [1.],\n",
       "        [1.],\n",
       "        [1.],\n",
       "        [1.],\n",
       "        [1.],\n",
       "        [1.],\n",
       "        [1.],\n",
       "        [1.]],\n",
       "\n",
       "       [[1.],\n",
       "        [1.],\n",
       "        [1.],\n",
       "        [1.],\n",
       "        [1.],\n",
       "        [1.],\n",
       "        [1.],\n",
       "        [1.],\n",
       "        [1.],\n",
       "        [1.],\n",
       "        [1.],\n",
       "        [1.],\n",
       "        [1.],\n",
       "        [1.],\n",
       "        [1.],\n",
       "        [1.]],\n",
       "\n",
       "       [[1.],\n",
       "        [1.],\n",
       "        [1.],\n",
       "        [1.],\n",
       "        [1.],\n",
       "        [1.],\n",
       "        [1.],\n",
       "        [1.],\n",
       "        [1.],\n",
       "        [1.],\n",
       "        [1.],\n",
       "        [1.],\n",
       "        [1.],\n",
       "        [1.],\n",
       "        [1.],\n",
       "        [1.]],\n",
       "\n",
       "       [[1.],\n",
       "        [1.],\n",
       "        [1.],\n",
       "        [1.],\n",
       "        [1.],\n",
       "        [1.],\n",
       "        [1.],\n",
       "        [1.],\n",
       "        [1.],\n",
       "        [1.],\n",
       "        [1.],\n",
       "        [1.],\n",
       "        [1.],\n",
       "        [1.],\n",
       "        [1.],\n",
       "        [1.]],\n",
       "\n",
       "       [[1.],\n",
       "        [1.],\n",
       "        [1.],\n",
       "        [1.],\n",
       "        [1.],\n",
       "        [1.],\n",
       "        [1.],\n",
       "        [1.],\n",
       "        [1.],\n",
       "        [1.],\n",
       "        [1.],\n",
       "        [1.],\n",
       "        [1.],\n",
       "        [1.],\n",
       "        [1.],\n",
       "        [1.]],\n",
       "\n",
       "       [[1.],\n",
       "        [1.],\n",
       "        [1.],\n",
       "        [1.],\n",
       "        [1.],\n",
       "        [1.],\n",
       "        [1.],\n",
       "        [1.],\n",
       "        [1.],\n",
       "        [1.],\n",
       "        [1.],\n",
       "        [1.],\n",
       "        [1.],\n",
       "        [1.],\n",
       "        [1.],\n",
       "        [1.]],\n",
       "\n",
       "       [[1.],\n",
       "        [1.],\n",
       "        [1.],\n",
       "        [1.],\n",
       "        [1.],\n",
       "        [1.],\n",
       "        [1.],\n",
       "        [1.],\n",
       "        [1.],\n",
       "        [1.],\n",
       "        [1.],\n",
       "        [1.],\n",
       "        [1.],\n",
       "        [1.],\n",
       "        [1.],\n",
       "        [1.]],\n",
       "\n",
       "       [[1.],\n",
       "        [1.],\n",
       "        [1.],\n",
       "        [1.],\n",
       "        [1.],\n",
       "        [1.],\n",
       "        [1.],\n",
       "        [1.],\n",
       "        [1.],\n",
       "        [1.],\n",
       "        [1.],\n",
       "        [1.],\n",
       "        [1.],\n",
       "        [1.],\n",
       "        [1.],\n",
       "        [1.]]], dtype=float32)>"
      ]
     },
     "execution_count": 786,
     "metadata": {},
     "output_type": "execute_result"
    }
   ],
   "source": [
    "gdata = RepeatVector(16)(gdata)\n",
    "gdata"
   ]
  },
  {
   "cell_type": "code",
   "execution_count": 787,
   "metadata": {},
   "outputs": [
    {
     "data": {
      "text/plain": [
       "<tf.Tensor: shape=(10, 16), dtype=float32, numpy=\n",
       "array([[1., 1., 1., 1., 1., 1., 1., 1., 1., 1., 1., 1., 1., 1., 1., 1.],\n",
       "       [1., 1., 1., 1., 1., 1., 1., 1., 1., 1., 1., 1., 1., 1., 1., 1.],\n",
       "       [1., 1., 1., 1., 1., 1., 1., 1., 1., 1., 1., 1., 1., 1., 1., 1.],\n",
       "       [1., 1., 1., 1., 1., 1., 1., 1., 1., 1., 1., 1., 1., 1., 1., 1.],\n",
       "       [1., 1., 1., 1., 1., 1., 1., 1., 1., 1., 1., 1., 1., 1., 1., 1.],\n",
       "       [1., 1., 1., 1., 1., 1., 1., 1., 1., 1., 1., 1., 1., 1., 1., 1.],\n",
       "       [1., 1., 1., 1., 1., 1., 1., 1., 1., 1., 1., 1., 1., 1., 1., 1.],\n",
       "       [1., 1., 1., 1., 1., 1., 1., 1., 1., 1., 1., 1., 1., 1., 1., 1.],\n",
       "       [1., 1., 1., 1., 1., 1., 1., 1., 1., 1., 1., 1., 1., 1., 1., 1.],\n",
       "       [1., 1., 1., 1., 1., 1., 1., 1., 1., 1., 1., 1., 1., 1., 1., 1.]],\n",
       "      dtype=float32)>"
      ]
     },
     "execution_count": 787,
     "metadata": {},
     "output_type": "execute_result"
    }
   ],
   "source": [
    "gdata = Reshape((16,))(gdata)\n",
    "gdata"
   ]
  },
  {
   "cell_type": "code",
   "execution_count": 788,
   "metadata": {},
   "outputs": [],
   "source": [
    "samples = 460\n",
    "tensor_shape = (50, 300)\n",
    "ones_tensor = np.ones(tensor_shape)\n",
    "\n",
    "xdata = np.array([ones_tensor] * samples)\n",
    "xdata = tf.convert_to_tensor(xdata, dtype=tf.float32)"
   ]
  },
  {
   "cell_type": "code",
   "execution_count": 789,
   "metadata": {},
   "outputs": [
    {
     "data": {
      "text/plain": [
       "<tf.Tensor: shape=(460, 50, 300), dtype=float32, numpy=\n",
       "array([[[1., 1., 1., ..., 1., 1., 1.],\n",
       "        [1., 1., 1., ..., 1., 1., 1.],\n",
       "        [1., 1., 1., ..., 1., 1., 1.],\n",
       "        ...,\n",
       "        [1., 1., 1., ..., 1., 1., 1.],\n",
       "        [1., 1., 1., ..., 1., 1., 1.],\n",
       "        [1., 1., 1., ..., 1., 1., 1.]],\n",
       "\n",
       "       [[1., 1., 1., ..., 1., 1., 1.],\n",
       "        [1., 1., 1., ..., 1., 1., 1.],\n",
       "        [1., 1., 1., ..., 1., 1., 1.],\n",
       "        ...,\n",
       "        [1., 1., 1., ..., 1., 1., 1.],\n",
       "        [1., 1., 1., ..., 1., 1., 1.],\n",
       "        [1., 1., 1., ..., 1., 1., 1.]],\n",
       "\n",
       "       [[1., 1., 1., ..., 1., 1., 1.],\n",
       "        [1., 1., 1., ..., 1., 1., 1.],\n",
       "        [1., 1., 1., ..., 1., 1., 1.],\n",
       "        ...,\n",
       "        [1., 1., 1., ..., 1., 1., 1.],\n",
       "        [1., 1., 1., ..., 1., 1., 1.],\n",
       "        [1., 1., 1., ..., 1., 1., 1.]],\n",
       "\n",
       "       ...,\n",
       "\n",
       "       [[1., 1., 1., ..., 1., 1., 1.],\n",
       "        [1., 1., 1., ..., 1., 1., 1.],\n",
       "        [1., 1., 1., ..., 1., 1., 1.],\n",
       "        ...,\n",
       "        [1., 1., 1., ..., 1., 1., 1.],\n",
       "        [1., 1., 1., ..., 1., 1., 1.],\n",
       "        [1., 1., 1., ..., 1., 1., 1.]],\n",
       "\n",
       "       [[1., 1., 1., ..., 1., 1., 1.],\n",
       "        [1., 1., 1., ..., 1., 1., 1.],\n",
       "        [1., 1., 1., ..., 1., 1., 1.],\n",
       "        ...,\n",
       "        [1., 1., 1., ..., 1., 1., 1.],\n",
       "        [1., 1., 1., ..., 1., 1., 1.],\n",
       "        [1., 1., 1., ..., 1., 1., 1.]],\n",
       "\n",
       "       [[1., 1., 1., ..., 1., 1., 1.],\n",
       "        [1., 1., 1., ..., 1., 1., 1.],\n",
       "        [1., 1., 1., ..., 1., 1., 1.],\n",
       "        ...,\n",
       "        [1., 1., 1., ..., 1., 1., 1.],\n",
       "        [1., 1., 1., ..., 1., 1., 1.],\n",
       "        [1., 1., 1., ..., 1., 1., 1.]]], dtype=float32)>"
      ]
     },
     "execution_count": 789,
     "metadata": {},
     "output_type": "execute_result"
    }
   ],
   "source": [
    "xdata"
   ]
  },
  {
   "cell_type": "code",
   "execution_count": 790,
   "metadata": {},
   "outputs": [
    {
     "name": "stdout",
     "output_type": "stream",
     "text": [
      "15/15 [==============================] - 1s 21ms/step\n"
     ]
    }
   ],
   "source": [
    "output1 = model.predict(x = [xdata, y_train_main_class])\n",
    "output1 = np.array(output1, dtype=object)"
   ]
  },
  {
   "cell_type": "code",
   "execution_count": 791,
   "metadata": {},
   "outputs": [
    {
     "data": {
      "text/plain": [
       "(4,)"
      ]
     },
     "execution_count": 791,
     "metadata": {},
     "output_type": "execute_result"
    }
   ],
   "source": [
    "output1.shape"
   ]
  },
  {
   "cell_type": "code",
   "execution_count": 792,
   "metadata": {},
   "outputs": [
    {
     "name": "stdout",
     "output_type": "stream",
     "text": [
      "x = \n",
      "[[1. 1.]]\n",
      "y = \n",
      "[[1.]\n",
      " [1.]]\n"
     ]
    },
    {
     "data": {
      "text/plain": [
       "<tf.Tensor: shape=(1, 2), dtype=float32, numpy=array([[0.5, 0.5]], dtype=float32)>"
      ]
     },
     "execution_count": 792,
     "metadata": {},
     "output_type": "execute_result"
    }
   ],
   "source": [
    "x = tf.ones([1, 2])\n",
    "y = tf.ones([2, 1])\n",
    "print(f'x = \\n{x}')\n",
    "print(f'y = \\n{y}')\n",
    "x * 0.5\n"
   ]
  },
  {
   "attachments": {},
   "cell_type": "markdown",
   "metadata": {},
   "source": [
    "# Main"
   ]
  },
  {
   "cell_type": "code",
   "execution_count": 793,
   "metadata": {},
   "outputs": [
    {
     "data": {
      "text/plain": [
       "(460, 3)"
      ]
     },
     "execution_count": 793,
     "metadata": {},
     "output_type": "execute_result"
    }
   ],
   "source": [
    "# Main class output\n",
    "output1[0].shape"
   ]
  },
  {
   "cell_type": "code",
   "execution_count": 794,
   "metadata": {},
   "outputs": [
    {
     "data": {
      "text/plain": [
       "array([[0.3153376 , 0.29460913, 0.39005327],\n",
       "       [0.3153376 , 0.29460913, 0.39005327],\n",
       "       [0.3153376 , 0.29460913, 0.39005327],\n",
       "       ...,\n",
       "       [0.3153376 , 0.29460913, 0.39005327],\n",
       "       [0.3153376 , 0.29460913, 0.39005327],\n",
       "       [0.3153376 , 0.29460913, 0.39005327]], dtype=float32)"
      ]
     },
     "execution_count": 794,
     "metadata": {},
     "output_type": "execute_result"
    }
   ],
   "source": [
    "output1[0]"
   ]
  },
  {
   "attachments": {},
   "cell_type": "markdown",
   "metadata": {},
   "source": [
    "# Sub"
   ]
  },
  {
   "cell_type": "code",
   "execution_count": 795,
   "metadata": {},
   "outputs": [
    {
     "data": {
      "text/plain": [
       "(3, 460, 16)"
      ]
     },
     "execution_count": 795,
     "metadata": {},
     "output_type": "execute_result"
    }
   ],
   "source": [
    "# Sub class output\n",
    "sub = np.array(output1[1], dtype=object)\n",
    "sub.shape"
   ]
  },
  {
   "cell_type": "code",
   "execution_count": 796,
   "metadata": {},
   "outputs": [
    {
     "data": {
      "text/plain": [
       "(460, 16)"
      ]
     },
     "execution_count": 796,
     "metadata": {},
     "output_type": "execute_result"
    }
   ],
   "source": [
    "sub[0].shape"
   ]
  },
  {
   "cell_type": "code",
   "execution_count": 797,
   "metadata": {},
   "outputs": [
    {
     "data": {
      "text/plain": [
       "(460, 16)"
      ]
     },
     "execution_count": 797,
     "metadata": {},
     "output_type": "execute_result"
    }
   ],
   "source": [
    "sub[1].shape"
   ]
  },
  {
   "cell_type": "code",
   "execution_count": 798,
   "metadata": {},
   "outputs": [
    {
     "data": {
      "text/plain": [
       "(460, 16)"
      ]
     },
     "execution_count": 798,
     "metadata": {},
     "output_type": "execute_result"
    }
   ],
   "source": [
    "sub[2].shape"
   ]
  },
  {
   "cell_type": "code",
   "execution_count": 799,
   "metadata": {},
   "outputs": [
    {
     "name": "stdout",
     "output_type": "stream",
     "text": [
      "sub[0] = \n",
      "[[0.0 0.0 0.0 ... 0.0 0.0 0.0]\n",
      " [0.5143213272094727 0.4165967106819153 0.40859225392341614 ... 0.0 0.0\n",
      "  0.0]\n",
      " [0.0 0.0 0.0 ... 0.0 0.0 0.0]\n",
      " ...\n",
      " [0.0 0.0 0.0 ... 0.0 0.0 0.0]\n",
      " [0.0 0.0 0.0 ... 0.0 0.0 0.0]\n",
      " [0.0 0.0 0.0 ... 0.0 0.0 0.0]]\n"
     ]
    }
   ],
   "source": [
    "print(f'sub[0] = \\n{sub[0]}')"
   ]
  },
  {
   "cell_type": "code",
   "execution_count": 800,
   "metadata": {},
   "outputs": [
    {
     "name": "stdout",
     "output_type": "stream",
     "text": [
      "sub[1] = \n",
      "[[0.0 0.0 0.0 ... 0.0 0.0 0.0]\n",
      " [0.0 0.0 0.0 ... 0.0 0.0 0.0]\n",
      " [0.0 0.0 0.0 ... 0.0 0.0 0.0]\n",
      " ...\n",
      " [0.0 0.18203923106193542 0.0 ... 0.0 0.023524802178144455 0.0]\n",
      " [0.0 0.18203923106193542 0.0 ... 0.0 0.023524802178144455 0.0]\n",
      " [0.0 0.0 0.0 ... 0.0 0.0 0.0]]\n"
     ]
    }
   ],
   "source": [
    "print(f'sub[1] = \\n{sub[1]}')"
   ]
  },
  {
   "cell_type": "code",
   "execution_count": 801,
   "metadata": {},
   "outputs": [
    {
     "name": "stdout",
     "output_type": "stream",
     "text": [
      "sub[1] = \n",
      "[[0.011089382693171501 0.0 0.0 ... 0.3387937843799591 0.0 0.0]\n",
      " [0.0 0.0 0.0 ... 0.0 0.0 0.0]\n",
      " [0.011089382693171501 0.0 0.0 ... 0.3387937843799591 0.0 0.0]\n",
      " ...\n",
      " [0.0 0.0 0.0 ... 0.0 0.0 0.0]\n",
      " [0.0 0.0 0.0 ... 0.0 0.0 0.0]\n",
      " [0.011089382693171501 0.0 0.0 ... 0.3387937843799591 0.0 0.0]]\n"
     ]
    }
   ],
   "source": [
    "print(f'sub[1] = \\n{sub[2]}')"
   ]
  },
  {
   "attachments": {},
   "cell_type": "markdown",
   "metadata": {},
   "source": [
    "# Mask"
   ]
  },
  {
   "cell_type": "code",
   "execution_count": 802,
   "metadata": {},
   "outputs": [],
   "source": [
    "mask = output1[2]"
   ]
  },
  {
   "cell_type": "code",
   "execution_count": 803,
   "metadata": {},
   "outputs": [
    {
     "data": {
      "text/plain": [
       "array([[0., 0., 0., ..., 0., 0., 0.],\n",
       "       [1., 1., 1., ..., 1., 1., 1.],\n",
       "       [0., 0., 0., ..., 0., 0., 0.],\n",
       "       ...,\n",
       "       [0., 0., 0., ..., 0., 0., 0.],\n",
       "       [0., 0., 0., ..., 0., 0., 0.],\n",
       "       [0., 0., 0., ..., 0., 0., 0.]], dtype=float32)"
      ]
     },
     "execution_count": 803,
     "metadata": {},
     "output_type": "execute_result"
    }
   ],
   "source": [
    "mask['class1']"
   ]
  },
  {
   "cell_type": "code",
   "execution_count": 804,
   "metadata": {},
   "outputs": [
    {
     "data": {
      "text/plain": [
       "array([[0., 0., 0., ..., 0., 0., 0.],\n",
       "       [0., 0., 0., ..., 0., 0., 0.],\n",
       "       [0., 0., 0., ..., 0., 0., 0.],\n",
       "       ...,\n",
       "       [1., 1., 1., ..., 1., 1., 1.],\n",
       "       [1., 1., 1., ..., 1., 1., 1.],\n",
       "       [0., 0., 0., ..., 0., 0., 0.]], dtype=float32)"
      ]
     },
     "execution_count": 804,
     "metadata": {},
     "output_type": "execute_result"
    }
   ],
   "source": [
    "mask['class2']"
   ]
  },
  {
   "cell_type": "code",
   "execution_count": 805,
   "metadata": {},
   "outputs": [
    {
     "data": {
      "text/plain": [
       "array([[1., 1., 1., ..., 1., 1., 1.],\n",
       "       [0., 0., 0., ..., 0., 0., 0.],\n",
       "       [1., 1., 1., ..., 1., 1., 1.],\n",
       "       ...,\n",
       "       [0., 0., 0., ..., 0., 0., 0.],\n",
       "       [0., 0., 0., ..., 0., 0., 0.],\n",
       "       [1., 1., 1., ..., 1., 1., 1.]], dtype=float32)"
      ]
     },
     "execution_count": 805,
     "metadata": {},
     "output_type": "execute_result"
    }
   ],
   "source": [
    "mask['class3']"
   ]
  },
  {
   "attachments": {},
   "cell_type": "markdown",
   "metadata": {},
   "source": [
    "# argmax"
   ]
  },
  {
   "cell_type": "code",
   "execution_count": 806,
   "metadata": {},
   "outputs": [
    {
     "data": {
      "text/plain": [
       "array([2, 0, 2, 0, 1, 1, 1, 1, 2, 0, 2, 1, 2, 1, 1, 1, 1, 1, 0, 1, 2, 0,\n",
       "       1, 1, 1, 2, 2, 1, 0, 2, 2, 0, 1, 0, 0, 2, 0, 2, 2, 1, 1, 1, 2, 1,\n",
       "       0, 0, 1, 0, 0, 2, 0, 2, 1, 1, 1, 2, 1, 2, 0, 2, 0, 2, 2, 1, 2, 2,\n",
       "       2, 0, 1, 0, 0, 0, 0, 0, 0, 0, 1, 0, 0, 2, 1, 1, 1, 0, 0, 0, 1, 1,\n",
       "       0, 0, 2, 2, 1, 1, 2, 1, 1, 0, 1, 2, 1, 1, 1, 1, 2, 2, 0, 0, 0, 2,\n",
       "       0, 1, 0, 2, 2, 2, 1, 2, 1, 0, 0, 2, 0, 0, 1, 0, 2, 0, 1, 2, 0, 1,\n",
       "       2, 1, 0, 0, 0, 0, 0, 0, 0, 2, 2, 2, 2, 0, 0, 1, 0, 2, 2, 0, 1, 2,\n",
       "       0, 0, 2, 2, 2, 2, 0, 2, 1, 1, 2, 1, 0, 0, 1, 2, 0, 0, 2, 0, 0, 2,\n",
       "       2, 2, 1, 0, 2, 2, 2, 1, 0, 0, 0, 2, 1, 1, 1, 0, 0, 1, 2, 0, 1, 1,\n",
       "       1, 2, 0, 1, 2, 0, 2, 0, 1, 2, 2, 2, 0, 2, 1, 2, 1, 2, 2, 1, 1, 0,\n",
       "       0, 0, 1, 0, 0, 1, 2, 2, 2, 1, 1, 1, 1, 0, 1, 0, 1, 0, 2, 2, 2, 1,\n",
       "       2, 1, 0, 2, 2, 0, 2, 2, 0, 1, 0, 2, 2, 2, 1, 2, 0, 1, 2, 1, 1, 1,\n",
       "       0, 0, 1, 1, 1, 2, 1, 0, 2, 0, 0, 1, 1, 0, 1, 2, 0, 2, 2, 1, 0, 1,\n",
       "       1, 0, 1, 1, 2, 0, 0, 0, 1, 2, 0, 0, 0, 2, 0, 0, 2, 1, 0, 2, 2, 0,\n",
       "       1, 1, 1, 2, 1, 1, 2, 1, 2, 2, 2, 0, 1, 1, 2, 1, 1, 1, 2, 0, 2, 0,\n",
       "       1, 1, 0, 2, 0, 1, 2, 2, 1, 1, 2, 0, 0, 0, 1, 1, 0, 1, 2, 0, 1, 0,\n",
       "       1, 0, 0, 1, 2, 0, 1, 0, 2, 2, 2, 2, 0, 1, 2, 0, 2, 1, 0, 0, 0, 2,\n",
       "       2, 0, 1, 2, 0, 1, 1, 2, 2, 1, 2, 2, 0, 2, 1, 1, 2, 1, 0, 1, 1, 0,\n",
       "       1, 0, 2, 0, 1, 1, 1, 0, 0, 0, 0, 1, 1, 0, 2, 0, 0, 2, 0, 1, 0, 1,\n",
       "       1, 2, 0, 2, 1, 1, 2, 0, 2, 0, 0, 0, 2, 2, 0, 1, 2, 2, 1, 1, 2, 0,\n",
       "       0, 0, 2, 2, 0, 0, 2, 0, 0, 2, 2, 1, 2, 2, 0, 1, 0, 1, 1, 2],\n",
       "      dtype=int64)"
      ]
     },
     "execution_count": 806,
     "metadata": {},
     "output_type": "execute_result"
    }
   ],
   "source": [
    "output1[3]"
   ]
  },
  {
   "attachments": {},
   "cell_type": "markdown",
   "metadata": {},
   "source": [
    "# Test model 2"
   ]
  },
  {
   "cell_type": "code",
   "execution_count": 807,
   "metadata": {},
   "outputs": [],
   "source": [
    "# max_len = 50\n",
    "# word_vector_size = 300\n",
    "# input_layer = Input(shape=(max_len, word_vector_size), dtype='float32', name='input_layer')\n",
    "# masking_layer = Masking(mask_value=0.0)(input_layer)\n",
    "# conv1d_layer_1 = Conv1D(filters=32, kernel_size=3, activation='relu')(masking_layer)\n",
    "# bi_lstm_layer_1 = Bidirectional(LSTM(32, return_sequences=True))(conv1d_layer_1)\n",
    "# dropout_layer_1 = Dropout(0.2)(bi_lstm_layer_1)\n",
    "# global_max_pooling_layer_1 = GlobalMaxPooling1D()(dropout_layer_1)\n",
    "# dense_layer = Dense(16, activation='relu')(global_max_pooling_layer_1)\n",
    "# model2 = Model(inputs=[input_layer], outputs=dense_layer)\n",
    "# model2.summary()"
   ]
  },
  {
   "cell_type": "code",
   "execution_count": 808,
   "metadata": {},
   "outputs": [],
   "source": [
    "# output2 = model2.predict(X_train)"
   ]
  },
  {
   "cell_type": "code",
   "execution_count": 809,
   "metadata": {},
   "outputs": [],
   "source": [
    "# output2.shape"
   ]
  },
  {
   "attachments": {},
   "cell_type": "markdown",
   "metadata": {},
   "source": [
    "# Test model 1"
   ]
  },
  {
   "cell_type": "code",
   "execution_count": 810,
   "metadata": {},
   "outputs": [],
   "source": [
    "# model.fit(\n",
    "#     x = {'input_layer': X_train, 'main_class_layer': y_train_main_class},\n",
    "#     y = {'main_class_output': y_train_main_class,\n",
    "#          'sub_class_output': y_train_sub_class},\n",
    "#     epochs = 10,\n",
    "#     batch_size = 4,\n",
    "#     verbose = 1,\n",
    "#     )"
   ]
  }
 ],
 "metadata": {
  "kernelspec": {
   "display_name": "tf_ml",
   "language": "python",
   "name": "python3"
  },
  "language_info": {
   "codemirror_mode": {
    "name": "ipython",
    "version": 3
   },
   "file_extension": ".py",
   "mimetype": "text/x-python",
   "name": "python",
   "nbconvert_exporter": "python",
   "pygments_lexer": "ipython3",
   "version": "3.9.13"
  },
  "orig_nbformat": 4
 },
 "nbformat": 4,
 "nbformat_minor": 2
}

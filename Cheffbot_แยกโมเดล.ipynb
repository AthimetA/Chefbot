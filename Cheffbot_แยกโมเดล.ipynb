{
 "cells": [
  {
   "attachments": {},
   "cell_type": "markdown",
   "metadata": {},
   "source": [
    "# **ChefBot**\n",
    "\n",
    "สมาชิกกลุ่ม 1\n",
    "\n",
    "1. ก้องภพ ทองดี 63340500003 \n",
    "2. ภคพล ลีลาคหกิจ 63340500045\n",
    "3. สรพัศ วีระกุล 63340500064\n",
    "4. อธิเมศร์  เอี๊ยวเจริญ 63340500068 "
   ]
  },
  {
   "attachments": {},
   "cell_type": "markdown",
   "metadata": {},
   "source": [
    "# **Import Library**"
   ]
  },
  {
   "cell_type": "code",
   "execution_count": 955,
   "metadata": {},
   "outputs": [
    {
     "name": "stdout",
     "output_type": "stream",
     "text": [
      "2.11.0\n",
      "[]\n"
     ]
    }
   ],
   "source": [
    "%matplotlib inline\n",
    "import pandas\n",
    "import sklearn\n",
    "import numpy as np\n",
    "from IPython.display import display\n",
    "\n",
    "import matplotlib.pyplot as plt\n",
    "import tensorflow as tf\n",
    "print(tf. __version__) \n",
    "print(tf.config.list_physical_devices('GPU'))"
   ]
  },
  {
   "attachments": {},
   "cell_type": "markdown",
   "metadata": {},
   "source": [
    "## **Import data**"
   ]
  },
  {
   "cell_type": "code",
   "execution_count": 956,
   "metadata": {},
   "outputs": [],
   "source": [
    "df_orig = pandas.read_csv('Chefbot_Dataset - All (1).csv', encoding='utf-8')"
   ]
  },
  {
   "cell_type": "code",
   "execution_count": 957,
   "metadata": {},
   "outputs": [
    {
     "data": {
      "text/html": [
       "<div>\n",
       "<style scoped>\n",
       "    .dataframe tbody tr th:only-of-type {\n",
       "        vertical-align: middle;\n",
       "    }\n",
       "\n",
       "    .dataframe tbody tr th {\n",
       "        vertical-align: top;\n",
       "    }\n",
       "\n",
       "    .dataframe thead th {\n",
       "        text-align: right;\n",
       "    }\n",
       "</style>\n",
       "<table border=\"1\" class=\"dataframe\">\n",
       "  <thead>\n",
       "    <tr style=\"text-align: right;\">\n",
       "      <th></th>\n",
       "      <th>Text</th>\n",
       "      <th>Mainclass</th>\n",
       "      <th>Subclass</th>\n",
       "    </tr>\n",
       "  </thead>\n",
       "  <tbody>\n",
       "    <tr>\n",
       "      <th>0</th>\n",
       "      <td>อยากกินกุ้งที่จะมีความหนุบๆ กับน้ำสลัดเทาซันไอ...</td>\n",
       "      <td>พิซซ่า</td>\n",
       "      <td>ค็อกเทลกุ้ง</td>\n",
       "    </tr>\n",
       "    <tr>\n",
       "      <th>1</th>\n",
       "      <td>ผมชอบอาหารที่สามารถทำได้เร็ว มีหน้าตาที่สวยงาม...</td>\n",
       "      <td>พิซซ่า</td>\n",
       "      <td>ค็อกเทลกุ้ง</td>\n",
       "    </tr>\n",
       "    <tr>\n",
       "      <th>2</th>\n",
       "      <td>ทำจากแป้งมีทั้งหนานุ่ม และบางกรอบเหมาะกับคนที่...</td>\n",
       "      <td>พิซซ่า</td>\n",
       "      <td>ค็อกเทลกุ้ง</td>\n",
       "    </tr>\n",
       "    <tr>\n",
       "      <th>3</th>\n",
       "      <td>เนื้อหลักเป็นกุ้งมีรสชาติที่จัดจ้านจากซอสมีต้น...</td>\n",
       "      <td>พิซซ่า</td>\n",
       "      <td>ค็อกเทลกุ้ง</td>\n",
       "    </tr>\n",
       "    <tr>\n",
       "      <th>4</th>\n",
       "      <td>อาหารที่มีลักษณะกลม ๆ สามารถแบ่งเป็นชิ้นได้กิน...</td>\n",
       "      <td>พิซซ่า</td>\n",
       "      <td>ค็อกเทลกุ้ง</td>\n",
       "    </tr>\n",
       "  </tbody>\n",
       "</table>\n",
       "</div>"
      ],
      "text/plain": [
       "                                                Text Mainclass     Subclass\n",
       "0  อยากกินกุ้งที่จะมีความหนุบๆ กับน้ำสลัดเทาซันไอ...    พิซซ่า  ค็อกเทลกุ้ง\n",
       "1  ผมชอบอาหารที่สามารถทำได้เร็ว มีหน้าตาที่สวยงาม...    พิซซ่า  ค็อกเทลกุ้ง\n",
       "2  ทำจากแป้งมีทั้งหนานุ่ม และบางกรอบเหมาะกับคนที่...    พิซซ่า  ค็อกเทลกุ้ง\n",
       "3  เนื้อหลักเป็นกุ้งมีรสชาติที่จัดจ้านจากซอสมีต้น...    พิซซ่า  ค็อกเทลกุ้ง\n",
       "4  อาหารที่มีลักษณะกลม ๆ สามารถแบ่งเป็นชิ้นได้กิน...    พิซซ่า  ค็อกเทลกุ้ง"
      ]
     },
     "metadata": {},
     "output_type": "display_data"
    },
    {
     "data": {
      "text/html": [
       "<div>\n",
       "<style scoped>\n",
       "    .dataframe tbody tr th:only-of-type {\n",
       "        vertical-align: middle;\n",
       "    }\n",
       "\n",
       "    .dataframe tbody tr th {\n",
       "        vertical-align: top;\n",
       "    }\n",
       "\n",
       "    .dataframe thead th {\n",
       "        text-align: right;\n",
       "    }\n",
       "</style>\n",
       "<table border=\"1\" class=\"dataframe\">\n",
       "  <thead>\n",
       "    <tr style=\"text-align: right;\">\n",
       "      <th></th>\n",
       "      <th>Text</th>\n",
       "      <th>Mainclass</th>\n",
       "      <th>Subclass</th>\n",
       "    </tr>\n",
       "  </thead>\n",
       "  <tbody>\n",
       "    <tr>\n",
       "      <th>571</th>\n",
       "      <td>เมนูที่เอาเส้นพาสต้ามาผัดกับของทะเลแล้วแล้วก็ใ...</td>\n",
       "      <td>สปาเกตตี</td>\n",
       "      <td>สปาเก็ตตี้ทะเล</td>\n",
       "    </tr>\n",
       "    <tr>\n",
       "      <th>572</th>\n",
       "      <td>สปาเก็ตตี้ที่มีสีแดง และเขียวตัดกับ สีของเส้นท...</td>\n",
       "      <td>สปาเกตตี</td>\n",
       "      <td>สปาเก็ตตี้ทะเล</td>\n",
       "    </tr>\n",
       "    <tr>\n",
       "      <th>573</th>\n",
       "      <td>ฉันอยากกินสปาเก็ตตี้แต่ฉันเบื่อพวกเนื้อ หมู ไก...</td>\n",
       "      <td>สปาเกตตี</td>\n",
       "      <td>สปาเก็ตตี้ทะเล</td>\n",
       "    </tr>\n",
       "    <tr>\n",
       "      <th>574</th>\n",
       "      <td>สปาเก็ตตี้ที่กลิ่นและรสชาติที่จัดจ้านเป็นเอกลั...</td>\n",
       "      <td>สปาเกตตี</td>\n",
       "      <td>สปาเก็ตตี้ทะเล</td>\n",
       "    </tr>\n",
       "    <tr>\n",
       "      <th>575</th>\n",
       "      <td>สปาเก็ตตี้ที่ให้รสชาติเผ็ดจัดจ้าน มีกุ้ง มีหมึ...</td>\n",
       "      <td>สปาเกตตี</td>\n",
       "      <td>สปาเก็ตตี้ทะเล</td>\n",
       "    </tr>\n",
       "  </tbody>\n",
       "</table>\n",
       "</div>"
      ],
      "text/plain": [
       "                                                  Text Mainclass  \\\n",
       "571  เมนูที่เอาเส้นพาสต้ามาผัดกับของทะเลแล้วแล้วก็ใ...  สปาเกตตี   \n",
       "572  สปาเก็ตตี้ที่มีสีแดง และเขียวตัดกับ สีของเส้นท...  สปาเกตตี   \n",
       "573  ฉันอยากกินสปาเก็ตตี้แต่ฉันเบื่อพวกเนื้อ หมู ไก...  สปาเกตตี   \n",
       "574  สปาเก็ตตี้ที่กลิ่นและรสชาติที่จัดจ้านเป็นเอกลั...  สปาเกตตี   \n",
       "575  สปาเก็ตตี้ที่ให้รสชาติเผ็ดจัดจ้าน มีกุ้ง มีหมึ...  สปาเกตตี   \n",
       "\n",
       "           Subclass  \n",
       "571  สปาเก็ตตี้ทะเล  \n",
       "572  สปาเก็ตตี้ทะเล  \n",
       "573  สปาเก็ตตี้ทะเล  \n",
       "574  สปาเก็ตตี้ทะเล  \n",
       "575  สปาเก็ตตี้ทะเล  "
      ]
     },
     "metadata": {},
     "output_type": "display_data"
    }
   ],
   "source": [
    "# Display the first 5 rows of the dataframe\n",
    "display(df_orig.head(n=5))\n",
    "# Display the last 5 rows of the dataframe\n",
    "display(df_orig.tail(n=5))"
   ]
  },
  {
   "attachments": {},
   "cell_type": "markdown",
   "metadata": {},
   "source": [
    "# **Data Preprocessing**"
   ]
  },
  {
   "cell_type": "code",
   "execution_count": 958,
   "metadata": {},
   "outputs": [],
   "source": [
    "df_prepro = df_orig.copy()"
   ]
  },
  {
   "attachments": {},
   "cell_type": "markdown",
   "metadata": {},
   "source": [
    "## **Data Cleaning**"
   ]
  },
  {
   "cell_type": "code",
   "execution_count": 959,
   "metadata": {},
   "outputs": [
    {
     "data": {
      "text/html": [
       "<div>\n",
       "<style scoped>\n",
       "    .dataframe tbody tr th:only-of-type {\n",
       "        vertical-align: middle;\n",
       "    }\n",
       "\n",
       "    .dataframe tbody tr th {\n",
       "        vertical-align: top;\n",
       "    }\n",
       "\n",
       "    .dataframe thead th {\n",
       "        text-align: right;\n",
       "    }\n",
       "</style>\n",
       "<table border=\"1\" class=\"dataframe\">\n",
       "  <thead>\n",
       "    <tr style=\"text-align: right;\">\n",
       "      <th></th>\n",
       "      <th>Text</th>\n",
       "      <th>Mainclass</th>\n",
       "      <th>Subclass</th>\n",
       "    </tr>\n",
       "  </thead>\n",
       "  <tbody>\n",
       "    <tr>\n",
       "      <th>count</th>\n",
       "      <td>576</td>\n",
       "      <td>576</td>\n",
       "      <td>576</td>\n",
       "    </tr>\n",
       "    <tr>\n",
       "      <th>unique</th>\n",
       "      <td>576</td>\n",
       "      <td>3</td>\n",
       "      <td>12</td>\n",
       "    </tr>\n",
       "    <tr>\n",
       "      <th>top</th>\n",
       "      <td>อยากกินกุ้งที่จะมีความหนุบๆ กับน้ำสลัดเทาซันไอ...</td>\n",
       "      <td>พิซซ่า</td>\n",
       "      <td>ค็อกเทลกุ้ง</td>\n",
       "    </tr>\n",
       "    <tr>\n",
       "      <th>freq</th>\n",
       "      <td>1</td>\n",
       "      <td>192</td>\n",
       "      <td>48</td>\n",
       "    </tr>\n",
       "  </tbody>\n",
       "</table>\n",
       "</div>"
      ],
      "text/plain": [
       "                                                     Text Mainclass  \\\n",
       "count                                                 576       576   \n",
       "unique                                                576         3   \n",
       "top     อยากกินกุ้งที่จะมีความหนุบๆ กับน้ำสลัดเทาซันไอ...    พิซซ่า   \n",
       "freq                                                    1       192   \n",
       "\n",
       "           Subclass  \n",
       "count           576  \n",
       "unique           12  \n",
       "top     ค็อกเทลกุ้ง  \n",
       "freq             48  "
      ]
     },
     "metadata": {},
     "output_type": "display_data"
    },
    {
     "data": {
      "text/plain": [
       "array(['พิซซ่า', 'ก๋วยเตี๋ยว', 'สปาเกตตี'], dtype=object)"
      ]
     },
     "metadata": {},
     "output_type": "display_data"
    },
    {
     "data": {
      "text/plain": [
       "array(['ค็อกเทลกุ้ง', 'มีทเดอลุกซ์', 'เห็ดและมะเขือเทศ', 'ดิปเปอร์',\n",
       "       'ก๋วยเตี๋ยวน้ำตก', 'ก๋วยเตี๋ยวต้มยำน้ำใส', 'บะหมีหมูแดงหมูกรอบ',\n",
       "       'เกาเหลา', 'สปาเก็ตตี้มีทบอล', 'สปาเก็ตตี้คาโบนาร่า',\n",
       "       'สปาเก็ตตี้ผัก', 'สปาเก็ตตี้ทะเล'], dtype=object)"
      ]
     },
     "metadata": {},
     "output_type": "display_data"
    }
   ],
   "source": [
    "display(df_prepro.describe())\n",
    "display(df_prepro.Mainclass.unique())\n",
    "display(df_prepro.Subclass.unique())"
   ]
  },
  {
   "attachments": {},
   "cell_type": "markdown",
   "metadata": {},
   "source": [
    "### **Remove Duplications in text inputs**"
   ]
  },
  {
   "cell_type": "code",
   "execution_count": 960,
   "metadata": {},
   "outputs": [
    {
     "data": {
      "text/html": [
       "<div>\n",
       "<style scoped>\n",
       "    .dataframe tbody tr th:only-of-type {\n",
       "        vertical-align: middle;\n",
       "    }\n",
       "\n",
       "    .dataframe tbody tr th {\n",
       "        vertical-align: top;\n",
       "    }\n",
       "\n",
       "    .dataframe thead th {\n",
       "        text-align: right;\n",
       "    }\n",
       "</style>\n",
       "<table border=\"1\" class=\"dataframe\">\n",
       "  <thead>\n",
       "    <tr style=\"text-align: right;\">\n",
       "      <th></th>\n",
       "      <th>Text</th>\n",
       "      <th>Mainclass</th>\n",
       "      <th>Subclass</th>\n",
       "    </tr>\n",
       "  </thead>\n",
       "  <tbody>\n",
       "  </tbody>\n",
       "</table>\n",
       "</div>"
      ],
      "text/plain": [
       "Empty DataFrame\n",
       "Columns: [Text, Mainclass, Subclass]\n",
       "Index: []"
      ]
     },
     "metadata": {},
     "output_type": "display_data"
    }
   ],
   "source": [
    "# display all text that appears more than once\n",
    "display(df_prepro[df_prepro.duplicated('Text', keep=False)].sort_values('Text'))\n",
    "# Then no duplicates"
   ]
  },
  {
   "attachments": {},
   "cell_type": "markdown",
   "metadata": {},
   "source": [
    "### **Incorrect Word**"
   ]
  },
  {
   "cell_type": "code",
   "execution_count": 961,
   "metadata": {},
   "outputs": [],
   "source": [
    "# corrections_word = {'สปาเก็ตตี้': 'สปาเกตตี'}\n",
    "\n",
    "# df_prepro['Text'] = df_prepro['Text'].replace(corrections_word)"
   ]
  },
  {
   "attachments": {},
   "cell_type": "markdown",
   "metadata": {},
   "source": [
    "### **Remove unwanted character**"
   ]
  },
  {
   "attachments": {},
   "cell_type": "markdown",
   "metadata": {},
   "source": [
    "#### **Front-Back white space**"
   ]
  },
  {
   "cell_type": "code",
   "execution_count": 962,
   "metadata": {},
   "outputs": [
    {
     "data": {
      "text/html": [
       "<div>\n",
       "<style scoped>\n",
       "    .dataframe tbody tr th:only-of-type {\n",
       "        vertical-align: middle;\n",
       "    }\n",
       "\n",
       "    .dataframe tbody tr th {\n",
       "        vertical-align: top;\n",
       "    }\n",
       "\n",
       "    .dataframe thead th {\n",
       "        text-align: right;\n",
       "    }\n",
       "</style>\n",
       "<table border=\"1\" class=\"dataframe\">\n",
       "  <thead>\n",
       "    <tr style=\"text-align: right;\">\n",
       "      <th></th>\n",
       "      <th>Text</th>\n",
       "      <th>Mainclass</th>\n",
       "      <th>Subclass</th>\n",
       "    </tr>\n",
       "  </thead>\n",
       "  <tbody>\n",
       "    <tr>\n",
       "      <th>0</th>\n",
       "      <td>อยากกินกุ้งที่จะมีความหนุบๆ กับน้ำสลัดเทาซันไอ...</td>\n",
       "      <td>พิซซ่า</td>\n",
       "      <td>ค็อกเทลกุ้ง</td>\n",
       "    </tr>\n",
       "    <tr>\n",
       "      <th>1</th>\n",
       "      <td>ผมชอบอาหารที่สามารถทำได้เร็ว มีหน้าตาที่สวยงาม...</td>\n",
       "      <td>พิซซ่า</td>\n",
       "      <td>ค็อกเทลกุ้ง</td>\n",
       "    </tr>\n",
       "    <tr>\n",
       "      <th>2</th>\n",
       "      <td>ทำจากแป้งมีทั้งหนานุ่ม และบางกรอบเหมาะกับคนที่...</td>\n",
       "      <td>พิซซ่า</td>\n",
       "      <td>ค็อกเทลกุ้ง</td>\n",
       "    </tr>\n",
       "    <tr>\n",
       "      <th>3</th>\n",
       "      <td>เนื้อหลักเป็นกุ้งมีรสชาติที่จัดจ้านจากซอสมีต้น...</td>\n",
       "      <td>พิซซ่า</td>\n",
       "      <td>ค็อกเทลกุ้ง</td>\n",
       "    </tr>\n",
       "    <tr>\n",
       "      <th>4</th>\n",
       "      <td>อาหารที่มีลักษณะกลม ๆ สามารถแบ่งเป็นชิ้นได้กิน...</td>\n",
       "      <td>พิซซ่า</td>\n",
       "      <td>ค็อกเทลกุ้ง</td>\n",
       "    </tr>\n",
       "  </tbody>\n",
       "</table>\n",
       "</div>"
      ],
      "text/plain": [
       "                                                Text Mainclass     Subclass\n",
       "0  อยากกินกุ้งที่จะมีความหนุบๆ กับน้ำสลัดเทาซันไอ...    พิซซ่า  ค็อกเทลกุ้ง\n",
       "1  ผมชอบอาหารที่สามารถทำได้เร็ว มีหน้าตาที่สวยงาม...    พิซซ่า  ค็อกเทลกุ้ง\n",
       "2  ทำจากแป้งมีทั้งหนานุ่ม และบางกรอบเหมาะกับคนที่...    พิซซ่า  ค็อกเทลกุ้ง\n",
       "3  เนื้อหลักเป็นกุ้งมีรสชาติที่จัดจ้านจากซอสมีต้น...    พิซซ่า  ค็อกเทลกุ้ง\n",
       "4  อาหารที่มีลักษณะกลม ๆ สามารถแบ่งเป็นชิ้นได้กิน...    พิซซ่า  ค็อกเทลกุ้ง"
      ]
     },
     "execution_count": 962,
     "metadata": {},
     "output_type": "execute_result"
    }
   ],
   "source": [
    "def strip_space(text):\n",
    "    return text.strip()\n",
    "\n",
    "df_prepro['Text'] = df_prepro['Text'].apply(strip_space)\n",
    "df_prepro['Mainclass'] = df_prepro['Mainclass'].apply(strip_space)\n",
    "df_prepro.head()"
   ]
  },
  {
   "attachments": {},
   "cell_type": "markdown",
   "metadata": {},
   "source": [
    "#### **Remove white space between words**"
   ]
  },
  {
   "cell_type": "code",
   "execution_count": 963,
   "metadata": {},
   "outputs": [
    {
     "data": {
      "text/html": [
       "<div>\n",
       "<style scoped>\n",
       "    .dataframe tbody tr th:only-of-type {\n",
       "        vertical-align: middle;\n",
       "    }\n",
       "\n",
       "    .dataframe tbody tr th {\n",
       "        vertical-align: top;\n",
       "    }\n",
       "\n",
       "    .dataframe thead th {\n",
       "        text-align: right;\n",
       "    }\n",
       "</style>\n",
       "<table border=\"1\" class=\"dataframe\">\n",
       "  <thead>\n",
       "    <tr style=\"text-align: right;\">\n",
       "      <th></th>\n",
       "      <th>Text</th>\n",
       "      <th>Mainclass</th>\n",
       "      <th>Subclass</th>\n",
       "    </tr>\n",
       "  </thead>\n",
       "  <tbody>\n",
       "    <tr>\n",
       "      <th>0</th>\n",
       "      <td>อยากกินกุ้งที่จะมีความหนุบๆกับน้ำสลัดเทาซันไอส...</td>\n",
       "      <td>พิซซ่า</td>\n",
       "      <td>ค็อกเทลกุ้ง</td>\n",
       "    </tr>\n",
       "    <tr>\n",
       "      <th>1</th>\n",
       "      <td>ผมชอบอาหารที่สามารถทำได้เร็วมีหน้าตาที่สวยงามส...</td>\n",
       "      <td>พิซซ่า</td>\n",
       "      <td>ค็อกเทลกุ้ง</td>\n",
       "    </tr>\n",
       "    <tr>\n",
       "      <th>2</th>\n",
       "      <td>ทำจากแป้งมีทั้งหนานุ่มและบางกรอบเหมาะกับคนที่ช...</td>\n",
       "      <td>พิซซ่า</td>\n",
       "      <td>ค็อกเทลกุ้ง</td>\n",
       "    </tr>\n",
       "    <tr>\n",
       "      <th>3</th>\n",
       "      <td>เนื้อหลักเป็นกุ้งมีรสชาติที่จัดจ้านจากซอสมีต้น...</td>\n",
       "      <td>พิซซ่า</td>\n",
       "      <td>ค็อกเทลกุ้ง</td>\n",
       "    </tr>\n",
       "    <tr>\n",
       "      <th>4</th>\n",
       "      <td>อาหารที่มีลักษณะกลมๆสามารถแบ่งเป็นชิ้นได้กินกั...</td>\n",
       "      <td>พิซซ่า</td>\n",
       "      <td>ค็อกเทลกุ้ง</td>\n",
       "    </tr>\n",
       "  </tbody>\n",
       "</table>\n",
       "</div>"
      ],
      "text/plain": [
       "                                                Text Mainclass     Subclass\n",
       "0  อยากกินกุ้งที่จะมีความหนุบๆกับน้ำสลัดเทาซันไอส...    พิซซ่า  ค็อกเทลกุ้ง\n",
       "1  ผมชอบอาหารที่สามารถทำได้เร็วมีหน้าตาที่สวยงามส...    พิซซ่า  ค็อกเทลกุ้ง\n",
       "2  ทำจากแป้งมีทั้งหนานุ่มและบางกรอบเหมาะกับคนที่ช...    พิซซ่า  ค็อกเทลกุ้ง\n",
       "3  เนื้อหลักเป็นกุ้งมีรสชาติที่จัดจ้านจากซอสมีต้น...    พิซซ่า  ค็อกเทลกุ้ง\n",
       "4  อาหารที่มีลักษณะกลมๆสามารถแบ่งเป็นชิ้นได้กินกั...    พิซซ่า  ค็อกเทลกุ้ง"
      ]
     },
     "execution_count": 963,
     "metadata": {},
     "output_type": "execute_result"
    }
   ],
   "source": [
    "def remove_whitespace(text):\n",
    "    return text.replace(\" \", \"\")\n",
    "\n",
    "df_prepro['Text'] = df_prepro['Text'].apply(remove_whitespace)\n",
    "df_prepro['Mainclass'] = df_prepro['Mainclass'].apply(remove_whitespace)\n",
    "df_prepro.head()"
   ]
  },
  {
   "attachments": {},
   "cell_type": "markdown",
   "metadata": {},
   "source": [
    "#### **Remove special character and punctuation**"
   ]
  },
  {
   "cell_type": "code",
   "execution_count": 964,
   "metadata": {},
   "outputs": [
    {
     "data": {
      "text/html": [
       "<div>\n",
       "<style scoped>\n",
       "    .dataframe tbody tr th:only-of-type {\n",
       "        vertical-align: middle;\n",
       "    }\n",
       "\n",
       "    .dataframe tbody tr th {\n",
       "        vertical-align: top;\n",
       "    }\n",
       "\n",
       "    .dataframe thead th {\n",
       "        text-align: right;\n",
       "    }\n",
       "</style>\n",
       "<table border=\"1\" class=\"dataframe\">\n",
       "  <thead>\n",
       "    <tr style=\"text-align: right;\">\n",
       "      <th></th>\n",
       "      <th>Text</th>\n",
       "      <th>Mainclass</th>\n",
       "      <th>Subclass</th>\n",
       "    </tr>\n",
       "  </thead>\n",
       "  <tbody>\n",
       "    <tr>\n",
       "      <th>0</th>\n",
       "      <td>อยากกินกุ้งที่จะมีความหนุบกับน้ำสลัดเทาซันไอส์...</td>\n",
       "      <td>พิซซ่า</td>\n",
       "      <td>ค็อกเทลกุ้ง</td>\n",
       "    </tr>\n",
       "    <tr>\n",
       "      <th>1</th>\n",
       "      <td>ผมชอบอาหารที่สามารถทำได้เร็วมีหน้าตาที่สวยงามส...</td>\n",
       "      <td>พิซซ่า</td>\n",
       "      <td>ค็อกเทลกุ้ง</td>\n",
       "    </tr>\n",
       "    <tr>\n",
       "      <th>2</th>\n",
       "      <td>ทำจากแป้งมีทั้งหนานุ่มและบางกรอบเหมาะกับคนที่ช...</td>\n",
       "      <td>พิซซ่า</td>\n",
       "      <td>ค็อกเทลกุ้ง</td>\n",
       "    </tr>\n",
       "    <tr>\n",
       "      <th>3</th>\n",
       "      <td>เนื้อหลักเป็นกุ้งมีรสชาติที่จัดจ้านจากซอสมีต้น...</td>\n",
       "      <td>พิซซ่า</td>\n",
       "      <td>ค็อกเทลกุ้ง</td>\n",
       "    </tr>\n",
       "    <tr>\n",
       "      <th>4</th>\n",
       "      <td>อาหารที่มีลักษณะกลมสามารถแบ่งเป็นชิ้นได้กินกับ...</td>\n",
       "      <td>พิซซ่า</td>\n",
       "      <td>ค็อกเทลกุ้ง</td>\n",
       "    </tr>\n",
       "  </tbody>\n",
       "</table>\n",
       "</div>"
      ],
      "text/plain": [
       "                                                Text Mainclass     Subclass\n",
       "0  อยากกินกุ้งที่จะมีความหนุบกับน้ำสลัดเทาซันไอส์...    พิซซ่า  ค็อกเทลกุ้ง\n",
       "1  ผมชอบอาหารที่สามารถทำได้เร็วมีหน้าตาที่สวยงามส...    พิซซ่า  ค็อกเทลกุ้ง\n",
       "2  ทำจากแป้งมีทั้งหนานุ่มและบางกรอบเหมาะกับคนที่ช...    พิซซ่า  ค็อกเทลกุ้ง\n",
       "3  เนื้อหลักเป็นกุ้งมีรสชาติที่จัดจ้านจากซอสมีต้น...    พิซซ่า  ค็อกเทลกุ้ง\n",
       "4  อาหารที่มีลักษณะกลมสามารถแบ่งเป็นชิ้นได้กินกับ...    พิซซ่า  ค็อกเทลกุ้ง"
      ]
     },
     "execution_count": 964,
     "metadata": {},
     "output_type": "execute_result"
    }
   ],
   "source": [
    "punctuation = '!\"#$%&\\'()*+,-./:;<=>?@[\\\\]^_`{|}~'\n",
    "thai_punctuation = 'ๆ'\n",
    "def remove_punctuation(text):\n",
    "    return text.translate(str.maketrans('', '', punctuation + thai_punctuation))\n",
    " \n",
    "df_prepro['Text'] = df_prepro['Text'].apply(remove_punctuation)\n",
    "df_prepro['Mainclass'] = df_prepro['Mainclass'].apply(remove_punctuation)\n",
    "df_prepro.head()"
   ]
  },
  {
   "attachments": {},
   "cell_type": "markdown",
   "metadata": {},
   "source": [
    "### **Label Mapping**"
   ]
  },
  {
   "cell_type": "code",
   "execution_count": 965,
   "metadata": {},
   "outputs": [],
   "source": [
    "def get_label_map(df, col_name):\n",
    "    label_map = {}\n",
    "    for i, label in enumerate(df[col_name].unique()):\n",
    "        label_map[label] = i\n",
    "    reversed_label_map = {v: k for k, v in label_map.items()}\n",
    "    return label_map, reversed_label_map"
   ]
  },
  {
   "attachments": {},
   "cell_type": "markdown",
   "metadata": {},
   "source": [
    "#### **Get main class labels**"
   ]
  },
  {
   "attachments": {},
   "cell_type": "markdown",
   "metadata": {},
   "source": [
    "#### **Get sub class labels**"
   ]
  },
  {
   "cell_type": "code",
   "execution_count": 966,
   "metadata": {},
   "outputs": [
    {
     "data": {
      "text/plain": [
       "{'ค็อกเทลกุ้ง': 0,\n",
       " 'มีทเดอลุกซ์': 1,\n",
       " 'เห็ดและมะเขือเทศ': 2,\n",
       " 'ดิปเปอร์': 3,\n",
       " 'ก๋วยเตี๋ยวน้ำตก': 4,\n",
       " 'ก๋วยเตี๋ยวต้มยำน้ำใส': 5,\n",
       " 'บะหมีหมูแดงหมูกรอบ': 6,\n",
       " 'เกาเหลา': 7,\n",
       " 'สปาเก็ตตี้มีทบอล': 8,\n",
       " 'สปาเก็ตตี้คาโบนาร่า': 9,\n",
       " 'สปาเก็ตตี้ผัก': 10,\n",
       " 'สปาเก็ตตี้ทะเล': 11}"
      ]
     },
     "metadata": {},
     "output_type": "display_data"
    },
    {
     "data": {
      "text/html": [
       "<div>\n",
       "<style scoped>\n",
       "    .dataframe tbody tr th:only-of-type {\n",
       "        vertical-align: middle;\n",
       "    }\n",
       "\n",
       "    .dataframe tbody tr th {\n",
       "        vertical-align: top;\n",
       "    }\n",
       "\n",
       "    .dataframe thead th {\n",
       "        text-align: right;\n",
       "    }\n",
       "</style>\n",
       "<table border=\"1\" class=\"dataframe\">\n",
       "  <thead>\n",
       "    <tr style=\"text-align: right;\">\n",
       "      <th></th>\n",
       "      <th>Text</th>\n",
       "      <th>Mainclass</th>\n",
       "      <th>Subclass</th>\n",
       "    </tr>\n",
       "  </thead>\n",
       "  <tbody>\n",
       "    <tr>\n",
       "      <th>0</th>\n",
       "      <td>อยากกินกุ้งที่จะมีความหนุบกับน้ำสลัดเทาซันไอส์...</td>\n",
       "      <td>พิซซ่า</td>\n",
       "      <td>0</td>\n",
       "    </tr>\n",
       "    <tr>\n",
       "      <th>1</th>\n",
       "      <td>ผมชอบอาหารที่สามารถทำได้เร็วมีหน้าตาที่สวยงามส...</td>\n",
       "      <td>พิซซ่า</td>\n",
       "      <td>0</td>\n",
       "    </tr>\n",
       "    <tr>\n",
       "      <th>2</th>\n",
       "      <td>ทำจากแป้งมีทั้งหนานุ่มและบางกรอบเหมาะกับคนที่ช...</td>\n",
       "      <td>พิซซ่า</td>\n",
       "      <td>0</td>\n",
       "    </tr>\n",
       "    <tr>\n",
       "      <th>3</th>\n",
       "      <td>เนื้อหลักเป็นกุ้งมีรสชาติที่จัดจ้านจากซอสมีต้น...</td>\n",
       "      <td>พิซซ่า</td>\n",
       "      <td>0</td>\n",
       "    </tr>\n",
       "    <tr>\n",
       "      <th>4</th>\n",
       "      <td>อาหารที่มีลักษณะกลมสามารถแบ่งเป็นชิ้นได้กินกับ...</td>\n",
       "      <td>พิซซ่า</td>\n",
       "      <td>0</td>\n",
       "    </tr>\n",
       "  </tbody>\n",
       "</table>\n",
       "</div>"
      ],
      "text/plain": [
       "                                                Text Mainclass  Subclass\n",
       "0  อยากกินกุ้งที่จะมีความหนุบกับน้ำสลัดเทาซันไอส์...    พิซซ่า         0\n",
       "1  ผมชอบอาหารที่สามารถทำได้เร็วมีหน้าตาที่สวยงามส...    พิซซ่า         0\n",
       "2  ทำจากแป้งมีทั้งหนานุ่มและบางกรอบเหมาะกับคนที่ช...    พิซซ่า         0\n",
       "3  เนื้อหลักเป็นกุ้งมีรสชาติที่จัดจ้านจากซอสมีต้น...    พิซซ่า         0\n",
       "4  อาหารที่มีลักษณะกลมสามารถแบ่งเป็นชิ้นได้กินกับ...    พิซซ่า         0"
      ]
     },
     "metadata": {},
     "output_type": "display_data"
    }
   ],
   "source": [
    "subclass_label_map, reversed_subclass_label_map = get_label_map(df_prepro, 'Subclass')\n",
    "\n",
    "display(subclass_label_map)\n",
    "\n",
    "df_prepro['Subclass'] = df_prepro['Subclass'].map(subclass_label_map)\n",
    "\n",
    "display(df_prepro.head())"
   ]
  },
  {
   "attachments": {},
   "cell_type": "markdown",
   "metadata": {},
   "source": [
    "## **Data Visualization**"
   ]
  },
  {
   "cell_type": "code",
   "execution_count": 967,
   "metadata": {},
   "outputs": [],
   "source": [
    "import matplotlib.pyplot as plt\n",
    "import seaborn as sns"
   ]
  },
  {
   "cell_type": "code",
   "execution_count": 968,
   "metadata": {},
   "outputs": [],
   "source": [
    "def plot_sentence_length_distribution(df, col_name):\n",
    "    \n",
    "    sns.set_style('darkgrid')\n",
    "    sns.set(font_scale=1.0)\n",
    "    plt.rcParams['figure.figsize'] = (12, 8)\n",
    "    \n",
    "    bin_size = 5\n",
    "    bins = np.arange(0, 100, bin_size)\n",
    "    plt.hist(df[col_name].str.len(), bins=bins, alpha=0.5, color='steelblue', edgecolor='k', label='train')\n",
    "    xticks = np.arange(0, 150, bin_size)\n",
    "    plt.xticks(xticks, xticks)\n",
    "    yticks = np.arange(0, 100, bin_size)\n",
    "    plt.yticks(yticks, yticks)\n",
    "    plt.title('Sentence Length Distribution')\n",
    "    plt.legend(loc='upper right')\n",
    "    plt.xlabel('Sentence Length')\n",
    "    plt.ylabel('Number of Sentences')\n",
    "    for a, b in zip(bins, np.histogram(df[col_name].str.len(), bins=bins)[0]):\n",
    "        plt.text(a + 2.5, b + 2.5, '%d' % b, ha='center', va='bottom', fontsize=10)\n",
    "    plt.show()"
   ]
  },
  {
   "attachments": {},
   "cell_type": "markdown",
   "metadata": {},
   "source": [
    "### **Plotting the length of the text data**"
   ]
  },
  {
   "cell_type": "code",
   "execution_count": 969,
   "metadata": {},
   "outputs": [
    {
     "data": {
      "image/png": "[encoded data removed]",
      "text/plain": [
       "<Figure size 1200x800 with 1 Axes>"
      ]
     },
     "metadata": {},
     "output_type": "display_data"
    }
   ],
   "source": [
    "plot_sentence_length_distribution(df_prepro, 'Text')"
   ]
  },
  {
   "attachments": {},
   "cell_type": "markdown",
   "metadata": {},
   "source": [
    "#### **Maximum length of text inputs**"
   ]
  },
  {
   "cell_type": "code",
   "execution_count": 970,
   "metadata": {},
   "outputs": [
    {
     "name": "stdout",
     "output_type": "stream",
     "text": [
      "Max sentence length: 165\n"
     ]
    },
    {
     "data": {
      "text/plain": [
       "count    576.000000\n",
       "mean      88.333333\n",
       "std       26.587477\n",
       "min       20.000000\n",
       "25%       69.750000\n",
       "50%       86.000000\n",
       "75%      107.000000\n",
       "max      165.000000\n",
       "Name: Text, dtype: float64"
      ]
     },
     "execution_count": 970,
     "metadata": {},
     "output_type": "execute_result"
    }
   ],
   "source": [
    "print('Max sentence length: %d' % df_prepro['Text'].str.len().max())\n",
    "\n",
    "df_prepro['Text'].str.len().describe()"
   ]
  },
  {
   "attachments": {},
   "cell_type": "markdown",
   "metadata": {},
   "source": [
    "### **Plot the distribution of labels**"
   ]
  },
  {
   "cell_type": "code",
   "execution_count": 971,
   "metadata": {},
   "outputs": [],
   "source": [
    "def plot_label_distribution(df, col_name, title):\n",
    "    \n",
    "    sns.set_style('darkgrid')\n",
    "    sns.set(font_scale=1.0)\n",
    "    plt.rcParams['figure.figsize'] = (6, 4)\n",
    "    \n",
    "    bin_size = 1\n",
    "    bins = np.arange(0, df[col_name].nunique() + 1, bin_size)\n",
    "    plt.hist(df[col_name], bins=bins, alpha=0.5, color='steelblue', edgecolor='k', label='data')\n",
    "    xticks = np.arange(0, df[col_name].nunique() + 1, bin_size)\n",
    "    plt.xticks(xticks, xticks)\n",
    "    yticks = np.arange(0, df[col_name].value_counts().max() + 100, 500)\n",
    "    plt.yticks(yticks, yticks)\n",
    "    plt.title(title)\n",
    "    plt.legend(loc='upper right')\n",
    "    plt.xlabel('Object')\n",
    "    plt.ylabel('Number of Sentences')\n",
    "    for a, b in zip(bins, np.histogram(df[col_name], bins=bins)[0]):\n",
    "        plt.text(a + 0.5, b + 0.5, '%d' % b, ha='center', va='bottom', fontsize=10)\n",
    "    plt.show()"
   ]
  },
  {
   "cell_type": "code",
   "execution_count": 972,
   "metadata": {},
   "outputs": [
    {
     "data": {
      "image/png": "[encoded data removed]",
      "text/plain": [
       "<Figure size 600x400 with 1 Axes>"
      ]
     },
     "metadata": {},
     "output_type": "display_data"
    }
   ],
   "source": [
    "plot_label_distribution(df_prepro, 'Subclass', 'Subclass Distribution')"
   ]
  },
  {
   "attachments": {},
   "cell_type": "markdown",
   "metadata": {},
   "source": [
    "# **Keras Preprocessing**"
   ]
  },
  {
   "cell_type": "code",
   "execution_count": 973,
   "metadata": {},
   "outputs": [],
   "source": [
    "df_keras = df_prepro.copy()"
   ]
  },
  {
   "cell_type": "code",
   "execution_count": 974,
   "metadata": {},
   "outputs": [
    {
     "data": {
      "text/plain": [
       "array([['อยากกินกุ้งที่จะมีความหนุบกับน้ำสลัดเทาซันไอส์แลนด์ที่มีความเข้มข้นหอมแป้งเยอะ',\n",
       "        'พิซซ่า', 0],\n",
       "       ['ผมชอบอาหารที่สามารถทำได้เร็วมีหน้าตาที่สวยงามสามารถหยิบกินได้เป็นชิ้นเน้นเนื้อที่มาจากทะเล',\n",
       "        'พิซซ่า', 0],\n",
       "       ['ทำจากแป้งมีทั้งหนานุ่มและบางกรอบเหมาะกับคนที่ชื่นชอบอาหารทะเลราคาไม่แพงหาซื้อได้ง่าย',\n",
       "        'พิซซ่า', 0],\n",
       "       ...,\n",
       "       ['ฉันอยากกินสปาเก็ตตี้แต่ฉันเบื่อพวกเนื้อหมูไก่แล้วช่วยแนะนำเมนูให้ฉันหน่อย',\n",
       "        'สปาเกตตี', 11],\n",
       "       ['สปาเก็ตตี้ที่กลิ่นและรสชาติที่จัดจ้านเป็นเอกลักษณ์', 'สปาเกตตี',\n",
       "        11],\n",
       "       ['สปาเก็ตตี้ที่ให้รสชาติเผ็ดจัดจ้านมีกุ้งมีหมึกมีหอยและยังใส่พวกพริกไทยอ่อน',\n",
       "        'สปาเกตตี', 11]], dtype=object)"
      ]
     },
     "execution_count": 974,
     "metadata": {},
     "output_type": "execute_result"
    }
   ],
   "source": [
    "df_keras = df_keras.to_numpy()\n",
    "df_keras"
   ]
  },
  {
   "attachments": {},
   "cell_type": "markdown",
   "metadata": {},
   "source": [
    "## **Word Tokenization**"
   ]
  },
  {
   "cell_type": "code",
   "execution_count": 975,
   "metadata": {},
   "outputs": [],
   "source": [
    "import pythainlp\n",
    "from pythainlp import word_tokenize\n",
    "from keras.utils import pad_sequences"
   ]
  },
  {
   "cell_type": "code",
   "execution_count": 976,
   "metadata": {},
   "outputs": [
    {
     "name": "stdout",
     "output_type": "stream",
     "text": [
      "Example after padding:\n",
      "[array(['อยาก', 'กิน', 'อะไร', 'ก็', 'ได้ที่', 'มี', 'ชีส', 'ผัก', 'เพราะ',\n",
      "        'กิน', 'คีโม', 'ขอ', 'เมนู', 'ทำ', 'ง่าย', 'ใช้เวลา', 'ไม่', 'นาน',\n",
      "        'มี', 'สารอาหาร', 'พวก', 'คา', 'โบ', 'ไฮ', 'เด', 'รต', ' ', ' ',\n",
      "        ' ', ' ', ' ', ' ', ' ', ' ', ' ', ' ', ' ', ' ', ' ', ' ', ' ',\n",
      "        ' ', ' ', ' ', ' ', ' ', ' ', ' ', ' ', ' '], dtype=object)\n",
      " 'สปาเกตตี' 10]\n",
      "Data shape: (576, 3)\n",
      "เท่ากับ 50\n"
     ]
    }
   ],
   "source": [
    "input_tokenize = df_keras.copy()\n",
    "for i, sentence in enumerate(input_tokenize[:, 0]):\n",
    "    input_tokenize[i, 0] = np.array(word_tokenize(sentence, engine='newmm'), dtype=object)\n",
    "\n",
    "input_tokenize = np.asarray(input_tokenize, dtype=object)\n",
    "\n",
    "max_len = max(len(seq) for seq in input_tokenize[:, 0]) + 10\n",
    "\n",
    "for i in range(len(input_tokenize)):\n",
    "    input_tokenize[i, 0] = np.pad(input_tokenize[i, 0], (0, max_len - len(input_tokenize[i, 0])), constant_values=\" \")\n",
    "\n",
    "print(\"Example after padding:\")\n",
    "print(input_tokenize[500])\n",
    "\n",
    "print(f\"Data shape: {input_tokenize.shape}\")\n",
    "\n",
    "for seq in input_tokenize[:, 0]:\n",
    "    if seq.shape[0] != 50:\n",
    "        print(\"ไม่เท่ากับ 50\")\n",
    "\n",
    "print(\"เท่ากับ 50\")"
   ]
  },
  {
   "cell_type": "code",
   "execution_count": 977,
   "metadata": {},
   "outputs": [
    {
     "name": "stdout",
     "output_type": "stream",
     "text": [
      "Example sentence: ['อยาก' 'กิน' 'กุ้ง' 'ที่จะ' 'มี' 'ความ' 'หนุบ' 'กับ' 'น้ำสลัด' 'เทา'\n",
      " 'ซัน' 'ไอส์แลนด์' 'ที่' 'มี' 'ความ' 'เข้มข้น' 'หอม' 'แป้ง' 'เยอะ' ' ' ' '\n",
      " ' ' ' ' ' ' ' ' ' ' ' ' ' ' ' ' ' ' ' ' ' ' ' ' ' ' ' ' ' ' ' ' ' ' ' '\n",
      " ' ' ' ' ' ' ' ' ' ' ' ' ' ' ' ' ' ' ' ' ' ']\n",
      "Example mainclass label: สปาเกตตี\n",
      "Example subclass label: 0\n",
      "Shape\n",
      "Sentence: (576,)\n",
      "Mainclass label: (576,)\n",
      "Subclass label: (576,)\n"
     ]
    }
   ],
   "source": [
    "sentence = input_tokenize[:, 0]\n",
    "mainclass_labels = input_tokenize[:,1]\n",
    "subclass_labels = input_tokenize[:,2]\n",
    "\n",
    "print(f'Example sentence: {sentence[0]}')\n",
    "print(f'Example mainclass label: {mainclass_labels[400]}')\n",
    "print(f'Example subclass label: {subclass_labels[0]}')\n",
    "\n",
    "print('Shape')\n",
    "print(f'Sentence: {sentence.shape}')\n",
    "print(f'Mainclass label: {mainclass_labels.shape}')\n",
    "print(f'Subclass label: {subclass_labels.shape}')"
   ]
  },
  {
   "cell_type": "code",
   "execution_count": 978,
   "metadata": {},
   "outputs": [
    {
     "name": "stdout",
     "output_type": "stream",
     "text": [
      "['อยาก' 'กิน' 'กุ้ง' 'ที่จะ' 'มี' 'ความ' 'หนุบ' 'กับ' 'น้ำสลัด' 'เทา'\n",
      " 'ซัน' 'ไอส์แลนด์' 'ที่' 'มี' 'ความ' 'เข้มข้น' 'หอม' 'แป้ง' 'เยอะ' ' ' ' '\n",
      " ' ' ' ' ' ' ' ' ' ' ' ' ' ' ' ' ' ' ' ' ' ' ' ' ' ' ' ' ' ' ' ' ' ' ' '\n",
      " ' ' ' ' ' ' ' ' ' ' ' ' ' ' ' ' ' ' ' ' ' ']\n",
      "(192, 3)\n",
      "(192,)\n",
      "['พิซซ่า' 'พิซซ่า' 'พิซซ่า' 'พิซซ่า' 'พิซซ่า' 'พิซซ่า' 'พิซซ่า' 'พิซซ่า'\n",
      " 'พิซซ่า' 'พิซซ่า' 'พิซซ่า' 'พิซซ่า' 'พิซซ่า' 'พิซซ่า' 'พิซซ่า' 'พิซซ่า'\n",
      " 'พิซซ่า' 'พิซซ่า' 'พิซซ่า' 'พิซซ่า' 'พิซซ่า' 'พิซซ่า' 'พิซซ่า' 'พิซซ่า'\n",
      " 'พิซซ่า' 'พิซซ่า' 'พิซซ่า' 'พิซซ่า' 'พิซซ่า' 'พิซซ่า' 'พิซซ่า' 'พิซซ่า'\n",
      " 'พิซซ่า' 'พิซซ่า' 'พิซซ่า' 'พิซซ่า' 'พิซซ่า' 'พิซซ่า' 'พิซซ่า' 'พิซซ่า'\n",
      " 'พิซซ่า' 'พิซซ่า' 'พิซซ่า' 'พิซซ่า' 'พิซซ่า' 'พิซซ่า' 'พิซซ่า' 'พิซซ่า'\n",
      " 'พิซซ่า' 'พิซซ่า' 'พิซซ่า' 'พิซซ่า' 'พิซซ่า' 'พิซซ่า' 'พิซซ่า' 'พิซซ่า'\n",
      " 'พิซซ่า' 'พิซซ่า' 'พิซซ่า' 'พิซซ่า' 'พิซซ่า' 'พิซซ่า' 'พิซซ่า' 'พิซซ่า'\n",
      " 'พิซซ่า' 'พิซซ่า' 'พิซซ่า' 'พิซซ่า' 'พิซซ่า' 'พิซซ่า' 'พิซซ่า' 'พิซซ่า'\n",
      " 'พิซซ่า' 'พิซซ่า' 'พิซซ่า' 'พิซซ่า' 'พิซซ่า' 'พิซซ่า' 'พิซซ่า' 'พิซซ่า'\n",
      " 'พิซซ่า' 'พิซซ่า' 'พิซซ่า' 'พิซซ่า' 'พิซซ่า' 'พิซซ่า' 'พิซซ่า' 'พิซซ่า'\n",
      " 'พิซซ่า' 'พิซซ่า' 'พิซซ่า' 'พิซซ่า' 'พิซซ่า' 'พิซซ่า' 'พิซซ่า' 'พิซซ่า'\n",
      " 'พิซซ่า' 'พิซซ่า' 'พิซซ่า' 'พิซซ่า' 'พิซซ่า' 'พิซซ่า' 'พิซซ่า' 'พิซซ่า'\n",
      " 'พิซซ่า' 'พิซซ่า' 'พิซซ่า' 'พิซซ่า' 'พิซซ่า' 'พิซซ่า' 'พิซซ่า' 'พิซซ่า'\n",
      " 'พิซซ่า' 'พิซซ่า' 'พิซซ่า' 'พิซซ่า' 'พิซซ่า' 'พิซซ่า' 'พิซซ่า' 'พิซซ่า'\n",
      " 'พิซซ่า' 'พิซซ่า' 'พิซซ่า' 'พิซซ่า' 'พิซซ่า' 'พิซซ่า' 'พิซซ่า' 'พิซซ่า'\n",
      " 'พิซซ่า' 'พิซซ่า' 'พิซซ่า' 'พิซซ่า' 'พิซซ่า' 'พิซซ่า' 'พิซซ่า' 'พิซซ่า'\n",
      " 'พิซซ่า' 'พิซซ่า' 'พิซซ่า' 'พิซซ่า' 'พิซซ่า' 'พิซซ่า' 'พิซซ่า' 'พิซซ่า'\n",
      " 'พิซซ่า' 'พิซซ่า' 'พิซซ่า' 'พิซซ่า' 'พิซซ่า' 'พิซซ่า' 'พิซซ่า' 'พิซซ่า'\n",
      " 'พิซซ่า' 'พิซซ่า' 'พิซซ่า' 'พิซซ่า' 'พิซซ่า' 'พิซซ่า' 'พิซซ่า' 'พิซซ่า'\n",
      " 'พิซซ่า' 'พิซซ่า' 'พิซซ่า' 'พิซซ่า' 'พิซซ่า' 'พิซซ่า' 'พิซซ่า' 'พิซซ่า'\n",
      " 'พิซซ่า' 'พิซซ่า' 'พิซซ่า' 'พิซซ่า' 'พิซซ่า' 'พิซซ่า' 'พิซซ่า' 'พิซซ่า'\n",
      " 'พิซซ่า' 'พิซซ่า' 'พิซซ่า' 'พิซซ่า' 'พิซซ่า' 'พิซซ่า' 'พิซซ่า' 'พิซซ่า'\n",
      " 'พิซซ่า' 'พิซซ่า' 'พิซซ่า' 'พิซซ่า' 'พิซซ่า' 'พิซซ่า' 'พิซซ่า' 'พิซซ่า']\n"
     ]
    }
   ],
   "source": [
    "pizza_tokens = input_tokenize[input_tokenize[:, 1] == 'พิซซ่า']\n",
    "print(pizza_tokens[0,0])\n",
    "\n",
    "print(pizza_tokens.shape)\n",
    "print(pizza_tokens[:, 1].shape)\n",
    "print(pizza_tokens[:,1])"
   ]
  },
  {
   "cell_type": "code",
   "execution_count": 979,
   "metadata": {},
   "outputs": [
    {
     "name": "stdout",
     "output_type": "stream",
     "text": [
      "['อาหาร' 'รสชาติ' 'เข้มข้น' 'น้ำ' 'ซุบ' 'เลือด' 'ต้ม' 'สุก' 'กิน' 'แล้ว'\n",
      " 'ละมุน' 'ลิ้น' 'เส้น' 'นุ่ม' 'หมู' 'นู่ม' 'มี' 'น้ำ' 'หากิน' 'ได้' 'ง่าย'\n",
      " 'พบ' 'ได้' 'ทั่วไป' 'ราคา' 'ไม่' 'แพง' 'กิน' 'ได้' 'คนเดียว' ' ' ' ' ' '\n",
      " ' ' ' ' ' ' ' ' ' ' ' ' ' ' ' ' ' ' ' ' ' ' ' ' ' ' ' ' ' ' ' ' ' ']\n",
      "(192, 3)\n"
     ]
    },
    {
     "data": {
      "text/plain": [
       "array(['ก๋วยเตี๋ยว', 'ก๋วยเตี๋ยว', 'ก๋วยเตี๋ยว', 'ก๋วยเตี๋ยว',\n",
       "       'ก๋วยเตี๋ยว', 'ก๋วยเตี๋ยว', 'ก๋วยเตี๋ยว', 'ก๋วยเตี๋ยว',\n",
       "       'ก๋วยเตี๋ยว', 'ก๋วยเตี๋ยว', 'ก๋วยเตี๋ยว', 'ก๋วยเตี๋ยว',\n",
       "       'ก๋วยเตี๋ยว', 'ก๋วยเตี๋ยว', 'ก๋วยเตี๋ยว', 'ก๋วยเตี๋ยว',\n",
       "       'ก๋วยเตี๋ยว', 'ก๋วยเตี๋ยว', 'ก๋วยเตี๋ยว', 'ก๋วยเตี๋ยว',\n",
       "       'ก๋วยเตี๋ยว', 'ก๋วยเตี๋ยว', 'ก๋วยเตี๋ยว', 'ก๋วยเตี๋ยว',\n",
       "       'ก๋วยเตี๋ยว', 'ก๋วยเตี๋ยว', 'ก๋วยเตี๋ยว', 'ก๋วยเตี๋ยว',\n",
       "       'ก๋วยเตี๋ยว', 'ก๋วยเตี๋ยว', 'ก๋วยเตี๋ยว', 'ก๋วยเตี๋ยว',\n",
       "       'ก๋วยเตี๋ยว', 'ก๋วยเตี๋ยว', 'ก๋วยเตี๋ยว', 'ก๋วยเตี๋ยว',\n",
       "       'ก๋วยเตี๋ยว', 'ก๋วยเตี๋ยว', 'ก๋วยเตี๋ยว', 'ก๋วยเตี๋ยว',\n",
       "       'ก๋วยเตี๋ยว', 'ก๋วยเตี๋ยว', 'ก๋วยเตี๋ยว', 'ก๋วยเตี๋ยว',\n",
       "       'ก๋วยเตี๋ยว', 'ก๋วยเตี๋ยว', 'ก๋วยเตี๋ยว', 'ก๋วยเตี๋ยว',\n",
       "       'ก๋วยเตี๋ยว', 'ก๋วยเตี๋ยว', 'ก๋วยเตี๋ยว', 'ก๋วยเตี๋ยว',\n",
       "       'ก๋วยเตี๋ยว', 'ก๋วยเตี๋ยว', 'ก๋วยเตี๋ยว', 'ก๋วยเตี๋ยว',\n",
       "       'ก๋วยเตี๋ยว', 'ก๋วยเตี๋ยว', 'ก๋วยเตี๋ยว', 'ก๋วยเตี๋ยว',\n",
       "       'ก๋วยเตี๋ยว', 'ก๋วยเตี๋ยว', 'ก๋วยเตี๋ยว', 'ก๋วยเตี๋ยว',\n",
       "       'ก๋วยเตี๋ยว', 'ก๋วยเตี๋ยว', 'ก๋วยเตี๋ยว', 'ก๋วยเตี๋ยว',\n",
       "       'ก๋วยเตี๋ยว', 'ก๋วยเตี๋ยว', 'ก๋วยเตี๋ยว', 'ก๋วยเตี๋ยว',\n",
       "       'ก๋วยเตี๋ยว', 'ก๋วยเตี๋ยว', 'ก๋วยเตี๋ยว', 'ก๋วยเตี๋ยว',\n",
       "       'ก๋วยเตี๋ยว', 'ก๋วยเตี๋ยว', 'ก๋วยเตี๋ยว', 'ก๋วยเตี๋ยว',\n",
       "       'ก๋วยเตี๋ยว', 'ก๋วยเตี๋ยว', 'ก๋วยเตี๋ยว', 'ก๋วยเตี๋ยว',\n",
       "       'ก๋วยเตี๋ยว', 'ก๋วยเตี๋ยว', 'ก๋วยเตี๋ยว', 'ก๋วยเตี๋ยว',\n",
       "       'ก๋วยเตี๋ยว', 'ก๋วยเตี๋ยว', 'ก๋วยเตี๋ยว', 'ก๋วยเตี๋ยว',\n",
       "       'ก๋วยเตี๋ยว', 'ก๋วยเตี๋ยว', 'ก๋วยเตี๋ยว', 'ก๋วยเตี๋ยว',\n",
       "       'ก๋วยเตี๋ยว', 'ก๋วยเตี๋ยว', 'ก๋วยเตี๋ยว', 'ก๋วยเตี๋ยว',\n",
       "       'ก๋วยเตี๋ยว', 'ก๋วยเตี๋ยว', 'ก๋วยเตี๋ยว', 'ก๋วยเตี๋ยว',\n",
       "       'ก๋วยเตี๋ยว', 'ก๋วยเตี๋ยว', 'ก๋วยเตี๋ยว', 'ก๋วยเตี๋ยว',\n",
       "       'ก๋วยเตี๋ยว', 'ก๋วยเตี๋ยว', 'ก๋วยเตี๋ยว', 'ก๋วยเตี๋ยว',\n",
       "       'ก๋วยเตี๋ยว', 'ก๋วยเตี๋ยว', 'ก๋วยเตี๋ยว', 'ก๋วยเตี๋ยว',\n",
       "       'ก๋วยเตี๋ยว', 'ก๋วยเตี๋ยว', 'ก๋วยเตี๋ยว', 'ก๋วยเตี๋ยว',\n",
       "       'ก๋วยเตี๋ยว', 'ก๋วยเตี๋ยว', 'ก๋วยเตี๋ยว', 'ก๋วยเตี๋ยว',\n",
       "       'ก๋วยเตี๋ยว', 'ก๋วยเตี๋ยว', 'ก๋วยเตี๋ยว', 'ก๋วยเตี๋ยว',\n",
       "       'ก๋วยเตี๋ยว', 'ก๋วยเตี๋ยว', 'ก๋วยเตี๋ยว', 'ก๋วยเตี๋ยว',\n",
       "       'ก๋วยเตี๋ยว', 'ก๋วยเตี๋ยว', 'ก๋วยเตี๋ยว', 'ก๋วยเตี๋ยว',\n",
       "       'ก๋วยเตี๋ยว', 'ก๋วยเตี๋ยว', 'ก๋วยเตี๋ยว', 'ก๋วยเตี๋ยว',\n",
       "       'ก๋วยเตี๋ยว', 'ก๋วยเตี๋ยว', 'ก๋วยเตี๋ยว', 'ก๋วยเตี๋ยว',\n",
       "       'ก๋วยเตี๋ยว', 'ก๋วยเตี๋ยว', 'ก๋วยเตี๋ยว', 'ก๋วยเตี๋ยว',\n",
       "       'ก๋วยเตี๋ยว', 'ก๋วยเตี๋ยว', 'ก๋วยเตี๋ยว', 'ก๋วยเตี๋ยว',\n",
       "       'ก๋วยเตี๋ยว', 'ก๋วยเตี๋ยว', 'ก๋วยเตี๋ยว', 'ก๋วยเตี๋ยว',\n",
       "       'ก๋วยเตี๋ยว', 'ก๋วยเตี๋ยว', 'ก๋วยเตี๋ยว', 'ก๋วยเตี๋ยว',\n",
       "       'ก๋วยเตี๋ยว', 'ก๋วยเตี๋ยว', 'ก๋วยเตี๋ยว', 'ก๋วยเตี๋ยว',\n",
       "       'ก๋วยเตี๋ยว', 'ก๋วยเตี๋ยว', 'ก๋วยเตี๋ยว', 'ก๋วยเตี๋ยว',\n",
       "       'ก๋วยเตี๋ยว', 'ก๋วยเตี๋ยว', 'ก๋วยเตี๋ยว', 'ก๋วยเตี๋ยว',\n",
       "       'ก๋วยเตี๋ยว', 'ก๋วยเตี๋ยว', 'ก๋วยเตี๋ยว', 'ก๋วยเตี๋ยว',\n",
       "       'ก๋วยเตี๋ยว', 'ก๋วยเตี๋ยว', 'ก๋วยเตี๋ยว', 'ก๋วยเตี๋ยว',\n",
       "       'ก๋วยเตี๋ยว', 'ก๋วยเตี๋ยว', 'ก๋วยเตี๋ยว', 'ก๋วยเตี๋ยว',\n",
       "       'ก๋วยเตี๋ยว', 'ก๋วยเตี๋ยว', 'ก๋วยเตี๋ยว', 'ก๋วยเตี๋ยว',\n",
       "       'ก๋วยเตี๋ยว', 'ก๋วยเตี๋ยว', 'ก๋วยเตี๋ยว', 'ก๋วยเตี๋ยว'],\n",
       "      dtype=object)"
      ]
     },
     "execution_count": 979,
     "metadata": {},
     "output_type": "execute_result"
    }
   ],
   "source": [
    "noodle_tokens = input_tokenize[input_tokenize[:, 1] == 'ก๋วยเตี๋ยว']\n",
    "print(noodle_tokens[0,0])\n",
    "print(noodle_tokens.shape)\n",
    "noodle_tokens[:, 1]"
   ]
  },
  {
   "cell_type": "code",
   "execution_count": 980,
   "metadata": {},
   "outputs": [
    {
     "name": "stdout",
     "output_type": "stream",
     "text": [
      "['เป็น' 'อาหาร' 'ที่' 'มี' 'รสชาติ' 'เนื้อเค็ม' 'มี' 'เปรี้ยว' 'จาก'\n",
      " 'มะเขือเทศ' 'มี' 'เส้น' 'นิ่ม' 'คู่' 'กับ' 'เนื้อ' 'เหนียว' 'เป็น' 'สปา'\n",
      " 'เก็ตตี้' 'มาจาก' 'ประเทศ' 'อิตาลี' 'คาร์โบไฮเดรต' 'เยอะ' 'ตาม' 'ด้วย'\n",
      " 'โปรตีน' 'และ' 'ไขมัน' ' ' ' ' ' ' ' ' ' ' ' ' ' ' ' ' ' ' ' ' ' ' ' '\n",
      " ' ' ' ' ' ' ' ' ' ' ' ' ' ' ' ']\n",
      "(192, 3)\n"
     ]
    },
    {
     "data": {
      "text/plain": [
       "array(['สปาเกตตี', 'สปาเกตตี', 'สปาเกตตี', 'สปาเกตตี', 'สปาเกตตี',\n",
       "       'สปาเกตตี', 'สปาเกตตี', 'สปาเกตตี', 'สปาเกตตี', 'สปาเกตตี',\n",
       "       'สปาเกตตี', 'สปาเกตตี', 'สปาเกตตี', 'สปาเกตตี', 'สปาเกตตี',\n",
       "       'สปาเกตตี', 'สปาเกตตี', 'สปาเกตตี', 'สปาเกตตี', 'สปาเกตตี',\n",
       "       'สปาเกตตี', 'สปาเกตตี', 'สปาเกตตี', 'สปาเกตตี', 'สปาเกตตี',\n",
       "       'สปาเกตตี', 'สปาเกตตี', 'สปาเกตตี', 'สปาเกตตี', 'สปาเกตตี',\n",
       "       'สปาเกตตี', 'สปาเกตตี', 'สปาเกตตี', 'สปาเกตตี', 'สปาเกตตี',\n",
       "       'สปาเกตตี', 'สปาเกตตี', 'สปาเกตตี', 'สปาเกตตี', 'สปาเกตตี',\n",
       "       'สปาเกตตี', 'สปาเกตตี', 'สปาเกตตี', 'สปาเกตตี', 'สปาเกตตี',\n",
       "       'สปาเกตตี', 'สปาเกตตี', 'สปาเกตตี', 'สปาเกตตี', 'สปาเกตตี',\n",
       "       'สปาเกตตี', 'สปาเกตตี', 'สปาเกตตี', 'สปาเกตตี', 'สปาเกตตี',\n",
       "       'สปาเกตตี', 'สปาเกตตี', 'สปาเกตตี', 'สปาเกตตี', 'สปาเกตตี',\n",
       "       'สปาเกตตี', 'สปาเกตตี', 'สปาเกตตี', 'สปาเกตตี', 'สปาเกตตี',\n",
       "       'สปาเกตตี', 'สปาเกตตี', 'สปาเกตตี', 'สปาเกตตี', 'สปาเกตตี',\n",
       "       'สปาเกตตี', 'สปาเกตตี', 'สปาเกตตี', 'สปาเกตตี', 'สปาเกตตี',\n",
       "       'สปาเกตตี', 'สปาเกตตี', 'สปาเกตตี', 'สปาเกตตี', 'สปาเกตตี',\n",
       "       'สปาเกตตี', 'สปาเกตตี', 'สปาเกตตี', 'สปาเกตตี', 'สปาเกตตี',\n",
       "       'สปาเกตตี', 'สปาเกตตี', 'สปาเกตตี', 'สปาเกตตี', 'สปาเกตตี',\n",
       "       'สปาเกตตี', 'สปาเกตตี', 'สปาเกตตี', 'สปาเกตตี', 'สปาเกตตี',\n",
       "       'สปาเกตตี', 'สปาเกตตี', 'สปาเกตตี', 'สปาเกตตี', 'สปาเกตตี',\n",
       "       'สปาเกตตี', 'สปาเกตตี', 'สปาเกตตี', 'สปาเกตตี', 'สปาเกตตี',\n",
       "       'สปาเกตตี', 'สปาเกตตี', 'สปาเกตตี', 'สปาเกตตี', 'สปาเกตตี',\n",
       "       'สปาเกตตี', 'สปาเกตตี', 'สปาเกตตี', 'สปาเกตตี', 'สปาเกตตี',\n",
       "       'สปาเกตตี', 'สปาเกตตี', 'สปาเกตตี', 'สปาเกตตี', 'สปาเกตตี',\n",
       "       'สปาเกตตี', 'สปาเกตตี', 'สปาเกตตี', 'สปาเกตตี', 'สปาเกตตี',\n",
       "       'สปาเกตตี', 'สปาเกตตี', 'สปาเกตตี', 'สปาเกตตี', 'สปาเกตตี',\n",
       "       'สปาเกตตี', 'สปาเกตตี', 'สปาเกตตี', 'สปาเกตตี', 'สปาเกตตี',\n",
       "       'สปาเกตตี', 'สปาเกตตี', 'สปาเกตตี', 'สปาเกตตี', 'สปาเกตตี',\n",
       "       'สปาเกตตี', 'สปาเกตตี', 'สปาเกตตี', 'สปาเกตตี', 'สปาเกตตี',\n",
       "       'สปาเกตตี', 'สปาเกตตี', 'สปาเกตตี', 'สปาเกตตี', 'สปาเกตตี',\n",
       "       'สปาเกตตี', 'สปาเกตตี', 'สปาเกตตี', 'สปาเกตตี', 'สปาเกตตี',\n",
       "       'สปาเกตตี', 'สปาเกตตี', 'สปาเกตตี', 'สปาเกตตี', 'สปาเกตตี',\n",
       "       'สปาเกตตี', 'สปาเกตตี', 'สปาเกตตี', 'สปาเกตตี', 'สปาเกตตี',\n",
       "       'สปาเกตตี', 'สปาเกตตี', 'สปาเกตตี', 'สปาเกตตี', 'สปาเกตตี',\n",
       "       'สปาเกตตี', 'สปาเกตตี', 'สปาเกตตี', 'สปาเกตตี', 'สปาเกตตี',\n",
       "       'สปาเกตตี', 'สปาเกตตี', 'สปาเกตตี', 'สปาเกตตี', 'สปาเกตตี',\n",
       "       'สปาเกตตี', 'สปาเกตตี', 'สปาเกตตี', 'สปาเกตตี', 'สปาเกตตี',\n",
       "       'สปาเกตตี', 'สปาเกตตี', 'สปาเกตตี', 'สปาเกตตี', 'สปาเกตตี',\n",
       "       'สปาเกตตี', 'สปาเกตตี'], dtype=object)"
      ]
     },
     "execution_count": 980,
     "metadata": {},
     "output_type": "execute_result"
    }
   ],
   "source": [
    "spaghetti_tokens = input_tokenize[input_tokenize[:, 1] == 'สปาเกตตี']\n",
    "print(spaghetti_tokens[0,0])\n",
    "print(spaghetti_tokens.shape)\n",
    "spaghetti_tokens[:, 1]"
   ]
  },
  {
   "attachments": {},
   "cell_type": "markdown",
   "metadata": {},
   "source": [
    "## **Word Count**"
   ]
  },
  {
   "cell_type": "code",
   "execution_count": 981,
   "metadata": {},
   "outputs": [
    {
     "data": {
      "text/plain": [
       "[(' ', 16726),\n",
       " ('มี', 630),\n",
       " ('ที่', 580),\n",
       " ('กิน', 360),\n",
       " ('และ', 325),\n",
       " ('เป็น', 251),\n",
       " ('อาหาร', 235),\n",
       " ('เส้น', 220),\n",
       " ('ได้', 185),\n",
       " ('อยาก', 160),\n",
       " ('กับ', 144),\n",
       " ('ไม่', 140),\n",
       " ('ของ', 134),\n",
       " ('รสชาติ', 132),\n",
       " ('ผัก', 125)]"
      ]
     },
     "metadata": {},
     "output_type": "display_data"
    }
   ],
   "source": [
    "from collections import Counter\n",
    "\n",
    "word_counts = Counter()\n",
    "for data in input_tokenize[:,0]:\n",
    "    word_counts.update(data)\n",
    "    \n",
    "display(word_counts.most_common(15))"
   ]
  },
  {
   "cell_type": "code",
   "execution_count": 982,
   "metadata": {},
   "outputs": [
    {
     "name": "stdout",
     "output_type": "stream",
     "text": [
      "Maximum vocabulary size from data set: 1267\n",
      "Maximum sentence length from data set: 50\n"
     ]
    }
   ],
   "source": [
    "# Find maximym vocabulary size\n",
    "max_vocab_size = len(word_counts) + 1 # +1 for unknown token\n",
    "print(f'Maximum vocabulary size from data set: {max_vocab_size}')\n",
    "# Find maximum sentence length\n",
    "max_len = max([len(sentence) for sentence in input_tokenize[:,0]])\n",
    "print(f'Maximum sentence length from data set: {max_len}')\n",
    "\n",
    "# Set parameters\n",
    "max_vocab_size = 5000 # Set maximum vocabulary size to 5000 word (including unknown token)\n",
    "max_len = 50 # Set maximum sentence length to 50 word per input text"
   ]
  },
  {
   "attachments": {},
   "cell_type": "markdown",
   "metadata": {},
   "source": [
    "## **Word Vectorization**"
   ]
  },
  {
   "cell_type": "code",
   "execution_count": 983,
   "metadata": {},
   "outputs": [
    {
     "name": "stdout",
     "output_type": "stream",
     "text": [
      "['อยาก' 'กิน' 'กุ้ง' 'ที่จะ' 'มี' 'ความ' 'หนุบ' 'กับ' 'น้ำสลัด' 'เทา'\n",
      " 'ซัน' 'ไอส์แลนด์' 'ที่' 'มี' 'ความ' 'เข้มข้น' 'หอม' 'แป้ง' 'เยอะ' ' ' ' '\n",
      " ' ' ' ' ' ' ' ' ' ' ' ' ' ' ' ' ' ' ' ' ' ' ' ' ' ' ' ' ' ' ' ' ' ' ' '\n",
      " ' ' ' ' ' ' ' ' ' ' ' ' ' ' ' ' ' ' ' ' ' ']\n",
      "พิซซ่า\n",
      "0\n"
     ]
    }
   ],
   "source": [
    "print(sentence[0])\n",
    "print(mainclass_labels[0])\n",
    "print(subclass_labels[0])"
   ]
  },
  {
   "cell_type": "code",
   "execution_count": 984,
   "metadata": {},
   "outputs": [],
   "source": [
    "from pythainlp import word_vector\n",
    "wordVector = word_vector.WordVector(model_name=\"thai2fit_wv\").get_model() # load thai2fit_wv from pythainlp"
   ]
  },
  {
   "cell_type": "code",
   "execution_count": 985,
   "metadata": {},
   "outputs": [],
   "source": [
    "def map_word_to_vector(word):\n",
    "    try:\n",
    "        return wordVector[word]\n",
    "    except KeyError:\n",
    "        if word != ' ':\n",
    "            print(\"error : \"+ str(word))\n",
    "        return np.zeros(wordVector.vector_size)\n",
    "\n",
    "# sentence_vector = np.array([np.array([map_word_to_vector(word) for word in sentence]) for sentence in input_tokenize[:,0]],dtype=object)\n",
    "# mainclass_vector = np.array([np.array([map_word_to_vector(word) for word in sentence]) for sentence in input_tokenize[:,1]],dtype=object)\n",
    "\n",
    "# print(f'Sentence vector shape: {sentence_vector[0].shape}')\n",
    "# print(f'Mainclass vector shape: {mainclass_vector[0].shape}')\n",
    "\n",
    "# mainclass_vector[0]"
   ]
  },
  {
   "cell_type": "code",
   "execution_count": 986,
   "metadata": {},
   "outputs": [
    {
     "name": "stdout",
     "output_type": "stream",
     "text": [
      "['พิซซ่า' 'พิซซ่า' 'พิซซ่า' 'พิซซ่า' 'พิซซ่า' 'พิซซ่า' 'พิซซ่า' 'พิซซ่า'\n",
      " 'พิซซ่า' 'พิซซ่า' 'พิซซ่า' 'พิซซ่า' 'พิซซ่า' 'พิซซ่า' 'พิซซ่า' 'พิซซ่า'\n",
      " 'พิซซ่า' 'พิซซ่า' 'พิซซ่า' 'พิซซ่า' 'พิซซ่า' 'พิซซ่า' 'พิซซ่า' 'พิซซ่า'\n",
      " 'พิซซ่า' 'พิซซ่า' 'พิซซ่า' 'พิซซ่า' 'พิซซ่า' 'พิซซ่า' 'พิซซ่า' 'พิซซ่า'\n",
      " 'พิซซ่า' 'พิซซ่า' 'พิซซ่า' 'พิซซ่า' 'พิซซ่า' 'พิซซ่า' 'พิซซ่า' 'พิซซ่า'\n",
      " 'พิซซ่า' 'พิซซ่า' 'พิซซ่า' 'พิซซ่า' 'พิซซ่า' 'พิซซ่า' 'พิซซ่า' 'พิซซ่า'\n",
      " 'พิซซ่า' 'พิซซ่า' 'พิซซ่า' 'พิซซ่า' 'พิซซ่า' 'พิซซ่า' 'พิซซ่า' 'พิซซ่า'\n",
      " 'พิซซ่า' 'พิซซ่า' 'พิซซ่า' 'พิซซ่า' 'พิซซ่า' 'พิซซ่า' 'พิซซ่า' 'พิซซ่า'\n",
      " 'พิซซ่า' 'พิซซ่า' 'พิซซ่า' 'พิซซ่า' 'พิซซ่า' 'พิซซ่า' 'พิซซ่า' 'พิซซ่า'\n",
      " 'พิซซ่า' 'พิซซ่า' 'พิซซ่า' 'พิซซ่า' 'พิซซ่า' 'พิซซ่า' 'พิซซ่า' 'พิซซ่า'\n",
      " 'พิซซ่า' 'พิซซ่า' 'พิซซ่า' 'พิซซ่า' 'พิซซ่า' 'พิซซ่า' 'พิซซ่า' 'พิซซ่า'\n",
      " 'พิซซ่า' 'พิซซ่า' 'พิซซ่า' 'พิซซ่า' 'พิซซ่า' 'พิซซ่า' 'พิซซ่า' 'พิซซ่า'\n",
      " 'พิซซ่า' 'พิซซ่า' 'พิซซ่า' 'พิซซ่า' 'พิซซ่า' 'พิซซ่า' 'พิซซ่า' 'พิซซ่า'\n",
      " 'พิซซ่า' 'พิซซ่า' 'พิซซ่า' 'พิซซ่า' 'พิซซ่า' 'พิซซ่า' 'พิซซ่า' 'พิซซ่า'\n",
      " 'พิซซ่า' 'พิซซ่า' 'พิซซ่า' 'พิซซ่า' 'พิซซ่า' 'พิซซ่า' 'พิซซ่า' 'พิซซ่า'\n",
      " 'พิซซ่า' 'พิซซ่า' 'พิซซ่า' 'พิซซ่า' 'พิซซ่า' 'พิซซ่า' 'พิซซ่า' 'พิซซ่า'\n",
      " 'พิซซ่า' 'พิซซ่า' 'พิซซ่า' 'พิซซ่า' 'พิซซ่า' 'พิซซ่า' 'พิซซ่า' 'พิซซ่า'\n",
      " 'พิซซ่า' 'พิซซ่า' 'พิซซ่า' 'พิซซ่า' 'พิซซ่า' 'พิซซ่า' 'พิซซ่า' 'พิซซ่า'\n",
      " 'พิซซ่า' 'พิซซ่า' 'พิซซ่า' 'พิซซ่า' 'พิซซ่า' 'พิซซ่า' 'พิซซ่า' 'พิซซ่า'\n",
      " 'พิซซ่า' 'พิซซ่า' 'พิซซ่า' 'พิซซ่า' 'พิซซ่า' 'พิซซ่า' 'พิซซ่า' 'พิซซ่า'\n",
      " 'พิซซ่า' 'พิซซ่า' 'พิซซ่า' 'พิซซ่า' 'พิซซ่า' 'พิซซ่า' 'พิซซ่า' 'พิซซ่า'\n",
      " 'พิซซ่า' 'พิซซ่า' 'พิซซ่า' 'พิซซ่า' 'พิซซ่า' 'พิซซ่า' 'พิซซ่า' 'พิซซ่า'\n",
      " 'พิซซ่า' 'พิซซ่า' 'พิซซ่า' 'พิซซ่า' 'พิซซ่า' 'พิซซ่า' 'พิซซ่า' 'พิซซ่า'\n",
      " 'พิซซ่า' 'พิซซ่า' 'พิซซ่า' 'พิซซ่า' 'พิซซ่า' 'พิซซ่า' 'พิซซ่า' 'พิซซ่า']\n",
      "(192,)\n"
     ]
    }
   ],
   "source": [
    "print(pizza_tokens[:,1])\n",
    "print(pizza_tokens[:,1].shape)"
   ]
  },
  {
   "cell_type": "code",
   "execution_count": 987,
   "metadata": {},
   "outputs": [
    {
     "name": "stdout",
     "output_type": "stream",
     "text": [
      "error : หนุบ\n",
      "error : น้ำสลัด\n",
      "error : ใน\n",
      "error : ลลอ\n",
      "error : ฟู๊ด\n",
      "error : สัปปะรด\n",
      "error : ใน\n",
      "error : สัปปะรด\n",
      "error : สัปปะรด\n",
      "error : ฟู๊ด\n",
      "error : เเต่\n",
      "error : สัป\n",
      "error : ใน\n",
      "error : ใน\n",
      "error : ใน\n",
      "error : บี\n",
      "error : ใน\n",
      "error : บี\n",
      "error : ใน\n",
      "error : กุ้ง\n",
      "error : สัปปะรด\n",
      "error : ช้อนส้อม\n",
      "error : สัปปะรด\n",
      "error : สัปปะรด\n",
      "error : อยู่แล้ว\n",
      "error : อป\n",
      "error : ยังมี\n",
      "error : เนื่อ\n",
      "error : เป๊ปเปอ\n",
      "error : นี\n",
      "error : เนื่อ\n",
      "error : เนื้่อ\n",
      "error : ลักษะ\n",
      "error : เป๊ปเปอ\n",
      "error : นี\n",
      "error : เป๊ปเปอ\n",
      "error : นี\n",
      "error : ใน\n",
      "error : เป็ปเปอ\n",
      "error : นี\n",
      "error : ใน\n",
      "error : ใน\n",
      "error : เป๊ปเปอ\n",
      "error : นี\n",
      "error : ใน\n",
      "error : อาหารจานเดียว\n",
      "error : ใน\n",
      "error : เป็ปเปอ\n",
      "error : นี\n",
      "error : ใน\n",
      "error : ใน\n",
      "error : ใน\n",
      "error : เบ\n",
      "error : เบ\n",
      "error : เนื้ิอ\n",
      "error : สั่งอาหาร\n",
      "error : เบ\n",
      "error : เป็ปเปอ\n",
      "error : นี\n",
      "error : ช้อนส้อม\n",
      "error : ใน\n",
      "error : ไม่ค่อย\n",
      "error : ช้อนส้อม\n",
      "error : เป็ปเปอ\n",
      "error : นี\n",
      "error : เบ\n",
      "error : เส้นใย\n",
      "error : เส้นใย\n",
      "error : ใน\n",
      "error : ใน\n",
      "error : กอบด้วย\n",
      "error : เปรี้ยวหวาน\n",
      "error : ีอ\n",
      "error : ใน\n",
      "error : ใน\n",
      "error : ใน\n",
      "error : เปรี้ยวหวาน\n",
      "error : ใน\n",
      "error : ใน\n",
      "error : หนักท้อง\n",
      "error : ทำงน\n",
      "error : ไม่ค่อย\n",
      "error : ไม่ค่อย\n",
      "error : เย้\n",
      "error : อิ\n",
      "error : ใน\n",
      "error : ให้หา\n",
      "error : ลักษะ\n",
      "error : ร้อนที่\n",
      "error : ร้อนที่\n",
      "error : เก้\n",
      "error : เป๊ปเปอ\n",
      "error : นี\n",
      "error : ร้อนที่\n",
      "error : ซีซาร์\n",
      "error : ซีซาร์\n",
      "error : เก้\n",
      "error : เป๊ปเปอ\n",
      "error : นีขอ\n",
      "error : ใน\n",
      "error : เปปเปอ\n",
      "error : นี\n",
      "error : เปอร์\n",
      "error : เก้\n",
      "error : เป๊ปเปอ\n",
      "error : นี\n",
      "error : ใน\n",
      "error : เป็ปเปอ\n",
      "error : นี\n",
      "error : ใน\n",
      "error : ใน\n",
      "error : ใน\n",
      "error : ใน\n",
      "error : ใน\n",
      "error : ใน\n",
      "error : ช้อม\n",
      "error : เบบ\n",
      "error : ใน\n",
      "Sentence vector shape: (192, 50, 300)\n",
      "(50, 300)\n",
      "Mainclass vector shape: (192, 300)\n",
      "(300,)\n",
      "pizza concat vector shape: (192, 51, 300)\n",
      "(51, 300)\n"
     ]
    }
   ],
   "source": [
    "pizza_sentence_vector = np.array([np.array([map_word_to_vector(word) for word in sentence]) for sentence in pizza_tokens[:,0]],dtype=object)\n",
    "print(f'Sentence vector shape: {pizza_sentence_vector.shape}')\n",
    "print(pizza_sentence_vector[0].shape)\n",
    "\n",
    "pizza_mainclass_vector = np.array(map_word_to_vector(pizza_tokens[:,1]),dtype=object)\n",
    "print(f'Mainclass vector shape: {pizza_mainclass_vector.shape}')\n",
    "print(pizza_mainclass_vector[0].shape)\n",
    "\n",
    "pizza_concat_vector = np.concatenate((pizza_sentence_vector, pizza_mainclass_vector[:, np.newaxis]), axis=1)\n",
    "print(f'pizza concat vector shape: {pizza_concat_vector.shape}')\n",
    "print(pizza_concat_vector[0].shape)\n"
   ]
  },
  {
   "cell_type": "code",
   "execution_count": 988,
   "metadata": {},
   "outputs": [
    {
     "name": "stdout",
     "output_type": "stream",
     "text": [
      "['ก๋วยเตี๋ยว' 'ก๋วยเตี๋ยว' 'ก๋วยเตี๋ยว' 'ก๋วยเตี๋ยว' 'ก๋วยเตี๋ยว'\n",
      " 'ก๋วยเตี๋ยว' 'ก๋วยเตี๋ยว' 'ก๋วยเตี๋ยว' 'ก๋วยเตี๋ยว' 'ก๋วยเตี๋ยว'\n",
      " 'ก๋วยเตี๋ยว' 'ก๋วยเตี๋ยว' 'ก๋วยเตี๋ยว' 'ก๋วยเตี๋ยว' 'ก๋วยเตี๋ยว'\n",
      " 'ก๋วยเตี๋ยว' 'ก๋วยเตี๋ยว' 'ก๋วยเตี๋ยว' 'ก๋วยเตี๋ยว' 'ก๋วยเตี๋ยว'\n",
      " 'ก๋วยเตี๋ยว' 'ก๋วยเตี๋ยว' 'ก๋วยเตี๋ยว' 'ก๋วยเตี๋ยว' 'ก๋วยเตี๋ยว'\n",
      " 'ก๋วยเตี๋ยว' 'ก๋วยเตี๋ยว' 'ก๋วยเตี๋ยว' 'ก๋วยเตี๋ยว' 'ก๋วยเตี๋ยว'\n",
      " 'ก๋วยเตี๋ยว' 'ก๋วยเตี๋ยว' 'ก๋วยเตี๋ยว' 'ก๋วยเตี๋ยว' 'ก๋วยเตี๋ยว'\n",
      " 'ก๋วยเตี๋ยว' 'ก๋วยเตี๋ยว' 'ก๋วยเตี๋ยว' 'ก๋วยเตี๋ยว' 'ก๋วยเตี๋ยว'\n",
      " 'ก๋วยเตี๋ยว' 'ก๋วยเตี๋ยว' 'ก๋วยเตี๋ยว' 'ก๋วยเตี๋ยว' 'ก๋วยเตี๋ยว'\n",
      " 'ก๋วยเตี๋ยว' 'ก๋วยเตี๋ยว' 'ก๋วยเตี๋ยว' 'ก๋วยเตี๋ยว' 'ก๋วยเตี๋ยว'\n",
      " 'ก๋วยเตี๋ยว' 'ก๋วยเตี๋ยว' 'ก๋วยเตี๋ยว' 'ก๋วยเตี๋ยว' 'ก๋วยเตี๋ยว'\n",
      " 'ก๋วยเตี๋ยว' 'ก๋วยเตี๋ยว' 'ก๋วยเตี๋ยว' 'ก๋วยเตี๋ยว' 'ก๋วยเตี๋ยว'\n",
      " 'ก๋วยเตี๋ยว' 'ก๋วยเตี๋ยว' 'ก๋วยเตี๋ยว' 'ก๋วยเตี๋ยว' 'ก๋วยเตี๋ยว'\n",
      " 'ก๋วยเตี๋ยว' 'ก๋วยเตี๋ยว' 'ก๋วยเตี๋ยว' 'ก๋วยเตี๋ยว' 'ก๋วยเตี๋ยว'\n",
      " 'ก๋วยเตี๋ยว' 'ก๋วยเตี๋ยว' 'ก๋วยเตี๋ยว' 'ก๋วยเตี๋ยว' 'ก๋วยเตี๋ยว'\n",
      " 'ก๋วยเตี๋ยว' 'ก๋วยเตี๋ยว' 'ก๋วยเตี๋ยว' 'ก๋วยเตี๋ยว' 'ก๋วยเตี๋ยว'\n",
      " 'ก๋วยเตี๋ยว' 'ก๋วยเตี๋ยว' 'ก๋วยเตี๋ยว' 'ก๋วยเตี๋ยว' 'ก๋วยเตี๋ยว'\n",
      " 'ก๋วยเตี๋ยว' 'ก๋วยเตี๋ยว' 'ก๋วยเตี๋ยว' 'ก๋วยเตี๋ยว' 'ก๋วยเตี๋ยว'\n",
      " 'ก๋วยเตี๋ยว' 'ก๋วยเตี๋ยว' 'ก๋วยเตี๋ยว' 'ก๋วยเตี๋ยว' 'ก๋วยเตี๋ยว'\n",
      " 'ก๋วยเตี๋ยว' 'ก๋วยเตี๋ยว' 'ก๋วยเตี๋ยว' 'ก๋วยเตี๋ยว' 'ก๋วยเตี๋ยว'\n",
      " 'ก๋วยเตี๋ยว' 'ก๋วยเตี๋ยว' 'ก๋วยเตี๋ยว' 'ก๋วยเตี๋ยว' 'ก๋วยเตี๋ยว'\n",
      " 'ก๋วยเตี๋ยว' 'ก๋วยเตี๋ยว' 'ก๋วยเตี๋ยว' 'ก๋วยเตี๋ยว' 'ก๋วยเตี๋ยว'\n",
      " 'ก๋วยเตี๋ยว' 'ก๋วยเตี๋ยว' 'ก๋วยเตี๋ยว' 'ก๋วยเตี๋ยว' 'ก๋วยเตี๋ยว'\n",
      " 'ก๋วยเตี๋ยว' 'ก๋วยเตี๋ยว' 'ก๋วยเตี๋ยว' 'ก๋วยเตี๋ยว' 'ก๋วยเตี๋ยว'\n",
      " 'ก๋วยเตี๋ยว' 'ก๋วยเตี๋ยว' 'ก๋วยเตี๋ยว' 'ก๋วยเตี๋ยว' 'ก๋วยเตี๋ยว'\n",
      " 'ก๋วยเตี๋ยว' 'ก๋วยเตี๋ยว' 'ก๋วยเตี๋ยว' 'ก๋วยเตี๋ยว' 'ก๋วยเตี๋ยว'\n",
      " 'ก๋วยเตี๋ยว' 'ก๋วยเตี๋ยว' 'ก๋วยเตี๋ยว' 'ก๋วยเตี๋ยว' 'ก๋วยเตี๋ยว'\n",
      " 'ก๋วยเตี๋ยว' 'ก๋วยเตี๋ยว' 'ก๋วยเตี๋ยว' 'ก๋วยเตี๋ยว' 'ก๋วยเตี๋ยว'\n",
      " 'ก๋วยเตี๋ยว' 'ก๋วยเตี๋ยว' 'ก๋วยเตี๋ยว' 'ก๋วยเตี๋ยว' 'ก๋วยเตี๋ยว'\n",
      " 'ก๋วยเตี๋ยว' 'ก๋วยเตี๋ยว' 'ก๋วยเตี๋ยว' 'ก๋วยเตี๋ยว' 'ก๋วยเตี๋ยว'\n",
      " 'ก๋วยเตี๋ยว' 'ก๋วยเตี๋ยว' 'ก๋วยเตี๋ยว' 'ก๋วยเตี๋ยว' 'ก๋วยเตี๋ยว'\n",
      " 'ก๋วยเตี๋ยว' 'ก๋วยเตี๋ยว' 'ก๋วยเตี๋ยว' 'ก๋วยเตี๋ยว' 'ก๋วยเตี๋ยว'\n",
      " 'ก๋วยเตี๋ยว' 'ก๋วยเตี๋ยว' 'ก๋วยเตี๋ยว' 'ก๋วยเตี๋ยว' 'ก๋วยเตี๋ยว'\n",
      " 'ก๋วยเตี๋ยว' 'ก๋วยเตี๋ยว' 'ก๋วยเตี๋ยว' 'ก๋วยเตี๋ยว' 'ก๋วยเตี๋ยว'\n",
      " 'ก๋วยเตี๋ยว' 'ก๋วยเตี๋ยว' 'ก๋วยเตี๋ยว' 'ก๋วยเตี๋ยว' 'ก๋วยเตี๋ยว'\n",
      " 'ก๋วยเตี๋ยว' 'ก๋วยเตี๋ยว' 'ก๋วยเตี๋ยว' 'ก๋วยเตี๋ยว' 'ก๋วยเตี๋ยว'\n",
      " 'ก๋วยเตี๋ยว' 'ก๋วยเตี๋ยว' 'ก๋วยเตี๋ยว' 'ก๋วยเตี๋ยว' 'ก๋วยเตี๋ยว'\n",
      " 'ก๋วยเตี๋ยว' 'ก๋วยเตี๋ยว' 'ก๋วยเตี๋ยว' 'ก๋วยเตี๋ยว' 'ก๋วยเตี๋ยว'\n",
      " 'ก๋วยเตี๋ยว' 'ก๋วยเตี๋ยว']\n",
      "(192,)\n"
     ]
    }
   ],
   "source": [
    "print(noodle_tokens[:,1])\n",
    "print(noodle_tokens[:,1].shape)"
   ]
  },
  {
   "cell_type": "code",
   "execution_count": 989,
   "metadata": {},
   "outputs": [
    {
     "name": "stdout",
     "output_type": "stream",
     "text": [
      "error : นู่ม\n",
      "error : อยู่แล้ว\n",
      "error : เหนียวหนึบ\n",
      "error : กากหมู\n",
      "error : ถํ่ว\n",
      "error : ใน\n",
      "error : ร้อนที่\n",
      "error : กากหมู\n",
      "error : ช้อนส้อม\n",
      "error : กินเส้น\n",
      "error : อยู่แล้ว\n",
      "error : กากหมู\n",
      "error : หน้าหนา\n",
      "error : ใน\n",
      "error : นืป\n",
      "error : ปลา่\n",
      "error : สัตถุ\n",
      "error : เลือดหมู\n",
      "error : ใน\n",
      "error : ตุ้น\n",
      "error : ใน\n",
      "error : กากหมู\n",
      "error : แค็ป\n",
      "error : กากหมู\n",
      "error : ใน\n",
      "error : กากหมู\n",
      "error : ใน\n",
      "error : เหนียวหนึบ\n",
      "error : หมูสี\n",
      "error : เหลี่ยว\n",
      "error : ใน\n",
      "error : แสบร้อน\n",
      "error : ใน\n",
      "error : ใน\n",
      "error : ใน\n",
      "error : ใน\n",
      "error : น้ำพริกเผา\n",
      "error : ใน\n",
      "error : ฟู๊ด\n",
      "error : ใน\n",
      "error : ใน\n",
      "error : มาม่า\n",
      "error : ยางมะตูม\n",
      "error : กินเส้น\n",
      "error : ใน\n",
      "error : กินน้ำ\n",
      "error : ขึ่น\n",
      "error : หนักท้อง\n",
      "error : เป็นที่\n",
      "error : ยังมี\n",
      "error : ไม่ค่อย\n",
      "error : เปรี่ยว\n",
      "error : ไม่ค่อย\n",
      "error : ยางมะตูม\n",
      "error : เปรี่ยว\n",
      "error : การลวก\n",
      "error : หมูกรอบ\n",
      "error : หมูกรอบ\n",
      "error : ให้ได้\n",
      "error : การลวก\n",
      "error : ใน\n",
      "error : บะ\n",
      "error : หมูกรอบ\n",
      "error : เส้นหมี่\n",
      "error : หมูกรอบ\n",
      "error : เปียกชุ่ม\n",
      "error : หมูกรอบ\n",
      "error : หมูกรอบ\n",
      "error : ใน\n",
      "error : การลวก\n",
      "error : ใน\n",
      "error : เส้นหมี่\n",
      "error : หมูกรอบ\n",
      "error : การลวก\n",
      "error : หมูกรอบ\n",
      "error : พริกน้ำส้ม\n",
      "error : หมูกรอบ\n",
      "error : กระเทียมหอม\n",
      "error : ข้าวหมูแดง\n",
      "error : หมูกรอบ\n",
      "error : โล่งคอ\n",
      "error : หมูกรอบ\n",
      "error : ใน\n",
      "error : ช่ำ\n",
      "error : ใน\n",
      "error : ทำเป็น\n",
      "error : ข้าวหมูแดง\n",
      "error : หมูกรอบ\n",
      "error : หมูกรอบ\n",
      "error : ช่ำ\n",
      "error : หมูกรอบ\n",
      "error : ใน\n",
      "error : หมูกรอบ\n",
      "error : ซํก\n",
      "error : คู่\n",
      "error : ข้าวหมูแดง\n",
      "error : หมูกรอบ\n",
      "error : เกี๋ยว\n",
      "error : เนื้อเปื่อย\n",
      "error : ป็น\n",
      "error : ข่อน\n",
      "error : เลือดหมู\n",
      "error : ให้ได้\n",
      "error : เนื้อเปื่อย\n",
      "error : กินน้ำ\n",
      "error : กินเส้น\n",
      "error : ใน\n",
      "error : หมูกรอบ\n",
      "error : ยังมี\n",
      "error : กินเส้น\n",
      "error : ใน\n",
      "error : กินน้ำ\n",
      "error : หมูกรอบ\n",
      "error : อยู่ท้อง\n",
      "error : คล่องคอ\n",
      "error : ใน\n",
      "error : ความอิ่ม\n",
      "error : กินน้ำ\n",
      "error : โล่งคอ\n",
      "error : ใน\n",
      "error : ใน\n",
      "error : โดยที่\n",
      "error : ฮอย\n",
      "error : ทำเป็น\n",
      "error : หม้อไฟ\n",
      "error : กินน้ำ\n",
      "error : กินเส้น\n",
      "error : กินน้ำ\n",
      "error : กินเส้น\n",
      "error : ี้ั\n",
      "error : ให้น้ำ\n",
      "error : เลือดหมู\n",
      "error : ยังมี\n",
      "error : เนื้อเปื่อย\n",
      "error : ใน\n",
      "Sentence vector shape: (192, 50, 300)\n",
      "(50, 300)\n",
      "Mainclass vector shape: (192, 300)\n",
      "(300,)\n",
      "noodle concat vector shape: (192, 51, 300)\n",
      "(51, 300)\n"
     ]
    }
   ],
   "source": [
    "noodle_sentence_vector = np.array([np.array([map_word_to_vector(word) for word in sentence]) for sentence in noodle_tokens[:,0]],dtype=object)\n",
    "print(f'Sentence vector shape: {noodle_sentence_vector.shape}')\n",
    "print(noodle_sentence_vector[0].shape)\n",
    "\n",
    "noodle_mainclass_vector = np.array(map_word_to_vector(noodle_tokens[:,1]),dtype=object)\n",
    "print(f'Mainclass vector shape: {noodle_mainclass_vector.shape}')\n",
    "print(noodle_mainclass_vector[0].shape)\n",
    "\n",
    "noodle_concat_vector = np.concatenate((noodle_sentence_vector, noodle_mainclass_vector[:, np.newaxis]), axis=1)\n",
    "print(f'noodle concat vector shape: {noodle_concat_vector.shape}')\n",
    "print(noodle_concat_vector[0].shape)"
   ]
  },
  {
   "cell_type": "code",
   "execution_count": 990,
   "metadata": {},
   "outputs": [
    {
     "name": "stdout",
     "output_type": "stream",
     "text": [
      "['สปาเกตตี' 'สปาเกตตี' 'สปาเกตตี' 'สปาเกตตี' 'สปาเกตตี' 'สปาเกตตี'\n",
      " 'สปาเกตตี' 'สปาเกตตี' 'สปาเกตตี' 'สปาเกตตี' 'สปาเกตตี' 'สปาเกตตี'\n",
      " 'สปาเกตตี' 'สปาเกตตี' 'สปาเกตตี' 'สปาเกตตี' 'สปาเกตตี' 'สปาเกตตี'\n",
      " 'สปาเกตตี' 'สปาเกตตี' 'สปาเกตตี' 'สปาเกตตี' 'สปาเกตตี' 'สปาเกตตี'\n",
      " 'สปาเกตตี' 'สปาเกตตี' 'สปาเกตตี' 'สปาเกตตี' 'สปาเกตตี' 'สปาเกตตี'\n",
      " 'สปาเกตตี' 'สปาเกตตี' 'สปาเกตตี' 'สปาเกตตี' 'สปาเกตตี' 'สปาเกตตี'\n",
      " 'สปาเกตตี' 'สปาเกตตี' 'สปาเกตตี' 'สปาเกตตี' 'สปาเกตตี' 'สปาเกตตี'\n",
      " 'สปาเกตตี' 'สปาเกตตี' 'สปาเกตตี' 'สปาเกตตี' 'สปาเกตตี' 'สปาเกตตี'\n",
      " 'สปาเกตตี' 'สปาเกตตี' 'สปาเกตตี' 'สปาเกตตี' 'สปาเกตตี' 'สปาเกตตี'\n",
      " 'สปาเกตตี' 'สปาเกตตี' 'สปาเกตตี' 'สปาเกตตี' 'สปาเกตตี' 'สปาเกตตี'\n",
      " 'สปาเกตตี' 'สปาเกตตี' 'สปาเกตตี' 'สปาเกตตี' 'สปาเกตตี' 'สปาเกตตี'\n",
      " 'สปาเกตตี' 'สปาเกตตี' 'สปาเกตตี' 'สปาเกตตี' 'สปาเกตตี' 'สปาเกตตี'\n",
      " 'สปาเกตตี' 'สปาเกตตี' 'สปาเกตตี' 'สปาเกตตี' 'สปาเกตตี' 'สปาเกตตี'\n",
      " 'สปาเกตตี' 'สปาเกตตี' 'สปาเกตตี' 'สปาเกตตี' 'สปาเกตตี' 'สปาเกตตี'\n",
      " 'สปาเกตตี' 'สปาเกตตี' 'สปาเกตตี' 'สปาเกตตี' 'สปาเกตตี' 'สปาเกตตี'\n",
      " 'สปาเกตตี' 'สปาเกตตี' 'สปาเกตตี' 'สปาเกตตี' 'สปาเกตตี' 'สปาเกตตี'\n",
      " 'สปาเกตตี' 'สปาเกตตี' 'สปาเกตตี' 'สปาเกตตี' 'สปาเกตตี' 'สปาเกตตี'\n",
      " 'สปาเกตตี' 'สปาเกตตี' 'สปาเกตตี' 'สปาเกตตี' 'สปาเกตตี' 'สปาเกตตี'\n",
      " 'สปาเกตตี' 'สปาเกตตี' 'สปาเกตตี' 'สปาเกตตี' 'สปาเกตตี' 'สปาเกตตี'\n",
      " 'สปาเกตตี' 'สปาเกตตี' 'สปาเกตตี' 'สปาเกตตี' 'สปาเกตตี' 'สปาเกตตี'\n",
      " 'สปาเกตตี' 'สปาเกตตี' 'สปาเกตตี' 'สปาเกตตี' 'สปาเกตตี' 'สปาเกตตี'\n",
      " 'สปาเกตตี' 'สปาเกตตี' 'สปาเกตตี' 'สปาเกตตี' 'สปาเกตตี' 'สปาเกตตี'\n",
      " 'สปาเกตตี' 'สปาเกตตี' 'สปาเกตตี' 'สปาเกตตี' 'สปาเกตตี' 'สปาเกตตี'\n",
      " 'สปาเกตตี' 'สปาเกตตี' 'สปาเกตตี' 'สปาเกตตี' 'สปาเกตตี' 'สปาเกตตี'\n",
      " 'สปาเกตตี' 'สปาเกตตี' 'สปาเกตตี' 'สปาเกตตี' 'สปาเกตตี' 'สปาเกตตี'\n",
      " 'สปาเกตตี' 'สปาเกตตี' 'สปาเกตตี' 'สปาเกตตี' 'สปาเกตตี' 'สปาเกตตี'\n",
      " 'สปาเกตตี' 'สปาเกตตี' 'สปาเกตตี' 'สปาเกตตี' 'สปาเกตตี' 'สปาเกตตี'\n",
      " 'สปาเกตตี' 'สปาเกตตี' 'สปาเกตตี' 'สปาเกตตี' 'สปาเกตตี' 'สปาเกตตี'\n",
      " 'สปาเกตตี' 'สปาเกตตี' 'สปาเกตตี' 'สปาเกตตี' 'สปาเกตตี' 'สปาเกตตี'\n",
      " 'สปาเกตตี' 'สปาเกตตี' 'สปาเกตตี' 'สปาเกตตี' 'สปาเกตตี' 'สปาเกตตี'\n",
      " 'สปาเกตตี' 'สปาเกตตี' 'สปาเกตตี' 'สปาเกตตี' 'สปาเกตตี' 'สปาเกตตี'\n",
      " 'สปาเกตตี' 'สปาเกตตี' 'สปาเกตตี' 'สปาเกตตี' 'สปาเกตตี' 'สปาเกตตี']\n",
      "(192,)\n"
     ]
    }
   ],
   "source": [
    "print(spaghetti_tokens[:,1])\n",
    "print(spaghetti_tokens[:,1].shape)"
   ]
  },
  {
   "cell_type": "code",
   "execution_count": 991,
   "metadata": {},
   "outputs": [
    {
     "name": "stdout",
     "output_type": "stream",
     "text": [
      "error : เนื้อเค็ม\n",
      "error : เก็ตตี้\n",
      "error : อล\n",
      "error : ใน\n",
      "error : ข้ม\n",
      "error : ใน\n",
      "error : ใน\n",
      "error : เก็ตตี้\n",
      "error : การลวก\n",
      "error : ป็น\n",
      "error : นื่คือ\n",
      "error : เก็ตตี้\n",
      "error : เนื่อ\n",
      "error : อัล\n",
      "error : เต้\n",
      "error : เก็ตตี้\n",
      "error : เก็ตตี้\n",
      "error : อล\n",
      "error : ใน\n",
      "error : ฟิวชัน\n",
      "error : ไทยดำ\n",
      "error : เก็ตตี้\n",
      "error : เก็ตตี้\n",
      "error : นื่คือ\n",
      "error : ทำเป็น\n",
      "error : ไทยดำ\n",
      "error : เก็ตตี้\n",
      "error : เก็ตตี้\n",
      "error : เก็ตตี้\n",
      "error : อล\n",
      "error : เก็ตตี้\n",
      "error : ทำเป็น\n",
      "error : เก็ตตี้\n",
      "error : เก็ตตี้\n",
      "error : เก็ตตี้\n",
      "error : เก็ตตี้\n",
      "error : ทำเป็น\n",
      "error : ใน\n",
      "error : ใน\n",
      "error : เก็ตตี้\n",
      "error : เก็ตตี้\n",
      "error : ใน\n",
      "error : เก็ตตี้\n",
      "error : เก็ตตี้\n",
      "error : ใน\n",
      "error : เก็ตตี้\n",
      "error : เก็ตตี้\n",
      "error : ใน\n",
      "error : เก็ตตี้\n",
      "error : อล\n",
      "error : เก็ตตี้\n",
      "error : อล\n",
      "error : ใน\n",
      "error : น้อยหรือ\n",
      "error : หวาม\n",
      "error : เก็ตตี้\n",
      "error : ป็น\n",
      "error : น่ากิน\n",
      "error : เบ\n",
      "error : เก็ตตี้\n",
      "error : เก็ตตี้\n",
      "error : ใน\n",
      "error : ฟินจน\n",
      "error : พาร์\n",
      "error : ใส่ไข่\n",
      "error : เปียกแฉะ\n",
      "error : เก็ตตี้\n",
      "error : เก็ตตี้\n",
      "error : ตตี้\n",
      "error : หนุบ\n",
      "error : กินเส้น\n",
      "error : การลวก\n",
      "error : เก็ตตี้\n",
      "error : ใน\n",
      "error : เก็ตตี้\n",
      "error : เก็ตตี้\n",
      "error : เก็ตตี้\n",
      "error : เก็ตตี้\n",
      "error : ใน\n",
      "error : ใน\n",
      "error : เก็ตตี้จน\n",
      "error : เก็ตตี้\n",
      "error : ยังมี\n",
      "error : เก็ตตี้\n",
      "error : เก็ต\n",
      "error : เก็ตตี้\n",
      "error : อิ\n",
      "error : เก็ตตี้\n",
      "error : เก็ตตี้\n",
      "error : ใน\n",
      "error : เก็ตตี้\n",
      "error : ใส่ไข่\n",
      "error : เก็ต\n",
      "error : เบ\n",
      "error : เก็ต\n",
      "error : เป็นอัน\n",
      "error : ไม่ค่อย\n",
      "error : เบ\n",
      "error : เชตต้า\n",
      "error : ไม่ค่อย\n",
      "error : เก็ตตี้\n",
      "error : ไม่ค่อย\n",
      "error : เก็ตตี้\n",
      "error : ใน\n",
      "error : เก็ตตี้\n",
      "error : เก็ตตี้\n",
      "error : เนื่อ\n",
      "error : เก็ตตี้\n",
      "error : เก็ตตี้\n",
      "error : เก็ตตี้\n",
      "error : เก็ตตี้\n",
      "error : เก็ตตี้\n",
      "error : เก็ตตี้\n",
      "error : เเต่\n",
      "error : ใน\n",
      "error : การกินอยู่\n",
      "error : ไม่ค่อย\n",
      "error : เก็ตตี้\n",
      "error : ยังมี\n",
      "error : เก็ตตี้\n",
      "error : เก็ตตี้\n",
      "error : ไม่ค่อย\n",
      "error : เก็ตตี้\n",
      "error : เก็ตตี้\n",
      "error : เก็ตตี้\n",
      "error : เก็ตตี้\n",
      "error : เก็ตตี้\n",
      "error : เก็ตตี้\n",
      "error : เก็ตตี้\n",
      "error : หนักท้อง\n",
      "error : เก็ตตี้\n",
      "error : เก็ตตี้\n",
      "error : เก็ตตี้\n",
      "error : เก็ตตี้\n",
      "error : เก็ตตี้\n",
      "error : เก็ตตี้\n",
      "error : ไม่ค่อย\n",
      "error : เก็ตตี้\n",
      "error : เเต่\n",
      "error : ใน\n",
      "error : การกินอยู่\n",
      "error : เก็ตตี้\n",
      "error : เก็ตตี้\n",
      "error : เก็ตตี้\n",
      "error : เก็ตตี้\n",
      "error : เก็ตตี้\n",
      "error : เก็ตตี้\n",
      "error : ยังมี\n",
      "error : เก็ตตี้\n",
      "error : ใน\n",
      "error : เก็ตตี้\n",
      "error : เก็ตตี้\n",
      "error : ข้ม\n",
      "error : ใน\n",
      "error : ใน\n",
      "error : เก็ตตี้\n",
      "error : เก็ตตี้ท\n",
      "error : ฟิวชั่น\n",
      "error : ฟู๊ด\n",
      "error : เก็ตตี้\n",
      "error : ม๊\n",
      "error : ยังมี\n",
      "error : ฟิวชัน\n",
      "error : เหนียวหนึบ\n",
      "error : ฟู๊ด\n",
      "error : เก็ตตี้\n",
      "error : เก็ตตี้\n",
      "error : กลิ่่น\n",
      "error : ฟู๊ด\n",
      "error : เก็ตตี้\n",
      "error : ฟิวชัน\n",
      "error : เก็ตตี้\n",
      "error : เก็ตตี้\n",
      "error : เก็ตตี้\n",
      "error : เก็ตตี้\n",
      "error : เก็ตตี้\n",
      "error : ใน\n",
      "error : ใน\n",
      "error : ใน\n",
      "error : เก็ตตี้\n",
      "error : เก็ตตี้\n",
      "error : เก็ตตี้\n",
      "error : ใน\n",
      "error : เก็ตตี้\n",
      "error : เก็ตตี้\n",
      "error : ใน\n",
      "error : เก็ตตี้\n",
      "error : เปรี่ยว\n",
      "error : ความอิ่ม\n",
      "error : เก็ตตี้\n",
      "error : เก็ตตี้\n",
      "error : ใส้\n",
      "error : เก็ตตี้\n",
      "error : เก็ตตี้\n",
      "error : เก็ตตี้\n",
      "error : เก็ตตี้\n",
      "Sentence vector shape: (192, 50, 300)\n",
      "(50, 300)\n",
      "Mainclass vector shape: (192, 300)\n",
      "(300,)\n",
      "spaghetti concat vector shape: (192, 51, 300)\n",
      "(51, 300)\n"
     ]
    }
   ],
   "source": [
    "spaghetti_sentence_vector = np.array([np.array([map_word_to_vector(word) for word in sentence]) for sentence in spaghetti_tokens[:,0]],dtype=object)\n",
    "print(f'Sentence vector shape: {spaghetti_sentence_vector.shape}')\n",
    "print(spaghetti_sentence_vector[0].shape)\n",
    "\n",
    "spaghetti_mainclass_vector = np.array(map_word_to_vector(spaghetti_tokens[:,1]),dtype=object)\n",
    "print(f'Mainclass vector shape: {spaghetti_mainclass_vector.shape}')\n",
    "print(spaghetti_mainclass_vector[0].shape)\n",
    "\n",
    "spaghetti_concat_vector = np.concatenate((spaghetti_sentence_vector, spaghetti_mainclass_vector[:, np.newaxis]), axis=1)\n",
    "print(f'spaghetti concat vector shape: {spaghetti_concat_vector.shape}')\n",
    "print(spaghetti_concat_vector[0].shape)"
   ]
  },
  {
   "cell_type": "code",
   "execution_count": 992,
   "metadata": {},
   "outputs": [
    {
     "name": "stdout",
     "output_type": "stream",
     "text": [
      "[0 0 0 0 0 0 0 0 0 0 0 0 0 0 0 0 0 0 0 0 0 0 0 0 0 0 0 0 0 0 0 0 0 0 0 0 0\n",
      " 0 0 0 0 0 0 0 0 0 0 0 1 1 1 1 1 1 1 1 1 1 1 1 1 1 1 1 1 1 1 1 1 1 1 1 1 1\n",
      " 1 1 1 1 1 1 1 1 1 1 1 1 1 1 1 1 1 1 1 1 1 1 2 2 2 2 2 2 2 2 2 2 2 2 2 2 2\n",
      " 2 2 2 2 2 2 2 2 2 2 2 2 2 2 2 2 2 2 2 2 2 2 2 2 2 2 2 2 2 2 2 2 2 3 3 3 3\n",
      " 3 3 3 3 3 3 3 3 3 3 3 3 3 3 3 3 3 3 3 3 3 3 3 3 3 3 3 3 3 3 3 3 3 3 3 3 3\n",
      " 3 3 3 3 3 3 3]\n",
      "<class 'numpy.ndarray'>\n",
      "[4 4 4 4 4 4 4 4 4 4 4 4 4 4 4 4 4 4 4 4 4 4 4 4 4 4 4 4 4 4 4 4 4 4 4 4 4\n",
      " 4 4 4 4 4 4 4 4 4 4 4 5 5 5 5 5 5 5 5 5 5 5 5 5 5 5 5 5 5 5 5 5 5 5 5 5 5\n",
      " 5 5 5 5 5 5 5 5 5 5 5 5 5 5 5 5 5 5 5 5 5 5 6 6 6 6 6 6 6 6 6 6 6 6 6 6 6\n",
      " 6 6 6 6 6 6 6 6 6 6 6 6 6 6 6 6 6 6 6 6 6 6 6 6 6 6 6 6 6 6 6 6 6 7 7 7 7\n",
      " 7 7 7 7 7 7 7 7 7 7 7 7 7 7 7 7 7 7 7 7 7 7 7 7 7 7 7 7 7 7 7 7 7 7 7 7 7\n",
      " 7 7 7 7 7 7 7]\n",
      "<class 'numpy.ndarray'>\n",
      "[8 8 8 8 8 8 8 8 8 8 8 8 8 8 8 8 8 8 8 8 8 8 8 8 8 8 8 8 8 8 8 8 8 8 8 8 8\n",
      " 8 8 8 8 8 8 8 8 8 8 8 9 9 9 9 9 9 9 9 9 9 9 9 9 9 9 9 9 9 9 9 9 9 9 9 9 9\n",
      " 9 9 9 9 9 9 9 9 9 9 9 9 9 9 9 9 9 9 9 9 9 9 10 10 10 10 10 10 10 10 10 10\n",
      " 10 10 10 10 10 10 10 10 10 10 10 10 10 10 10 10 10 10 10 10 10 10 10 10\n",
      " 10 10 10 10 10 10 10 10 10 10 10 10 10 10 11 11 11 11 11 11 11 11 11 11\n",
      " 11 11 11 11 11 11 11 11 11 11 11 11 11 11 11 11 11 11 11 11 11 11 11 11\n",
      " 11 11 11 11 11 11 11 11 11 11 11 11 11 11]\n",
      "<class 'numpy.ndarray'>\n"
     ]
    }
   ],
   "source": [
    "print(pizza_tokens[:,2])\n",
    "print(type(pizza_tokens[:,2]))\n",
    "print(noodle_tokens[:,2])\n",
    "print(type(noodle_tokens[:,2]))\n",
    "print(spaghetti_tokens[:,2])\n",
    "print(type(spaghetti_tokens[:,2]))"
   ]
  },
  {
   "cell_type": "code",
   "execution_count": 993,
   "metadata": {},
   "outputs": [
    {
     "name": "stdout",
     "output_type": "stream",
     "text": [
      "[0 0 0 0 0 0 0 0 0 0 0 0 0 0 0 0 0 0 0 0 0 0 0 0 0 0 0 0 0 0 0 0 0 0 0 0 0\n",
      " 0 0 0 0 0 0 0 0 0 0 0 1 1 1 1 1 1 1 1 1 1 1 1 1 1 1 1 1 1 1 1 1 1 1 1 1 1\n",
      " 1 1 1 1 1 1 1 1 1 1 1 1 1 1 1 1 1 1 1 1 1 1 2 2 2 2 2 2 2 2 2 2 2 2 2 2 2\n",
      " 2 2 2 2 2 2 2 2 2 2 2 2 2 2 2 2 2 2 2 2 2 2 2 2 2 2 2 2 2 2 2 2 2 3 3 3 3\n",
      " 3 3 3 3 3 3 3 3 3 3 3 3 3 3 3 3 3 3 3 3 3 3 3 3 3 3 3 3 3 3 3 3 3 3 3 3 3\n",
      " 3 3 3 3 3 3 3]\n",
      "<class 'numpy.ndarray'>\n",
      "[0 0 0 0 0 0 0 0 0 0 0 0 0 0 0 0 0 0 0 0 0 0 0 0 0 0 0 0 0 0 0 0 0 0 0 0 0\n",
      " 0 0 0 0 0 0 0 0 0 0 0 1 1 1 1 1 1 1 1 1 1 1 1 1 1 1 1 1 1 1 1 1 1 1 1 1 1\n",
      " 1 1 1 1 1 1 1 1 1 1 1 1 1 1 1 1 1 1 1 1 1 1 2 2 2 2 2 2 2 2 2 2 2 2 2 2 2\n",
      " 2 2 2 2 2 2 2 2 2 2 2 2 2 2 2 2 2 2 2 2 2 2 2 2 2 2 2 2 2 2 2 2 2 3 3 3 3\n",
      " 3 3 3 3 3 3 3 3 3 3 3 3 3 3 3 3 3 3 3 3 3 3 3 3 3 3 3 3 3 3 3 3 3 3 3 3 3\n",
      " 3 3 3 3 3 3 3]\n",
      "<class 'numpy.ndarray'>\n",
      "[0 0 0 0 0 0 0 0 0 0 0 0 0 0 0 0 0 0 0 0 0 0 0 0 0 0 0 0 0 0 0 0 0 0 0 0 0\n",
      " 0 0 0 0 0 0 0 0 0 0 0 1 1 1 1 1 1 1 1 1 1 1 1 1 1 1 1 1 1 1 1 1 1 1 1 1 1\n",
      " 1 1 1 1 1 1 1 1 1 1 1 1 1 1 1 1 1 1 1 1 1 1 2 2 2 2 2 2 2 2 2 2 2 2 2 2 2\n",
      " 2 2 2 2 2 2 2 2 2 2 2 2 2 2 2 2 2 2 2 2 2 2 2 2 2 2 2 2 2 2 2 2 2 3 3 3 3\n",
      " 3 3 3 3 3 3 3 3 3 3 3 3 3 3 3 3 3 3 3 3 3 3 3 3 3 3 3 3 3 3 3 3 3 3 3 3 3\n",
      " 3 3 3 3 3 3 3]\n",
      "<class 'numpy.ndarray'>\n"
     ]
    }
   ],
   "source": [
    "for i in range(4):\n",
    "    noodle_tokens[:, 2][noodle_tokens[:, 2] == 4+i] = i\n",
    "\n",
    "for i in range(4):\n",
    "    spaghetti_tokens[:, 2][spaghetti_tokens[:, 2] == 8+i] = i\n",
    "\n",
    "print(pizza_tokens[:,2])\n",
    "print(type(pizza_tokens[:,2]))\n",
    "print(noodle_tokens[:,2])\n",
    "print(type(noodle_tokens[:,2]))\n",
    "print(spaghetti_tokens[:,2])\n",
    "print(type(spaghetti_tokens[:,2]))"
   ]
  },
  {
   "attachments": {},
   "cell_type": "markdown",
   "metadata": {},
   "source": [
    "### **One-hot encoding**"
   ]
  },
  {
   "cell_type": "code",
   "execution_count": 994,
   "metadata": {},
   "outputs": [
    {
     "name": "stdout",
     "output_type": "stream",
     "text": [
      "[1. 0. 0. 0.]\n",
      "[0. 1. 0. 0.]\n",
      "[0. 0. 1. 0.]\n",
      "[0. 0. 0. 1.]\n",
      "Pizza subclass labels shape: (192, 4)\n"
     ]
    }
   ],
   "source": [
    "from keras.utils import to_categorical\n",
    "\n",
    "pizza_subclass_labels = to_categorical(pizza_tokens[:,2])\n",
    "print(pizza_subclass_labels[0])\n",
    "print(pizza_subclass_labels[50])\n",
    "print(pizza_subclass_labels[100])\n",
    "print(pizza_subclass_labels[150])\n",
    "print('Pizza subclass labels shape:', pizza_subclass_labels.shape)"
   ]
  },
  {
   "cell_type": "code",
   "execution_count": 995,
   "metadata": {},
   "outputs": [
    {
     "name": "stdout",
     "output_type": "stream",
     "text": [
      "[1. 0. 0. 0.]\n",
      "[0. 1. 0. 0.]\n",
      "[0. 0. 1. 0.]\n",
      "[0. 0. 0. 1.]\n",
      "Noodle subclass labels shape: (192, 4)\n"
     ]
    }
   ],
   "source": [
    "noodle_subclass_labels = to_categorical(noodle_tokens[:,2])\n",
    "print(noodle_subclass_labels[0])\n",
    "print(noodle_subclass_labels[50])\n",
    "print(noodle_subclass_labels[100])\n",
    "print(noodle_subclass_labels[150])\n",
    "print('Noodle subclass labels shape:', noodle_subclass_labels.shape)"
   ]
  },
  {
   "cell_type": "code",
   "execution_count": 996,
   "metadata": {},
   "outputs": [
    {
     "name": "stdout",
     "output_type": "stream",
     "text": [
      "[1. 0. 0. 0.]\n",
      "[0. 1. 0. 0.]\n",
      "[0. 0. 1. 0.]\n",
      "[0. 0. 0. 1.]\n",
      "Spaghetti subclass labels shape: (192, 4)\n"
     ]
    }
   ],
   "source": [
    "spaghetti_subclass_labels = to_categorical(spaghetti_tokens[:,2])\n",
    "print(spaghetti_subclass_labels[0])\n",
    "print(spaghetti_subclass_labels[50])\n",
    "print(spaghetti_subclass_labels[100])\n",
    "print(spaghetti_subclass_labels[150])\n",
    "print('Spaghetti subclass labels shape:', spaghetti_subclass_labels.shape)"
   ]
  },
  {
   "attachments": {},
   "cell_type": "markdown",
   "metadata": {},
   "source": [
    "## **Train-Test Split**"
   ]
  },
  {
   "cell_type": "code",
   "execution_count": 997,
   "metadata": {},
   "outputs": [],
   "source": [
    "from sklearn.model_selection import train_test_split\n",
    "\n",
    "X_pizza_train, X_pizza_test, y_pizza_train, y_pizza_test = train_test_split(pizza_concat_vector, pizza_subclass_labels, test_size=0.2, random_state=42)\n",
    "X_noodle_train, X_noodle_test, y_noodle_train, y_noodle_test = train_test_split(noodle_concat_vector, noodle_subclass_labels, test_size=0.2, random_state=42)\n",
    "X_spaghetti_train, X_spaghetti_test, y_spaghetti_train, y_spaghetti_test = train_test_split(spaghetti_concat_vector, spaghetti_subclass_labels, test_size=0.2, random_state=42)"
   ]
  },
  {
   "cell_type": "code",
   "execution_count": 998,
   "metadata": {},
   "outputs": [
    {
     "name": "stdout",
     "output_type": "stream",
     "text": [
      "X_pizza_train shape: (153, 51, 300)\n",
      "y_pizza_train shape: (153, 4)\n",
      "X_pizza_test shape: (39, 51, 300)\n",
      "y_pizza_test shape: (39, 4)\n"
     ]
    }
   ],
   "source": [
    "print(f'X_pizza_train shape: {X_pizza_train.shape}')\n",
    "print(f'y_pizza_train shape: {y_pizza_train.shape}')\n",
    "print(f'X_pizza_test shape: {X_pizza_test.shape}')\n",
    "print(f'y_pizza_test shape: {y_pizza_test.shape}')"
   ]
  },
  {
   "cell_type": "code",
   "execution_count": 999,
   "metadata": {},
   "outputs": [
    {
     "name": "stdout",
     "output_type": "stream",
     "text": [
      "X_noodle_train shape: (153, 51, 300)\n",
      "y_noodle_train shape: (153, 4)\n",
      "X_noodle_test shape: (39, 51, 300)\n",
      "y_noodle_test shape: (39, 4)\n"
     ]
    }
   ],
   "source": [
    "print(f'X_noodle_train shape: {X_noodle_train.shape}')\n",
    "print(f'y_noodle_train shape: {y_noodle_train.shape}')\n",
    "print(f'X_noodle_test shape: {X_noodle_test.shape}')\n",
    "print(f'y_noodle_test shape: {y_noodle_test.shape}')"
   ]
  },
  {
   "cell_type": "code",
   "execution_count": 1000,
   "metadata": {},
   "outputs": [
    {
     "name": "stdout",
     "output_type": "stream",
     "text": [
      "X_spaghetti_train shape: (153, 51, 300)\n",
      "y_spaghetti_train shape: (153, 4)\n",
      "X_spaghetti_test shape: (39, 51, 300)\n",
      "y_spaghetti_test shape: (39, 4)\n"
     ]
    }
   ],
   "source": [
    "print(f'X_spaghetti_train shape: {X_spaghetti_train.shape}')\n",
    "print(f'y_spaghetti_train shape: {y_spaghetti_train.shape}')\n",
    "print(f'X_spaghetti_test shape: {X_spaghetti_test.shape}')\n",
    "print(f'y_spaghetti_test shape: {y_spaghetti_test.shape}')"
   ]
  },
  {
   "cell_type": "code",
   "execution_count": 1001,
   "metadata": {},
   "outputs": [],
   "source": [
    "tensor_X_pizza_train = tf.convert_to_tensor(X_pizza_train, dtype=tf.float32)\n",
    "tensor_y_pizza_train = tf.convert_to_tensor(y_pizza_train, dtype=tf.float32)\n",
    "tensor_X_pizza_test = tf.convert_to_tensor(X_pizza_test, dtype=tf.float32)\n",
    "tensor_y_pizza_test = tf.convert_to_tensor(y_pizza_test, dtype=tf.float32)\n",
    "\n",
    "tensor_X_noodle_train = tf.convert_to_tensor(X_noodle_train, dtype=tf.float32)\n",
    "tensor_y_noodle_train = tf.convert_to_tensor(y_noodle_train, dtype=tf.float32)\n",
    "tensor_X_noodle_test = tf.convert_to_tensor(X_noodle_test, dtype=tf.float32)\n",
    "tensor_y_noodle_test = tf.convert_to_tensor(y_noodle_test, dtype=tf.float32)\n",
    "\n",
    "tensor_X_spaghetti_train = tf.convert_to_tensor(X_spaghetti_train, dtype=tf.float32)\n",
    "tensor_y_spaghetti_train = tf.convert_to_tensor(y_spaghetti_train, dtype=tf.float32)\n",
    "tensor_X_spaghetti_test = tf.convert_to_tensor(X_spaghetti_test, dtype=tf.float32)\n",
    "tensor_y_spaghetti_test = tf.convert_to_tensor(y_spaghetti_test, dtype=tf.float32)"
   ]
  },
  {
   "attachments": {},
   "cell_type": "markdown",
   "metadata": {},
   "source": [
    "# **Modeling**"
   ]
  },
  {
   "cell_type": "code",
   "execution_count": 1002,
   "metadata": {},
   "outputs": [],
   "source": [
    "# Train model\n",
    "from keras.callbacks import EarlyStopping\n",
    "from keras.callbacks import ModelCheckpoint\n",
    "from time import time\n",
    "from datetime import timedelta\n",
    "import keras\n",
    "from keras.models import load_model\n",
    "import os\n",
    "\n",
    "from keras.utils import plot_model\n",
    "\n",
    "# Build model\n",
    "from keras.models import Sequential, Model\n",
    "from keras.layers import Embedding, Reshape, Activation, Input, Dense,GRU,Reshape,TimeDistributed,Bidirectional,Dropout,Masking,LSTM, GlobalAveragePooling1D, Conv1D, MaxPooling1D, Flatten,GlobalMaxPooling1D\n",
    "from keras.optimizers import Adam\n",
    "from keras import backend as K                                                          \n",
    "from keras.callbacks import ModelCheckpoint, TensorBoard\n",
    "\n",
    "# Classifications report\n",
    "from sklearn.metrics import classification_report, confusion_matrix, ConfusionMatrixDisplay ,multilabel_confusion_matrix, accuracy_score"
   ]
  },
  {
   "cell_type": "code",
   "execution_count": 1003,
   "metadata": {},
   "outputs": [],
   "source": [
    "class MainclassPrediction(Model):\n",
    "    def __init__(self, max_len, word_vector_size, class_name = ['0', '1', '2', '3']):\n",
    "        super(MainclassPrediction, self).__init__()\n",
    "        self.max_len = max_len\n",
    "        self.word_vector_size = word_vector_size\n",
    "        self.class_name = class_name\n",
    "        self.build_model()\n",
    "        \n",
    "    def build_model(self):\n",
    "        self.input_layer = Input(shape=(self.max_len, self.word_vector_size), dtype='float32')\n",
    "        self.conv1d_layer_1 = Conv1D(filters=32, kernel_size=3, activation='relu')(self.input_layer)\n",
    "        self.bi_lstm_layer_1 = Bidirectional(LSTM(32, return_sequences=True))(self.conv1d_layer_1)\n",
    "        self.dropout_layer_1 = Dropout(0.2)(self.bi_lstm_layer_1)\n",
    "        self.bi_lstm_layer_2 = Bidirectional(LSTM(32))(self.dropout_layer_1)\n",
    "        self.denbse_layer_1 = Dense(32, activation='relu')(self.bi_lstm_layer_2)\n",
    "        self.output_layer = Dense(len(self.class_name), activation='softmax')(self.denbse_layer_1)\n",
    "        self.model = Model(inputs=self.input_layer, outputs=self.output_layer)\n",
    "        self.model.compile(loss='categorical_crossentropy', optimizer='adam', metrics=['accuracy'])\n",
    "        self.model.summary()\n",
    "        \n",
    "    def plot_model(self, model_path):\n",
    "        img = plot_model(self.model, to_file=model_path, show_shapes=True, show_layer_names=True)\n",
    "        display(img)\n",
    "\n",
    "    def train(self, train_data, epochs, batch_size, validation_data = None, model_path=None):\n",
    "        X_train, y_train = train_data\n",
    "        if validation_data is not None:\n",
    "            X_val, y_val = validation_data\n",
    "            self.model.fit(X_train, y_train, validation_data=(X_val, y_val), epochs=epochs, batch_size=batch_size, verbose=1)\n",
    "        else:\n",
    "            self.model.fit(X_train, y_train, epochs=epochs, batch_size=batch_size, verbose=1)\n",
    "        if model_path is not None:\n",
    "            self.model.save(model_path)\n",
    "            \n",
    "    def predict(self, X_test):\n",
    "        pred = self.model.predict(X_test)\n",
    "        pred = np.argmax(pred, axis=1)\n",
    "        return pred\n",
    "    \n",
    "    def plot_result(self, y_test, y_pred):\n",
    "        cr = classification_report(y_test, y_pred, target_names=self.class_name)\n",
    "        print(cr)\n",
    "        cm = confusion_matrix(y_test, y_pred)\n",
    "        cmd = ConfusionMatrixDisplay(cm, display_labels=self.class_name)\n",
    "        cmd.plot()\n",
    "        plt.show()"
   ]
  },
  {
   "cell_type": "code",
   "execution_count": 1004,
   "metadata": {},
   "outputs": [
    {
     "name": "stdout",
     "output_type": "stream",
     "text": [
      "Model: \"model_9\"\n",
      "_________________________________________________________________\n",
      " Layer (type)                Output Shape              Param #   \n",
      "=================================================================\n",
      " input_10 (InputLayer)       [(None, 51, 300)]         0         \n",
      "                                                                 \n",
      " conv1d_9 (Conv1D)           (None, 49, 32)            28832     \n",
      "                                                                 \n",
      " bidirectional_18 (Bidirecti  (None, 49, 64)           16640     \n",
      " onal)                                                           \n",
      "                                                                 \n",
      " dropout_9 (Dropout)         (None, 49, 64)            0         \n",
      "                                                                 \n",
      " bidirectional_19 (Bidirecti  (None, 64)               24832     \n",
      " onal)                                                           \n",
      "                                                                 \n",
      " dense_18 (Dense)            (None, 32)                2080      \n",
      "                                                                 \n",
      " dense_19 (Dense)            (None, 4)                 132       \n",
      "                                                                 \n",
      "=================================================================\n",
      "Total params: 72,516\n",
      "Trainable params: 72,516\n",
      "Non-trainable params: 0\n",
      "_________________________________________________________________\n"
     ]
    }
   ],
   "source": [
    "model_pizza = MainclassPrediction(51, 300)"
   ]
  },
  {
   "cell_type": "code",
   "execution_count": 1005,
   "metadata": {},
   "outputs": [
    {
     "data": {
      "image/png": "[encoded data removed]",
      "text/plain": [
       "<IPython.core.display.Image object>"
      ]
     },
     "metadata": {},
     "output_type": "display_data"
    }
   ],
   "source": [
    "model_pizza.plot_model('model_pizza.png')"
   ]
  },
  {
   "cell_type": "code",
   "execution_count": 1006,
   "metadata": {},
   "outputs": [
    {
     "name": "stdout",
     "output_type": "stream",
     "text": [
      "X_train shape: (153, 51, 300)\n",
      "y_train shape: (153, 4)\n"
     ]
    }
   ],
   "source": [
    "print(\"X_train shape:\", tensor_X_pizza_train.shape)\n",
    "print(\"y_train shape:\", tensor_y_pizza_train.shape)"
   ]
  },
  {
   "cell_type": "code",
   "execution_count": 1007,
   "metadata": {},
   "outputs": [
    {
     "name": "stdout",
     "output_type": "stream",
     "text": [
      "Epoch 1/15\n",
      "39/39 [==============================] - 37s 69ms/step - loss: 1.4037 - accuracy: 0.2484\n",
      "Epoch 2/15\n",
      "39/39 [==============================] - 3s 65ms/step - loss: 1.3811 - accuracy: 0.2810\n",
      "Epoch 3/15\n",
      "39/39 [==============================] - 2s 62ms/step - loss: 1.3050 - accuracy: 0.5229\n",
      "Epoch 4/15\n",
      "39/39 [==============================] - 1s 36ms/step - loss: 1.1137 - accuracy: 0.5425\n",
      "Epoch 5/15\n",
      "39/39 [==============================] - 1s 35ms/step - loss: 0.8095 - accuracy: 0.7386\n",
      "Epoch 6/15\n",
      "39/39 [==============================] - 2s 42ms/step - loss: 0.9843 - accuracy: 0.6144\n",
      "Epoch 7/15\n",
      "39/39 [==============================] - 2s 43ms/step - loss: 0.5842 - accuracy: 0.8170\n",
      "Epoch 8/15\n",
      "39/39 [==============================] - 2s 43ms/step - loss: 0.4235 - accuracy: 0.8824\n",
      "Epoch 9/15\n",
      "39/39 [==============================] - 2s 44ms/step - loss: 0.3002 - accuracy: 0.8954\n",
      "Epoch 10/15\n",
      "39/39 [==============================] - 1s 38ms/step - loss: 0.2239 - accuracy: 0.9412\n",
      "Epoch 11/15\n",
      "39/39 [==============================] - 1s 38ms/step - loss: 0.1536 - accuracy: 0.9673\n",
      "Epoch 12/15\n",
      "39/39 [==============================] - 2s 41ms/step - loss: 0.1959 - accuracy: 0.9346\n",
      "Epoch 13/15\n",
      "39/39 [==============================] - 2s 39ms/step - loss: 0.1696 - accuracy: 0.9346\n",
      "Epoch 14/15\n",
      "39/39 [==============================] - 1s 38ms/step - loss: 0.2027 - accuracy: 0.9346\n",
      "Epoch 15/15\n",
      "39/39 [==============================] - 2s 38ms/step - loss: 0.2493 - accuracy: 0.9216\n"
     ]
    }
   ],
   "source": [
    "model_pizza.train((tensor_X_pizza_train, tensor_y_pizza_train), epochs=15, batch_size=4)"
   ]
  },
  {
   "cell_type": "code",
   "execution_count": 1008,
   "metadata": {},
   "outputs": [],
   "source": [
    "model_pizza.save_weights('model_pizza_weights.h5')"
   ]
  },
  {
   "cell_type": "code",
   "execution_count": 1009,
   "metadata": {},
   "outputs": [
    {
     "name": "stdout",
     "output_type": "stream",
     "text": [
      "2/2 [==============================] - 6s 23ms/step\n"
     ]
    }
   ],
   "source": [
    "pred = model_pizza.predict(tensor_X_pizza_test)"
   ]
  },
  {
   "cell_type": "code",
   "execution_count": 1010,
   "metadata": {},
   "outputs": [
    {
     "name": "stdout",
     "output_type": "stream",
     "text": [
      "              precision    recall  f1-score   support\n",
      "\n",
      "           0       0.70      0.78      0.74         9\n",
      "           1       0.86      0.67      0.75         9\n",
      "           2       0.75      0.50      0.60        12\n",
      "           3       0.64      1.00      0.78         9\n",
      "\n",
      "    accuracy                           0.72        39\n",
      "   macro avg       0.74      0.74      0.72        39\n",
      "weighted avg       0.74      0.72      0.71        39\n",
      "\n"
     ]
    },
    {
     "data": {
      "image/png": "[encoded data removed]",
      "text/plain": [
       "<Figure size 600x400 with 2 Axes>"
      ]
     },
     "metadata": {},
     "output_type": "display_data"
    }
   ],
   "source": [
    "model_pizza.plot_result(np.argmax(tensor_y_pizza_test, axis=1), pred)"
   ]
  },
  {
   "cell_type": "code",
   "execution_count": 1011,
   "metadata": {},
   "outputs": [
    {
     "name": "stdout",
     "output_type": "stream",
     "text": [
      "Model: \"model_10\"\n",
      "_________________________________________________________________\n",
      " Layer (type)                Output Shape              Param #   \n",
      "=================================================================\n",
      " input_11 (InputLayer)       [(None, 51, 300)]         0         \n",
      "                                                                 \n",
      " conv1d_10 (Conv1D)          (None, 49, 32)            28832     \n",
      "                                                                 \n",
      " bidirectional_20 (Bidirecti  (None, 49, 64)           16640     \n",
      " onal)                                                           \n",
      "                                                                 \n",
      " dropout_10 (Dropout)        (None, 49, 64)            0         \n",
      "                                                                 \n",
      " bidirectional_21 (Bidirecti  (None, 64)               24832     \n",
      " onal)                                                           \n",
      "                                                                 \n",
      " dense_20 (Dense)            (None, 32)                2080      \n",
      "                                                                 \n",
      " dense_21 (Dense)            (None, 4)                 132       \n",
      "                                                                 \n",
      "=================================================================\n",
      "Total params: 72,516\n",
      "Trainable params: 72,516\n",
      "Non-trainable params: 0\n",
      "_________________________________________________________________\n"
     ]
    }
   ],
   "source": [
    "model_noodle = MainclassPrediction(51, 300)"
   ]
  },
  {
   "cell_type": "code",
   "execution_count": 1012,
   "metadata": {},
   "outputs": [
    {
     "data": {
      "image/png": "[encoded data removed]",
      "text/plain": [
       "<IPython.core.display.Image object>"
      ]
     },
     "metadata": {},
     "output_type": "display_data"
    }
   ],
   "source": [
    "model_noodle.plot_model('model_noodle.png')"
   ]
  },
  {
   "cell_type": "code",
   "execution_count": 1013,
   "metadata": {},
   "outputs": [
    {
     "name": "stdout",
     "output_type": "stream",
     "text": [
      "X_train shape: (153, 51, 300)\n",
      "y_train shape: (153, 4)\n"
     ]
    }
   ],
   "source": [
    "print(\"X_train shape:\", tensor_X_noodle_train.shape)\n",
    "print(\"y_train shape:\", tensor_y_noodle_train.shape)"
   ]
  },
  {
   "cell_type": "code",
   "execution_count": 1014,
   "metadata": {},
   "outputs": [
    {
     "name": "stdout",
     "output_type": "stream",
     "text": [
      "Epoch 1/15\n",
      "39/39 [==============================] - 35s 76ms/step - loss: 1.3926 - accuracy: 0.2288\n",
      "Epoch 2/15\n",
      "39/39 [==============================] - 3s 77ms/step - loss: 1.3654 - accuracy: 0.3203\n",
      "Epoch 3/15\n",
      "39/39 [==============================] - 3s 79ms/step - loss: 1.2681 - accuracy: 0.3987\n",
      "Epoch 4/15\n",
      "39/39 [==============================] - 3s 81ms/step - loss: 0.9628 - accuracy: 0.6078\n",
      "Epoch 5/15\n",
      "39/39 [==============================] - 2s 44ms/step - loss: 0.7525 - accuracy: 0.6471\n",
      "Epoch 6/15\n",
      "39/39 [==============================] - 2s 41ms/step - loss: 0.7849 - accuracy: 0.6536\n",
      "Epoch 7/15\n",
      "39/39 [==============================] - 1s 37ms/step - loss: 0.7905 - accuracy: 0.6471\n",
      "Epoch 8/15\n",
      "39/39 [==============================] - 1s 37ms/step - loss: 0.5221 - accuracy: 0.7778\n",
      "Epoch 9/15\n",
      "39/39 [==============================] - 2s 43ms/step - loss: 0.4005 - accuracy: 0.8301\n",
      "Epoch 10/15\n",
      "39/39 [==============================] - 2s 43ms/step - loss: 0.3562 - accuracy: 0.8170\n",
      "Epoch 11/15\n",
      "39/39 [==============================] - 2s 43ms/step - loss: 0.3144 - accuracy: 0.8758\n",
      "Epoch 12/15\n",
      "39/39 [==============================] - 2s 48ms/step - loss: 0.2917 - accuracy: 0.8824\n",
      "Epoch 13/15\n",
      "39/39 [==============================] - 2s 39ms/step - loss: 0.2516 - accuracy: 0.8954\n",
      "Epoch 14/15\n",
      "39/39 [==============================] - 1s 37ms/step - loss: 0.3008 - accuracy: 0.8758\n",
      "Epoch 15/15\n",
      "39/39 [==============================] - 1s 37ms/step - loss: 0.4911 - accuracy: 0.8562\n"
     ]
    }
   ],
   "source": [
    "model_noodle.train((tensor_X_noodle_train, tensor_y_noodle_train), epochs=15, batch_size=4)"
   ]
  },
  {
   "cell_type": "code",
   "execution_count": 1015,
   "metadata": {},
   "outputs": [],
   "source": [
    "model_noodle.save_weights('model_noodle_weights.h5')"
   ]
  },
  {
   "cell_type": "code",
   "execution_count": 1016,
   "metadata": {},
   "outputs": [
    {
     "name": "stdout",
     "output_type": "stream",
     "text": [
      "WARNING:tensorflow:5 out of the last 9 calls to <function Model.make_predict_function.<locals>.predict_function at 0x000001AFBD0C8C18> triggered tf.function retracing. Tracing is expensive and the excessive number of tracings could be due to (1) creating @tf.function repeatedly in a loop, (2) passing tensors with different shapes, (3) passing Python objects instead of tensors. For (1), please define your @tf.function outside of the loop. For (2), @tf.function has reduce_retracing=True option that can avoid unnecessary retracing. For (3), please refer to https://www.tensorflow.org/guide/function#controlling_retracing and https://www.tensorflow.org/api_docs/python/tf/function for  more details.\n",
      "2/2 [==============================] - 6s 20ms/step\n"
     ]
    }
   ],
   "source": [
    "pred = model_noodle.predict(tensor_X_noodle_test)"
   ]
  },
  {
   "cell_type": "code",
   "execution_count": 1017,
   "metadata": {},
   "outputs": [
    {
     "name": "stdout",
     "output_type": "stream",
     "text": [
      "              precision    recall  f1-score   support\n",
      "\n",
      "           0       0.50      0.33      0.40         9\n",
      "           1       1.00      0.22      0.36         9\n",
      "           2       0.42      0.92      0.58        12\n",
      "           3       0.80      0.44      0.57         9\n",
      "\n",
      "    accuracy                           0.51        39\n",
      "   macro avg       0.68      0.48      0.48        39\n",
      "weighted avg       0.66      0.51      0.49        39\n",
      "\n"
     ]
    },
    {
     "data": {
      "image/png": "[encoded data removed]",
      "text/plain": [
       "<Figure size 600x400 with 2 Axes>"
      ]
     },
     "metadata": {},
     "output_type": "display_data"
    }
   ],
   "source": [
    "model_noodle.plot_result(np.argmax(tensor_y_noodle_test, axis=1), pred)"
   ]
  },
  {
   "cell_type": "code",
   "execution_count": 1018,
   "metadata": {},
   "outputs": [
    {
     "name": "stdout",
     "output_type": "stream",
     "text": [
      "Model: \"model_11\"\n",
      "_________________________________________________________________\n",
      " Layer (type)                Output Shape              Param #   \n",
      "=================================================================\n",
      " input_12 (InputLayer)       [(None, 51, 300)]         0         \n",
      "                                                                 \n",
      " conv1d_11 (Conv1D)          (None, 49, 32)            28832     \n",
      "                                                                 \n",
      " bidirectional_22 (Bidirecti  (None, 49, 64)           16640     \n",
      " onal)                                                           \n",
      "                                                                 \n",
      " dropout_11 (Dropout)        (None, 49, 64)            0         \n",
      "                                                                 \n",
      " bidirectional_23 (Bidirecti  (None, 64)               24832     \n",
      " onal)                                                           \n",
      "                                                                 \n",
      " dense_22 (Dense)            (None, 32)                2080      \n",
      "                                                                 \n",
      " dense_23 (Dense)            (None, 4)                 132       \n",
      "                                                                 \n",
      "=================================================================\n",
      "Total params: 72,516\n",
      "Trainable params: 72,516\n",
      "Non-trainable params: 0\n",
      "_________________________________________________________________\n"
     ]
    }
   ],
   "source": [
    "model_spaghetti = MainclassPrediction(51, 300)"
   ]
  },
  {
   "cell_type": "code",
   "execution_count": 1019,
   "metadata": {},
   "outputs": [
    {
     "data": {
      "image/png": "[encoded data removed]",
      "text/plain": [
       "<IPython.core.display.Image object>"
      ]
     },
     "metadata": {},
     "output_type": "display_data"
    }
   ],
   "source": [
    "model_spaghetti.plot_model('model_spaghetti.png')"
   ]
  },
  {
   "cell_type": "code",
   "execution_count": 1020,
   "metadata": {},
   "outputs": [
    {
     "name": "stdout",
     "output_type": "stream",
     "text": [
      "X_train shape: (153, 51, 300)\n",
      "y_train shape: (153, 4)\n"
     ]
    }
   ],
   "source": [
    "print(\"X_train shape:\", tensor_X_spaghetti_train.shape)\n",
    "print(\"y_train shape:\", tensor_y_spaghetti_train.shape)"
   ]
  },
  {
   "cell_type": "code",
   "execution_count": 1021,
   "metadata": {},
   "outputs": [
    {
     "name": "stdout",
     "output_type": "stream",
     "text": [
      "Epoch 1/15\n",
      "39/39 [==============================] - 33s 71ms/step - loss: 1.3904 - accuracy: 0.2549\n",
      "Epoch 2/15\n",
      "39/39 [==============================] - 3s 73ms/step - loss: 1.3499 - accuracy: 0.4183\n",
      "Epoch 3/15\n",
      "39/39 [==============================] - 3s 79ms/step - loss: 1.1930 - accuracy: 0.5294\n",
      "Epoch 4/15\n",
      "39/39 [==============================] - 3s 76ms/step - loss: 1.0025 - accuracy: 0.5948\n",
      "Epoch 5/15\n",
      "39/39 [==============================] - 3s 66ms/step - loss: 0.7558 - accuracy: 0.7320\n",
      "Epoch 6/15\n",
      "39/39 [==============================] - 3s 66ms/step - loss: 0.6940 - accuracy: 0.7386\n",
      "Epoch 7/15\n",
      "39/39 [==============================] - 3s 65ms/step - loss: 0.2991 - accuracy: 0.9346\n",
      "Epoch 8/15\n",
      "39/39 [==============================] - 2s 46ms/step - loss: 0.2655 - accuracy: 0.9412\n",
      "Epoch 9/15\n",
      "39/39 [==============================] - 1s 36ms/step - loss: 0.1455 - accuracy: 0.9608\n",
      "Epoch 10/15\n",
      "39/39 [==============================] - 2s 40ms/step - loss: 0.0785 - accuracy: 0.9739\n",
      "Epoch 11/15\n",
      "39/39 [==============================] - 2s 42ms/step - loss: 0.0595 - accuracy: 0.9935\n",
      "Epoch 12/15\n",
      "39/39 [==============================] - 2s 42ms/step - loss: 0.0494 - accuracy: 0.9935\n",
      "Epoch 13/15\n",
      "39/39 [==============================] - 2s 43ms/step - loss: 0.3484 - accuracy: 0.8954\n",
      "Epoch 14/15\n",
      "39/39 [==============================] - 2s 39ms/step - loss: 0.4085 - accuracy: 0.8758\n",
      "Epoch 15/15\n",
      "39/39 [==============================] - 1s 37ms/step - loss: 0.1481 - accuracy: 0.9673\n"
     ]
    }
   ],
   "source": [
    "model_spaghetti.train((tensor_X_spaghetti_train, tensor_y_spaghetti_train), epochs=15, batch_size=4)"
   ]
  },
  {
   "cell_type": "code",
   "execution_count": 1022,
   "metadata": {},
   "outputs": [],
   "source": [
    "model_spaghetti.save_weights('model_spaghetti_weights.h5')"
   ]
  },
  {
   "cell_type": "code",
   "execution_count": 1023,
   "metadata": {},
   "outputs": [
    {
     "name": "stdout",
     "output_type": "stream",
     "text": [
      "WARNING:tensorflow:6 out of the last 11 calls to <function Model.make_predict_function.<locals>.predict_function at 0x000001AFB0AD7678> triggered tf.function retracing. Tracing is expensive and the excessive number of tracings could be due to (1) creating @tf.function repeatedly in a loop, (2) passing tensors with different shapes, (3) passing Python objects instead of tensors. For (1), please define your @tf.function outside of the loop. For (2), @tf.function has reduce_retracing=True option that can avoid unnecessary retracing. For (3), please refer to https://www.tensorflow.org/guide/function#controlling_retracing and https://www.tensorflow.org/api_docs/python/tf/function for  more details.\n",
      "2/2 [==============================] - 5s 20ms/step\n"
     ]
    }
   ],
   "source": [
    "pred = model_spaghetti.predict(tensor_X_spaghetti_test)"
   ]
  },
  {
   "cell_type": "code",
   "execution_count": 1024,
   "metadata": {},
   "outputs": [
    {
     "name": "stdout",
     "output_type": "stream",
     "text": [
      "              precision    recall  f1-score   support\n",
      "\n",
      "           0       0.47      0.78      0.58         9\n",
      "           1       0.55      0.67      0.60         9\n",
      "           2       0.80      0.33      0.47        12\n",
      "           3       0.75      0.67      0.71         9\n",
      "\n",
      "    accuracy                           0.59        39\n",
      "   macro avg       0.64      0.61      0.59        39\n",
      "weighted avg       0.65      0.59      0.58        39\n",
      "\n"
     ]
    },
    {
     "data": {
      "image/png": "[encoded data removed]",
      "text/plain": [
       "<Figure size 600x400 with 2 Axes>"
      ]
     },
     "metadata": {},
     "output_type": "display_data"
    }
   ],
   "source": [
    "model_spaghetti.plot_result(np.argmax(tensor_y_spaghetti_test, axis=1), pred)"
   ]
  }
 ],
 "metadata": {
  "kernelspec": {
   "display_name": "tf_ml",
   "language": "python",
   "name": "python3"
  },
  "language_info": {
   "codemirror_mode": {
    "name": "ipython",
    "version": 3
   },
   "file_extension": ".py",
   "mimetype": "text/x-python",
   "name": "python",
   "nbconvert_exporter": "python",
   "pygments_lexer": "ipython3",
   "version": "3.7.16"
  },
  "orig_nbformat": 4
 },
 "nbformat": 4,
 "nbformat_minor": 2
}

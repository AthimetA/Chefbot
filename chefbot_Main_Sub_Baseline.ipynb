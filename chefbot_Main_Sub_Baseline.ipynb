{
 "cells": [
  {
   "attachments": {},
   "cell_type": "markdown",
   "metadata": {},
   "source": [
    "# **ChefBot**\n",
    "\n",
    "สมาชิกกลุ่ม 1\n",
    "\n",
    "1. ก้องภพ ทองดี 63340500003 \n",
    "2. ภคพล ลีลาคหกิจ 63340500045\n",
    "3. สรพัศ วีระกุล 63340500064\n",
    "4. อธิเมศร์  เอี๊ยวเจริญ 63340500068 "
   ]
  },
  {
   "attachments": {},
   "cell_type": "markdown",
   "metadata": {},
   "source": [
    "# **Import Library**"
   ]
  },
  {
   "cell_type": "code",
   "execution_count": 1,
   "metadata": {},
   "outputs": [
    {
     "name": "stdout",
     "output_type": "stream",
     "text": [
      "2.10.1\n",
      "[PhysicalDevice(name='/physical_device:GPU:0', device_type='GPU')]\n"
     ]
    }
   ],
   "source": [
    "%matplotlib inline\n",
    "import pandas\n",
    "import sklearn\n",
    "import numpy as np\n",
    "from IPython.display import display\n",
    "\n",
    "import matplotlib.pyplot as plt\n",
    "import tensorflow as tf\n",
    "print(tf. __version__) \n",
    "print(tf.config.list_physical_devices('GPU'))\n",
    "\n",
    "import matplotlib as mpl\n",
    "import matplotlib.font_manager as fm\n",
    "\n",
    "fm.fontManager.addfont('thsarabunnew-webfont.ttf') # 3.2+\n",
    "mpl.rc('font', family='TH Sarabun New')\n",
    "\n",
    "np.random.seed(0)\n",
    "global_seed = 0\n",
    "\n",
    "pic_path = 'pic/'"
   ]
  },
  {
   "attachments": {},
   "cell_type": "markdown",
   "metadata": {},
   "source": [
    "## **Import data**"
   ]
  },
  {
   "cell_type": "code",
   "execution_count": 2,
   "metadata": {},
   "outputs": [],
   "source": [
    "df_orig = pandas.read_csv('data/Chefbot_Dataset - All.csv', encoding='utf-8')"
   ]
  },
  {
   "cell_type": "code",
   "execution_count": 3,
   "metadata": {},
   "outputs": [
    {
     "data": {
      "text/html": [
       "<div>\n",
       "<style scoped>\n",
       "    .dataframe tbody tr th:only-of-type {\n",
       "        vertical-align: middle;\n",
       "    }\n",
       "\n",
       "    .dataframe tbody tr th {\n",
       "        vertical-align: top;\n",
       "    }\n",
       "\n",
       "    .dataframe thead th {\n",
       "        text-align: right;\n",
       "    }\n",
       "</style>\n",
       "<table border=\"1\" class=\"dataframe\">\n",
       "  <thead>\n",
       "    <tr style=\"text-align: right;\">\n",
       "      <th></th>\n",
       "      <th>Text</th>\n",
       "      <th>Mainclass</th>\n",
       "      <th>Subclass</th>\n",
       "    </tr>\n",
       "  </thead>\n",
       "  <tbody>\n",
       "    <tr>\n",
       "      <th>0</th>\n",
       "      <td>อยากกินกุ้งที่จะมีความหนุบๆ กับน้ำสลัดเทาซันไอ...</td>\n",
       "      <td>พิซซ่า</td>\n",
       "      <td>ค็อกเทลกุ้ง</td>\n",
       "    </tr>\n",
       "    <tr>\n",
       "      <th>1</th>\n",
       "      <td>ผมชอบอาหารที่สามารถทำได้เร็ว มีหน้าตาที่สวยงาม...</td>\n",
       "      <td>พิซซ่า</td>\n",
       "      <td>ค็อกเทลกุ้ง</td>\n",
       "    </tr>\n",
       "    <tr>\n",
       "      <th>2</th>\n",
       "      <td>ทำจากแป้งมีทั้งหนานุ่ม และบางกรอบเหมาะกับคนที่...</td>\n",
       "      <td>พิซซ่า</td>\n",
       "      <td>ค็อกเทลกุ้ง</td>\n",
       "    </tr>\n",
       "    <tr>\n",
       "      <th>3</th>\n",
       "      <td>เนื้อหลักเป็นกุ้งมีรสชาติที่จัดจ้านจากซอสมีต้น...</td>\n",
       "      <td>พิซซ่า</td>\n",
       "      <td>ค็อกเทลกุ้ง</td>\n",
       "    </tr>\n",
       "    <tr>\n",
       "      <th>4</th>\n",
       "      <td>อาหารที่มีลักษณะกลม ๆ สามารถแบ่งเป็นชิ้นได้กิน...</td>\n",
       "      <td>พิซซ่า</td>\n",
       "      <td>ค็อกเทลกุ้ง</td>\n",
       "    </tr>\n",
       "  </tbody>\n",
       "</table>\n",
       "</div>"
      ],
      "text/plain": [
       "                                                Text Mainclass     Subclass\n",
       "0  อยากกินกุ้งที่จะมีความหนุบๆ กับน้ำสลัดเทาซันไอ...    พิซซ่า  ค็อกเทลกุ้ง\n",
       "1  ผมชอบอาหารที่สามารถทำได้เร็ว มีหน้าตาที่สวยงาม...    พิซซ่า  ค็อกเทลกุ้ง\n",
       "2  ทำจากแป้งมีทั้งหนานุ่ม และบางกรอบเหมาะกับคนที่...    พิซซ่า  ค็อกเทลกุ้ง\n",
       "3  เนื้อหลักเป็นกุ้งมีรสชาติที่จัดจ้านจากซอสมีต้น...    พิซซ่า  ค็อกเทลกุ้ง\n",
       "4  อาหารที่มีลักษณะกลม ๆ สามารถแบ่งเป็นชิ้นได้กิน...    พิซซ่า  ค็อกเทลกุ้ง"
      ]
     },
     "metadata": {},
     "output_type": "display_data"
    },
    {
     "data": {
      "text/html": [
       "<div>\n",
       "<style scoped>\n",
       "    .dataframe tbody tr th:only-of-type {\n",
       "        vertical-align: middle;\n",
       "    }\n",
       "\n",
       "    .dataframe tbody tr th {\n",
       "        vertical-align: top;\n",
       "    }\n",
       "\n",
       "    .dataframe thead th {\n",
       "        text-align: right;\n",
       "    }\n",
       "</style>\n",
       "<table border=\"1\" class=\"dataframe\">\n",
       "  <thead>\n",
       "    <tr style=\"text-align: right;\">\n",
       "      <th></th>\n",
       "      <th>Text</th>\n",
       "      <th>Mainclass</th>\n",
       "      <th>Subclass</th>\n",
       "    </tr>\n",
       "  </thead>\n",
       "  <tbody>\n",
       "    <tr>\n",
       "      <th>571</th>\n",
       "      <td>เมนูที่เอาเส้นพาสต้ามาผัดกับของทะเลแล้วแล้วก็ใ...</td>\n",
       "      <td>สปาเก็ตตี้</td>\n",
       "      <td>สปาเก็ตตี้ทะเล</td>\n",
       "    </tr>\n",
       "    <tr>\n",
       "      <th>572</th>\n",
       "      <td>สปาเก็ตตี้ที่มีสีแดง และเขียวตัดกับ สีของเส้นท...</td>\n",
       "      <td>สปาเก็ตตี้</td>\n",
       "      <td>สปาเก็ตตี้ทะเล</td>\n",
       "    </tr>\n",
       "    <tr>\n",
       "      <th>573</th>\n",
       "      <td>ฉันอยากกินสปาเก็ตตี้แต่ฉันเบื่อพวกเนื้อ หมู ไก...</td>\n",
       "      <td>สปาเก็ตตี้</td>\n",
       "      <td>สปาเก็ตตี้ทะเล</td>\n",
       "    </tr>\n",
       "    <tr>\n",
       "      <th>574</th>\n",
       "      <td>สปาเก็ตตี้ที่กลิ่นและรสชาติที่จัดจ้านเป็นเอกลั...</td>\n",
       "      <td>สปาเก็ตตี้</td>\n",
       "      <td>สปาเก็ตตี้ทะเล</td>\n",
       "    </tr>\n",
       "    <tr>\n",
       "      <th>575</th>\n",
       "      <td>สปาเก็ตตี้ที่ให้รสชาติเผ็ดจัดจ้าน มีกุ้ง มีหมึ...</td>\n",
       "      <td>สปาเก็ตตี้</td>\n",
       "      <td>สปาเก็ตตี้ทะเล</td>\n",
       "    </tr>\n",
       "  </tbody>\n",
       "</table>\n",
       "</div>"
      ],
      "text/plain": [
       "                                                  Text   Mainclass  \\\n",
       "571  เมนูที่เอาเส้นพาสต้ามาผัดกับของทะเลแล้วแล้วก็ใ...  สปาเก็ตตี้   \n",
       "572  สปาเก็ตตี้ที่มีสีแดง และเขียวตัดกับ สีของเส้นท...  สปาเก็ตตี้   \n",
       "573  ฉันอยากกินสปาเก็ตตี้แต่ฉันเบื่อพวกเนื้อ หมู ไก...  สปาเก็ตตี้   \n",
       "574  สปาเก็ตตี้ที่กลิ่นและรสชาติที่จัดจ้านเป็นเอกลั...  สปาเก็ตตี้   \n",
       "575  สปาเก็ตตี้ที่ให้รสชาติเผ็ดจัดจ้าน มีกุ้ง มีหมึ...  สปาเก็ตตี้   \n",
       "\n",
       "           Subclass  \n",
       "571  สปาเก็ตตี้ทะเล  \n",
       "572  สปาเก็ตตี้ทะเล  \n",
       "573  สปาเก็ตตี้ทะเล  \n",
       "574  สปาเก็ตตี้ทะเล  \n",
       "575  สปาเก็ตตี้ทะเล  "
      ]
     },
     "metadata": {},
     "output_type": "display_data"
    }
   ],
   "source": [
    "# Display the first 5 rows of the dataframe\n",
    "display(df_orig.head(n=5))\n",
    "# Display the last 5 rows of the dataframe\n",
    "display(df_orig.tail(n=5))"
   ]
  },
  {
   "attachments": {},
   "cell_type": "markdown",
   "metadata": {},
   "source": [
    "# **Data Preprocessing**"
   ]
  },
  {
   "cell_type": "code",
   "execution_count": 4,
   "metadata": {},
   "outputs": [],
   "source": [
    "df_prepro = df_orig.copy()"
   ]
  },
  {
   "attachments": {},
   "cell_type": "markdown",
   "metadata": {},
   "source": [
    "## **Data Cleaning**"
   ]
  },
  {
   "cell_type": "code",
   "execution_count": 5,
   "metadata": {},
   "outputs": [
    {
     "data": {
      "text/html": [
       "<div>\n",
       "<style scoped>\n",
       "    .dataframe tbody tr th:only-of-type {\n",
       "        vertical-align: middle;\n",
       "    }\n",
       "\n",
       "    .dataframe tbody tr th {\n",
       "        vertical-align: top;\n",
       "    }\n",
       "\n",
       "    .dataframe thead th {\n",
       "        text-align: right;\n",
       "    }\n",
       "</style>\n",
       "<table border=\"1\" class=\"dataframe\">\n",
       "  <thead>\n",
       "    <tr style=\"text-align: right;\">\n",
       "      <th></th>\n",
       "      <th>Text</th>\n",
       "      <th>Mainclass</th>\n",
       "      <th>Subclass</th>\n",
       "    </tr>\n",
       "  </thead>\n",
       "  <tbody>\n",
       "    <tr>\n",
       "      <th>count</th>\n",
       "      <td>576</td>\n",
       "      <td>576</td>\n",
       "      <td>576</td>\n",
       "    </tr>\n",
       "    <tr>\n",
       "      <th>unique</th>\n",
       "      <td>576</td>\n",
       "      <td>3</td>\n",
       "      <td>12</td>\n",
       "    </tr>\n",
       "    <tr>\n",
       "      <th>top</th>\n",
       "      <td>อยากกินกุ้งที่จะมีความหนุบๆ กับน้ำสลัดเทาซันไอ...</td>\n",
       "      <td>พิซซ่า</td>\n",
       "      <td>ค็อกเทลกุ้ง</td>\n",
       "    </tr>\n",
       "    <tr>\n",
       "      <th>freq</th>\n",
       "      <td>1</td>\n",
       "      <td>192</td>\n",
       "      <td>48</td>\n",
       "    </tr>\n",
       "  </tbody>\n",
       "</table>\n",
       "</div>"
      ],
      "text/plain": [
       "                                                     Text Mainclass  \\\n",
       "count                                                 576       576   \n",
       "unique                                                576         3   \n",
       "top     อยากกินกุ้งที่จะมีความหนุบๆ กับน้ำสลัดเทาซันไอ...    พิซซ่า   \n",
       "freq                                                    1       192   \n",
       "\n",
       "           Subclass  \n",
       "count           576  \n",
       "unique           12  \n",
       "top     ค็อกเทลกุ้ง  \n",
       "freq             48  "
      ]
     },
     "metadata": {},
     "output_type": "display_data"
    },
    {
     "data": {
      "text/plain": [
       "array(['พิซซ่า', 'ก๋วยเตี๋ยว', 'สปาเก็ตตี้'], dtype=object)"
      ]
     },
     "metadata": {},
     "output_type": "display_data"
    },
    {
     "data": {
      "text/plain": [
       "array(['ค็อกเทลกุ้ง', 'มีทเดอลุกซ์', 'เห็ดและมะเขือเทศ', 'ดิปเปอร์',\n",
       "       'ก๋วยเตี๋ยวน้ำตก', 'ก๋วยเตี๋ยวต้มยำน้ำใส', 'บะหมีหมูแดงหมูกรอบ',\n",
       "       'เกาเหลา', 'สปาเก็ตตี้มีทบอล', 'สปาเก็ตตี้คาโบนาร่า',\n",
       "       'สปาเก็ตตี้ผัก', 'สปาเก็ตตี้ทะเล'], dtype=object)"
      ]
     },
     "metadata": {},
     "output_type": "display_data"
    }
   ],
   "source": [
    "display(df_prepro.describe())\n",
    "display(df_prepro.Mainclass.unique())\n",
    "display(df_prepro.Subclass.unique())"
   ]
  },
  {
   "attachments": {},
   "cell_type": "markdown",
   "metadata": {},
   "source": [
    "### **Remove Duplications in text inputs**"
   ]
  },
  {
   "cell_type": "code",
   "execution_count": 6,
   "metadata": {},
   "outputs": [
    {
     "data": {
      "text/html": [
       "<div>\n",
       "<style scoped>\n",
       "    .dataframe tbody tr th:only-of-type {\n",
       "        vertical-align: middle;\n",
       "    }\n",
       "\n",
       "    .dataframe tbody tr th {\n",
       "        vertical-align: top;\n",
       "    }\n",
       "\n",
       "    .dataframe thead th {\n",
       "        text-align: right;\n",
       "    }\n",
       "</style>\n",
       "<table border=\"1\" class=\"dataframe\">\n",
       "  <thead>\n",
       "    <tr style=\"text-align: right;\">\n",
       "      <th></th>\n",
       "      <th>Text</th>\n",
       "      <th>Mainclass</th>\n",
       "      <th>Subclass</th>\n",
       "    </tr>\n",
       "  </thead>\n",
       "  <tbody>\n",
       "  </tbody>\n",
       "</table>\n",
       "</div>"
      ],
      "text/plain": [
       "Empty DataFrame\n",
       "Columns: [Text, Mainclass, Subclass]\n",
       "Index: []"
      ]
     },
     "metadata": {},
     "output_type": "display_data"
    }
   ],
   "source": [
    "# display all text that appears more than once\n",
    "display(df_prepro[df_prepro.duplicated('Text', keep=False)].sort_values('Text'))\n",
    "# Then no duplicates"
   ]
  },
  {
   "attachments": {},
   "cell_type": "markdown",
   "metadata": {},
   "source": [
    "### **Remove unwanted character**"
   ]
  },
  {
   "attachments": {},
   "cell_type": "markdown",
   "metadata": {},
   "source": [
    "#### **Front-Back white space**"
   ]
  },
  {
   "cell_type": "code",
   "execution_count": 7,
   "metadata": {},
   "outputs": [
    {
     "data": {
      "text/html": [
       "<div>\n",
       "<style scoped>\n",
       "    .dataframe tbody tr th:only-of-type {\n",
       "        vertical-align: middle;\n",
       "    }\n",
       "\n",
       "    .dataframe tbody tr th {\n",
       "        vertical-align: top;\n",
       "    }\n",
       "\n",
       "    .dataframe thead th {\n",
       "        text-align: right;\n",
       "    }\n",
       "</style>\n",
       "<table border=\"1\" class=\"dataframe\">\n",
       "  <thead>\n",
       "    <tr style=\"text-align: right;\">\n",
       "      <th></th>\n",
       "      <th>Text</th>\n",
       "      <th>Mainclass</th>\n",
       "      <th>Subclass</th>\n",
       "    </tr>\n",
       "  </thead>\n",
       "  <tbody>\n",
       "    <tr>\n",
       "      <th>0</th>\n",
       "      <td>อยากกินกุ้งที่จะมีความหนุบๆ กับน้ำสลัดเทาซันไอ...</td>\n",
       "      <td>พิซซ่า</td>\n",
       "      <td>ค็อกเทลกุ้ง</td>\n",
       "    </tr>\n",
       "    <tr>\n",
       "      <th>1</th>\n",
       "      <td>ผมชอบอาหารที่สามารถทำได้เร็ว มีหน้าตาที่สวยงาม...</td>\n",
       "      <td>พิซซ่า</td>\n",
       "      <td>ค็อกเทลกุ้ง</td>\n",
       "    </tr>\n",
       "    <tr>\n",
       "      <th>2</th>\n",
       "      <td>ทำจากแป้งมีทั้งหนานุ่ม และบางกรอบเหมาะกับคนที่...</td>\n",
       "      <td>พิซซ่า</td>\n",
       "      <td>ค็อกเทลกุ้ง</td>\n",
       "    </tr>\n",
       "    <tr>\n",
       "      <th>3</th>\n",
       "      <td>เนื้อหลักเป็นกุ้งมีรสชาติที่จัดจ้านจากซอสมีต้น...</td>\n",
       "      <td>พิซซ่า</td>\n",
       "      <td>ค็อกเทลกุ้ง</td>\n",
       "    </tr>\n",
       "    <tr>\n",
       "      <th>4</th>\n",
       "      <td>อาหารที่มีลักษณะกลม ๆ สามารถแบ่งเป็นชิ้นได้กิน...</td>\n",
       "      <td>พิซซ่า</td>\n",
       "      <td>ค็อกเทลกุ้ง</td>\n",
       "    </tr>\n",
       "  </tbody>\n",
       "</table>\n",
       "</div>"
      ],
      "text/plain": [
       "                                                Text Mainclass     Subclass\n",
       "0  อยากกินกุ้งที่จะมีความหนุบๆ กับน้ำสลัดเทาซันไอ...    พิซซ่า  ค็อกเทลกุ้ง\n",
       "1  ผมชอบอาหารที่สามารถทำได้เร็ว มีหน้าตาที่สวยงาม...    พิซซ่า  ค็อกเทลกุ้ง\n",
       "2  ทำจากแป้งมีทั้งหนานุ่ม และบางกรอบเหมาะกับคนที่...    พิซซ่า  ค็อกเทลกุ้ง\n",
       "3  เนื้อหลักเป็นกุ้งมีรสชาติที่จัดจ้านจากซอสมีต้น...    พิซซ่า  ค็อกเทลกุ้ง\n",
       "4  อาหารที่มีลักษณะกลม ๆ สามารถแบ่งเป็นชิ้นได้กิน...    พิซซ่า  ค็อกเทลกุ้ง"
      ]
     },
     "execution_count": 7,
     "metadata": {},
     "output_type": "execute_result"
    }
   ],
   "source": [
    "def strip_space(text):\n",
    "    return text.strip()\n",
    "\n",
    "df_prepro['Text'] = df_prepro['Text'].apply(strip_space)\n",
    "df_prepro.head()"
   ]
  },
  {
   "attachments": {},
   "cell_type": "markdown",
   "metadata": {},
   "source": [
    "#### **Remove white space between words**"
   ]
  },
  {
   "cell_type": "code",
   "execution_count": 8,
   "metadata": {},
   "outputs": [
    {
     "data": {
      "text/html": [
       "<div>\n",
       "<style scoped>\n",
       "    .dataframe tbody tr th:only-of-type {\n",
       "        vertical-align: middle;\n",
       "    }\n",
       "\n",
       "    .dataframe tbody tr th {\n",
       "        vertical-align: top;\n",
       "    }\n",
       "\n",
       "    .dataframe thead th {\n",
       "        text-align: right;\n",
       "    }\n",
       "</style>\n",
       "<table border=\"1\" class=\"dataframe\">\n",
       "  <thead>\n",
       "    <tr style=\"text-align: right;\">\n",
       "      <th></th>\n",
       "      <th>Text</th>\n",
       "      <th>Mainclass</th>\n",
       "      <th>Subclass</th>\n",
       "    </tr>\n",
       "  </thead>\n",
       "  <tbody>\n",
       "    <tr>\n",
       "      <th>0</th>\n",
       "      <td>อยากกินกุ้งที่จะมีความหนุบๆกับน้ำสลัดเทาซันไอส...</td>\n",
       "      <td>พิซซ่า</td>\n",
       "      <td>ค็อกเทลกุ้ง</td>\n",
       "    </tr>\n",
       "    <tr>\n",
       "      <th>1</th>\n",
       "      <td>ผมชอบอาหารที่สามารถทำได้เร็วมีหน้าตาที่สวยงามส...</td>\n",
       "      <td>พิซซ่า</td>\n",
       "      <td>ค็อกเทลกุ้ง</td>\n",
       "    </tr>\n",
       "    <tr>\n",
       "      <th>2</th>\n",
       "      <td>ทำจากแป้งมีทั้งหนานุ่มและบางกรอบเหมาะกับคนที่ช...</td>\n",
       "      <td>พิซซ่า</td>\n",
       "      <td>ค็อกเทลกุ้ง</td>\n",
       "    </tr>\n",
       "    <tr>\n",
       "      <th>3</th>\n",
       "      <td>เนื้อหลักเป็นกุ้งมีรสชาติที่จัดจ้านจากซอสมีต้น...</td>\n",
       "      <td>พิซซ่า</td>\n",
       "      <td>ค็อกเทลกุ้ง</td>\n",
       "    </tr>\n",
       "    <tr>\n",
       "      <th>4</th>\n",
       "      <td>อาหารที่มีลักษณะกลมๆสามารถแบ่งเป็นชิ้นได้กินกั...</td>\n",
       "      <td>พิซซ่า</td>\n",
       "      <td>ค็อกเทลกุ้ง</td>\n",
       "    </tr>\n",
       "  </tbody>\n",
       "</table>\n",
       "</div>"
      ],
      "text/plain": [
       "                                                Text Mainclass     Subclass\n",
       "0  อยากกินกุ้งที่จะมีความหนุบๆกับน้ำสลัดเทาซันไอส...    พิซซ่า  ค็อกเทลกุ้ง\n",
       "1  ผมชอบอาหารที่สามารถทำได้เร็วมีหน้าตาที่สวยงามส...    พิซซ่า  ค็อกเทลกุ้ง\n",
       "2  ทำจากแป้งมีทั้งหนานุ่มและบางกรอบเหมาะกับคนที่ช...    พิซซ่า  ค็อกเทลกุ้ง\n",
       "3  เนื้อหลักเป็นกุ้งมีรสชาติที่จัดจ้านจากซอสมีต้น...    พิซซ่า  ค็อกเทลกุ้ง\n",
       "4  อาหารที่มีลักษณะกลมๆสามารถแบ่งเป็นชิ้นได้กินกั...    พิซซ่า  ค็อกเทลกุ้ง"
      ]
     },
     "execution_count": 8,
     "metadata": {},
     "output_type": "execute_result"
    }
   ],
   "source": [
    "def remove_whitespace(text):\n",
    "    return text.replace(\" \", \"\")\n",
    "\n",
    "df_prepro['Text'] = df_prepro['Text'].apply(remove_whitespace)\n",
    "df_prepro.head()"
   ]
  },
  {
   "attachments": {},
   "cell_type": "markdown",
   "metadata": {},
   "source": [
    "#### **Remove special character and punctuation**"
   ]
  },
  {
   "cell_type": "code",
   "execution_count": 9,
   "metadata": {},
   "outputs": [
    {
     "data": {
      "text/html": [
       "<div>\n",
       "<style scoped>\n",
       "    .dataframe tbody tr th:only-of-type {\n",
       "        vertical-align: middle;\n",
       "    }\n",
       "\n",
       "    .dataframe tbody tr th {\n",
       "        vertical-align: top;\n",
       "    }\n",
       "\n",
       "    .dataframe thead th {\n",
       "        text-align: right;\n",
       "    }\n",
       "</style>\n",
       "<table border=\"1\" class=\"dataframe\">\n",
       "  <thead>\n",
       "    <tr style=\"text-align: right;\">\n",
       "      <th></th>\n",
       "      <th>Text</th>\n",
       "      <th>Mainclass</th>\n",
       "      <th>Subclass</th>\n",
       "    </tr>\n",
       "  </thead>\n",
       "  <tbody>\n",
       "    <tr>\n",
       "      <th>0</th>\n",
       "      <td>อยากกินกุ้งที่จะมีความหนุบกับน้ำสลัดเทาซันไอส์...</td>\n",
       "      <td>พิซซ่า</td>\n",
       "      <td>ค็อกเทลกุ้ง</td>\n",
       "    </tr>\n",
       "    <tr>\n",
       "      <th>1</th>\n",
       "      <td>ผมชอบอาหารที่สามารถทำได้เร็วมีหน้าตาที่สวยงามส...</td>\n",
       "      <td>พิซซ่า</td>\n",
       "      <td>ค็อกเทลกุ้ง</td>\n",
       "    </tr>\n",
       "    <tr>\n",
       "      <th>2</th>\n",
       "      <td>ทำจากแป้งมีทั้งหนานุ่มและบางกรอบเหมาะกับคนที่ช...</td>\n",
       "      <td>พิซซ่า</td>\n",
       "      <td>ค็อกเทลกุ้ง</td>\n",
       "    </tr>\n",
       "    <tr>\n",
       "      <th>3</th>\n",
       "      <td>เนื้อหลักเป็นกุ้งมีรสชาติที่จัดจ้านจากซอสมีต้น...</td>\n",
       "      <td>พิซซ่า</td>\n",
       "      <td>ค็อกเทลกุ้ง</td>\n",
       "    </tr>\n",
       "    <tr>\n",
       "      <th>4</th>\n",
       "      <td>อาหารที่มีลักษณะกลมสามารถแบ่งเป็นชิ้นได้กินกับ...</td>\n",
       "      <td>พิซซ่า</td>\n",
       "      <td>ค็อกเทลกุ้ง</td>\n",
       "    </tr>\n",
       "  </tbody>\n",
       "</table>\n",
       "</div>"
      ],
      "text/plain": [
       "                                                Text Mainclass     Subclass\n",
       "0  อยากกินกุ้งที่จะมีความหนุบกับน้ำสลัดเทาซันไอส์...    พิซซ่า  ค็อกเทลกุ้ง\n",
       "1  ผมชอบอาหารที่สามารถทำได้เร็วมีหน้าตาที่สวยงามส...    พิซซ่า  ค็อกเทลกุ้ง\n",
       "2  ทำจากแป้งมีทั้งหนานุ่มและบางกรอบเหมาะกับคนที่ช...    พิซซ่า  ค็อกเทลกุ้ง\n",
       "3  เนื้อหลักเป็นกุ้งมีรสชาติที่จัดจ้านจากซอสมีต้น...    พิซซ่า  ค็อกเทลกุ้ง\n",
       "4  อาหารที่มีลักษณะกลมสามารถแบ่งเป็นชิ้นได้กินกับ...    พิซซ่า  ค็อกเทลกุ้ง"
      ]
     },
     "execution_count": 9,
     "metadata": {},
     "output_type": "execute_result"
    }
   ],
   "source": [
    "punctuation = '!\"#$%&\\'()*+,-./:;<=>?@[\\\\]^_`{|}~'\n",
    "thai_punctuation = 'ๆ'\n",
    "def remove_punctuation(text):\n",
    "    return text.translate(str.maketrans('', '', punctuation + thai_punctuation))\n",
    " \n",
    "df_prepro['Text'] = df_prepro['Text'].apply(remove_punctuation)\n",
    "df_prepro.head()"
   ]
  },
  {
   "attachments": {},
   "cell_type": "markdown",
   "metadata": {},
   "source": [
    "### **Label Mapping**"
   ]
  },
  {
   "cell_type": "code",
   "execution_count": 10,
   "metadata": {},
   "outputs": [],
   "source": [
    "def get_label_map(df, col_name):\n",
    "    label_map = {}\n",
    "    for i, label in enumerate(df[col_name].unique()):\n",
    "        label_map[label] = i\n",
    "    reversed_label_map = {v: k for k, v in label_map.items()}\n",
    "    return label_map, reversed_label_map"
   ]
  },
  {
   "attachments": {},
   "cell_type": "markdown",
   "metadata": {},
   "source": [
    "#### **Get main class labels**"
   ]
  },
  {
   "cell_type": "code",
   "execution_count": 11,
   "metadata": {},
   "outputs": [
    {
     "data": {
      "text/plain": [
       "{'พิซซ่า': 0, 'ก๋วยเตี๋ยว': 1, 'สปาเก็ตตี้': 2}"
      ]
     },
     "metadata": {},
     "output_type": "display_data"
    },
    {
     "data": {
      "text/html": [
       "<div>\n",
       "<style scoped>\n",
       "    .dataframe tbody tr th:only-of-type {\n",
       "        vertical-align: middle;\n",
       "    }\n",
       "\n",
       "    .dataframe tbody tr th {\n",
       "        vertical-align: top;\n",
       "    }\n",
       "\n",
       "    .dataframe thead th {\n",
       "        text-align: right;\n",
       "    }\n",
       "</style>\n",
       "<table border=\"1\" class=\"dataframe\">\n",
       "  <thead>\n",
       "    <tr style=\"text-align: right;\">\n",
       "      <th></th>\n",
       "      <th>Text</th>\n",
       "      <th>Mainclass</th>\n",
       "      <th>Subclass</th>\n",
       "    </tr>\n",
       "  </thead>\n",
       "  <tbody>\n",
       "    <tr>\n",
       "      <th>0</th>\n",
       "      <td>อยากกินกุ้งที่จะมีความหนุบกับน้ำสลัดเทาซันไอส์...</td>\n",
       "      <td>0</td>\n",
       "      <td>ค็อกเทลกุ้ง</td>\n",
       "    </tr>\n",
       "    <tr>\n",
       "      <th>1</th>\n",
       "      <td>ผมชอบอาหารที่สามารถทำได้เร็วมีหน้าตาที่สวยงามส...</td>\n",
       "      <td>0</td>\n",
       "      <td>ค็อกเทลกุ้ง</td>\n",
       "    </tr>\n",
       "    <tr>\n",
       "      <th>2</th>\n",
       "      <td>ทำจากแป้งมีทั้งหนานุ่มและบางกรอบเหมาะกับคนที่ช...</td>\n",
       "      <td>0</td>\n",
       "      <td>ค็อกเทลกุ้ง</td>\n",
       "    </tr>\n",
       "    <tr>\n",
       "      <th>3</th>\n",
       "      <td>เนื้อหลักเป็นกุ้งมีรสชาติที่จัดจ้านจากซอสมีต้น...</td>\n",
       "      <td>0</td>\n",
       "      <td>ค็อกเทลกุ้ง</td>\n",
       "    </tr>\n",
       "    <tr>\n",
       "      <th>4</th>\n",
       "      <td>อาหารที่มีลักษณะกลมสามารถแบ่งเป็นชิ้นได้กินกับ...</td>\n",
       "      <td>0</td>\n",
       "      <td>ค็อกเทลกุ้ง</td>\n",
       "    </tr>\n",
       "  </tbody>\n",
       "</table>\n",
       "</div>"
      ],
      "text/plain": [
       "                                                Text  Mainclass     Subclass\n",
       "0  อยากกินกุ้งที่จะมีความหนุบกับน้ำสลัดเทาซันไอส์...          0  ค็อกเทลกุ้ง\n",
       "1  ผมชอบอาหารที่สามารถทำได้เร็วมีหน้าตาที่สวยงามส...          0  ค็อกเทลกุ้ง\n",
       "2  ทำจากแป้งมีทั้งหนานุ่มและบางกรอบเหมาะกับคนที่ช...          0  ค็อกเทลกุ้ง\n",
       "3  เนื้อหลักเป็นกุ้งมีรสชาติที่จัดจ้านจากซอสมีต้น...          0  ค็อกเทลกุ้ง\n",
       "4  อาหารที่มีลักษณะกลมสามารถแบ่งเป็นชิ้นได้กินกับ...          0  ค็อกเทลกุ้ง"
      ]
     },
     "metadata": {},
     "output_type": "display_data"
    }
   ],
   "source": [
    "mainclass_label_map, reversed_mainclass_label_map = get_label_map(df_prepro, 'Mainclass')\n",
    "\n",
    "display(mainclass_label_map)\n",
    "\n",
    "df_prepro['Mainclass'] = df_prepro['Mainclass'].map(mainclass_label_map)\n",
    "\n",
    "display(df_prepro.head())"
   ]
  },
  {
   "attachments": {},
   "cell_type": "markdown",
   "metadata": {},
   "source": [
    "#### **Get sub class labels**"
   ]
  },
  {
   "cell_type": "code",
   "execution_count": 12,
   "metadata": {},
   "outputs": [
    {
     "data": {
      "text/plain": [
       "{'ค็อกเทลกุ้ง': 0,\n",
       " 'มีทเดอลุกซ์': 1,\n",
       " 'เห็ดและมะเขือเทศ': 2,\n",
       " 'ดิปเปอร์': 3,\n",
       " 'ก๋วยเตี๋ยวน้ำตก': 4,\n",
       " 'ก๋วยเตี๋ยวต้มยำน้ำใส': 5,\n",
       " 'บะหมีหมูแดงหมูกรอบ': 6,\n",
       " 'เกาเหลา': 7,\n",
       " 'สปาเก็ตตี้มีทบอล': 8,\n",
       " 'สปาเก็ตตี้คาโบนาร่า': 9,\n",
       " 'สปาเก็ตตี้ผัก': 10,\n",
       " 'สปาเก็ตตี้ทะเล': 11}"
      ]
     },
     "metadata": {},
     "output_type": "display_data"
    },
    {
     "data": {
      "text/html": [
       "<div>\n",
       "<style scoped>\n",
       "    .dataframe tbody tr th:only-of-type {\n",
       "        vertical-align: middle;\n",
       "    }\n",
       "\n",
       "    .dataframe tbody tr th {\n",
       "        vertical-align: top;\n",
       "    }\n",
       "\n",
       "    .dataframe thead th {\n",
       "        text-align: right;\n",
       "    }\n",
       "</style>\n",
       "<table border=\"1\" class=\"dataframe\">\n",
       "  <thead>\n",
       "    <tr style=\"text-align: right;\">\n",
       "      <th></th>\n",
       "      <th>Text</th>\n",
       "      <th>Mainclass</th>\n",
       "      <th>Subclass</th>\n",
       "    </tr>\n",
       "  </thead>\n",
       "  <tbody>\n",
       "    <tr>\n",
       "      <th>0</th>\n",
       "      <td>อยากกินกุ้งที่จะมีความหนุบกับน้ำสลัดเทาซันไอส์...</td>\n",
       "      <td>0</td>\n",
       "      <td>0</td>\n",
       "    </tr>\n",
       "    <tr>\n",
       "      <th>1</th>\n",
       "      <td>ผมชอบอาหารที่สามารถทำได้เร็วมีหน้าตาที่สวยงามส...</td>\n",
       "      <td>0</td>\n",
       "      <td>0</td>\n",
       "    </tr>\n",
       "    <tr>\n",
       "      <th>2</th>\n",
       "      <td>ทำจากแป้งมีทั้งหนานุ่มและบางกรอบเหมาะกับคนที่ช...</td>\n",
       "      <td>0</td>\n",
       "      <td>0</td>\n",
       "    </tr>\n",
       "    <tr>\n",
       "      <th>3</th>\n",
       "      <td>เนื้อหลักเป็นกุ้งมีรสชาติที่จัดจ้านจากซอสมีต้น...</td>\n",
       "      <td>0</td>\n",
       "      <td>0</td>\n",
       "    </tr>\n",
       "    <tr>\n",
       "      <th>4</th>\n",
       "      <td>อาหารที่มีลักษณะกลมสามารถแบ่งเป็นชิ้นได้กินกับ...</td>\n",
       "      <td>0</td>\n",
       "      <td>0</td>\n",
       "    </tr>\n",
       "  </tbody>\n",
       "</table>\n",
       "</div>"
      ],
      "text/plain": [
       "                                                Text  Mainclass  Subclass\n",
       "0  อยากกินกุ้งที่จะมีความหนุบกับน้ำสลัดเทาซันไอส์...          0         0\n",
       "1  ผมชอบอาหารที่สามารถทำได้เร็วมีหน้าตาที่สวยงามส...          0         0\n",
       "2  ทำจากแป้งมีทั้งหนานุ่มและบางกรอบเหมาะกับคนที่ช...          0         0\n",
       "3  เนื้อหลักเป็นกุ้งมีรสชาติที่จัดจ้านจากซอสมีต้น...          0         0\n",
       "4  อาหารที่มีลักษณะกลมสามารถแบ่งเป็นชิ้นได้กินกับ...          0         0"
      ]
     },
     "metadata": {},
     "output_type": "display_data"
    }
   ],
   "source": [
    "subclass_label_map, reversed_subclass_label_map = get_label_map(df_prepro, 'Subclass')\n",
    "\n",
    "display(subclass_label_map)\n",
    "\n",
    "df_prepro['Subclass'] = df_prepro['Subclass'].map(subclass_label_map)\n",
    "\n",
    "display(df_prepro.head())"
   ]
  },
  {
   "attachments": {},
   "cell_type": "markdown",
   "metadata": {},
   "source": [
    "## **Data Visualization**"
   ]
  },
  {
   "cell_type": "code",
   "execution_count": 13,
   "metadata": {},
   "outputs": [],
   "source": [
    "import matplotlib.pyplot as plt\n",
    "import seaborn as sns"
   ]
  },
  {
   "cell_type": "code",
   "execution_count": 14,
   "metadata": {},
   "outputs": [],
   "source": [
    "def plot_sentence_length_distribution(df, col_name):\n",
    "    \n",
    "    sns.set_style('darkgrid')\n",
    "    sns.set(font_scale=1.0)\n",
    "    plt.rcParams['figure.figsize'] = (12, 8)\n",
    "    \n",
    "    bin_size = 5\n",
    "    bins = np.arange(0, 100, bin_size)\n",
    "    plt.hist(df[col_name].str.len(), bins=bins, alpha=0.5, color='steelblue', edgecolor='k', label='train')\n",
    "    xticks = np.arange(0, 150, bin_size)\n",
    "    plt.xticks(xticks, xticks)\n",
    "    yticks = np.arange(0, 100, bin_size)\n",
    "    plt.yticks(yticks, yticks)\n",
    "    plt.title('Sentence Length Distribution')\n",
    "    plt.legend(loc='upper right')\n",
    "    plt.xlabel('Sentence Length')\n",
    "    plt.ylabel('Number of Sentences')\n",
    "    for a, b in zip(bins, np.histogram(df[col_name].str.len(), bins=bins)[0]):\n",
    "        plt.text(a + 2.5, b + 2.5, '%d' % b, ha='center', va='bottom', fontsize=10)\n",
    "    plt.show()"
   ]
  },
  {
   "attachments": {},
   "cell_type": "markdown",
   "metadata": {},
   "source": [
    "### **Plotting the length of the text data**"
   ]
  },
  {
   "cell_type": "code",
   "execution_count": 15,
   "metadata": {},
   "outputs": [
    {
     "data": {
      "image/png": "[encoded data removed]",
      "text/plain": [
       "<Figure size 1200x800 with 1 Axes>"
      ]
     },
     "metadata": {},
     "output_type": "display_data"
    }
   ],
   "source": [
    "plot_sentence_length_distribution(df_prepro, 'Text')"
   ]
  },
  {
   "attachments": {},
   "cell_type": "markdown",
   "metadata": {},
   "source": [
    "#### **Maximum length of text inputs**"
   ]
  },
  {
   "cell_type": "code",
   "execution_count": 16,
   "metadata": {},
   "outputs": [
    {
     "name": "stdout",
     "output_type": "stream",
     "text": [
      "Max sentence length: 165\n"
     ]
    },
    {
     "data": {
      "text/plain": [
       "count    576.000000\n",
       "mean      88.333333\n",
       "std       26.587477\n",
       "min       20.000000\n",
       "25%       69.750000\n",
       "50%       86.000000\n",
       "75%      107.000000\n",
       "max      165.000000\n",
       "Name: Text, dtype: float64"
      ]
     },
     "execution_count": 16,
     "metadata": {},
     "output_type": "execute_result"
    }
   ],
   "source": [
    "print('Max sentence length: %d' % df_prepro['Text'].str.len().max())\n",
    "\n",
    "df_prepro['Text'].str.len().describe()"
   ]
  },
  {
   "attachments": {},
   "cell_type": "markdown",
   "metadata": {},
   "source": [
    "### **Plot the distribution of labels**"
   ]
  },
  {
   "cell_type": "code",
   "execution_count": 17,
   "metadata": {},
   "outputs": [],
   "source": [
    "def plot_label_distribution(df, col_name, title):\n",
    "    \n",
    "    sns.set_style('darkgrid')\n",
    "    sns.set(font_scale=1.0)\n",
    "    plt.rcParams['figure.figsize'] = (6, 4)\n",
    "    \n",
    "    bin_size = 1\n",
    "    bins = np.arange(0, df[col_name].nunique() + 1, bin_size)\n",
    "    plt.hist(df[col_name], bins=bins, alpha=0.5, color='steelblue', edgecolor='k', label='data')\n",
    "    xticks = np.arange(0, df[col_name].nunique() + 1, bin_size)\n",
    "    plt.xticks(xticks, xticks)\n",
    "    yticks = np.arange(0, df[col_name].value_counts().max() + 100, 500)\n",
    "    plt.yticks(yticks, yticks)\n",
    "    plt.title(title)\n",
    "    plt.legend(loc='upper right')\n",
    "    plt.xlabel('Object')\n",
    "    plt.ylabel('Number of Sentences')\n",
    "    for a, b in zip(bins, np.histogram(df[col_name], bins=bins)[0]):\n",
    "        plt.text(a + 0.5, b + 0.5, '%d' % b, ha='center', va='bottom', fontsize=10)\n",
    "    plt.show()"
   ]
  },
  {
   "cell_type": "code",
   "execution_count": 18,
   "metadata": {},
   "outputs": [
    {
     "data": {
      "image/png": "[encoded data removed]",
      "text/plain": [
       "<Figure size 600x400 with 1 Axes>"
      ]
     },
     "metadata": {},
     "output_type": "display_data"
    }
   ],
   "source": [
    "plot_label_distribution(df_prepro, 'Mainclass', 'Mainclass Distribution')"
   ]
  },
  {
   "cell_type": "code",
   "execution_count": 19,
   "metadata": {},
   "outputs": [
    {
     "data": {
      "image/png": "[encoded data removed]",
      "text/plain": [
       "<Figure size 600x400 with 1 Axes>"
      ]
     },
     "metadata": {},
     "output_type": "display_data"
    }
   ],
   "source": [
    "plot_label_distribution(df_prepro, 'Subclass', 'Subclass Distribution')"
   ]
  },
  {
   "attachments": {},
   "cell_type": "markdown",
   "metadata": {},
   "source": [
    "# **Keras Preprocessing**"
   ]
  },
  {
   "cell_type": "code",
   "execution_count": 20,
   "metadata": {},
   "outputs": [],
   "source": [
    "df_keras = df_prepro.copy()"
   ]
  },
  {
   "cell_type": "code",
   "execution_count": 21,
   "metadata": {},
   "outputs": [
    {
     "data": {
      "text/plain": [
       "array([['อยากกินกุ้งที่จะมีความหนุบกับน้ำสลัดเทาซันไอส์แลนด์ที่มีความเข้มข้นหอมแป้งเยอะ',\n",
       "        0, 0],\n",
       "       ['ผมชอบอาหารที่สามารถทำได้เร็วมีหน้าตาที่สวยงามสามารถหยิบกินได้เป็นชิ้นเน้นเนื้อที่มาจากทะเล',\n",
       "        0, 0],\n",
       "       ['ทำจากแป้งมีทั้งหนานุ่มและบางกรอบเหมาะกับคนที่ชื่นชอบอาหารทะเลราคาไม่แพงหาซื้อได้ง่าย',\n",
       "        0, 0],\n",
       "       ...,\n",
       "       ['ฉันอยากกินสปาเก็ตตี้แต่ฉันเบื่อพวกเนื้อหมูไก่แล้วช่วยแนะนำเมนูให้ฉันหน่อย',\n",
       "        2, 11],\n",
       "       ['สปาเก็ตตี้ที่กลิ่นและรสชาติที่จัดจ้านเป็นเอกลักษณ์', 2, 11],\n",
       "       ['สปาเก็ตตี้ที่ให้รสชาติเผ็ดจัดจ้านมีกุ้งมีหมึกมีหอยและยังใส่พวกพริกไทยอ่อน',\n",
       "        2, 11]], dtype=object)"
      ]
     },
     "execution_count": 21,
     "metadata": {},
     "output_type": "execute_result"
    }
   ],
   "source": [
    "df_keras = df_keras.to_numpy()\n",
    "df_keras"
   ]
  },
  {
   "attachments": {},
   "cell_type": "markdown",
   "metadata": {},
   "source": [
    "## **Word Tokenization**"
   ]
  },
  {
   "cell_type": "code",
   "execution_count": 22,
   "metadata": {},
   "outputs": [],
   "source": [
    "import pythainlp\n",
    "from pythainlp import word_tokenize\n",
    "from keras.utils import pad_sequences"
   ]
  },
  {
   "cell_type": "code",
   "execution_count": 23,
   "metadata": {},
   "outputs": [
    {
     "name": "stdout",
     "output_type": "stream",
     "text": [
      "Example after padding:\n",
      "[array(['อยาก', 'กิน', 'อะไร', 'ก็', 'ได้ที่', 'มี', 'ชีส', 'ผัก', 'เพราะ',\n",
      "        'กิน', 'คีโม', 'ขอ', 'เมนู', 'ทำ', 'ง่าย', 'ใช้เวลา', 'ไม่', 'นาน',\n",
      "        'มี', 'สารอาหาร', 'พวก', 'คา', 'โบ', 'ไฮ', 'เด', 'รต', ' ', ' ',\n",
      "        ' ', ' ', ' ', ' ', ' ', ' ', ' ', ' ', ' ', ' ', ' ', ' ', ' ',\n",
      "        ' ', ' ', ' ', ' ', ' ', ' ', ' ', ' ', ' '], dtype=object)\n",
      " 2 10]\n",
      "Data shape: (576, 3)\n",
      "เท่ากับ 50\n"
     ]
    }
   ],
   "source": [
    "input_tokenize = df_keras.copy()\n",
    "for i, sentence in enumerate(input_tokenize[:, 0]):\n",
    "    input_tokenize[i, 0] = np.array(word_tokenize(sentence, engine='newmm'), dtype=object)\n",
    "\n",
    "input_tokenize = np.asarray(input_tokenize, dtype=object)\n",
    "\n",
    "max_len = max(len(seq) for seq in input_tokenize[:, 0]) + 10\n",
    "\n",
    "for i in range(len(input_tokenize)):\n",
    "    input_tokenize[i, 0] = np.pad(input_tokenize[i, 0], (0, max_len - len(input_tokenize[i, 0])), constant_values=\" \")\n",
    "\n",
    "print(\"Example after padding:\")\n",
    "print(input_tokenize[500])\n",
    "\n",
    "print(f\"Data shape: {input_tokenize.shape}\")\n",
    "\n",
    "for seq in input_tokenize[:, 0]:\n",
    "    if seq.shape[0] != 50:\n",
    "        print(\"ไม่เท่ากับ 50\")\n",
    "\n",
    "print(\"เท่ากับ 50\")"
   ]
  },
  {
   "cell_type": "code",
   "execution_count": 24,
   "metadata": {},
   "outputs": [
    {
     "name": "stdout",
     "output_type": "stream",
     "text": [
      "Example sentence: ['อยาก' 'กิน' 'กุ้ง' 'ที่จะ' 'มี' 'ความ' 'หนุบ' 'กับ' 'น้ำสลัด' 'เทา'\n",
      " 'ซัน' 'ไอส์แลนด์' 'ที่' 'มี' 'ความ' 'เข้มข้น' 'หอม' 'แป้ง' 'เยอะ' ' ' ' '\n",
      " ' ' ' ' ' ' ' ' ' ' ' ' ' ' ' ' ' ' ' ' ' ' ' ' ' ' ' ' ' ' ' ' ' ' ' '\n",
      " ' ' ' ' ' ' ' ' ' ' ' ' ' ' ' ' ' ' ' ' ' ']\n",
      "Example mainclass label: 0\n",
      "Example subclass label: 0\n",
      "Shape\n",
      "Sentence: (576,)\n",
      "Mainclass label: (576,)\n",
      "Subclass label: (576,)\n"
     ]
    }
   ],
   "source": [
    "sentence = input_tokenize[:, 0]\n",
    "mainclass_labels = input_tokenize[:, 1]\n",
    "subclass_labels = input_tokenize[:, 2]\n",
    "\n",
    "print(f'Example sentence: {sentence[0]}')\n",
    "print(f'Example mainclass label: {mainclass_labels[0]}')\n",
    "print(f'Example subclass label: {subclass_labels[0]}')\n",
    "\n",
    "print('Shape')\n",
    "print(f'Sentence: {sentence.shape}')\n",
    "print(f'Mainclass label: {mainclass_labels.shape}')\n",
    "print(f'Subclass label: {subclass_labels.shape}')"
   ]
  },
  {
   "attachments": {},
   "cell_type": "markdown",
   "metadata": {},
   "source": [
    "## **Word Count**"
   ]
  },
  {
   "cell_type": "code",
   "execution_count": 25,
   "metadata": {},
   "outputs": [
    {
     "data": {
      "text/plain": [
       "[(' ', 16726),\n",
       " ('มี', 630),\n",
       " ('ที่', 580),\n",
       " ('กิน', 360),\n",
       " ('และ', 325),\n",
       " ('เป็น', 251),\n",
       " ('อาหาร', 235),\n",
       " ('เส้น', 220),\n",
       " ('ได้', 185),\n",
       " ('อยาก', 160),\n",
       " ('กับ', 144),\n",
       " ('ไม่', 140),\n",
       " ('ของ', 134),\n",
       " ('รสชาติ', 132),\n",
       " ('ผัก', 125)]"
      ]
     },
     "metadata": {},
     "output_type": "display_data"
    }
   ],
   "source": [
    "from collections import Counter\n",
    "\n",
    "word_counts = Counter()\n",
    "for data in input_tokenize[:,0]:\n",
    "    word_counts.update(data)\n",
    "    \n",
    "display(word_counts.most_common(15))"
   ]
  },
  {
   "cell_type": "code",
   "execution_count": 26,
   "metadata": {},
   "outputs": [
    {
     "name": "stdout",
     "output_type": "stream",
     "text": [
      "Maximum vocabulary size from data set: 1267\n",
      "Maximum sentence length from data set: 50\n"
     ]
    }
   ],
   "source": [
    "# Find maximym vocabulary size\n",
    "max_vocab_size = len(word_counts) + 1 # +1 for unknown token\n",
    "print(f'Maximum vocabulary size from data set: {max_vocab_size}')\n",
    "# Find maximum sentence length\n",
    "max_len = max([len(sentence) for sentence in input_tokenize[:,0]])\n",
    "print(f'Maximum sentence length from data set: {max_len}')\n",
    "\n",
    "# Set parameters\n",
    "max_vocab_size = 5000 # Set maximum vocabulary size to 5000 word (including unknown token)\n",
    "max_len = 50 # Set maximum sentence length to 50 word per input text"
   ]
  },
  {
   "attachments": {},
   "cell_type": "markdown",
   "metadata": {},
   "source": [
    "## **Word Vectorization**"
   ]
  },
  {
   "cell_type": "code",
   "execution_count": 27,
   "metadata": {},
   "outputs": [
    {
     "data": {
      "text/plain": [
       "array(['อยาก', 'กิน', 'กุ้ง', 'ที่จะ', 'มี', 'ความ', 'หนุบ', 'กับ',\n",
       "       'น้ำสลัด', 'เทา', 'ซัน', 'ไอส์แลนด์', 'ที่', 'มี', 'ความ',\n",
       "       'เข้มข้น', 'หอม', 'แป้ง', 'เยอะ', ' ', ' ', ' ', ' ', ' ', ' ',\n",
       "       ' ', ' ', ' ', ' ', ' ', ' ', ' ', ' ', ' ', ' ', ' ', ' ', ' ',\n",
       "       ' ', ' ', ' ', ' ', ' ', ' ', ' ', ' ', ' ', ' ', ' ', ' '],\n",
       "      dtype=object)"
      ]
     },
     "execution_count": 27,
     "metadata": {},
     "output_type": "execute_result"
    }
   ],
   "source": [
    "sentence[0]"
   ]
  },
  {
   "cell_type": "code",
   "execution_count": 28,
   "metadata": {},
   "outputs": [],
   "source": [
    "from pythainlp import word_vector\n",
    "wordVector = word_vector.WordVector(model_name=\"thai2fit_wv\").get_model() # load thai2fit_wv from pythainlp"
   ]
  },
  {
   "cell_type": "code",
   "execution_count": 29,
   "metadata": {},
   "outputs": [
    {
     "name": "stdout",
     "output_type": "stream",
     "text": [
      "Sentence vector shape: (576, 50, 300)\n"
     ]
    }
   ],
   "source": [
    "def map_word_to_vector(word):\n",
    "    try:\n",
    "        return wordVector[word]\n",
    "    except KeyError:\n",
    "        return np.zeros(wordVector.vector_size)\n",
    "\n",
    "sentence_vector = np.array([np.array([map_word_to_vector(word) for word in sentence]) for sentence in input_tokenize[:,0]],dtype=object)\n",
    "\n",
    "print(f'Sentence vector shape: {sentence_vector.shape}')"
   ]
  },
  {
   "cell_type": "code",
   "execution_count": 30,
   "metadata": {},
   "outputs": [
    {
     "data": {
      "text/plain": [
       "(50, 300)"
      ]
     },
     "execution_count": 30,
     "metadata": {},
     "output_type": "execute_result"
    }
   ],
   "source": [
    "sentence_vector[0].shape"
   ]
  },
  {
   "cell_type": "code",
   "execution_count": 31,
   "metadata": {},
   "outputs": [
    {
     "data": {
      "text/plain": [
       "(300,)"
      ]
     },
     "execution_count": 31,
     "metadata": {},
     "output_type": "execute_result"
    }
   ],
   "source": [
    "sentence_vector[0][0].shape"
   ]
  },
  {
   "attachments": {},
   "cell_type": "markdown",
   "metadata": {},
   "source": [
    "### **One-hot encoding**"
   ]
  },
  {
   "cell_type": "code",
   "execution_count": 32,
   "metadata": {},
   "outputs": [
    {
     "name": "stdout",
     "output_type": "stream",
     "text": [
      "Mainclass labels shape: (576, 3)\n",
      "Subclass labels shape: (576, 12)\n"
     ]
    }
   ],
   "source": [
    "from keras.utils import to_categorical\n",
    "\n",
    "mainclass_labels = to_categorical(mainclass_labels)\n",
    "subclass_labels = to_categorical(subclass_labels)\n",
    "\n",
    "print('Mainclass labels shape:', mainclass_labels.shape)\n",
    "print('Subclass labels shape:', subclass_labels.shape)"
   ]
  },
  {
   "attachments": {},
   "cell_type": "markdown",
   "metadata": {},
   "source": [
    "## **Train-Test Split**"
   ]
  },
  {
   "cell_type": "code",
   "execution_count": 33,
   "metadata": {},
   "outputs": [],
   "source": [
    "from sklearn.model_selection import train_test_split\n",
    "\n",
    "X_train, X_test, y_train_main_class, y_test_main_class, y_train_sub_class, y_test_sub_class = train_test_split(sentence_vector, mainclass_labels, subclass_labels, train_size=0.8, shuffle=True)\n"
   ]
  },
  {
   "cell_type": "code",
   "execution_count": 34,
   "metadata": {},
   "outputs": [
    {
     "name": "stdout",
     "output_type": "stream",
     "text": [
      "X_train shape: (460, 50, 300)\n",
      "y_train_main_class shape: (460, 3)\n",
      "y_train_sub_class shape: (460, 12)\n",
      "-----------------------------------------\n",
      "X_test shape: (116, 50, 300)\n",
      "y_test_main_class shape: (116, 3)\n",
      "y_test_sub_class shape: (116, 12)\n"
     ]
    }
   ],
   "source": [
    "print(f'X_train shape: {X_train.shape}')\n",
    "print(f'y_train_main_class shape: {y_train_main_class.shape}')\n",
    "print(f'y_train_sub_class shape: {y_train_sub_class.shape}')\n",
    "print('-----------------------------------------')\n",
    "print(f'X_test shape: {X_test.shape}')\n",
    "print(f'y_test_main_class shape: {y_test_main_class.shape}')\n",
    "print(f'y_test_sub_class shape: {y_test_sub_class.shape}')"
   ]
  },
  {
   "attachments": {},
   "cell_type": "markdown",
   "metadata": {},
   "source": [
    "Converting the data from numpy array to Tensorflow Dataset"
   ]
  },
  {
   "cell_type": "code",
   "execution_count": 35,
   "metadata": {},
   "outputs": [],
   "source": [
    "X_train = tf.convert_to_tensor(X_train, dtype=tf.float32)\n",
    "X_test = tf.convert_to_tensor(X_test, dtype=tf.float32)\n",
    "y_train_main_class = tf.convert_to_tensor(y_train_main_class, dtype=tf.float32)\n",
    "y_test_main_class = tf.convert_to_tensor(y_test_main_class, dtype=tf.float32)\n",
    "y_train_sub_class = tf.convert_to_tensor(y_train_sub_class, dtype=tf.float32)\n",
    "y_test_sub_class = tf.convert_to_tensor(y_test_sub_class, dtype=tf.float32)"
   ]
  },
  {
   "attachments": {},
   "cell_type": "markdown",
   "metadata": {},
   "source": [
    "# **Modeling**"
   ]
  },
  {
   "cell_type": "code",
   "execution_count": 46,
   "metadata": {},
   "outputs": [],
   "source": [
    "# Train model\n",
    "from keras.callbacks import EarlyStopping\n",
    "from keras.callbacks import ModelCheckpoint\n",
    "from time import time\n",
    "from datetime import timedelta\n",
    "import keras\n",
    "from keras.models import load_model\n",
    "import os\n",
    "\n",
    "from keras.utils import plot_model\n",
    "\n",
    "# Build model\n",
    "from keras.models import Sequential, Model\n",
    "from keras.layers import Embedding, Reshape, Activation, Input, Dense,GRU,Reshape,TimeDistributed,Bidirectional,Dropout,Masking,LSTM, GlobalAveragePooling1D, Conv1D, MaxPooling1D, Flatten,GlobalMaxPooling1D\n",
    "from keras.layers import Concatenate, Lambda\n",
    "from keras.optimizers import Adam\n",
    "from keras import backend as K                                                          \n",
    "from keras.callbacks import ModelCheckpoint, TensorBoard\n",
    "\n",
    "# Classifications report\n",
    "from sklearn.metrics import classification_report, confusion_matrix, ConfusionMatrixDisplay ,multilabel_confusion_matrix, accuracy_score"
   ]
  },
  {
   "attachments": {},
   "cell_type": "markdown",
   "metadata": {},
   "source": [
    "## **Sub Class Model**"
   ]
  },
  {
   "cell_type": "code",
   "execution_count": 62,
   "metadata": {},
   "outputs": [
    {
     "name": "stdout",
     "output_type": "stream",
     "text": [
      "Model: \"model_7\"\n",
      "__________________________________________________________________________________________________\n",
      " Layer (type)                   Output Shape         Param #     Connected to                     \n",
      "==================================================================================================\n",
      " input_27 (InputLayer)          [(None, 50, 300)]    0           []                               \n",
      "                                                                                                  \n",
      " masking_15 (Masking)           (None, 50, 300)      0           ['input_27[0][0]']               \n",
      "                                                                                                  \n",
      " conv1d_15 (Conv1D)             (None, 48, 32)       28832       ['masking_15[0][0]']             \n",
      "                                                                                                  \n",
      " bidirectional_15 (Bidirectiona  (None, 48, 64)      16640       ['conv1d_15[0][0]']              \n",
      " l)                                                                                               \n",
      "                                                                                                  \n",
      " dropout_15 (Dropout)           (None, 48, 64)       0           ['bidirectional_15[0][0]']       \n",
      "                                                                                                  \n",
      " global_max_pooling1d_15 (Globa  (None, 64)          0           ['dropout_15[0][0]']             \n",
      " lMaxPooling1D)                                                                                   \n",
      "                                                                                                  \n",
      " dense_34 (Dense)               (None, 16)           1040        ['global_max_pooling1d_15[0][0]']\n",
      "                                                                                                  \n",
      " dense_35 (Dense)               (None, 16)           1040        ['global_max_pooling1d_15[0][0]']\n",
      "                                                                                                  \n",
      " dense_36 (Dense)               (None, 16)           1040        ['global_max_pooling1d_15[0][0]']\n",
      "                                                                                                  \n",
      " class1_sub_class_output (Dense  (None, 4)           68          ['dense_34[0][0]']               \n",
      " )                                                                                                \n",
      "                                                                                                  \n",
      " class2_sub_class_output (Dense  (None, 4)           68          ['dense_35[0][0]']               \n",
      " )                                                                                                \n",
      "                                                                                                  \n",
      " class3_sub_class_output (Dense  (None, 4)           68          ['dense_36[0][0]']               \n",
      " )                                                                                                \n",
      "                                                                                                  \n",
      " main_class_output (Dense)      (None, 3)            195         ['global_max_pooling1d_15[0][0]']\n",
      "                                                                                                  \n",
      " sub_class_output (Concatenate)  (None, 12)          0           ['class1_sub_class_output[0][0]',\n",
      "                                                                  'class2_sub_class_output[0][0]',\n",
      "                                                                  'class3_sub_class_output[0][0]']\n",
      "                                                                                                  \n",
      "==================================================================================================\n",
      "Total params: 48,991\n",
      "Trainable params: 48,991\n",
      "Non-trainable params: 0\n",
      "__________________________________________________________________________________________________\n"
     ]
    },
    {
     "data": {
      "image/png": "[encoded data removed]",
      "text/plain": [
       "<IPython.core.display.Image object>"
      ]
     },
     "execution_count": 62,
     "metadata": {},
     "output_type": "execute_result"
    }
   ],
   "source": [
    "max_len = 50\n",
    "word_vector_size = 300\n",
    "main_class_label = ['class1', 'class2', 'class3']\n",
    "sub_class_label = {'class1': ['sub11', 'sub12', 'sub13', 'sub14'],\n",
    "                'class2': ['sub21', 'sub22', 'sub23', 'sub24'],\n",
    "                'class3': ['sub31', 'sub32', 'sub33', 'sub34']}\n",
    "\n",
    "input_layer = Input(shape=(max_len, word_vector_size), dtype='float32')\n",
    "masking_layer = Masking(mask_value=0.0)(input_layer)\n",
    "conv1d_layer_1 = Conv1D(filters=32, kernel_size=3, activation='relu')(masking_layer)\n",
    "bi_lstm_layer_1 = Bidirectional(LSTM(32, return_sequences=True))(conv1d_layer_1)\n",
    "dropout_layer_1 = Dropout(0.2)(bi_lstm_layer_1)\n",
    "global_max_pooling_layer_1 = GlobalMaxPooling1D()(dropout_layer_1)\n",
    "# Main class output\n",
    "main_class_output_layer = Dense(len(main_class_label), activation='softmax', name='main_class_output')(global_max_pooling_layer_1)\n",
    "# Sub class output\n",
    "# Define a dictionary to hold the sub-class output layers for each main class\n",
    "sub_class_output_layers = {}\n",
    "\n",
    "for main_class in main_class_label:\n",
    "   # Dense layer\n",
    "   dense_layer = Dense(16, activation='relu')(global_max_pooling_layer_1)\n",
    "   # Sub class output\n",
    "   sub_class_output_layer = Dense(len(sub_class_label[main_class]), activation='softmax', name=main_class+'_sub_class_output')(dense_layer)\n",
    "   # Add the sub class output layer to the dictionary\n",
    "   sub_class_output_layers[main_class] = sub_class_output_layer\n",
    "   \n",
    "# Concatenate the sub class output layers\n",
    "concatenated_layer = Concatenate(name = 'sub_class_output')(list(sub_class_output_layers.values()))\n",
    "\n",
    "# Define the model\n",
    "model = Model(inputs=input_layer, outputs=[main_class_output_layer,concatenated_layer])\n",
    "         \n",
    "loss = {'main_class_output': 'categorical_crossentropy',\n",
    "         'sub_class_output': 'categorical_crossentropy'}\n",
    "loss_weights = {'main_class_output': 1.0,\n",
    "                'sub_class_output': 1.0}\n",
    "metrics = {'main_class_output': 'accuracy',\n",
    "            'sub_class_output': 'accuracy'}\n",
    "optimizer = Adam(learning_rate=0.001)\n",
    "model.compile(optimizer=optimizer, loss=loss, loss_weights=loss_weights, metrics=metrics)\n",
    "model.summary()\n",
    "plot_model(model, to_file='model.png', show_shapes=True, show_layer_names=True)"
   ]
  },
  {
   "cell_type": "code",
   "execution_count": 53,
   "metadata": {},
   "outputs": [
    {
     "data": {
      "text/plain": [
       "<tf.Tensor: shape=(460, 3), dtype=float32, numpy=\n",
       "array([[0., 0., 1.],\n",
       "       [1., 0., 0.],\n",
       "       [0., 0., 1.],\n",
       "       ...,\n",
       "       [0., 1., 0.],\n",
       "       [0., 1., 0.],\n",
       "       [0., 0., 1.]], dtype=float32)>"
      ]
     },
     "execution_count": 53,
     "metadata": {},
     "output_type": "execute_result"
    }
   ],
   "source": [
    "y_train_main_class"
   ]
  },
  {
   "cell_type": "code",
   "execution_count": 54,
   "metadata": {},
   "outputs": [
    {
     "data": {
      "text/plain": [
       "<tf.Tensor: shape=(460, 12), dtype=float32, numpy=\n",
       "array([[0., 0., 0., ..., 0., 0., 0.],\n",
       "       [0., 0., 1., ..., 0., 0., 0.],\n",
       "       [0., 0., 0., ..., 0., 1., 0.],\n",
       "       ...,\n",
       "       [0., 0., 0., ..., 0., 0., 0.],\n",
       "       [0., 0., 0., ..., 0., 0., 0.],\n",
       "       [0., 0., 0., ..., 0., 0., 1.]], dtype=float32)>"
      ]
     },
     "execution_count": 54,
     "metadata": {},
     "output_type": "execute_result"
    }
   ],
   "source": [
    "y_train_sub_class"
   ]
  },
  {
   "cell_type": "code",
   "execution_count": 38,
   "metadata": {},
   "outputs": [
    {
     "name": "stdout",
     "output_type": "stream",
     "text": [
      "Epoch 1/10\n",
      "115/115 [==============================] - 8s 18ms/step - loss: 3.5746 - main_class_output_loss: 1.0844 - sub_class_output_loss: 2.4902 - main_class_output_accuracy: 0.3891 - sub_class_output_accuracy: 0.0739\n",
      "Epoch 2/10\n",
      "115/115 [==============================] - 2s 17ms/step - loss: 3.2686 - main_class_output_loss: 0.7911 - sub_class_output_loss: 2.4775 - main_class_output_accuracy: 0.7130 - sub_class_output_accuracy: 0.0826\n",
      "Epoch 3/10\n",
      "115/115 [==============================] - 2s 16ms/step - loss: 2.9640 - main_class_output_loss: 0.5245 - sub_class_output_loss: 2.4395 - main_class_output_accuracy: 0.8022 - sub_class_output_accuracy: 0.0478\n",
      "Epoch 4/10\n",
      "115/115 [==============================] - 2s 16ms/step - loss: 2.7491 - main_class_output_loss: 0.3674 - sub_class_output_loss: 2.3817 - main_class_output_accuracy: 0.8674 - sub_class_output_accuracy: 0.1022\n",
      "Epoch 5/10\n",
      "115/115 [==============================] - 2s 17ms/step - loss: 2.5484 - main_class_output_loss: 0.2338 - sub_class_output_loss: 2.3146 - main_class_output_accuracy: 0.9283 - sub_class_output_accuracy: 0.1391\n",
      "Epoch 6/10\n",
      "115/115 [==============================] - 2s 17ms/step - loss: 2.3262 - main_class_output_loss: 0.1395 - sub_class_output_loss: 2.1868 - main_class_output_accuracy: 0.9565 - sub_class_output_accuracy: 0.1652\n",
      "Epoch 7/10\n",
      "115/115 [==============================] - 2s 18ms/step - loss: 2.2208 - main_class_output_loss: 0.1260 - sub_class_output_loss: 2.0948 - main_class_output_accuracy: 0.9630 - sub_class_output_accuracy: 0.1913\n",
      "Epoch 8/10\n",
      "115/115 [==============================] - 2s 18ms/step - loss: 2.0284 - main_class_output_loss: 0.0911 - sub_class_output_loss: 1.9373 - main_class_output_accuracy: 0.9739 - sub_class_output_accuracy: 0.2304\n",
      "Epoch 9/10\n",
      "115/115 [==============================] - 2s 18ms/step - loss: 1.8432 - main_class_output_loss: 0.0583 - sub_class_output_loss: 1.7849 - main_class_output_accuracy: 0.9913 - sub_class_output_accuracy: 0.3130\n",
      "Epoch 10/10\n",
      "115/115 [==============================] - 2s 18ms/step - loss: 1.7160 - main_class_output_loss: 0.0598 - sub_class_output_loss: 1.6562 - main_class_output_accuracy: 0.9891 - sub_class_output_accuracy: 0.3804\n"
     ]
    },
    {
     "data": {
      "text/plain": [
       "<keras.callbacks.History at 0x2711fbc91c0>"
      ]
     },
     "execution_count": 38,
     "metadata": {},
     "output_type": "execute_result"
    }
   ],
   "source": [
    "model.fit(\n",
    "    x = X_train,\n",
    "    y = {'main_class_output': y_train_main_class,\n",
    "         'sub_class_output': y_train_sub_class},\n",
    "    epochs = 10,\n",
    "    batch_size = 4,\n",
    "    verbose = 1,\n",
    "    )"
   ]
  },
  {
   "attachments": {},
   "cell_type": "markdown",
   "metadata": {},
   "source": [
    "# **Model Evaluation**"
   ]
  },
  {
   "cell_type": "code",
   "execution_count": 39,
   "metadata": {},
   "outputs": [
    {
     "name": "stdout",
     "output_type": "stream",
     "text": [
      "4/4 [==============================] - 1s 12ms/step\n"
     ]
    }
   ],
   "source": [
    "pred = model.predict(X_test)\n",
    "# pred = np.argmax(pred, axis=1)"
   ]
  },
  {
   "cell_type": "code",
   "execution_count": 40,
   "metadata": {},
   "outputs": [
    {
     "name": "stdout",
     "output_type": "stream",
     "text": [
      "Length of pred: 2\n",
      "Shape of pred[0]: (116, 3)\n",
      "Shape of pred[1]: (116, 12)\n"
     ]
    }
   ],
   "source": [
    "print(f'Length of pred: {len(pred)}')\n",
    "print(f'Shape of pred[0]: {pred[0].shape}')\n",
    "print(f'Shape of pred[1]: {pred[1].shape}')"
   ]
  },
  {
   "attachments": {},
   "cell_type": "markdown",
   "metadata": {},
   "source": [
    "## **Main Class result**"
   ]
  },
  {
   "cell_type": "code",
   "execution_count": 41,
   "metadata": {},
   "outputs": [],
   "source": [
    "from sklearn.metrics import classification_report, confusion_matrix, ConfusionMatrixDisplay ,multilabel_confusion_matrix, accuracy_score"
   ]
  },
  {
   "cell_type": "code",
   "execution_count": 42,
   "metadata": {},
   "outputs": [
    {
     "name": "stdout",
     "output_type": "stream",
     "text": [
      "              precision    recall  f1-score   support\n",
      "\n",
      "           0       0.70      0.85      0.77        33\n",
      "           1       0.85      0.85      0.85        40\n",
      "           2       0.89      0.74      0.81        43\n",
      "\n",
      "    accuracy                           0.81       116\n",
      "   macro avg       0.81      0.81      0.81       116\n",
      "weighted avg       0.82      0.81      0.81       116\n",
      "\n"
     ]
    },
    {
     "data": {
      "text/plain": [
       "<sklearn.metrics._plot.confusion_matrix.ConfusionMatrixDisplay at 0x27183e089d0>"
      ]
     },
     "execution_count": 42,
     "metadata": {},
     "output_type": "execute_result"
    },
    {
     "data": {
      "image/png": "[encoded data removed]",
      "text/plain": [
       "<Figure size 600x400 with 2 Axes>"
      ]
     },
     "metadata": {},
     "output_type": "display_data"
    }
   ],
   "source": [
    "pred_main_class = np.argmax(pred[0], axis=1)\n",
    "print(classification_report(np.argmax(y_test_main_class, axis=1), pred_main_class))\n",
    "# plot confusion matrix\n",
    "cm = confusion_matrix(np.argmax(y_test_main_class, axis=1), pred_main_class)\n",
    "disp = ConfusionMatrixDisplay(confusion_matrix=cm, display_labels=['0', '1', '2'])\n",
    "disp.plot()"
   ]
  },
  {
   "attachments": {},
   "cell_type": "markdown",
   "metadata": {},
   "source": [
    "## **Sub Class result**"
   ]
  },
  {
   "cell_type": "code",
   "execution_count": 43,
   "metadata": {},
   "outputs": [
    {
     "name": "stdout",
     "output_type": "stream",
     "text": [
      "              precision    recall  f1-score   support\n",
      "\n",
      "           0       0.00      0.00      0.00        11\n",
      "           1       0.00      0.00      0.00         8\n",
      "           2       0.09      0.12      0.11         8\n",
      "           3       0.00      0.00      0.00         6\n",
      "           4       0.12      0.31      0.17        13\n",
      "           5       0.12      0.17      0.14        12\n",
      "           6       0.50      0.14      0.22         7\n",
      "           7       0.56      0.62      0.59         8\n",
      "           8       0.00      0.00      0.00         8\n",
      "           9       0.00      0.00      0.00        10\n",
      "          10       0.18      0.36      0.24        14\n",
      "          11       0.00      0.00      0.00        11\n",
      "\n",
      "    accuracy                           0.16       116\n",
      "   macro avg       0.13      0.14      0.12       116\n",
      "weighted avg       0.12      0.16      0.12       116\n",
      "\n"
     ]
    },
    {
     "data": {
      "text/plain": [
       "<sklearn.metrics._plot.confusion_matrix.ConfusionMatrixDisplay at 0x271701ccaf0>"
      ]
     },
     "execution_count": 43,
     "metadata": {},
     "output_type": "execute_result"
    },
    {
     "data": {
      "image/png": "[encoded data removed]",
      "text/plain": [
       "<Figure size 600x400 with 2 Axes>"
      ]
     },
     "metadata": {},
     "output_type": "display_data"
    }
   ],
   "source": [
    "pred_sub_class = np.argmax(pred[1], axis=1)\n",
    "print(classification_report(np.argmax(y_test_sub_class, axis=1), pred_sub_class,zero_division=0))\n",
    "# plot confusion matrix\n",
    "cm = confusion_matrix(np.argmax(y_test_sub_class, axis=1), pred_sub_class)\n",
    "disp = ConfusionMatrixDisplay(confusion_matrix=cm, display_labels=['0', '1', '2', '3', '4', '5', '6', '7', '8', '9','10','11'])\n",
    "disp.plot()"
   ]
  }
 ],
 "metadata": {
  "kernelspec": {
   "display_name": "tf_ml",
   "language": "python",
   "name": "python3"
  },
  "language_info": {
   "codemirror_mode": {
    "name": "ipython",
    "version": 3
   },
   "file_extension": ".py",
   "mimetype": "text/x-python",
   "name": "python",
   "nbconvert_exporter": "python",
   "pygments_lexer": "ipython3",
   "version": "3.9.13"
  },
  "orig_nbformat": 4
 },
 "nbformat": 4,
 "nbformat_minor": 2
}
